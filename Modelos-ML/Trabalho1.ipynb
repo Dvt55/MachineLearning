{
  "cells": [
    {
      "cell_type": "markdown",
      "metadata": {
        "id": "WKmXThim7Wcl"
      },
      "source": [
        "# **Importação dos dados**"
      ]
    },
    {
      "cell_type": "code",
      "source": [
        "!head -n 40 /content/dados/adult.data"
      ],
      "metadata": {
        "colab": {
          "base_uri": "https://localhost:8080/"
        },
        "id": "0pecxDHI8xwG",
        "outputId": "c9dde938-2f86-49ef-b0e4-bda8b261cab0"
      },
      "execution_count": 7,
      "outputs": [
        {
          "output_type": "stream",
          "name": "stdout",
          "text": [
            "39, State-gov, 77516, Bachelors, 13, Never-married, Adm-clerical, Not-in-family, White, Male, 2174, 0, 40, United-States, <=50K\n",
            "50, Self-emp-not-inc, 83311, Bachelors, 13, Married-civ-spouse, Exec-managerial, Husband, White, Male, 0, 0, 13, United-States, <=50K\n",
            "38, Private, 215646, HS-grad, 9, Divorced, Handlers-cleaners, Not-in-family, White, Male, 0, 0, 40, United-States, <=50K\n",
            "53, Private, 234721, 11th, 7, Married-civ-spouse, Handlers-cleaners, Husband, Black, Male, 0, 0, 40, United-States, <=50K\n",
            "28, Private, 338409, Bachelors, 13, Married-civ-spouse, Prof-specialty, Wife, Black, Female, 0, 0, 40, Cuba, <=50K\n",
            "37, Private, 284582, Masters, 14, Married-civ-spouse, Exec-managerial, Wife, White, Female, 0, 0, 40, United-States, <=50K\n",
            "49, Private, 160187, 9th, 5, Married-spouse-absent, Other-service, Not-in-family, Black, Female, 0, 0, 16, Jamaica, <=50K\n",
            "52, Self-emp-not-inc, 209642, HS-grad, 9, Married-civ-spouse, Exec-managerial, Husband, White, Male, 0, 0, 45, United-States, >50K\n",
            "31, Private, 45781, Masters, 14, Never-married, Prof-specialty, Not-in-family, White, Female, 14084, 0, 50, United-States, >50K\n",
            "42, Private, 159449, Bachelors, 13, Married-civ-spouse, Exec-managerial, Husband, White, Male, 5178, 0, 40, United-States, >50K\n",
            "37, Private, 280464, Some-college, 10, Married-civ-spouse, Exec-managerial, Husband, Black, Male, 0, 0, 80, United-States, >50K\n",
            "30, State-gov, 141297, Bachelors, 13, Married-civ-spouse, Prof-specialty, Husband, Asian-Pac-Islander, Male, 0, 0, 40, India, >50K\n",
            "23, Private, 122272, Bachelors, 13, Never-married, Adm-clerical, Own-child, White, Female, 0, 0, 30, United-States, <=50K\n",
            "32, Private, 205019, Assoc-acdm, 12, Never-married, Sales, Not-in-family, Black, Male, 0, 0, 50, United-States, <=50K\n",
            "40, Private, 121772, Assoc-voc, 11, Married-civ-spouse, Craft-repair, Husband, Asian-Pac-Islander, Male, 0, 0, 40, ?, >50K\n",
            "34, Private, 245487, 7th-8th, 4, Married-civ-spouse, Transport-moving, Husband, Amer-Indian-Eskimo, Male, 0, 0, 45, Mexico, <=50K\n",
            "25, Self-emp-not-inc, 176756, HS-grad, 9, Never-married, Farming-fishing, Own-child, White, Male, 0, 0, 35, United-States, <=50K\n",
            "32, Private, 186824, HS-grad, 9, Never-married, Machine-op-inspct, Unmarried, White, Male, 0, 0, 40, United-States, <=50K\n",
            "38, Private, 28887, 11th, 7, Married-civ-spouse, Sales, Husband, White, Male, 0, 0, 50, United-States, <=50K\n",
            "43, Self-emp-not-inc, 292175, Masters, 14, Divorced, Exec-managerial, Unmarried, White, Female, 0, 0, 45, United-States, >50K\n",
            "40, Private, 193524, Doctorate, 16, Married-civ-spouse, Prof-specialty, Husband, White, Male, 0, 0, 60, United-States, >50K\n",
            "54, Private, 302146, HS-grad, 9, Separated, Other-service, Unmarried, Black, Female, 0, 0, 20, United-States, <=50K\n",
            "35, Federal-gov, 76845, 9th, 5, Married-civ-spouse, Farming-fishing, Husband, Black, Male, 0, 0, 40, United-States, <=50K\n",
            "43, Private, 117037, 11th, 7, Married-civ-spouse, Transport-moving, Husband, White, Male, 0, 2042, 40, United-States, <=50K\n",
            "59, Private, 109015, HS-grad, 9, Divorced, Tech-support, Unmarried, White, Female, 0, 0, 40, United-States, <=50K\n",
            "56, Local-gov, 216851, Bachelors, 13, Married-civ-spouse, Tech-support, Husband, White, Male, 0, 0, 40, United-States, >50K\n",
            "19, Private, 168294, HS-grad, 9, Never-married, Craft-repair, Own-child, White, Male, 0, 0, 40, United-States, <=50K\n",
            "54, ?, 180211, Some-college, 10, Married-civ-spouse, ?, Husband, Asian-Pac-Islander, Male, 0, 0, 60, South, >50K\n",
            "39, Private, 367260, HS-grad, 9, Divorced, Exec-managerial, Not-in-family, White, Male, 0, 0, 80, United-States, <=50K\n",
            "49, Private, 193366, HS-grad, 9, Married-civ-spouse, Craft-repair, Husband, White, Male, 0, 0, 40, United-States, <=50K\n",
            "23, Local-gov, 190709, Assoc-acdm, 12, Never-married, Protective-serv, Not-in-family, White, Male, 0, 0, 52, United-States, <=50K\n",
            "20, Private, 266015, Some-college, 10, Never-married, Sales, Own-child, Black, Male, 0, 0, 44, United-States, <=50K\n",
            "45, Private, 386940, Bachelors, 13, Divorced, Exec-managerial, Own-child, White, Male, 0, 1408, 40, United-States, <=50K\n",
            "30, Federal-gov, 59951, Some-college, 10, Married-civ-spouse, Adm-clerical, Own-child, White, Male, 0, 0, 40, United-States, <=50K\n",
            "22, State-gov, 311512, Some-college, 10, Married-civ-spouse, Other-service, Husband, Black, Male, 0, 0, 15, United-States, <=50K\n",
            "48, Private, 242406, 11th, 7, Never-married, Machine-op-inspct, Unmarried, White, Male, 0, 0, 40, Puerto-Rico, <=50K\n",
            "21, Private, 197200, Some-college, 10, Never-married, Machine-op-inspct, Own-child, White, Male, 0, 0, 40, United-States, <=50K\n",
            "19, Private, 544091, HS-grad, 9, Married-AF-spouse, Adm-clerical, Wife, White, Female, 0, 0, 25, United-States, <=50K\n",
            "31, Private, 84154, Some-college, 10, Married-civ-spouse, Sales, Husband, White, Male, 0, 0, 38, ?, >50K\n",
            "48, Self-emp-not-inc, 265477, Assoc-acdm, 12, Married-civ-spouse, Prof-specialty, Husband, White, Male, 0, 0, 40, United-States, <=50K\n"
          ]
        }
      ]
    },
    {
      "cell_type": "code",
      "source": [
        "import pandas as pd\n",
        "\n",
        "census_data = pd.read_table('/content/dados/adult.data', sep=', ', names=['age', 'workclass', 'fnlwgt', 'education', 'education-num', 'marital-status', 'occupation', 'relationship', 'race', 'sex', 'capital-gain', 'capital-loss', 'hours-per-week', 'native-country', 'income'], na_values='?')\n"
      ],
      "metadata": {
        "id": "LFxG5n-jfnwe",
        "colab": {
          "base_uri": "https://localhost:8080/"
        },
        "outputId": "f6e39893-d320-4b0b-d1c4-7884ff5a2eb1"
      },
      "execution_count": 8,
      "outputs": [
        {
          "output_type": "stream",
          "name": "stderr",
          "text": [
            "<ipython-input-8-965a9d4acbe3>:3: ParserWarning: Falling back to the 'python' engine because the 'c' engine does not support regex separators (separators > 1 char and different from '\\s+' are interpreted as regex); you can avoid this warning by specifying engine='python'.\n",
            "  census_data = pd.read_table('/content/dados/adult.data', sep=', ', names=['age', 'workclass', 'fnlwgt', 'education', 'education-num', 'marital-status', 'occupation', 'relationship', 'race', 'sex', 'capital-gain', 'capital-loss', 'hours-per-week', 'native-country', 'income'], na_values='?')\n"
          ]
        }
      ]
    },
    {
      "cell_type": "markdown",
      "metadata": {
        "id": "MPFmDr6TUNxx"
      },
      "source": [
        "# **Análise dos dados**\n",
        "\n",
        "Utilizamos um conjunto de dados que vai nos informar se a renda de uma pessoa adulta excede US$50 mil por ano com base nos dados do censo. Também conhecido como cojunto de dados \"Renda Censitária\""
      ]
    },
    {
      "cell_type": "code",
      "execution_count": 9,
      "metadata": {
        "colab": {
          "base_uri": "https://localhost:8080/",
          "height": 1000
        },
        "id": "IaOmIH18HWGD",
        "outputId": "d5ea927e-c899-450a-d858-5c4acdd36182"
      },
      "outputs": [
        {
          "output_type": "execute_result",
          "data": {
            "text/plain": [
              "    age         workclass  fnlwgt     education  education-num  \\\n",
              "0    39         State-gov   77516     Bachelors             13   \n",
              "1    50  Self-emp-not-inc   83311     Bachelors             13   \n",
              "2    38           Private  215646       HS-grad              9   \n",
              "3    53           Private  234721          11th              7   \n",
              "4    28           Private  338409     Bachelors             13   \n",
              "5    37           Private  284582       Masters             14   \n",
              "6    49           Private  160187           9th              5   \n",
              "7    52  Self-emp-not-inc  209642       HS-grad              9   \n",
              "8    31           Private   45781       Masters             14   \n",
              "9    42           Private  159449     Bachelors             13   \n",
              "10   37           Private  280464  Some-college             10   \n",
              "11   30         State-gov  141297     Bachelors             13   \n",
              "12   23           Private  122272     Bachelors             13   \n",
              "13   32           Private  205019    Assoc-acdm             12   \n",
              "14   40           Private  121772     Assoc-voc             11   \n",
              "15   34           Private  245487       7th-8th              4   \n",
              "16   25  Self-emp-not-inc  176756       HS-grad              9   \n",
              "17   32           Private  186824       HS-grad              9   \n",
              "18   38           Private   28887          11th              7   \n",
              "19   43  Self-emp-not-inc  292175       Masters             14   \n",
              "20   40           Private  193524     Doctorate             16   \n",
              "21   54           Private  302146       HS-grad              9   \n",
              "22   35       Federal-gov   76845           9th              5   \n",
              "23   43           Private  117037          11th              7   \n",
              "24   59           Private  109015       HS-grad              9   \n",
              "25   56         Local-gov  216851     Bachelors             13   \n",
              "26   19           Private  168294       HS-grad              9   \n",
              "27   54               NaN  180211  Some-college             10   \n",
              "28   39           Private  367260       HS-grad              9   \n",
              "29   49           Private  193366       HS-grad              9   \n",
              "30   23         Local-gov  190709    Assoc-acdm             12   \n",
              "31   20           Private  266015  Some-college             10   \n",
              "32   45           Private  386940     Bachelors             13   \n",
              "33   30       Federal-gov   59951  Some-college             10   \n",
              "34   22         State-gov  311512  Some-college             10   \n",
              "35   48           Private  242406          11th              7   \n",
              "36   21           Private  197200  Some-college             10   \n",
              "37   19           Private  544091       HS-grad              9   \n",
              "38   31           Private   84154  Some-college             10   \n",
              "39   48  Self-emp-not-inc  265477    Assoc-acdm             12   \n",
              "\n",
              "           marital-status         occupation   relationship  \\\n",
              "0           Never-married       Adm-clerical  Not-in-family   \n",
              "1      Married-civ-spouse    Exec-managerial        Husband   \n",
              "2                Divorced  Handlers-cleaners  Not-in-family   \n",
              "3      Married-civ-spouse  Handlers-cleaners        Husband   \n",
              "4      Married-civ-spouse     Prof-specialty           Wife   \n",
              "5      Married-civ-spouse    Exec-managerial           Wife   \n",
              "6   Married-spouse-absent      Other-service  Not-in-family   \n",
              "7      Married-civ-spouse    Exec-managerial        Husband   \n",
              "8           Never-married     Prof-specialty  Not-in-family   \n",
              "9      Married-civ-spouse    Exec-managerial        Husband   \n",
              "10     Married-civ-spouse    Exec-managerial        Husband   \n",
              "11     Married-civ-spouse     Prof-specialty        Husband   \n",
              "12          Never-married       Adm-clerical      Own-child   \n",
              "13          Never-married              Sales  Not-in-family   \n",
              "14     Married-civ-spouse       Craft-repair        Husband   \n",
              "15     Married-civ-spouse   Transport-moving        Husband   \n",
              "16          Never-married    Farming-fishing      Own-child   \n",
              "17          Never-married  Machine-op-inspct      Unmarried   \n",
              "18     Married-civ-spouse              Sales        Husband   \n",
              "19               Divorced    Exec-managerial      Unmarried   \n",
              "20     Married-civ-spouse     Prof-specialty        Husband   \n",
              "21              Separated      Other-service      Unmarried   \n",
              "22     Married-civ-spouse    Farming-fishing        Husband   \n",
              "23     Married-civ-spouse   Transport-moving        Husband   \n",
              "24               Divorced       Tech-support      Unmarried   \n",
              "25     Married-civ-spouse       Tech-support        Husband   \n",
              "26          Never-married       Craft-repair      Own-child   \n",
              "27     Married-civ-spouse                NaN        Husband   \n",
              "28               Divorced    Exec-managerial  Not-in-family   \n",
              "29     Married-civ-spouse       Craft-repair        Husband   \n",
              "30          Never-married    Protective-serv  Not-in-family   \n",
              "31          Never-married              Sales      Own-child   \n",
              "32               Divorced    Exec-managerial      Own-child   \n",
              "33     Married-civ-spouse       Adm-clerical      Own-child   \n",
              "34     Married-civ-spouse      Other-service        Husband   \n",
              "35          Never-married  Machine-op-inspct      Unmarried   \n",
              "36          Never-married  Machine-op-inspct      Own-child   \n",
              "37      Married-AF-spouse       Adm-clerical           Wife   \n",
              "38     Married-civ-spouse              Sales        Husband   \n",
              "39     Married-civ-spouse     Prof-specialty        Husband   \n",
              "\n",
              "                  race     sex  capital-gain  capital-loss  hours-per-week  \\\n",
              "0                White    Male          2174             0              40   \n",
              "1                White    Male             0             0              13   \n",
              "2                White    Male             0             0              40   \n",
              "3                Black    Male             0             0              40   \n",
              "4                Black  Female             0             0              40   \n",
              "5                White  Female             0             0              40   \n",
              "6                Black  Female             0             0              16   \n",
              "7                White    Male             0             0              45   \n",
              "8                White  Female         14084             0              50   \n",
              "9                White    Male          5178             0              40   \n",
              "10               Black    Male             0             0              80   \n",
              "11  Asian-Pac-Islander    Male             0             0              40   \n",
              "12               White  Female             0             0              30   \n",
              "13               Black    Male             0             0              50   \n",
              "14  Asian-Pac-Islander    Male             0             0              40   \n",
              "15  Amer-Indian-Eskimo    Male             0             0              45   \n",
              "16               White    Male             0             0              35   \n",
              "17               White    Male             0             0              40   \n",
              "18               White    Male             0             0              50   \n",
              "19               White  Female             0             0              45   \n",
              "20               White    Male             0             0              60   \n",
              "21               Black  Female             0             0              20   \n",
              "22               Black    Male             0             0              40   \n",
              "23               White    Male             0          2042              40   \n",
              "24               White  Female             0             0              40   \n",
              "25               White    Male             0             0              40   \n",
              "26               White    Male             0             0              40   \n",
              "27  Asian-Pac-Islander    Male             0             0              60   \n",
              "28               White    Male             0             0              80   \n",
              "29               White    Male             0             0              40   \n",
              "30               White    Male             0             0              52   \n",
              "31               Black    Male             0             0              44   \n",
              "32               White    Male             0          1408              40   \n",
              "33               White    Male             0             0              40   \n",
              "34               Black    Male             0             0              15   \n",
              "35               White    Male             0             0              40   \n",
              "36               White    Male             0             0              40   \n",
              "37               White  Female             0             0              25   \n",
              "38               White    Male             0             0              38   \n",
              "39               White    Male             0             0              40   \n",
              "\n",
              "   native-country income  \n",
              "0   United-States  <=50K  \n",
              "1   United-States  <=50K  \n",
              "2   United-States  <=50K  \n",
              "3   United-States  <=50K  \n",
              "4            Cuba  <=50K  \n",
              "5   United-States  <=50K  \n",
              "6         Jamaica  <=50K  \n",
              "7   United-States   >50K  \n",
              "8   United-States   >50K  \n",
              "9   United-States   >50K  \n",
              "10  United-States   >50K  \n",
              "11          India   >50K  \n",
              "12  United-States  <=50K  \n",
              "13  United-States  <=50K  \n",
              "14            NaN   >50K  \n",
              "15         Mexico  <=50K  \n",
              "16  United-States  <=50K  \n",
              "17  United-States  <=50K  \n",
              "18  United-States  <=50K  \n",
              "19  United-States   >50K  \n",
              "20  United-States   >50K  \n",
              "21  United-States  <=50K  \n",
              "22  United-States  <=50K  \n",
              "23  United-States  <=50K  \n",
              "24  United-States  <=50K  \n",
              "25  United-States   >50K  \n",
              "26  United-States  <=50K  \n",
              "27          South   >50K  \n",
              "28  United-States  <=50K  \n",
              "29  United-States  <=50K  \n",
              "30  United-States  <=50K  \n",
              "31  United-States  <=50K  \n",
              "32  United-States  <=50K  \n",
              "33  United-States  <=50K  \n",
              "34  United-States  <=50K  \n",
              "35    Puerto-Rico  <=50K  \n",
              "36  United-States  <=50K  \n",
              "37  United-States  <=50K  \n",
              "38            NaN   >50K  \n",
              "39  United-States  <=50K  "
            ],
            "text/html": [
              "\n",
              "  <div id=\"df-7878b3f4-1f4d-477c-9e3c-c35d0690cc06\" class=\"colab-df-container\">\n",
              "    <div>\n",
              "<style scoped>\n",
              "    .dataframe tbody tr th:only-of-type {\n",
              "        vertical-align: middle;\n",
              "    }\n",
              "\n",
              "    .dataframe tbody tr th {\n",
              "        vertical-align: top;\n",
              "    }\n",
              "\n",
              "    .dataframe thead th {\n",
              "        text-align: right;\n",
              "    }\n",
              "</style>\n",
              "<table border=\"1\" class=\"dataframe\">\n",
              "  <thead>\n",
              "    <tr style=\"text-align: right;\">\n",
              "      <th></th>\n",
              "      <th>age</th>\n",
              "      <th>workclass</th>\n",
              "      <th>fnlwgt</th>\n",
              "      <th>education</th>\n",
              "      <th>education-num</th>\n",
              "      <th>marital-status</th>\n",
              "      <th>occupation</th>\n",
              "      <th>relationship</th>\n",
              "      <th>race</th>\n",
              "      <th>sex</th>\n",
              "      <th>capital-gain</th>\n",
              "      <th>capital-loss</th>\n",
              "      <th>hours-per-week</th>\n",
              "      <th>native-country</th>\n",
              "      <th>income</th>\n",
              "    </tr>\n",
              "  </thead>\n",
              "  <tbody>\n",
              "    <tr>\n",
              "      <th>0</th>\n",
              "      <td>39</td>\n",
              "      <td>State-gov</td>\n",
              "      <td>77516</td>\n",
              "      <td>Bachelors</td>\n",
              "      <td>13</td>\n",
              "      <td>Never-married</td>\n",
              "      <td>Adm-clerical</td>\n",
              "      <td>Not-in-family</td>\n",
              "      <td>White</td>\n",
              "      <td>Male</td>\n",
              "      <td>2174</td>\n",
              "      <td>0</td>\n",
              "      <td>40</td>\n",
              "      <td>United-States</td>\n",
              "      <td>&lt;=50K</td>\n",
              "    </tr>\n",
              "    <tr>\n",
              "      <th>1</th>\n",
              "      <td>50</td>\n",
              "      <td>Self-emp-not-inc</td>\n",
              "      <td>83311</td>\n",
              "      <td>Bachelors</td>\n",
              "      <td>13</td>\n",
              "      <td>Married-civ-spouse</td>\n",
              "      <td>Exec-managerial</td>\n",
              "      <td>Husband</td>\n",
              "      <td>White</td>\n",
              "      <td>Male</td>\n",
              "      <td>0</td>\n",
              "      <td>0</td>\n",
              "      <td>13</td>\n",
              "      <td>United-States</td>\n",
              "      <td>&lt;=50K</td>\n",
              "    </tr>\n",
              "    <tr>\n",
              "      <th>2</th>\n",
              "      <td>38</td>\n",
              "      <td>Private</td>\n",
              "      <td>215646</td>\n",
              "      <td>HS-grad</td>\n",
              "      <td>9</td>\n",
              "      <td>Divorced</td>\n",
              "      <td>Handlers-cleaners</td>\n",
              "      <td>Not-in-family</td>\n",
              "      <td>White</td>\n",
              "      <td>Male</td>\n",
              "      <td>0</td>\n",
              "      <td>0</td>\n",
              "      <td>40</td>\n",
              "      <td>United-States</td>\n",
              "      <td>&lt;=50K</td>\n",
              "    </tr>\n",
              "    <tr>\n",
              "      <th>3</th>\n",
              "      <td>53</td>\n",
              "      <td>Private</td>\n",
              "      <td>234721</td>\n",
              "      <td>11th</td>\n",
              "      <td>7</td>\n",
              "      <td>Married-civ-spouse</td>\n",
              "      <td>Handlers-cleaners</td>\n",
              "      <td>Husband</td>\n",
              "      <td>Black</td>\n",
              "      <td>Male</td>\n",
              "      <td>0</td>\n",
              "      <td>0</td>\n",
              "      <td>40</td>\n",
              "      <td>United-States</td>\n",
              "      <td>&lt;=50K</td>\n",
              "    </tr>\n",
              "    <tr>\n",
              "      <th>4</th>\n",
              "      <td>28</td>\n",
              "      <td>Private</td>\n",
              "      <td>338409</td>\n",
              "      <td>Bachelors</td>\n",
              "      <td>13</td>\n",
              "      <td>Married-civ-spouse</td>\n",
              "      <td>Prof-specialty</td>\n",
              "      <td>Wife</td>\n",
              "      <td>Black</td>\n",
              "      <td>Female</td>\n",
              "      <td>0</td>\n",
              "      <td>0</td>\n",
              "      <td>40</td>\n",
              "      <td>Cuba</td>\n",
              "      <td>&lt;=50K</td>\n",
              "    </tr>\n",
              "    <tr>\n",
              "      <th>5</th>\n",
              "      <td>37</td>\n",
              "      <td>Private</td>\n",
              "      <td>284582</td>\n",
              "      <td>Masters</td>\n",
              "      <td>14</td>\n",
              "      <td>Married-civ-spouse</td>\n",
              "      <td>Exec-managerial</td>\n",
              "      <td>Wife</td>\n",
              "      <td>White</td>\n",
              "      <td>Female</td>\n",
              "      <td>0</td>\n",
              "      <td>0</td>\n",
              "      <td>40</td>\n",
              "      <td>United-States</td>\n",
              "      <td>&lt;=50K</td>\n",
              "    </tr>\n",
              "    <tr>\n",
              "      <th>6</th>\n",
              "      <td>49</td>\n",
              "      <td>Private</td>\n",
              "      <td>160187</td>\n",
              "      <td>9th</td>\n",
              "      <td>5</td>\n",
              "      <td>Married-spouse-absent</td>\n",
              "      <td>Other-service</td>\n",
              "      <td>Not-in-family</td>\n",
              "      <td>Black</td>\n",
              "      <td>Female</td>\n",
              "      <td>0</td>\n",
              "      <td>0</td>\n",
              "      <td>16</td>\n",
              "      <td>Jamaica</td>\n",
              "      <td>&lt;=50K</td>\n",
              "    </tr>\n",
              "    <tr>\n",
              "      <th>7</th>\n",
              "      <td>52</td>\n",
              "      <td>Self-emp-not-inc</td>\n",
              "      <td>209642</td>\n",
              "      <td>HS-grad</td>\n",
              "      <td>9</td>\n",
              "      <td>Married-civ-spouse</td>\n",
              "      <td>Exec-managerial</td>\n",
              "      <td>Husband</td>\n",
              "      <td>White</td>\n",
              "      <td>Male</td>\n",
              "      <td>0</td>\n",
              "      <td>0</td>\n",
              "      <td>45</td>\n",
              "      <td>United-States</td>\n",
              "      <td>&gt;50K</td>\n",
              "    </tr>\n",
              "    <tr>\n",
              "      <th>8</th>\n",
              "      <td>31</td>\n",
              "      <td>Private</td>\n",
              "      <td>45781</td>\n",
              "      <td>Masters</td>\n",
              "      <td>14</td>\n",
              "      <td>Never-married</td>\n",
              "      <td>Prof-specialty</td>\n",
              "      <td>Not-in-family</td>\n",
              "      <td>White</td>\n",
              "      <td>Female</td>\n",
              "      <td>14084</td>\n",
              "      <td>0</td>\n",
              "      <td>50</td>\n",
              "      <td>United-States</td>\n",
              "      <td>&gt;50K</td>\n",
              "    </tr>\n",
              "    <tr>\n",
              "      <th>9</th>\n",
              "      <td>42</td>\n",
              "      <td>Private</td>\n",
              "      <td>159449</td>\n",
              "      <td>Bachelors</td>\n",
              "      <td>13</td>\n",
              "      <td>Married-civ-spouse</td>\n",
              "      <td>Exec-managerial</td>\n",
              "      <td>Husband</td>\n",
              "      <td>White</td>\n",
              "      <td>Male</td>\n",
              "      <td>5178</td>\n",
              "      <td>0</td>\n",
              "      <td>40</td>\n",
              "      <td>United-States</td>\n",
              "      <td>&gt;50K</td>\n",
              "    </tr>\n",
              "    <tr>\n",
              "      <th>10</th>\n",
              "      <td>37</td>\n",
              "      <td>Private</td>\n",
              "      <td>280464</td>\n",
              "      <td>Some-college</td>\n",
              "      <td>10</td>\n",
              "      <td>Married-civ-spouse</td>\n",
              "      <td>Exec-managerial</td>\n",
              "      <td>Husband</td>\n",
              "      <td>Black</td>\n",
              "      <td>Male</td>\n",
              "      <td>0</td>\n",
              "      <td>0</td>\n",
              "      <td>80</td>\n",
              "      <td>United-States</td>\n",
              "      <td>&gt;50K</td>\n",
              "    </tr>\n",
              "    <tr>\n",
              "      <th>11</th>\n",
              "      <td>30</td>\n",
              "      <td>State-gov</td>\n",
              "      <td>141297</td>\n",
              "      <td>Bachelors</td>\n",
              "      <td>13</td>\n",
              "      <td>Married-civ-spouse</td>\n",
              "      <td>Prof-specialty</td>\n",
              "      <td>Husband</td>\n",
              "      <td>Asian-Pac-Islander</td>\n",
              "      <td>Male</td>\n",
              "      <td>0</td>\n",
              "      <td>0</td>\n",
              "      <td>40</td>\n",
              "      <td>India</td>\n",
              "      <td>&gt;50K</td>\n",
              "    </tr>\n",
              "    <tr>\n",
              "      <th>12</th>\n",
              "      <td>23</td>\n",
              "      <td>Private</td>\n",
              "      <td>122272</td>\n",
              "      <td>Bachelors</td>\n",
              "      <td>13</td>\n",
              "      <td>Never-married</td>\n",
              "      <td>Adm-clerical</td>\n",
              "      <td>Own-child</td>\n",
              "      <td>White</td>\n",
              "      <td>Female</td>\n",
              "      <td>0</td>\n",
              "      <td>0</td>\n",
              "      <td>30</td>\n",
              "      <td>United-States</td>\n",
              "      <td>&lt;=50K</td>\n",
              "    </tr>\n",
              "    <tr>\n",
              "      <th>13</th>\n",
              "      <td>32</td>\n",
              "      <td>Private</td>\n",
              "      <td>205019</td>\n",
              "      <td>Assoc-acdm</td>\n",
              "      <td>12</td>\n",
              "      <td>Never-married</td>\n",
              "      <td>Sales</td>\n",
              "      <td>Not-in-family</td>\n",
              "      <td>Black</td>\n",
              "      <td>Male</td>\n",
              "      <td>0</td>\n",
              "      <td>0</td>\n",
              "      <td>50</td>\n",
              "      <td>United-States</td>\n",
              "      <td>&lt;=50K</td>\n",
              "    </tr>\n",
              "    <tr>\n",
              "      <th>14</th>\n",
              "      <td>40</td>\n",
              "      <td>Private</td>\n",
              "      <td>121772</td>\n",
              "      <td>Assoc-voc</td>\n",
              "      <td>11</td>\n",
              "      <td>Married-civ-spouse</td>\n",
              "      <td>Craft-repair</td>\n",
              "      <td>Husband</td>\n",
              "      <td>Asian-Pac-Islander</td>\n",
              "      <td>Male</td>\n",
              "      <td>0</td>\n",
              "      <td>0</td>\n",
              "      <td>40</td>\n",
              "      <td>NaN</td>\n",
              "      <td>&gt;50K</td>\n",
              "    </tr>\n",
              "    <tr>\n",
              "      <th>15</th>\n",
              "      <td>34</td>\n",
              "      <td>Private</td>\n",
              "      <td>245487</td>\n",
              "      <td>7th-8th</td>\n",
              "      <td>4</td>\n",
              "      <td>Married-civ-spouse</td>\n",
              "      <td>Transport-moving</td>\n",
              "      <td>Husband</td>\n",
              "      <td>Amer-Indian-Eskimo</td>\n",
              "      <td>Male</td>\n",
              "      <td>0</td>\n",
              "      <td>0</td>\n",
              "      <td>45</td>\n",
              "      <td>Mexico</td>\n",
              "      <td>&lt;=50K</td>\n",
              "    </tr>\n",
              "    <tr>\n",
              "      <th>16</th>\n",
              "      <td>25</td>\n",
              "      <td>Self-emp-not-inc</td>\n",
              "      <td>176756</td>\n",
              "      <td>HS-grad</td>\n",
              "      <td>9</td>\n",
              "      <td>Never-married</td>\n",
              "      <td>Farming-fishing</td>\n",
              "      <td>Own-child</td>\n",
              "      <td>White</td>\n",
              "      <td>Male</td>\n",
              "      <td>0</td>\n",
              "      <td>0</td>\n",
              "      <td>35</td>\n",
              "      <td>United-States</td>\n",
              "      <td>&lt;=50K</td>\n",
              "    </tr>\n",
              "    <tr>\n",
              "      <th>17</th>\n",
              "      <td>32</td>\n",
              "      <td>Private</td>\n",
              "      <td>186824</td>\n",
              "      <td>HS-grad</td>\n",
              "      <td>9</td>\n",
              "      <td>Never-married</td>\n",
              "      <td>Machine-op-inspct</td>\n",
              "      <td>Unmarried</td>\n",
              "      <td>White</td>\n",
              "      <td>Male</td>\n",
              "      <td>0</td>\n",
              "      <td>0</td>\n",
              "      <td>40</td>\n",
              "      <td>United-States</td>\n",
              "      <td>&lt;=50K</td>\n",
              "    </tr>\n",
              "    <tr>\n",
              "      <th>18</th>\n",
              "      <td>38</td>\n",
              "      <td>Private</td>\n",
              "      <td>28887</td>\n",
              "      <td>11th</td>\n",
              "      <td>7</td>\n",
              "      <td>Married-civ-spouse</td>\n",
              "      <td>Sales</td>\n",
              "      <td>Husband</td>\n",
              "      <td>White</td>\n",
              "      <td>Male</td>\n",
              "      <td>0</td>\n",
              "      <td>0</td>\n",
              "      <td>50</td>\n",
              "      <td>United-States</td>\n",
              "      <td>&lt;=50K</td>\n",
              "    </tr>\n",
              "    <tr>\n",
              "      <th>19</th>\n",
              "      <td>43</td>\n",
              "      <td>Self-emp-not-inc</td>\n",
              "      <td>292175</td>\n",
              "      <td>Masters</td>\n",
              "      <td>14</td>\n",
              "      <td>Divorced</td>\n",
              "      <td>Exec-managerial</td>\n",
              "      <td>Unmarried</td>\n",
              "      <td>White</td>\n",
              "      <td>Female</td>\n",
              "      <td>0</td>\n",
              "      <td>0</td>\n",
              "      <td>45</td>\n",
              "      <td>United-States</td>\n",
              "      <td>&gt;50K</td>\n",
              "    </tr>\n",
              "    <tr>\n",
              "      <th>20</th>\n",
              "      <td>40</td>\n",
              "      <td>Private</td>\n",
              "      <td>193524</td>\n",
              "      <td>Doctorate</td>\n",
              "      <td>16</td>\n",
              "      <td>Married-civ-spouse</td>\n",
              "      <td>Prof-specialty</td>\n",
              "      <td>Husband</td>\n",
              "      <td>White</td>\n",
              "      <td>Male</td>\n",
              "      <td>0</td>\n",
              "      <td>0</td>\n",
              "      <td>60</td>\n",
              "      <td>United-States</td>\n",
              "      <td>&gt;50K</td>\n",
              "    </tr>\n",
              "    <tr>\n",
              "      <th>21</th>\n",
              "      <td>54</td>\n",
              "      <td>Private</td>\n",
              "      <td>302146</td>\n",
              "      <td>HS-grad</td>\n",
              "      <td>9</td>\n",
              "      <td>Separated</td>\n",
              "      <td>Other-service</td>\n",
              "      <td>Unmarried</td>\n",
              "      <td>Black</td>\n",
              "      <td>Female</td>\n",
              "      <td>0</td>\n",
              "      <td>0</td>\n",
              "      <td>20</td>\n",
              "      <td>United-States</td>\n",
              "      <td>&lt;=50K</td>\n",
              "    </tr>\n",
              "    <tr>\n",
              "      <th>22</th>\n",
              "      <td>35</td>\n",
              "      <td>Federal-gov</td>\n",
              "      <td>76845</td>\n",
              "      <td>9th</td>\n",
              "      <td>5</td>\n",
              "      <td>Married-civ-spouse</td>\n",
              "      <td>Farming-fishing</td>\n",
              "      <td>Husband</td>\n",
              "      <td>Black</td>\n",
              "      <td>Male</td>\n",
              "      <td>0</td>\n",
              "      <td>0</td>\n",
              "      <td>40</td>\n",
              "      <td>United-States</td>\n",
              "      <td>&lt;=50K</td>\n",
              "    </tr>\n",
              "    <tr>\n",
              "      <th>23</th>\n",
              "      <td>43</td>\n",
              "      <td>Private</td>\n",
              "      <td>117037</td>\n",
              "      <td>11th</td>\n",
              "      <td>7</td>\n",
              "      <td>Married-civ-spouse</td>\n",
              "      <td>Transport-moving</td>\n",
              "      <td>Husband</td>\n",
              "      <td>White</td>\n",
              "      <td>Male</td>\n",
              "      <td>0</td>\n",
              "      <td>2042</td>\n",
              "      <td>40</td>\n",
              "      <td>United-States</td>\n",
              "      <td>&lt;=50K</td>\n",
              "    </tr>\n",
              "    <tr>\n",
              "      <th>24</th>\n",
              "      <td>59</td>\n",
              "      <td>Private</td>\n",
              "      <td>109015</td>\n",
              "      <td>HS-grad</td>\n",
              "      <td>9</td>\n",
              "      <td>Divorced</td>\n",
              "      <td>Tech-support</td>\n",
              "      <td>Unmarried</td>\n",
              "      <td>White</td>\n",
              "      <td>Female</td>\n",
              "      <td>0</td>\n",
              "      <td>0</td>\n",
              "      <td>40</td>\n",
              "      <td>United-States</td>\n",
              "      <td>&lt;=50K</td>\n",
              "    </tr>\n",
              "    <tr>\n",
              "      <th>25</th>\n",
              "      <td>56</td>\n",
              "      <td>Local-gov</td>\n",
              "      <td>216851</td>\n",
              "      <td>Bachelors</td>\n",
              "      <td>13</td>\n",
              "      <td>Married-civ-spouse</td>\n",
              "      <td>Tech-support</td>\n",
              "      <td>Husband</td>\n",
              "      <td>White</td>\n",
              "      <td>Male</td>\n",
              "      <td>0</td>\n",
              "      <td>0</td>\n",
              "      <td>40</td>\n",
              "      <td>United-States</td>\n",
              "      <td>&gt;50K</td>\n",
              "    </tr>\n",
              "    <tr>\n",
              "      <th>26</th>\n",
              "      <td>19</td>\n",
              "      <td>Private</td>\n",
              "      <td>168294</td>\n",
              "      <td>HS-grad</td>\n",
              "      <td>9</td>\n",
              "      <td>Never-married</td>\n",
              "      <td>Craft-repair</td>\n",
              "      <td>Own-child</td>\n",
              "      <td>White</td>\n",
              "      <td>Male</td>\n",
              "      <td>0</td>\n",
              "      <td>0</td>\n",
              "      <td>40</td>\n",
              "      <td>United-States</td>\n",
              "      <td>&lt;=50K</td>\n",
              "    </tr>\n",
              "    <tr>\n",
              "      <th>27</th>\n",
              "      <td>54</td>\n",
              "      <td>NaN</td>\n",
              "      <td>180211</td>\n",
              "      <td>Some-college</td>\n",
              "      <td>10</td>\n",
              "      <td>Married-civ-spouse</td>\n",
              "      <td>NaN</td>\n",
              "      <td>Husband</td>\n",
              "      <td>Asian-Pac-Islander</td>\n",
              "      <td>Male</td>\n",
              "      <td>0</td>\n",
              "      <td>0</td>\n",
              "      <td>60</td>\n",
              "      <td>South</td>\n",
              "      <td>&gt;50K</td>\n",
              "    </tr>\n",
              "    <tr>\n",
              "      <th>28</th>\n",
              "      <td>39</td>\n",
              "      <td>Private</td>\n",
              "      <td>367260</td>\n",
              "      <td>HS-grad</td>\n",
              "      <td>9</td>\n",
              "      <td>Divorced</td>\n",
              "      <td>Exec-managerial</td>\n",
              "      <td>Not-in-family</td>\n",
              "      <td>White</td>\n",
              "      <td>Male</td>\n",
              "      <td>0</td>\n",
              "      <td>0</td>\n",
              "      <td>80</td>\n",
              "      <td>United-States</td>\n",
              "      <td>&lt;=50K</td>\n",
              "    </tr>\n",
              "    <tr>\n",
              "      <th>29</th>\n",
              "      <td>49</td>\n",
              "      <td>Private</td>\n",
              "      <td>193366</td>\n",
              "      <td>HS-grad</td>\n",
              "      <td>9</td>\n",
              "      <td>Married-civ-spouse</td>\n",
              "      <td>Craft-repair</td>\n",
              "      <td>Husband</td>\n",
              "      <td>White</td>\n",
              "      <td>Male</td>\n",
              "      <td>0</td>\n",
              "      <td>0</td>\n",
              "      <td>40</td>\n",
              "      <td>United-States</td>\n",
              "      <td>&lt;=50K</td>\n",
              "    </tr>\n",
              "    <tr>\n",
              "      <th>30</th>\n",
              "      <td>23</td>\n",
              "      <td>Local-gov</td>\n",
              "      <td>190709</td>\n",
              "      <td>Assoc-acdm</td>\n",
              "      <td>12</td>\n",
              "      <td>Never-married</td>\n",
              "      <td>Protective-serv</td>\n",
              "      <td>Not-in-family</td>\n",
              "      <td>White</td>\n",
              "      <td>Male</td>\n",
              "      <td>0</td>\n",
              "      <td>0</td>\n",
              "      <td>52</td>\n",
              "      <td>United-States</td>\n",
              "      <td>&lt;=50K</td>\n",
              "    </tr>\n",
              "    <tr>\n",
              "      <th>31</th>\n",
              "      <td>20</td>\n",
              "      <td>Private</td>\n",
              "      <td>266015</td>\n",
              "      <td>Some-college</td>\n",
              "      <td>10</td>\n",
              "      <td>Never-married</td>\n",
              "      <td>Sales</td>\n",
              "      <td>Own-child</td>\n",
              "      <td>Black</td>\n",
              "      <td>Male</td>\n",
              "      <td>0</td>\n",
              "      <td>0</td>\n",
              "      <td>44</td>\n",
              "      <td>United-States</td>\n",
              "      <td>&lt;=50K</td>\n",
              "    </tr>\n",
              "    <tr>\n",
              "      <th>32</th>\n",
              "      <td>45</td>\n",
              "      <td>Private</td>\n",
              "      <td>386940</td>\n",
              "      <td>Bachelors</td>\n",
              "      <td>13</td>\n",
              "      <td>Divorced</td>\n",
              "      <td>Exec-managerial</td>\n",
              "      <td>Own-child</td>\n",
              "      <td>White</td>\n",
              "      <td>Male</td>\n",
              "      <td>0</td>\n",
              "      <td>1408</td>\n",
              "      <td>40</td>\n",
              "      <td>United-States</td>\n",
              "      <td>&lt;=50K</td>\n",
              "    </tr>\n",
              "    <tr>\n",
              "      <th>33</th>\n",
              "      <td>30</td>\n",
              "      <td>Federal-gov</td>\n",
              "      <td>59951</td>\n",
              "      <td>Some-college</td>\n",
              "      <td>10</td>\n",
              "      <td>Married-civ-spouse</td>\n",
              "      <td>Adm-clerical</td>\n",
              "      <td>Own-child</td>\n",
              "      <td>White</td>\n",
              "      <td>Male</td>\n",
              "      <td>0</td>\n",
              "      <td>0</td>\n",
              "      <td>40</td>\n",
              "      <td>United-States</td>\n",
              "      <td>&lt;=50K</td>\n",
              "    </tr>\n",
              "    <tr>\n",
              "      <th>34</th>\n",
              "      <td>22</td>\n",
              "      <td>State-gov</td>\n",
              "      <td>311512</td>\n",
              "      <td>Some-college</td>\n",
              "      <td>10</td>\n",
              "      <td>Married-civ-spouse</td>\n",
              "      <td>Other-service</td>\n",
              "      <td>Husband</td>\n",
              "      <td>Black</td>\n",
              "      <td>Male</td>\n",
              "      <td>0</td>\n",
              "      <td>0</td>\n",
              "      <td>15</td>\n",
              "      <td>United-States</td>\n",
              "      <td>&lt;=50K</td>\n",
              "    </tr>\n",
              "    <tr>\n",
              "      <th>35</th>\n",
              "      <td>48</td>\n",
              "      <td>Private</td>\n",
              "      <td>242406</td>\n",
              "      <td>11th</td>\n",
              "      <td>7</td>\n",
              "      <td>Never-married</td>\n",
              "      <td>Machine-op-inspct</td>\n",
              "      <td>Unmarried</td>\n",
              "      <td>White</td>\n",
              "      <td>Male</td>\n",
              "      <td>0</td>\n",
              "      <td>0</td>\n",
              "      <td>40</td>\n",
              "      <td>Puerto-Rico</td>\n",
              "      <td>&lt;=50K</td>\n",
              "    </tr>\n",
              "    <tr>\n",
              "      <th>36</th>\n",
              "      <td>21</td>\n",
              "      <td>Private</td>\n",
              "      <td>197200</td>\n",
              "      <td>Some-college</td>\n",
              "      <td>10</td>\n",
              "      <td>Never-married</td>\n",
              "      <td>Machine-op-inspct</td>\n",
              "      <td>Own-child</td>\n",
              "      <td>White</td>\n",
              "      <td>Male</td>\n",
              "      <td>0</td>\n",
              "      <td>0</td>\n",
              "      <td>40</td>\n",
              "      <td>United-States</td>\n",
              "      <td>&lt;=50K</td>\n",
              "    </tr>\n",
              "    <tr>\n",
              "      <th>37</th>\n",
              "      <td>19</td>\n",
              "      <td>Private</td>\n",
              "      <td>544091</td>\n",
              "      <td>HS-grad</td>\n",
              "      <td>9</td>\n",
              "      <td>Married-AF-spouse</td>\n",
              "      <td>Adm-clerical</td>\n",
              "      <td>Wife</td>\n",
              "      <td>White</td>\n",
              "      <td>Female</td>\n",
              "      <td>0</td>\n",
              "      <td>0</td>\n",
              "      <td>25</td>\n",
              "      <td>United-States</td>\n",
              "      <td>&lt;=50K</td>\n",
              "    </tr>\n",
              "    <tr>\n",
              "      <th>38</th>\n",
              "      <td>31</td>\n",
              "      <td>Private</td>\n",
              "      <td>84154</td>\n",
              "      <td>Some-college</td>\n",
              "      <td>10</td>\n",
              "      <td>Married-civ-spouse</td>\n",
              "      <td>Sales</td>\n",
              "      <td>Husband</td>\n",
              "      <td>White</td>\n",
              "      <td>Male</td>\n",
              "      <td>0</td>\n",
              "      <td>0</td>\n",
              "      <td>38</td>\n",
              "      <td>NaN</td>\n",
              "      <td>&gt;50K</td>\n",
              "    </tr>\n",
              "    <tr>\n",
              "      <th>39</th>\n",
              "      <td>48</td>\n",
              "      <td>Self-emp-not-inc</td>\n",
              "      <td>265477</td>\n",
              "      <td>Assoc-acdm</td>\n",
              "      <td>12</td>\n",
              "      <td>Married-civ-spouse</td>\n",
              "      <td>Prof-specialty</td>\n",
              "      <td>Husband</td>\n",
              "      <td>White</td>\n",
              "      <td>Male</td>\n",
              "      <td>0</td>\n",
              "      <td>0</td>\n",
              "      <td>40</td>\n",
              "      <td>United-States</td>\n",
              "      <td>&lt;=50K</td>\n",
              "    </tr>\n",
              "  </tbody>\n",
              "</table>\n",
              "</div>\n",
              "    <div class=\"colab-df-buttons\">\n",
              "\n",
              "  <div class=\"colab-df-container\">\n",
              "    <button class=\"colab-df-convert\" onclick=\"convertToInteractive('df-7878b3f4-1f4d-477c-9e3c-c35d0690cc06')\"\n",
              "            title=\"Convert this dataframe to an interactive table.\"\n",
              "            style=\"display:none;\">\n",
              "\n",
              "  <svg xmlns=\"http://www.w3.org/2000/svg\" height=\"24px\" viewBox=\"0 -960 960 960\">\n",
              "    <path d=\"M120-120v-720h720v720H120Zm60-500h600v-160H180v160Zm220 220h160v-160H400v160Zm0 220h160v-160H400v160ZM180-400h160v-160H180v160Zm440 0h160v-160H620v160ZM180-180h160v-160H180v160Zm440 0h160v-160H620v160Z\"/>\n",
              "  </svg>\n",
              "    </button>\n",
              "\n",
              "  <style>\n",
              "    .colab-df-container {\n",
              "      display:flex;\n",
              "      gap: 12px;\n",
              "    }\n",
              "\n",
              "    .colab-df-convert {\n",
              "      background-color: #E8F0FE;\n",
              "      border: none;\n",
              "      border-radius: 50%;\n",
              "      cursor: pointer;\n",
              "      display: none;\n",
              "      fill: #1967D2;\n",
              "      height: 32px;\n",
              "      padding: 0 0 0 0;\n",
              "      width: 32px;\n",
              "    }\n",
              "\n",
              "    .colab-df-convert:hover {\n",
              "      background-color: #E2EBFA;\n",
              "      box-shadow: 0px 1px 2px rgba(60, 64, 67, 0.3), 0px 1px 3px 1px rgba(60, 64, 67, 0.15);\n",
              "      fill: #174EA6;\n",
              "    }\n",
              "\n",
              "    .colab-df-buttons div {\n",
              "      margin-bottom: 4px;\n",
              "    }\n",
              "\n",
              "    [theme=dark] .colab-df-convert {\n",
              "      background-color: #3B4455;\n",
              "      fill: #D2E3FC;\n",
              "    }\n",
              "\n",
              "    [theme=dark] .colab-df-convert:hover {\n",
              "      background-color: #434B5C;\n",
              "      box-shadow: 0px 1px 3px 1px rgba(0, 0, 0, 0.15);\n",
              "      filter: drop-shadow(0px 1px 2px rgba(0, 0, 0, 0.3));\n",
              "      fill: #FFFFFF;\n",
              "    }\n",
              "  </style>\n",
              "\n",
              "    <script>\n",
              "      const buttonEl =\n",
              "        document.querySelector('#df-7878b3f4-1f4d-477c-9e3c-c35d0690cc06 button.colab-df-convert');\n",
              "      buttonEl.style.display =\n",
              "        google.colab.kernel.accessAllowed ? 'block' : 'none';\n",
              "\n",
              "      async function convertToInteractive(key) {\n",
              "        const element = document.querySelector('#df-7878b3f4-1f4d-477c-9e3c-c35d0690cc06');\n",
              "        const dataTable =\n",
              "          await google.colab.kernel.invokeFunction('convertToInteractive',\n",
              "                                                    [key], {});\n",
              "        if (!dataTable) return;\n",
              "\n",
              "        const docLinkHtml = 'Like what you see? Visit the ' +\n",
              "          '<a target=\"_blank\" href=https://colab.research.google.com/notebooks/data_table.ipynb>data table notebook</a>'\n",
              "          + ' to learn more about interactive tables.';\n",
              "        element.innerHTML = '';\n",
              "        dataTable['output_type'] = 'display_data';\n",
              "        await google.colab.output.renderOutput(dataTable, element);\n",
              "        const docLink = document.createElement('div');\n",
              "        docLink.innerHTML = docLinkHtml;\n",
              "        element.appendChild(docLink);\n",
              "      }\n",
              "    </script>\n",
              "  </div>\n",
              "\n",
              "\n",
              "<div id=\"df-a80a473b-dce4-400a-9f3a-bd0c52ddeb8b\">\n",
              "  <button class=\"colab-df-quickchart\" onclick=\"quickchart('df-a80a473b-dce4-400a-9f3a-bd0c52ddeb8b')\"\n",
              "            title=\"Suggest charts\"\n",
              "            style=\"display:none;\">\n",
              "\n",
              "<svg xmlns=\"http://www.w3.org/2000/svg\" height=\"24px\"viewBox=\"0 0 24 24\"\n",
              "     width=\"24px\">\n",
              "    <g>\n",
              "        <path d=\"M19 3H5c-1.1 0-2 .9-2 2v14c0 1.1.9 2 2 2h14c1.1 0 2-.9 2-2V5c0-1.1-.9-2-2-2zM9 17H7v-7h2v7zm4 0h-2V7h2v10zm4 0h-2v-4h2v4z\"/>\n",
              "    </g>\n",
              "</svg>\n",
              "  </button>\n",
              "\n",
              "<style>\n",
              "  .colab-df-quickchart {\n",
              "      --bg-color: #E8F0FE;\n",
              "      --fill-color: #1967D2;\n",
              "      --hover-bg-color: #E2EBFA;\n",
              "      --hover-fill-color: #174EA6;\n",
              "      --disabled-fill-color: #AAA;\n",
              "      --disabled-bg-color: #DDD;\n",
              "  }\n",
              "\n",
              "  [theme=dark] .colab-df-quickchart {\n",
              "      --bg-color: #3B4455;\n",
              "      --fill-color: #D2E3FC;\n",
              "      --hover-bg-color: #434B5C;\n",
              "      --hover-fill-color: #FFFFFF;\n",
              "      --disabled-bg-color: #3B4455;\n",
              "      --disabled-fill-color: #666;\n",
              "  }\n",
              "\n",
              "  .colab-df-quickchart {\n",
              "    background-color: var(--bg-color);\n",
              "    border: none;\n",
              "    border-radius: 50%;\n",
              "    cursor: pointer;\n",
              "    display: none;\n",
              "    fill: var(--fill-color);\n",
              "    height: 32px;\n",
              "    padding: 0;\n",
              "    width: 32px;\n",
              "  }\n",
              "\n",
              "  .colab-df-quickchart:hover {\n",
              "    background-color: var(--hover-bg-color);\n",
              "    box-shadow: 0 1px 2px rgba(60, 64, 67, 0.3), 0 1px 3px 1px rgba(60, 64, 67, 0.15);\n",
              "    fill: var(--button-hover-fill-color);\n",
              "  }\n",
              "\n",
              "  .colab-df-quickchart-complete:disabled,\n",
              "  .colab-df-quickchart-complete:disabled:hover {\n",
              "    background-color: var(--disabled-bg-color);\n",
              "    fill: var(--disabled-fill-color);\n",
              "    box-shadow: none;\n",
              "  }\n",
              "\n",
              "  .colab-df-spinner {\n",
              "    border: 2px solid var(--fill-color);\n",
              "    border-color: transparent;\n",
              "    border-bottom-color: var(--fill-color);\n",
              "    animation:\n",
              "      spin 1s steps(1) infinite;\n",
              "  }\n",
              "\n",
              "  @keyframes spin {\n",
              "    0% {\n",
              "      border-color: transparent;\n",
              "      border-bottom-color: var(--fill-color);\n",
              "      border-left-color: var(--fill-color);\n",
              "    }\n",
              "    20% {\n",
              "      border-color: transparent;\n",
              "      border-left-color: var(--fill-color);\n",
              "      border-top-color: var(--fill-color);\n",
              "    }\n",
              "    30% {\n",
              "      border-color: transparent;\n",
              "      border-left-color: var(--fill-color);\n",
              "      border-top-color: var(--fill-color);\n",
              "      border-right-color: var(--fill-color);\n",
              "    }\n",
              "    40% {\n",
              "      border-color: transparent;\n",
              "      border-right-color: var(--fill-color);\n",
              "      border-top-color: var(--fill-color);\n",
              "    }\n",
              "    60% {\n",
              "      border-color: transparent;\n",
              "      border-right-color: var(--fill-color);\n",
              "    }\n",
              "    80% {\n",
              "      border-color: transparent;\n",
              "      border-right-color: var(--fill-color);\n",
              "      border-bottom-color: var(--fill-color);\n",
              "    }\n",
              "    90% {\n",
              "      border-color: transparent;\n",
              "      border-bottom-color: var(--fill-color);\n",
              "    }\n",
              "  }\n",
              "</style>\n",
              "\n",
              "  <script>\n",
              "    async function quickchart(key) {\n",
              "      const quickchartButtonEl =\n",
              "        document.querySelector('#' + key + ' button');\n",
              "      quickchartButtonEl.disabled = true;  // To prevent multiple clicks.\n",
              "      quickchartButtonEl.classList.add('colab-df-spinner');\n",
              "      try {\n",
              "        const charts = await google.colab.kernel.invokeFunction(\n",
              "            'suggestCharts', [key], {});\n",
              "      } catch (error) {\n",
              "        console.error('Error during call to suggestCharts:', error);\n",
              "      }\n",
              "      quickchartButtonEl.classList.remove('colab-df-spinner');\n",
              "      quickchartButtonEl.classList.add('colab-df-quickchart-complete');\n",
              "    }\n",
              "    (() => {\n",
              "      let quickchartButtonEl =\n",
              "        document.querySelector('#df-a80a473b-dce4-400a-9f3a-bd0c52ddeb8b button');\n",
              "      quickchartButtonEl.style.display =\n",
              "        google.colab.kernel.accessAllowed ? 'block' : 'none';\n",
              "    })();\n",
              "  </script>\n",
              "</div>\n",
              "\n",
              "    </div>\n",
              "  </div>\n"
            ],
            "application/vnd.google.colaboratory.intrinsic+json": {
              "type": "dataframe",
              "variable_name": "census_data",
              "summary": "{\n  \"name\": \"census_data\",\n  \"rows\": 32561,\n  \"fields\": [\n    {\n      \"column\": \"age\",\n      \"properties\": {\n        \"dtype\": \"number\",\n        \"std\": 13,\n        \"min\": 17,\n        \"max\": 90,\n        \"num_unique_values\": 73,\n        \"samples\": [\n          28,\n          73,\n          35\n        ],\n        \"semantic_type\": \"\",\n        \"description\": \"\"\n      }\n    },\n    {\n      \"column\": \"workclass\",\n      \"properties\": {\n        \"dtype\": \"category\",\n        \"num_unique_values\": 8,\n        \"samples\": [\n          \"Self-emp-not-inc\",\n          \"Self-emp-inc\",\n          \"State-gov\"\n        ],\n        \"semantic_type\": \"\",\n        \"description\": \"\"\n      }\n    },\n    {\n      \"column\": \"fnlwgt\",\n      \"properties\": {\n        \"dtype\": \"number\",\n        \"std\": 105549,\n        \"min\": 12285,\n        \"max\": 1484705,\n        \"num_unique_values\": 21648,\n        \"samples\": [\n          128485,\n          469907,\n          235951\n        ],\n        \"semantic_type\": \"\",\n        \"description\": \"\"\n      }\n    },\n    {\n      \"column\": \"education\",\n      \"properties\": {\n        \"dtype\": \"category\",\n        \"num_unique_values\": 16,\n        \"samples\": [\n          \"Bachelors\",\n          \"HS-grad\",\n          \"Some-college\"\n        ],\n        \"semantic_type\": \"\",\n        \"description\": \"\"\n      }\n    },\n    {\n      \"column\": \"education-num\",\n      \"properties\": {\n        \"dtype\": \"number\",\n        \"std\": 2,\n        \"min\": 1,\n        \"max\": 16,\n        \"num_unique_values\": 16,\n        \"samples\": [\n          13,\n          9,\n          10\n        ],\n        \"semantic_type\": \"\",\n        \"description\": \"\"\n      }\n    },\n    {\n      \"column\": \"marital-status\",\n      \"properties\": {\n        \"dtype\": \"category\",\n        \"num_unique_values\": 7,\n        \"samples\": [\n          \"Never-married\",\n          \"Married-civ-spouse\",\n          \"Married-AF-spouse\"\n        ],\n        \"semantic_type\": \"\",\n        \"description\": \"\"\n      }\n    },\n    {\n      \"column\": \"occupation\",\n      \"properties\": {\n        \"dtype\": \"category\",\n        \"num_unique_values\": 14,\n        \"samples\": [\n          \"Machine-op-inspct\",\n          \"Protective-serv\",\n          \"Adm-clerical\"\n        ],\n        \"semantic_type\": \"\",\n        \"description\": \"\"\n      }\n    },\n    {\n      \"column\": \"relationship\",\n      \"properties\": {\n        \"dtype\": \"category\",\n        \"num_unique_values\": 6,\n        \"samples\": [\n          \"Not-in-family\",\n          \"Husband\",\n          \"Other-relative\"\n        ],\n        \"semantic_type\": \"\",\n        \"description\": \"\"\n      }\n    },\n    {\n      \"column\": \"race\",\n      \"properties\": {\n        \"dtype\": \"category\",\n        \"num_unique_values\": 5,\n        \"samples\": [\n          \"Black\",\n          \"Other\",\n          \"Asian-Pac-Islander\"\n        ],\n        \"semantic_type\": \"\",\n        \"description\": \"\"\n      }\n    },\n    {\n      \"column\": \"sex\",\n      \"properties\": {\n        \"dtype\": \"category\",\n        \"num_unique_values\": 2,\n        \"samples\": [\n          \"Female\",\n          \"Male\"\n        ],\n        \"semantic_type\": \"\",\n        \"description\": \"\"\n      }\n    },\n    {\n      \"column\": \"capital-gain\",\n      \"properties\": {\n        \"dtype\": \"number\",\n        \"std\": 7385,\n        \"min\": 0,\n        \"max\": 99999,\n        \"num_unique_values\": 119,\n        \"samples\": [\n          3781,\n          15831\n        ],\n        \"semantic_type\": \"\",\n        \"description\": \"\"\n      }\n    },\n    {\n      \"column\": \"capital-loss\",\n      \"properties\": {\n        \"dtype\": \"number\",\n        \"std\": 402,\n        \"min\": 0,\n        \"max\": 4356,\n        \"num_unique_values\": 92,\n        \"samples\": [\n          419,\n          2051\n        ],\n        \"semantic_type\": \"\",\n        \"description\": \"\"\n      }\n    },\n    {\n      \"column\": \"hours-per-week\",\n      \"properties\": {\n        \"dtype\": \"number\",\n        \"std\": 12,\n        \"min\": 1,\n        \"max\": 99,\n        \"num_unique_values\": 94,\n        \"samples\": [\n          6,\n          22\n        ],\n        \"semantic_type\": \"\",\n        \"description\": \"\"\n      }\n    },\n    {\n      \"column\": \"native-country\",\n      \"properties\": {\n        \"dtype\": \"category\",\n        \"num_unique_values\": 41,\n        \"samples\": [\n          \"El-Salvador\",\n          \"Italy\"\n        ],\n        \"semantic_type\": \"\",\n        \"description\": \"\"\n      }\n    },\n    {\n      \"column\": \"income\",\n      \"properties\": {\n        \"dtype\": \"category\",\n        \"num_unique_values\": 2,\n        \"samples\": [\n          \">50K\",\n          \"<=50K\"\n        ],\n        \"semantic_type\": \"\",\n        \"description\": \"\"\n      }\n    }\n  ]\n}"
            }
          },
          "metadata": {},
          "execution_count": 9
        }
      ],
      "source": [
        "census_data.head(40)"
      ]
    },
    {
      "cell_type": "code",
      "execution_count": 10,
      "metadata": {
        "colab": {
          "base_uri": "https://localhost:8080/"
        },
        "id": "AdyNs5whJ1EF",
        "outputId": "37670fc4-2d0a-4661-98e6-6aef357d969c"
      },
      "outputs": [
        {
          "output_type": "stream",
          "name": "stdout",
          "text": [
            "<class 'pandas.core.frame.DataFrame'>\n",
            "RangeIndex: 32561 entries, 0 to 32560\n",
            "Data columns (total 15 columns):\n",
            " #   Column          Non-Null Count  Dtype \n",
            "---  ------          --------------  ----- \n",
            " 0   age             32561 non-null  int64 \n",
            " 1   workclass       30725 non-null  object\n",
            " 2   fnlwgt          32561 non-null  int64 \n",
            " 3   education       32561 non-null  object\n",
            " 4   education-num   32561 non-null  int64 \n",
            " 5   marital-status  32561 non-null  object\n",
            " 6   occupation      30718 non-null  object\n",
            " 7   relationship    32561 non-null  object\n",
            " 8   race            32561 non-null  object\n",
            " 9   sex             32561 non-null  object\n",
            " 10  capital-gain    32561 non-null  int64 \n",
            " 11  capital-loss    32561 non-null  int64 \n",
            " 12  hours-per-week  32561 non-null  int64 \n",
            " 13  native-country  31978 non-null  object\n",
            " 14  income          32561 non-null  object\n",
            "dtypes: int64(6), object(9)\n",
            "memory usage: 3.7+ MB\n"
          ]
        }
      ],
      "source": [
        "census_data.info()"
      ]
    },
    {
      "cell_type": "markdown",
      "metadata": {
        "id": "v2cfeG7RW4e8"
      },
      "source": [
        "Pode-se perceber que, ao obter informações dos dados das features, temos alguns valores vazios nos dados de 'workclass', 'occupation' e 'native-country'"
      ]
    },
    {
      "cell_type": "code",
      "execution_count": 11,
      "metadata": {
        "colab": {
          "base_uri": "https://localhost:8080/"
        },
        "id": "warBMQGrWluZ",
        "outputId": "b6e14d76-4aca-48b7-8296-9a6d5e6af4cf"
      },
      "outputs": [
        {
          "output_type": "execute_result",
          "data": {
            "text/plain": [
              "income\n",
              "<=50K    24720\n",
              ">50K      7841\n",
              "Name: count, dtype: int64"
            ]
          },
          "metadata": {},
          "execution_count": 11
        }
      ],
      "source": [
        "# Verificar os valores atualizados\n",
        "census_data['income'].value_counts()"
      ]
    },
    {
      "cell_type": "markdown",
      "metadata": {
        "id": "BE7TF4jJYBiv"
      },
      "source": [
        "Ao avaliar a quantidade de valores de cada categoria, podemos perceber que temos um alto número de rendas abaixo de 50K, sendo 24720 adultos com esta renda"
      ]
    },
    {
      "cell_type": "code",
      "execution_count": 12,
      "metadata": {
        "colab": {
          "base_uri": "https://localhost:8080/",
          "height": 300
        },
        "id": "g1Be2NDdX-d2",
        "outputId": "84f7c351-e2fb-4500-f9fe-01a6ee2e575f"
      },
      "outputs": [
        {
          "output_type": "execute_result",
          "data": {
            "text/plain": [
              "                age        fnlwgt  education-num  capital-gain  capital-loss  \\\n",
              "count  32561.000000  3.256100e+04   32561.000000  32561.000000  32561.000000   \n",
              "mean      38.581647  1.897784e+05      10.080679   1077.648844     87.303830   \n",
              "std       13.640433  1.055500e+05       2.572720   7385.292085    402.960219   \n",
              "min       17.000000  1.228500e+04       1.000000      0.000000      0.000000   \n",
              "25%       28.000000  1.178270e+05       9.000000      0.000000      0.000000   \n",
              "50%       37.000000  1.783560e+05      10.000000      0.000000      0.000000   \n",
              "75%       48.000000  2.370510e+05      12.000000      0.000000      0.000000   \n",
              "max       90.000000  1.484705e+06      16.000000  99999.000000   4356.000000   \n",
              "\n",
              "       hours-per-week  \n",
              "count    32561.000000  \n",
              "mean        40.437456  \n",
              "std         12.347429  \n",
              "min          1.000000  \n",
              "25%         40.000000  \n",
              "50%         40.000000  \n",
              "75%         45.000000  \n",
              "max         99.000000  "
            ],
            "text/html": [
              "\n",
              "  <div id=\"df-c0ce11a4-e9a8-456d-85bd-22fa2cd1fadc\" class=\"colab-df-container\">\n",
              "    <div>\n",
              "<style scoped>\n",
              "    .dataframe tbody tr th:only-of-type {\n",
              "        vertical-align: middle;\n",
              "    }\n",
              "\n",
              "    .dataframe tbody tr th {\n",
              "        vertical-align: top;\n",
              "    }\n",
              "\n",
              "    .dataframe thead th {\n",
              "        text-align: right;\n",
              "    }\n",
              "</style>\n",
              "<table border=\"1\" class=\"dataframe\">\n",
              "  <thead>\n",
              "    <tr style=\"text-align: right;\">\n",
              "      <th></th>\n",
              "      <th>age</th>\n",
              "      <th>fnlwgt</th>\n",
              "      <th>education-num</th>\n",
              "      <th>capital-gain</th>\n",
              "      <th>capital-loss</th>\n",
              "      <th>hours-per-week</th>\n",
              "    </tr>\n",
              "  </thead>\n",
              "  <tbody>\n",
              "    <tr>\n",
              "      <th>count</th>\n",
              "      <td>32561.000000</td>\n",
              "      <td>3.256100e+04</td>\n",
              "      <td>32561.000000</td>\n",
              "      <td>32561.000000</td>\n",
              "      <td>32561.000000</td>\n",
              "      <td>32561.000000</td>\n",
              "    </tr>\n",
              "    <tr>\n",
              "      <th>mean</th>\n",
              "      <td>38.581647</td>\n",
              "      <td>1.897784e+05</td>\n",
              "      <td>10.080679</td>\n",
              "      <td>1077.648844</td>\n",
              "      <td>87.303830</td>\n",
              "      <td>40.437456</td>\n",
              "    </tr>\n",
              "    <tr>\n",
              "      <th>std</th>\n",
              "      <td>13.640433</td>\n",
              "      <td>1.055500e+05</td>\n",
              "      <td>2.572720</td>\n",
              "      <td>7385.292085</td>\n",
              "      <td>402.960219</td>\n",
              "      <td>12.347429</td>\n",
              "    </tr>\n",
              "    <tr>\n",
              "      <th>min</th>\n",
              "      <td>17.000000</td>\n",
              "      <td>1.228500e+04</td>\n",
              "      <td>1.000000</td>\n",
              "      <td>0.000000</td>\n",
              "      <td>0.000000</td>\n",
              "      <td>1.000000</td>\n",
              "    </tr>\n",
              "    <tr>\n",
              "      <th>25%</th>\n",
              "      <td>28.000000</td>\n",
              "      <td>1.178270e+05</td>\n",
              "      <td>9.000000</td>\n",
              "      <td>0.000000</td>\n",
              "      <td>0.000000</td>\n",
              "      <td>40.000000</td>\n",
              "    </tr>\n",
              "    <tr>\n",
              "      <th>50%</th>\n",
              "      <td>37.000000</td>\n",
              "      <td>1.783560e+05</td>\n",
              "      <td>10.000000</td>\n",
              "      <td>0.000000</td>\n",
              "      <td>0.000000</td>\n",
              "      <td>40.000000</td>\n",
              "    </tr>\n",
              "    <tr>\n",
              "      <th>75%</th>\n",
              "      <td>48.000000</td>\n",
              "      <td>2.370510e+05</td>\n",
              "      <td>12.000000</td>\n",
              "      <td>0.000000</td>\n",
              "      <td>0.000000</td>\n",
              "      <td>45.000000</td>\n",
              "    </tr>\n",
              "    <tr>\n",
              "      <th>max</th>\n",
              "      <td>90.000000</td>\n",
              "      <td>1.484705e+06</td>\n",
              "      <td>16.000000</td>\n",
              "      <td>99999.000000</td>\n",
              "      <td>4356.000000</td>\n",
              "      <td>99.000000</td>\n",
              "    </tr>\n",
              "  </tbody>\n",
              "</table>\n",
              "</div>\n",
              "    <div class=\"colab-df-buttons\">\n",
              "\n",
              "  <div class=\"colab-df-container\">\n",
              "    <button class=\"colab-df-convert\" onclick=\"convertToInteractive('df-c0ce11a4-e9a8-456d-85bd-22fa2cd1fadc')\"\n",
              "            title=\"Convert this dataframe to an interactive table.\"\n",
              "            style=\"display:none;\">\n",
              "\n",
              "  <svg xmlns=\"http://www.w3.org/2000/svg\" height=\"24px\" viewBox=\"0 -960 960 960\">\n",
              "    <path d=\"M120-120v-720h720v720H120Zm60-500h600v-160H180v160Zm220 220h160v-160H400v160Zm0 220h160v-160H400v160ZM180-400h160v-160H180v160Zm440 0h160v-160H620v160ZM180-180h160v-160H180v160Zm440 0h160v-160H620v160Z\"/>\n",
              "  </svg>\n",
              "    </button>\n",
              "\n",
              "  <style>\n",
              "    .colab-df-container {\n",
              "      display:flex;\n",
              "      gap: 12px;\n",
              "    }\n",
              "\n",
              "    .colab-df-convert {\n",
              "      background-color: #E8F0FE;\n",
              "      border: none;\n",
              "      border-radius: 50%;\n",
              "      cursor: pointer;\n",
              "      display: none;\n",
              "      fill: #1967D2;\n",
              "      height: 32px;\n",
              "      padding: 0 0 0 0;\n",
              "      width: 32px;\n",
              "    }\n",
              "\n",
              "    .colab-df-convert:hover {\n",
              "      background-color: #E2EBFA;\n",
              "      box-shadow: 0px 1px 2px rgba(60, 64, 67, 0.3), 0px 1px 3px 1px rgba(60, 64, 67, 0.15);\n",
              "      fill: #174EA6;\n",
              "    }\n",
              "\n",
              "    .colab-df-buttons div {\n",
              "      margin-bottom: 4px;\n",
              "    }\n",
              "\n",
              "    [theme=dark] .colab-df-convert {\n",
              "      background-color: #3B4455;\n",
              "      fill: #D2E3FC;\n",
              "    }\n",
              "\n",
              "    [theme=dark] .colab-df-convert:hover {\n",
              "      background-color: #434B5C;\n",
              "      box-shadow: 0px 1px 3px 1px rgba(0, 0, 0, 0.15);\n",
              "      filter: drop-shadow(0px 1px 2px rgba(0, 0, 0, 0.3));\n",
              "      fill: #FFFFFF;\n",
              "    }\n",
              "  </style>\n",
              "\n",
              "    <script>\n",
              "      const buttonEl =\n",
              "        document.querySelector('#df-c0ce11a4-e9a8-456d-85bd-22fa2cd1fadc button.colab-df-convert');\n",
              "      buttonEl.style.display =\n",
              "        google.colab.kernel.accessAllowed ? 'block' : 'none';\n",
              "\n",
              "      async function convertToInteractive(key) {\n",
              "        const element = document.querySelector('#df-c0ce11a4-e9a8-456d-85bd-22fa2cd1fadc');\n",
              "        const dataTable =\n",
              "          await google.colab.kernel.invokeFunction('convertToInteractive',\n",
              "                                                    [key], {});\n",
              "        if (!dataTable) return;\n",
              "\n",
              "        const docLinkHtml = 'Like what you see? Visit the ' +\n",
              "          '<a target=\"_blank\" href=https://colab.research.google.com/notebooks/data_table.ipynb>data table notebook</a>'\n",
              "          + ' to learn more about interactive tables.';\n",
              "        element.innerHTML = '';\n",
              "        dataTable['output_type'] = 'display_data';\n",
              "        await google.colab.output.renderOutput(dataTable, element);\n",
              "        const docLink = document.createElement('div');\n",
              "        docLink.innerHTML = docLinkHtml;\n",
              "        element.appendChild(docLink);\n",
              "      }\n",
              "    </script>\n",
              "  </div>\n",
              "\n",
              "\n",
              "<div id=\"df-c545a74b-7fd4-4f46-9ce7-e4c75bda8a1f\">\n",
              "  <button class=\"colab-df-quickchart\" onclick=\"quickchart('df-c545a74b-7fd4-4f46-9ce7-e4c75bda8a1f')\"\n",
              "            title=\"Suggest charts\"\n",
              "            style=\"display:none;\">\n",
              "\n",
              "<svg xmlns=\"http://www.w3.org/2000/svg\" height=\"24px\"viewBox=\"0 0 24 24\"\n",
              "     width=\"24px\">\n",
              "    <g>\n",
              "        <path d=\"M19 3H5c-1.1 0-2 .9-2 2v14c0 1.1.9 2 2 2h14c1.1 0 2-.9 2-2V5c0-1.1-.9-2-2-2zM9 17H7v-7h2v7zm4 0h-2V7h2v10zm4 0h-2v-4h2v4z\"/>\n",
              "    </g>\n",
              "</svg>\n",
              "  </button>\n",
              "\n",
              "<style>\n",
              "  .colab-df-quickchart {\n",
              "      --bg-color: #E8F0FE;\n",
              "      --fill-color: #1967D2;\n",
              "      --hover-bg-color: #E2EBFA;\n",
              "      --hover-fill-color: #174EA6;\n",
              "      --disabled-fill-color: #AAA;\n",
              "      --disabled-bg-color: #DDD;\n",
              "  }\n",
              "\n",
              "  [theme=dark] .colab-df-quickchart {\n",
              "      --bg-color: #3B4455;\n",
              "      --fill-color: #D2E3FC;\n",
              "      --hover-bg-color: #434B5C;\n",
              "      --hover-fill-color: #FFFFFF;\n",
              "      --disabled-bg-color: #3B4455;\n",
              "      --disabled-fill-color: #666;\n",
              "  }\n",
              "\n",
              "  .colab-df-quickchart {\n",
              "    background-color: var(--bg-color);\n",
              "    border: none;\n",
              "    border-radius: 50%;\n",
              "    cursor: pointer;\n",
              "    display: none;\n",
              "    fill: var(--fill-color);\n",
              "    height: 32px;\n",
              "    padding: 0;\n",
              "    width: 32px;\n",
              "  }\n",
              "\n",
              "  .colab-df-quickchart:hover {\n",
              "    background-color: var(--hover-bg-color);\n",
              "    box-shadow: 0 1px 2px rgba(60, 64, 67, 0.3), 0 1px 3px 1px rgba(60, 64, 67, 0.15);\n",
              "    fill: var(--button-hover-fill-color);\n",
              "  }\n",
              "\n",
              "  .colab-df-quickchart-complete:disabled,\n",
              "  .colab-df-quickchart-complete:disabled:hover {\n",
              "    background-color: var(--disabled-bg-color);\n",
              "    fill: var(--disabled-fill-color);\n",
              "    box-shadow: none;\n",
              "  }\n",
              "\n",
              "  .colab-df-spinner {\n",
              "    border: 2px solid var(--fill-color);\n",
              "    border-color: transparent;\n",
              "    border-bottom-color: var(--fill-color);\n",
              "    animation:\n",
              "      spin 1s steps(1) infinite;\n",
              "  }\n",
              "\n",
              "  @keyframes spin {\n",
              "    0% {\n",
              "      border-color: transparent;\n",
              "      border-bottom-color: var(--fill-color);\n",
              "      border-left-color: var(--fill-color);\n",
              "    }\n",
              "    20% {\n",
              "      border-color: transparent;\n",
              "      border-left-color: var(--fill-color);\n",
              "      border-top-color: var(--fill-color);\n",
              "    }\n",
              "    30% {\n",
              "      border-color: transparent;\n",
              "      border-left-color: var(--fill-color);\n",
              "      border-top-color: var(--fill-color);\n",
              "      border-right-color: var(--fill-color);\n",
              "    }\n",
              "    40% {\n",
              "      border-color: transparent;\n",
              "      border-right-color: var(--fill-color);\n",
              "      border-top-color: var(--fill-color);\n",
              "    }\n",
              "    60% {\n",
              "      border-color: transparent;\n",
              "      border-right-color: var(--fill-color);\n",
              "    }\n",
              "    80% {\n",
              "      border-color: transparent;\n",
              "      border-right-color: var(--fill-color);\n",
              "      border-bottom-color: var(--fill-color);\n",
              "    }\n",
              "    90% {\n",
              "      border-color: transparent;\n",
              "      border-bottom-color: var(--fill-color);\n",
              "    }\n",
              "  }\n",
              "</style>\n",
              "\n",
              "  <script>\n",
              "    async function quickchart(key) {\n",
              "      const quickchartButtonEl =\n",
              "        document.querySelector('#' + key + ' button');\n",
              "      quickchartButtonEl.disabled = true;  // To prevent multiple clicks.\n",
              "      quickchartButtonEl.classList.add('colab-df-spinner');\n",
              "      try {\n",
              "        const charts = await google.colab.kernel.invokeFunction(\n",
              "            'suggestCharts', [key], {});\n",
              "      } catch (error) {\n",
              "        console.error('Error during call to suggestCharts:', error);\n",
              "      }\n",
              "      quickchartButtonEl.classList.remove('colab-df-spinner');\n",
              "      quickchartButtonEl.classList.add('colab-df-quickchart-complete');\n",
              "    }\n",
              "    (() => {\n",
              "      let quickchartButtonEl =\n",
              "        document.querySelector('#df-c545a74b-7fd4-4f46-9ce7-e4c75bda8a1f button');\n",
              "      quickchartButtonEl.style.display =\n",
              "        google.colab.kernel.accessAllowed ? 'block' : 'none';\n",
              "    })();\n",
              "  </script>\n",
              "</div>\n",
              "\n",
              "    </div>\n",
              "  </div>\n"
            ],
            "application/vnd.google.colaboratory.intrinsic+json": {
              "type": "dataframe",
              "summary": "{\n  \"name\": \"census_data\",\n  \"rows\": 8,\n  \"fields\": [\n    {\n      \"column\": \"age\",\n      \"properties\": {\n        \"dtype\": \"number\",\n        \"std\": 11498.327099385337,\n        \"min\": 13.640432553581341,\n        \"max\": 32561.0,\n        \"num_unique_values\": 8,\n        \"samples\": [\n          38.58164675532078,\n          37.0,\n          32561.0\n        ],\n        \"semantic_type\": \"\",\n        \"description\": \"\"\n      }\n    },\n    {\n      \"column\": \"fnlwgt\",\n      \"properties\": {\n        \"dtype\": \"number\",\n        \"std\": 486902.252790567,\n        \"min\": 12285.0,\n        \"max\": 1484705.0,\n        \"num_unique_values\": 8,\n        \"samples\": [\n          189778.36651208502,\n          178356.0,\n          32561.0\n        ],\n        \"semantic_type\": \"\",\n        \"description\": \"\"\n      }\n    },\n    {\n      \"column\": \"education-num\",\n      \"properties\": {\n        \"dtype\": \"number\",\n        \"std\": 11508.98951393426,\n        \"min\": 1.0,\n        \"max\": 32561.0,\n        \"num_unique_values\": 8,\n        \"samples\": [\n          10.0806793403151,\n          10.0,\n          32561.0\n        ],\n        \"semantic_type\": \"\",\n        \"description\": \"\"\n      }\n    },\n    {\n      \"column\": \"capital-gain\",\n      \"properties\": {\n        \"dtype\": \"number\",\n        \"std\": 35111.63595222616,\n        \"min\": 0.0,\n        \"max\": 99999.0,\n        \"num_unique_values\": 5,\n        \"samples\": [\n          1077.6488437087312,\n          99999.0,\n          7385.292084840338\n        ],\n        \"semantic_type\": \"\",\n        \"description\": \"\"\n      }\n    },\n    {\n      \"column\": \"capital-loss\",\n      \"properties\": {\n        \"dtype\": \"number\",\n        \"std\": 11366.935322921165,\n        \"min\": 0.0,\n        \"max\": 32561.0,\n        \"num_unique_values\": 5,\n        \"samples\": [\n          87.303829734959,\n          4356.0,\n          402.9602186489998\n        ],\n        \"semantic_type\": \"\",\n        \"description\": \"\"\n      }\n    },\n    {\n      \"column\": \"hours-per-week\",\n      \"properties\": {\n        \"dtype\": \"number\",\n        \"std\": 11498.057671750134,\n        \"min\": 1.0,\n        \"max\": 32561.0,\n        \"num_unique_values\": 7,\n        \"samples\": [\n          32561.0,\n          40.437455852092995,\n          45.0\n        ],\n        \"semantic_type\": \"\",\n        \"description\": \"\"\n      }\n    }\n  ]\n}"
            }
          },
          "metadata": {},
          "execution_count": 12
        }
      ],
      "source": [
        "census_data.describe()"
      ]
    },
    {
      "cell_type": "markdown",
      "metadata": {
        "id": "RPrNpRHIbIhW"
      },
      "source": [
        "**Histograma dos dados**"
      ]
    },
    {
      "cell_type": "code",
      "execution_count": 13,
      "metadata": {
        "colab": {
          "base_uri": "https://localhost:8080/",
          "height": 452
        },
        "id": "qpEymK-OaP-H",
        "outputId": "1a6f5a22-d008-4d1d-e136-d5316401d9bb"
      },
      "outputs": [
        {
          "output_type": "display_data",
          "data": {
            "text/plain": [
              "<Figure size 640x480 with 6 Axes>"
            ],
            "image/png": "[encoded data removed]"
          },
          "metadata": {}
        }
      ],
      "source": [
        "census_data.hist();"
      ]
    },
    {
      "cell_type": "markdown",
      "metadata": {
        "id": "wPjkUtyKcvdX"
      },
      "source": [
        "**Matriz de dispersão dos dados**\n",
        "\n",
        "aqui criamos uma matriz de dispersão para podermos visualizar histogramas com relações entre pares de variáveis no nosso conjunto de dados"
      ]
    },
    {
      "cell_type": "code",
      "execution_count": 14,
      "metadata": {
        "colab": {
          "base_uri": "https://localhost:8080/",
          "height": 542
        },
        "id": "I_pqw1GOa6Qq",
        "outputId": "9eead47d-af4d-49e3-a730-5fce68fc8e70"
      },
      "outputs": [
        {
          "output_type": "display_data",
          "data": {
            "text/html": [
              "<html>\n",
              "<head><meta charset=\"utf-8\" /></head>\n",
              "<body>\n",
              "    <div>            <script src=\"https://cdnjs.cloudflare.com/ajax/libs/mathjax/2.7.5/MathJax.js?config=TeX-AMS-MML_SVG\"></script><script type=\"text/javascript\">if (window.MathJax && window.MathJax.Hub && window.MathJax.Hub.Config) {window.MathJax.Hub.Config({SVG: {font: \"STIX-Web\"}});}</script>                <script type=\"text/javascript\">window.PlotlyConfig = {MathJaxConfig: 'local'};</script>\n",
              "        <script charset=\"utf-8\" src=\"https://cdn.plot.ly/plotly-2.24.1.min.js\"></script>                <div id=\"3c34a15f-3aaa-4b36-a789-e59bba443250\" class=\"plotly-graph-div\" style=\"height:525px; width:100%;\"></div>            <script type=\"text/javascript\">                                    window.PLOTLYENV=window.PLOTLYENV || {};                                    if (document.getElementById(\"3c34a15f-3aaa-4b36-a789-e59bba443250\")) {                    Plotly.newPlot(                        \"3c34a15f-3aaa-4b36-a789-e59bba443250\",                        [{\"dimensions\":[{\"axis\":{\"matches\":true},\"label\":\"capital-loss\",\"values\":[0,0,0,0,0,0,0,0,0,0,0,0,0,0,0,2042,0,0,0,0,0,0,1408,0,0,0,0,0,0,0,0,0,0,0,0,0,0,0,0,0,0,0,0,0,0,0,0,0,0,0,0,0,0,0,0,0,0,0,0,0,0,0,0,0,0,0,0,0,0,0,0,1573,0,0,0,0,0,0,0,0,0,0,0,0,0,0,0,0,0,0,0,0,0,1719,0,0,0,1762,0,0,0,0,0,0,0,0,0,0,0,0,0,2179,0,0,0,0,0,0,0,1816,0,0,0,0,0,0,0,0,0,0,0,1980,0,0,0,0,0,0,0,0,0,0,0,0,0,0,0,0,0,0,0,0,0,1876,0,1340,0,0,0,0,0,0,0,0,0,0,0,0,0,2206,0,0,0,0,0,0,0,0,0,0,0,0,0,0,0,0,0,1741,0,0,0,0,0,0,0,0,0,0,0,0,0,0,0,0,0,0,0,0,0,0,0,0,0,0,0,0,0,0,0,0,0,0,0,0,0,0,0,0,0,0,0,0,0,0,0,0,0,0,0,0,0,0,0,0,1485,0,0,0,0,0,0,0,0,0,0,0,0,0,0,0,0,0,0,0,0,0,0,0,0,0,0,0,0,0,0,0,0,0,0,0,0,0,0,0,0,0,0,0,0,0,0,0,2339,0,0,0,0,0,0,0,0,0,0,0,0,0,0,0,0,2179,0,0,0,0,0,0,0,0,0,0,0,0,0,0,0,0,1408,0,0,0,0,0,1980,0,0,0,0,0,0,0,0,0,0,0,0,0,0,0,0,0,0,0,0,0,0,0,0,0,0,0,0,0,0,0,0,0,0,0,0,0,0,0,0,0,0,0,0,0,0,0,0,0,0,0,0,0,0,0,0,0,0,0,0,0,0,0,0,1380,0,0,0,0,0,0,0,0,0,0,0,0,0,0,0,0,0,0,0,0,0,0,0,0,0,0,0,0,0,0,0,0,0,0,0,0,0,0,0,0,0,0,0,0,0,0,0,0,0,0,0,0,0,0,0,0,0,0,0,0,0,0,0,0,0,0,0,0,0,0,0,0,0,0,0,0,0,0,0,0,0,0,0,0,0,0,0,0,0,0,0,0,0,0,0,0,0,0,0,0,0,0,0,0,0,0,0,0,0,0,0,0,0,0,0,0,0,0,0,1762,1721,0,0,0,0,0,0,0,0,0,0,0,0,0,0,0,0,0,0,0,0,0,0,0,0,0,1380,0,0,0,0,0,0,0,0,0,0,0,0,0,0,0,0,2051,0,0,0,0,0,0,2377,0,0,0,0,0,0,0,0,0,0,0,0,0,0,0,0,0,0,0,0,0,0,0,0,0,0,0,0,0,0,0,0,0,0,0,0,1669,0,0,2352,0,0,0,0,0,0,0,0,0,0,1721,0,0,0,0,0,0,0,0,0,0,0,0,0,0,0,0,0,1672,0,0,0,0,0,0,0,0,0,0,0,0,0,0,0,0,0,0,0,0,0,0,0,0,0,0,0,0,0,0,0,0,0,0,0,0,0,0,0,0,0,0,0,0,0,0,0,0,0,0,0,0,0,0,0,0,0,0,0,0,0,0,0,0,0,0,0,0,0,0,0,0,0,0,0,0,0,0,0,0,0,0,0,0,0,0,0,0,0,0,0,0,0,0,0,0,0,0,0,0,0,0,0,0,0,0,0,0,0,0,0,0,0,0,0,0,0,0,0,0,0,0,0,0,1504,0,0,0,0,0,0,0,0,0,0,0,0,0,0,0,0,0,0,0,0,0,0,0,0,0,0,0,1719,0,0,0,2001,0,0,0,0,0,0,0,0,0,0,0,0,0,0,0,0,0,0,0,0,0,0,0,0,0,0,0,0,1590,0,0,0,0,0,0,0,0,0,0,0,0,0,0,0,0,0,0,1651,0,0,0,0,0,0,0,0,0,0,0,0,0,0,0,0,0,0,0,0,0,0,0,0,0,0,0,0,0,0,0,0,0,0,0,0,0,0,0,0,0,0,0,0,0,0,0,0,0,0,0,0,0,0,0,0,0,0,0,0,0,0,0,0,0,0,0,0,0,0,0,0,0,0,0,0,0,0,0,0,0,0,0,0,0,0,0,0,0,0,0,0,0,0,0,0,0,0,0,0,0,0,0,0,0,0,0,0,1762,0,0,0,0,0,0,0,0,0,0,0,0,0,0,0,0,0,0,1876,0,0,0,0,0,0,0,0,0,0,1628,0,0,0,0,0,0,0,0,0,0,0,0,0,0,0,0,0,0,0,0,0,0,0,0,0,0,0,0,0,0,0,0,0,0,0,0,0,0,0,0,0,0,0,0,0,0,0,0,0,0,0,0,0,0,0,0,0,0,0,0,0,0,0,0,0,0,0,0,0,0,0,0,0,1762,0,0,0,0,0,0,0,0,0,0,0,0,0,0,0,0,0,0,0,0,0,0,0,0,0,0,0,0,0,0,0,0,0,0,1672,0,0,0,0,0,0,0,0,0,0,0,0,0,0,0,2051,0,0,0,0,0,0,0,0,0,0,0,0,0,0,2001,0,0,0,0,0,1980,0,0,0,0,0,0,0,0,0,0,0,0,0,1340,0,0,0,0,0,2339,0,0,0,0,0,0,0,0,0,0,0,0,1628,0,0,0,0,0,0,0,0,0,0,0,0,0,0,0,0,0,0,0,0,0,0,0,0,0,0,0,0,0,0,0,0,0,0,0,0,0,0,0,0,0,0,0,0,0,0,0,0,0,0,0,0,0,0,0,0,0,0,0,0,0,0,0,0,0,0,0,1740,0,0,0,0,0,0,0,0,0,0,0,0,0,0,0,0,0,0,0,0,2002,0,0,0,0,0,0,0,0,0,0,0,0,0,0,0,0,0,0,0,0,0,0,0,0,0,0,0,0,0,0,0,0,0,0,0,0,0,0,0,0,0,0,0,0,0,0,0,0,0,0,0,0,0,0,1719,0,0,0,0,0,0,0,0,0,0,0,0,0,0,0,0,0,0,0,0,0,0,0,0,0,0,0,0,0,2339,0,0,0,0,0,0,0,0,0,0,0,0,0,0,0,0,0,0,0,0,0,0,0,0,0,0,1902,0,0,0,0,0,0,0,0,0,0,0,0,0,0,0,0,0,0,0,0,1579,0,0,0,0,0,0,0,0,0,0,0,0,0,0,0,0,0,0,0,0,0,0,0,0,0,0,0,0,0,0,0,0,0,0,0,0,0,0,0,0,0,0,0,0,0,1590,0,0,0,0,0,0,0,0,0,0,0,0,0,0,0,0,0,0,0,1741,1628,0,0,0,0,0,0,0,0,0,0,0,0,0,0,0,0,0,0,0,0,0,0,0,0,0,0,0,0,0,0,0,0,0,0,0,0,0,0,0,0,0,0,0,0,0,0,0,0,0,0,0,0,0,0,0,0,0,0,0,0,1408,0,0,0,1740,0,0,2258,0,0,0,0,0,0,0,0,0,0,0,0,0,0,0,0,0,0,0,0,0,0,0,0,0,0,0,0,0,0,0,0,0,0,0,0,0,0,0,0,0,0,0,0,0,0,0,0,0,0,0,0,0,0,0,0,0,0,0,0,0,0,0,0,0,0,0,0,0,1669,0,0,0,0,0,0,0,0,0,0,0,0,0,0,0,0,0,0,0,0,0,0,0,0,0,0,0,0,0,0,0,0,0,0,0,0,0,0,0,0,0,0,0,0,0,0,0,0,0,0,0,0,0,0,0,0,0,0,0,0,0,0,0,0,0,0,0,0,0,0,0,0,0,0,0,0,0,0,0,0,0,0,0,0,0,0,0,0,0,0,0,0,0,0,0,0,0,0,0,0,0,0,0,0,1741,0,0,0,0,0,0,0,0,0,0,0,1602,0,0,1902,0,0,0,0,0,0,0,0,0,0,0,1719,0,0,0,0,0,0,0,0,0,0,0,0,0,0,0,0,0,0,0,0,0,0,0,0,0,0,0,0,0,0,0,0,0,0,0,0,0,0,0,0,0,0,0,0,0,0,419,0,0,0,0,0,0,0,0,0,0,0,0,0,0,0,0,1408,0,0,1590,0,0,0,0,0,0,1579,0,0,1741,0,0,0,0,0,0,0,0,0,0,0,0,0,0,0,0,0,0,0,2206,0,0,0,0,0,0,0,0,0,0,0,0,0,0,0,0,0,0,0,0,0,0,0,0,0,0,0,0,0,0,0,0,0,0,0,0,0,0,1590,0,0,0,0,0,0,0,0,0,0,0,0,0,0,0,0,0,0,0,0,0,0,0,1980,0,0,0,0,0,0,0,0,0,0,0,0,0,0,0,0,0,0,1741,0,0,0,0,0,0,0,0,0,0,0,0,0,0,0,0,0,0,0,0,0,0,0,0,0,0,0,0,0,0,0,0,0,0,0,0,0,0,0,0,0,0,0,0,0,0,0,0,0,0,0,0,0,0,0,0,0,0,0,0,0,0,0,0,0,0,0,0,0,0,0,0,0,0,0,0,1340,0,0,0,0,0,0,0,0,0,0,0,0,0,0,0,0,0,0,0,0,0,0,0,0,0,0,0,0,0,0,0,0,0,0,0,0,0,0,0,0,0,0,0,0,0,0,0,0,0,0,0,0,0,0,0,0,0,0,0,0,0,0,0,0,0,0,0,0,0,0,0,0,0,0,0,0,0,0,1602,0,0,0,0,1902,0,0,0,0,0,0,0,0,0,0,0,0,0,0,0,0,0,0,0,0,0,0,0,0,0,0,0,0,0,2339,0,0,0,0,0,0,0,0,0,0,0,0,0,0,0,0,0,0,0,0,0,0,0,0,0,0,2205,0,0,0,0,0,0,0,0,0,0,0,0,0,0,0,0,0,0,0,0,0,1726,0,0,0,0,0,0,0,0,0,0,0,0,0,0,0,0,0,0,0,0,0,0,0,0,0,0,0,0,0,0,0,0,0,0,0,0,0,0,0,0,0,0,0,0,0,0,0,0,1672,0,0,1138,0,0,0,0,0,0,0,0,0,0,0,0,0,0,0,0,0,0,0,0,0,0,1740,0,0,0,0,0,0,0,0,0,0,0,0,1669,0,0,0,0,0,0,0,0,0,0,0,0,0,0,0,0,0,0,0,0,0,0,0,0,0,0,0,0,0,0,0,0,0,0,0,0,0,0,0,0,0,0,0,0,0,0,0,0,0,0,0,0,0,0,0,1762,0,0,0,0,0,2238,0,0,0,0,0,0,0,0,0,1876,0,0,0,0,0,0,0,0,0,0,0,0,0,0,0,0,0,0,0,0,0,0,0,0,0,0,0,0,0,0,2258,0,0,0,0,1672,0,0,0,0,0,0,2352,0,0,0,0,0,0,0,0,0,0,0,0,0,0,0,0,0,0,0,0,0,0,0,0,0,0,0,0,0,0,0,0,0,0,0,0,0,0,0,0,0,0,0,0,0,0,0,0,0,0,0,0,0,0,0,0,0,0,0,0,0,0,0,0,0,0,0,0,0,0,0,0,0,0,0,0,0,0,2002,0,0,0,0,0,0,0,0,0,0,0,0,0,0,0,0,0,0,0,0,0,0,0,0,0,0,1669,0,0,0,0,0,0,0,0,0,0,0,0,0,0,0,0,0,0,0,0,0,0,0,0,0,0,0,0,0,0,0,0,0,0,0,0,0,0,0,0,0,0,0,0,0,0,0,1590,0,0,0,0,0,1590,0,0,0,0,0,0,0,0,0,0,0,0,2179,0,0,0,0,0,0,1719,0,0,0,0,0,0,0,0,0,0,0,0,0,0,0,0,0,0,0,0,0,0,0,0,0,0,0,0,0,0,0,0,0,0,0,0,0,0,0,0,0,0,0,0,0,0,0,0,0,0,0,0,0,0,0,0,0,0,0,0,0,0,0,0,0,0,0,0,0,0,0,0,0,0,0,0,0,0,0,0,0,0,0,0,0,0,0,0,0,0,0,0,0,0,0,0,0,0,0,1669,0,0,0,0,0,0,0,0,0,625,0,0,0,0,0,0,0,0,0,0,0,0,0,0,0,0,0,0,0,0,0,0,0,0,0,0,0,0,0,0,0,0,0,0,0,0,0,0,0,0,0,0,0,0,0,0,0,0,0,0,0,0,0,0,0,0,0,0,0,0,0,0,0,0,0,0,0,0,0,0,0,0,0,0,0,0,0,0,0,0,0,0,0,0,0,0,0,0,0,0,0,0,0,0,0,0,0,0,1485,0,0,0,0,0,0,0,0,0,0,0,0,0,0,0,0,0,0,0,0,0,0,0,0,0,0,213,0,0,0,0,0,0,0,0,0,0,0,0,0,0,0,0,0,0,0,0,1672,0,0,0,0,1628,0,0,0,0,0,0,0,0,1740,0,0,0,0,0,0,0,0,0,0,0,0,0,0,0,0,0,0,0,0,0,0,0,0,0,0,0,0,0,0,0,0,1876,0,0,0,0,0,0,0,0,0,0,0,0,0,0,0,0,0,1816,0,0,0,0,0,0,0,0,0,0,0,0,0,0,0,0,0,0,0,0,0,0,0,0,0,0,0,0,0,0,0,0,0,0,0,0,0,0,0,0,0,0,0,0,0,0,0,0,0,0,0,0,0,0,0,0,0,0,0,0,0,0,0,0,0,0,0,0,0,0,0,0,0,0,0,0,0,0,0,0,0,0,0,0,0,1590,0,0,0,0,0,0,0,0,2002,0,0,0,0,0,0,0,0,0,0,0,0,0,0,0,0,0,0,0,0,0,0,0,0,0,0,0,0,0,0,0,0,0,0,0,0,0,1741,0,0,0,1876,0,0,0,0,0,0,0,2002,0,0,0,0,0,0,0,0,0,0,0,0,0,0,0,0,0,0,0,0,0,0,0,0,1628,0,0,0,0,0,0,0,0,0,0,0,0,0,0,0,0,0,0,0,0,0,0,0,0,0,0,0,0,0,0,0,0,0,0,0,0,0,0,0,0,0,0,0,0,0,0,0,0,0,0,0,0,0,0,0,0,0,0,0,0,0,0,0,0,1719,0,0,0,0,0,0,0,0,0,0,2258,0,0,0,0,0,0,0,0,0,0,0,0,0,0,0,0,0,0,0,0,0,0,0,0,0,0,0,0,0,0,0,0,0,0,0,0,0,0,0,0,0,0,0,0,0,0,0,0,0,0,0,0,0,0,0,0,0,0,0,0,0,0,0,0,0,0,0,0,0,0,0,0,0,0,0,0,0,0,0,0,0,0,0,0,0,0,0,0,0,0,0,1672,0,0,0,0,0,0,0,0,0,0,0,0,0,0,0,0,0,0,0,0,0,0,0,0,0,0,0,0,0,0,0,0,0,0,0,0,1980,0,0,0,0,0,0,0,0,0,0,0,0,0,0,0,0,0,0,0,0,0,0,0,0,0,0,0,0,0,0,0,0,0,0,0,0,0,0,0,0,0,0,0,0,0,0,0,1504,0,0,0,0,0,0,0,0,0,0,0,0,0,0,0,0,0,0,0,0,0,0,0,0,0,0,0,0,0,0,0,0,0,0,0,0,0,0,0,0,0,0,0,0,0,0,0,0,0,0,1539,0,0,0,0,0,0,0,0,0,0,0,0,0,0,0,0,1762,0,0,0,0,0,0,0,0,0,0,0,0,0,0,0,0,0,0,880,0,0,0,0,0,0,0,0,0,0,0,0,0,0,0,0,0,0,0,0,0,0,0,0,0,0,0,0,0,0,0,0,0,0,0,0,0,0,0,0,1741,0,0,0,0,0,0,0,0,0,0,0,0,0,0,0,0,0,625,0,0,0,0,0,0,0,0,0,0,0,0,0,0,0,0,0,0,0,0,0,0,0,0,0,0,0,0,0,0,0,0,0,0,0,0,0,0,0,0,0,0,0,0,0,0,0,0,0,0,0,0,0,0,0,0,0,0,0,0,0,0,0,0,0,0,0,0,0,0,0,0,0,0,0,0,0,0,0,0,0,0,0,0,0,0,0,0,0,0,0,0,0,0,0,0,0,0,0,0,0,0,0,0,0,0,0,0,0,0,0,0,0,0,0,0,0,0,0,0,0,0,0,0,0,0,0,0,0,0,0,0,0,0,0,0,0,0,0,0,0,0,0,0,0,0,0,0,0,0,0,0,0,0,0,0,0,0,0,0,0,0,0,0,0,0,0,0,0,0,0,0,1579,0,0,0,0,0,0,0,0,0,0,0,0,0,0,0,0,0,0,0,0,0,0,0,0,0,0,1668,0,0,0,0,0,0,0,0,0,0,0,0,0,0,0,0,0,0,0,0,0,0,0,0,0,0,0,0,0,0,0,0,0,0,0,0,0,0,0,0,0,0,0,0,0,0,0,0,0,0,0,0,0,0,2001,0,0,0,0,0,0,0,0,0,0,0,1092,0,0,0,0,0,0,0,1594,0,0,0,0,0,0,0,0,0,0,0,0,0,0,0,0,0,0,0,0,0,1876,0,0,0,0,0,0,0,0,0,0,0,0,0,0,0,0,0,0,0,0,0,0,0,0,0,0,0,0,1740,0,0,0,0,0,0,0,0,0,0,0,0,0,0,0,0,0,0,0,0,0,0,0,0,0,0,0,0,0,0,0,0,0,0,0,0,0,0,0,0,1590,0,0,0,0,0,0,0,0,0,0,0,0,0,0,0,0,0,0,0,1672,0,0,0,0,0,0,0,0,0,0,0,0,0,0,0,0,0,0,0,0,0,0,0,0,0,0,0,0,0,0,0,0,0,0,0,0,0,0,0,0,0,0,0,0,0,0,0,0,0,0,0,0,0,0,0,0,0,0,0,0,0,1672,0,0,0,0,0,0,0,0,0,0,0,0,0,0,1902,0,0,0,0,0,0,0,0,0,0,0,0,0,0,0,0,0,0,1628,0,0,0,0,0,0,0,0,0,0,0,0,0,0,0,0,0,0,0,0,0,0,0,0,0,0,0,0,0,0,0,1740,0,0,0,1740,0,0,0,0,0,0,0,0,0,0,0,0,0,0,0,0,0,0,0,0,0,0,0,0,0,0,0,0,0,0,0,0,0,0,0,0,0,0,0,0,0,0,0,0,0,0,0,0,0,0,0,0,0,0,0,0,0,0,0,0,0,0,0,0,0,0,0,0,0,0,0,0,0,0,0,0,0,1740,0,0,0,0,0,2001,0,0,0,0,0,0,0,0,0,0,0,0,0,0,0,0,0,0,0,0,0,0,0,0,0,0,0,0,0,0,0,0,0,0,0,0,0,0,0,0,0,2042,0,0,0,0,0,0,0,0,0,0,0,0,0,0,0,0,0,0,0,0,0,0,0,0,0,0,0,0,0,1590,0,0,0,0,0,0,0,0,0,0,1579,0,0,0,0,0,1844,1740,0,0,0,0,0,0,0,0,0,0,0,0,0,0,0,0,0,0,0,0,0,0,0,0,0,0,0,0,0,0,0,0,0,0,0,0,0,0,0,0,0,0,0,0,0,0,0,0,0,0,0,0,0,0,0,0,0,0,0,0,0,0,0,0,0,0,0,0,0,0,0,0,0,0,0,0,0,0,0,0,0,0,0,0,0,0,0,0,0,0,0,0,0,0,0,0,0,0,0,0,0,0,0,0,0,0,0,0,0,0,0,0,0,0,0,0,0,0,0,0,0,0,0,0,0,0,0,0,0,0,2258,0,0,0,0,0,0,0,0,0,0,0,0,0,0,0,0,0,0,0,0,0,0,0,0,0,0,0,0,0,0,0,0,0,0,0,0,0,0,0,0,0,0,0,0,0,1602,0,0,0,0,0,0,0,0,0,0,0,0,0,0,0,0,810,0,0,0,0,0,0,0,0,0,0,0,0,0,0,0,0,0,0,0,0,0,0,0,0,0,0,0,0,0,0,0,0,0,0,0,0,0,0,0,0,0,0,0,0,0,0,0,0,0,0,0,0,0,0,0,0,0,0,0,0,0,0,0,0,0,0,2051,0,0,0,0,0,0,0,0,0,0,0,0,0,0,0,0,0,0,0,0,0,0,0,0,0,0,0,0,0,0,0,0,0,0,0,0,0,0,0,0,0,0,0,0,0,0,0,0,0,0,0,0,0,0,0,0,0,1602,0,0,0,0,0,0,0,0,0,0,0,0,0,0,0,0,0,0,0,0,0,0,0,0,0,0,0,0,0,0,0,0,0,0,0,0,0,0,0,0,0,0,0,0,0,0,0,0,0,0,0,0,0,0,0,0,0,0,0,0,0,0,0,0,0,1719,0,0,0,0,0,0,0,0,0,0,1740,0,0,0,0,0,0,0,0,1740,0,0,0,0,0,0,0,0,0,0,0,0,0,0,0,0,0,0,0,0,0,0,0,0,0,0,0,0,0,0,0,0,0,0,0,0,0,0,0,0,0,0,0,0,0,0,0,0,0,0,0,0,0,0,0,0,0,0,0,0,0,0,0,0,0,0,0,0,0,0,0,0,0,0,0,0,0,0,0,0,0,0,0,0,0,0,0,0,0,0,0,0,0,0,0,0,0,0,0,0,0,0,0,0,0,0,0,0,0,1876,0,0,0,0,0,0,0,0,0,0,0,0,0,0,0,0,0,0,0,2258,0,0,0,0,0,0,0,0,0,0,0,0,0,2051,0,0,0,0,0,0,0,0,0,0,0,0,0,0,0,0,0,0,0,0,0,0,0,0,0,0,0,0,0,0,0,0,0,0,0,0,0,0,0,0,0,0,0,0,0,0,0,0,0,0,0,0,0,0,0,0,0,0,0,0,0,0,0,0,0,0,0,0,0,0,0,0,0,0,0,0,0,0,0,0,0,0,0,0,0,0,0,0,0,0,0,0,0,0,0,0,0,0,0,0,0,0,0,0,0,2051,0,0,0,0,0,0,0,0,0,0,0,0,0,0,0,0,0,0,0,0,0,0,0,0,0,0,0,0,0,0,0,0,0,0,0,0,0,0,0,0,0,0,0,0,0,0,0,0,0,0,0,0,0,0,0,0,0,0,0,0,0,0,0,0,0,0,0,0,0,0,0,0,0,0,2051,0,0,0,0,0,0,2057,0,0,0,0,0,0,0,0,0,0,0,0,0,0,0,0,0,0,0,0,0,0,0,0,1573,1740,0,0,0,0,0,0,0,0,0,0,0,0,0,0,0,0,0,0,0,0,0,0,0,0,0,0,0,0,0,0,0,0,0,0,0,0,0,0,0,0,0,0,0,0,0,0,0,0,0,0,0,0,0,0,0,0,0,0,0,0,0,0,0,0,0,0,0,0,0,0,0,0,0,0,0,0,0,0,0,0,0,0,0,0,0,0,0,0,0,2205,0,0,1672,0,0,0,0,0,0,0,0,0,0,0,0,0,0,0,1504,0,0,0,0,0,0,0,0,0,0,0,0,0,0,0,0,0,1504,0,0,0,0,0,0,0,0,0,0,0,0,0,0,0,0,0,0,0,0,0,0,0,0,0,0,0,0,0,0,0,0,0,0,0,0,0,0,0,0,0,0,0,0,0,0,0,0,0,0,0,0,0,0,0,0,0,0,0,0,0,0,0,0,0,0,0,0,0,0,0,0,0,0,0,0,0,0,0,0,0,0,0,0,0,0,0,0,0,0,0,0,0,0,0,0,0,0,0,0,2051,0,0,0,0,1876,0,0,0,0,0,0,0,1974,1672,0,0,0,0,0,0,0,0,0,0,0,0,0,0,0,0,1590,0,0,0,0,0,0,0,0,0,0,0,0,0,0,0,0,0,0,0,0,0,0,0,0,0,0,0,0,0,0,0,0,0,0,0,0,0,0,0,0,0,0,0,0,0,0,0,0,0,0,0,0,0,0,0,0,0,0,0,0,0,0,0,0,0,0,0,0,0,0,0,0,0,0,0,0,0,0,0,0,0,0,0,0,0,0,0,0,0,0,0,0,0,0,0,0,0,0,0,0,0,0,0,0,0,0,0,0,0,0,0,0,0,0,0,0,0,2205,0,0,0,0,0,0,0,0,0,0,0,0,0,0,0,0,0,0,0,0,0,0,1590,0,0,0,0,0,0,0,0,0,0,0,0,0,0,0,0,0,0,0,0,0,0,0,0,0,0,0,0,0,0,0,0,0,0,0,0,0,0,0,0,0,0,0,0,0,0,0,0,0,0,0,0,0,0,0,0,0,0,0,0,0,0,0,1740,0,0,0,0,0,0,0,0,974,0,0,0,0,0,0,0,0,0,0,0,0,0,0,0,0,0,0,0,0,0,0,0,0,0,0,0,0,0,0,0,0,0,0,0,0,0,0,0,0,0,0,0,0,1590,0,0,0,0,0,0,0,0,0,0,0,0,1669,0,0,0,0,0,0,0,0,0,0,0,0,1876,0,0,0,0,0,0,0,0,0,0,0,0,1876,0,0,0,0,0,0,0,0,0,0,0,0,0,0,0,0,0,0,0,0,0,0,0,0,0,0,0,0,0,0,0,0,0,0,0,0,0,0,0,0,0,0,0,0,0,0,0,0,0,0,0,0,0,0,0,0,0,0,0,1762,0,0,0,0,0,0,0,0,0,0,0,0,0,0,1590,0,0,0,0,0,0,0,0,0,0,0,0,0,0,0,0,0,0,0,0,0,0,0,0,0,0,0,0,0,0,0,0,0,0,0,0,0,1602,0,0,0,0,0,0,0,0,0,0,0,0,0,0,0,0,0,0,1602,0,0,0,0,0,0,0,0,0,0,0,0,0,0,0,0,0,0,0,0,0,0,0,0,0,0,0,0,0,0,0,0,0,0,0,0,0,0,0,0,0,0,0,0,0,0,0,0,0,0,0,0,0,0,0,0,0,0,0,0,0,0,0,0,0,0,0,0,0,0,0,0,0,0,0,0,0,0,0,0,0,0,0,0,0,0,0,0,0,0,0,0,0,0,0,0,0,0,0,0,0,0,0,1485,0,0,0,0,0,0,2002,0,0,0,0,1974,0,0,0,0,0,1408,0,0,0,0,0,0,0,0,0,0,0,0,0,0,0,0,0,0,1672,0,0,0,0,0,0,0,0,0,0,0,0,0,0,0,0,0,0,0,0,0,0,0,0,0,0,0,0,0,0,0,0,0,0,0,0,0,0,0,0,0,0,0,0,0,0,0,0,0,0,0,0,0,0,0,0,0,0,0,0,0,0,0,0,0,0,0,0,0,1408,0,2339,0,0,0,0,0,0,0,0,0,0,0,0,0,0,0,1672,0,0,0,0,0,0,0,0,0,0,0,0,0,0,0,0,0,0,0,0,0,0,0,0,0,0,0,0,0,0,1579,0,0,0,0,0,0,0,0,0,0,0,0,0,0,0,0,0,0,0,0,0,0,0,0,0,0,0,1876,0,0,0,0,0,0,0,0,0,0,0,0,0,0,0,0,0,0,0,0,0,0,0,0,0,0,0,0,0,0,0,0,0,0,0,0,0,0,0,0,0,0,0,0,0,0,0,0,0,0,0,0,1721,0,0,0,0,0,0,0,0,0,0,0,0,0,0,0,0,0,0,0,0,0,0,0,0,0,0,0,0,0,0,0,0,0,0,1579,0,0,0,0,0,0,0,0,0,0,0,1485,0,0,0,0,0,0,0,0,0,0,0,0,0,0,0,0,0,0,2149,0,0,0,0,0,0,0,0,0,0,0,0,0,0,0,0,0,0,0,0,0,0,0,0,0,0,0,0,0,0,0,0,0,0,0,0,0,0,0,0,1719,0,0,0,0,0,0,0,0,0,0,0,0,0,0,0,0,0,0,0,0,0,0,0,0,0,0,0,0,0,0,0,0,0,0,0,0,0,0,0,0,0,0,0,0,0,0,0,0,0,0,0,0,0,0,0,0,0,0,0,0,0,1740,0,0,0,0,0,0,0,0,0,0,0,0,0,0,0,0,0,0,0,0,0,0,0,0,0,0,0,0,0,0,0,0,0,0,0,0,0,0,0,0,0,0,0,0,0,0,0,0,0,1602,0,0,0,0,0,0,0,0,0,0,0,0,0,0,0,0,0,0,0,0,0,0,0,0,0,0,0,0,0,0,0,0,1485,0,0,0,0,0,0,0,0,0,0,0,0,0,0,0,0,0,0,0,0,0,0,0,0,0,0,0,0,0,0,0,0,0,0,0,0,0,0,0,0,0,0,0,0,0,0,0,0,0,0,0,0,0,0,0,0,0,0,0,0,0,0,0,0,0,0,0,0,0,0,0,0,0,0,2205,0,0,0,0,0,0,0,1876,0,0,0,0,0,0,0,0,0,0,0,0,0,1735,0,0,0,0,0,2206,0,0,0,0,0,0,0,0,0,0,0,0,0,0,0,0,0,0,0,0,0,0,0,0,0,0,0,0,0,0,0,0,1258,0,0,0,0,0,0,0,0,0,2129,0,0,0,0,0,2002,0,0,0,0,0,0,0,0,0,0,0,0,0,0,0,0,0,0,0,0,0,0,0,0,0,0,0,0,0,2603,0,0,0,0,0,0,0,0,0,0,0,0,0,0,0,0,0,0,0,0,0,0,0,0,0,0,0,0,0,0,0,0,0,0,0,0,0,0,0,0,0,0,0,0,0,0,0,0,0,0,0,0,0,0,0,0,0,0,0,0,0,0,1741,0,0,0,0,0,0,0,0,0,0,0,0,0,0,0,0,0,0,0,0,0,0,0,0,0,0,0,0,0,0,0,0,0,0,0,0,0,323,0,0,0,0,0,0,0,0,0,0,0,0,0,0,0,0,1672,0,0,0,0,0,0,0,0,0,0,0,0,0,0,0,0,0,0,0,0,0,0,0,0,0,0,0,0,0,0,0,0,0,0,0,0,0,0,0,0,0,0,0,0,1980,0,0,0,0,0,0,0,0,0,0,0,0,1602,0,0,0,0,0,0,0,0,0,0,0,0,0,0,0,0,0,0,1590,0,0,0,0,0,0,0,0,0,0,0,0,0,0,0,0,0,0,0,0,0,0,0,0,0,0,0,0,0,0,0,0,0,0,0,0,0,0,0,2002,0,0,0,0,0,0,0,0,0,0,0,0,0,0,0,0,0,0,0,0,0,0,0,0,0,0,0,0,0,0,0,0,0,0,0,0,0,0,0,0,0,0,0,1602,0,1590,0,0,0,0,0,0,0,0,0,0,0,0,0,0,0,0,0,0,0,0,0,0,1672,0,0,0,0,0,0,0,0,0,0,0,0,0,0,0,0,0,0,0,0,0,0,0,0,0,0,0,0,0,0,0,0,0,0,0,0,0,0,0,0,0,0,0,0,0,0,0,0,0,0,0,0,0,0,0,0,1602,0,0,0,0,1721,0,0,0,0,0,0,0,0,0,0,0,0,0,0,0,0,2179,0,0,0,0,0,0,0,0,0,0,0,0,0,0,0,0,0,0,0,0,0,0,0,0,0,0,0,0,0,0,0,0,0,0,0,0,0,0,0,0,0,0,0,0,0,0,0,0,0,0,0,0,0,0,0,0,0,0,0,0,0,0,1672,0,0,0,0,0,0,0,0,0,0,0,0,0,0,0,0,0,0,0,0,0,0,0,0,0,0,0,0,0,0,0,0,0,0,0,0,0,0,0,0,0,0,4356,0,0,0,0,0,0,0,0,0,0,0,0,0,0,0,0,0,0,0,0,0,0,0,0,2179,0,0,0,0,0,0,0,0,0,0,0,0,0,0,0,0,0,0,0,0,0,0,0,1408,0,0,0,0,0,0,0,0,0,0,0,0,0,0,0,0,0,0,0,0,0,0,0,0,0,0,0,0,0,0,0,0,0,0,1590,0,0,0,0,0,0,0,0,0,0,0,0,0,0,0,0,0,0,0,0,0,0,0,0,0,0,0,0,0,0,0,0,0,0,0,0,0,0,0,0,0,0,0,0,0,0,0,1721,0,0,0,0,0,0,0,0,0,0,0,0,0,0,0,0,0,0,0,0,0,0,0,0,0,0,0,0,0,0,0,0,0,0,0,0,0,0,0,0,0,0,0,0,0,0,0,0,0,0,2002,0,0,0,0,0,0,0,0,0,0,0,0,0,0,0,0,1579,0,0,0,0,0,0,0,0,0,0,0,0,0,0,0,0,1602,0,0,0,0,0,0,0,0,0,0,0,0,0,0,0,1672,0,0,0,0,0,0,0,0,0,0,0,0,0,0,0,2377,0,0,0,0,0,0,0,0,0,0,0,0,0,0,0,0,0,0,0,0,0,0,0,0,0,0,0,0,0,0,0,0,0,0,0,0,0,0,0,0,0,0,0,0,0,0,0,0,0,0,0,0,0,0,0,0,0,0,0,0,0,0,0,0,0,0,0,0,0,0,2042,0,0,0,0,0,0,0,1602,1980,0,0,0,0,0,0,0,0,0,0,0,0,0,0,0,0,0,0,0,0,0,0,0,0,0,0,1876,0,0,0,0,0,0,0,0,0,0,0,0,0,0,0,0,0,0,0,0,0,0,0,0,0,0,0,0,1380,0,0,0,0,0,0,0,0,0,0,0,0,0,0,0,0,0,0,0,0,0,0,0,0,0,0,0,0,0,0,0,0,0,0,0,0,0,2001,0,0,0,0,0,0,0,0,0,0,0,0,0,0,0,0,0,0,0,0,0,0,0,0,0,0,0,0,0,0,0,0,0,0,0,0,0,0,0,0,0,0,0,0,0,0,0,0,0,0,0,0,0,0,0,0,0,0,0,0,0,0,0,0,0,0,0,0,0,0,0,0,0,0,0,0,0,0,0,0,0,0,0,0,0,0,0,0,0,0,0,0,0,0,2042,0,0,0,0,0,0,0,0,0,0,0,0,0,0,0,0,0,0,0,0,0,0,0,0,0,0,0,0,0,0,0,0,0,0,0,0,0,0,0,0,0,0,0,0,0,0,0,0,0,0,0,0,0,0,0,0,0,0,0,0,0,0,0,0,0,0,0,0,0,1590,0,0,0,0,0,0,0,0,0,0,0,0,0,0,0,0,0,0,0,0,0,0,0,0,0,0,0,0,0,0,0,0,0,0,0,1092,0,0,0,0,0,0,0,0,0,0,0,0,0,0,0,0,0,0,0,0,0,0,0,0,0,0,0,0,0,0,0,0,0,0,0,0,0,0,0,0,0,0,0,0,0,0,0,0,0,0,0,0,0,0,0,0,0,0,0,0,0,0,0,0,0,1408,0,1602,0,0,0,0,0,0,0,0,0,0,0,0,0,0,0,0,0,0,0,0,0,0,0,0,0,0,0,0,0,0,0,0,0,0,0,0,0,0,0,0,0,0,0,0,0,0,0,0,0,0,0,0,0,0,0,0,0,0,0,0,0,0,0,0,0,0,0,0,0,0,0,0,0,0,0,0,0,0,0,0,0,0,0,0,0,0,1876,0,0,0,0,0,0,0,0,0,0,0,0,0,0,0,0,0,0,0,0,0,0,0,0,0,0,0,0,0,0,0,0,0,0,0,0,0,0,0,0,0,0,0,0,0,0,0,0,0,2603,0,0,0,0,0,0,0,0,0,0,0,0,0,0,0,0,0,0,0,0,0,0,0,0,0,0,0,0,0,0,0,0,0,0,0,0,0,0,0,0,0,0,0,0,0,0,0,0,0,0,0,0,0,0,0,0,0,0,0,0,0,0,0,0,0,0,0,0,0,0,0,0,0,0,0,0,0,0,0,0,0,0,0,0,0,0,0,0,0,0,0,0,0,0,0,0,0,0,0,0,0,0,0,0,0,0,0,0,0,0,0,0,0,0,0,0,0,0,0,0,0,0,0,0,0,0,0,0,0,0,0,1590,0,0,0,0,0,0,0,0,0,0,0,0,0,0,0,0,0,0,0,0,0,0,0,0,0,0,0,0,0,0,0,0,0,0,625,0,0,0,0,0,0,0,0,0,1980,0,0,0,0,0,0,0,0,0,1590,0,0,0,0,0,0,0,0,0,1594,0,0,0,0,0,0,0,0,0,0,0,0,0,0,0,0,0,0,0,0,0,0,0,0,0,0,0,0,0,0,0,0,0,0,0,0,0,0,0,0,0,1669,0,0,0,0,0,0,0,0,0,0,0,0,0,810,0,0,0,0,0,0,0,0,0,0,0,0,0,0,0,0,0,0,0,0,0,0,0,0,0,0,0,0,0,0,0,0,0,0,0,0,0,0,0,0,0,0,0,0,0,0,0,0,0,0,0,0,0,0,0,0,0,0,0,0,0,0,0,0,0,0,0,0,0,0,0,0,0,0,0,0,0,0,0,0,0,0,0,0,0,0,0,0,0,0,0,0,1602,0,0,0,0,0,0,0,0,2149,1741,0,0,0,0,0,0,0,0,0,0,0,0,0,0,0,0,0,0,0,0,0,0,0,0,0,0,0,0,0,0,0,1980,0,0,0,0,0,0,0,0,0,0,0,0,0,0,0,0,2051,0,0,0,0,0,0,0,0,0,0,0,0,0,0,0,0,0,0,0,0,0,0,0,0,1617,0,0,0,0,0,0,0,0,0,0,0,2258,0,0,0,0,0,0,0,0,0,0,0,0,0,0,0,0,0,0,0,0,0,0,0,0,0,0,0,0,0,0,0,0,0,1648,0,0,0,0,0,0,0,0,0,0,0,0,0,0,0,0,0,0,0,0,0,0,0,0,0,0,0,0,0,0,0,0,0,0,0,0,0,0,0,0,0,0,0,0,0,0,0,0,0,0,0,0,0,0,0,0,0,0,0,0,0,0,2002,0,0,0,0,0,0,0,0,0,0,0,0,1602,0,0,0,0,0,0,0,0,0,0,0,0,0,0,0,0,0,0,0,0,0,0,0,0,0,0,0,0,0,0,0,0,0,0,0,0,0,0,0,0,0,0,0,0,0,0,0,0,0,0,0,0,0,0,0,0,0,0,0,0,0,0,0,0,0,0,0,0,0,0,0,0,0,0,0,0,0,0,0,0,0,0,0,0,0,0,0,0,0,0,0,0,0,0,0,0,0,0,0,0,0,0,0,0,0,0,0,0,0,0,0,0,0,0,0,0,0,0,0,0,0,0,0,0,0,0,0,0,0,0,0,0,0,0,0,1980,0,0,0,0,0,0,0,1258,0,0,0,0,0,0,0,0,0,0,0,0,0,0,0,0,0,0,0,0,0,0,0,0,0,0,0,0,0,0,0,0,0,0,0,0,0,0,0,0,0,0,0,0,0,0,0,0,0,0,0,0,0,0,0,0,0,0,0,0,0,0,0,0,0,0,0,1485,974,0,0,1617,0,0,0,0,0,0,0,0,0,0,0,0,0,0,0,0,0,0,0,0,0,0,0,0,0,0,0,0,0,0,0,0,0,0,0,0,0,0,0,0,0,0,0,0,0,0,0,0,1980,0,0,0,0,0,0,0,0,0,0,0,0,0,0,0,0,0,0,0,0,0,0,0,0,0,0,0,0,0,0,0,0,0,0,0,0,0,0,0,0,0,0,0,0,0,0,0,0,0,0,0,0,0,0,0,0,0,0,0,0,0,2001,0,0,0,0,0,0,0,0,0,0,0,0,0,1876,0,0,0,0,0,0,0,0,0,0,0,0,0,0,0,0,0,0,0,2051,0,0,0,0,0,0,0,0,0,0,0,0,2001,0,0,0,0,0,0,213,0,0,0,0,0,0,0,0,0,0,0,0,0,0,0,0,0,0,0,0,0,0,0,0,0,0,0,0,0,0,0,0,0,0,0,1735,0,0,0,0,0,0,0,0,1590,0,0,0,0,0,0,0,0,0,0,0,0,0,0,0,0,0,0,0,0,0,1740,0,0,0,0,0,0,0,0,0,0,0,0,0,0,1594,0,0,0,0,0,0,0,0,0,0,0,0,1504,0,0,0,0,0,0,0,0,0,0,0,0,0,0,0,0,0,0,0,0,0,0,0,0,0,0,0,0,0,0,0,0,0,0,0,0,880,0,0,0,0,0,0,0,0,0,0,0,0,0,0,0,0,0,0,0,0,0,0,0,0,0,0,0,0,0,0,0,0,0,0,0,0,2057,0,0,0,0,1579,0,0,0,0,0,0,0,0,0,0,0,0,0,0,0,0,0,0,0,0,0,0,0,0,0,0,0,0,0,0,0,0,0,0,0,0,0,0,0,0,0,0,0,0,0,0,0,0,0,0,0,0,0,0,0,0,0,0,0,0,0,0,0,0,2489,0,0,0,2377,0,0,0,0,0,0,0,0,0,0,0,0,0,0,0,0,0,0,0,0,0,0,0,0,0,0,0,0,0,0,0,0,0,0,0,0,0,0,0,0,0,1974,0,0,0,0,0,0,0,0,0,0,0,0,0,0,0,0,0,0,0,0,0,0,0,0,0,1669,0,0,0,0,0,0,0,0,0,0,0,0,0,0,0,0,0,0,0,0,0,0,0,0,0,0,0,2001,0,0,0,0,0,0,0,0,0,0,0,0,0,1719,0,0,0,1504,0,0,0,0,0,0,0,0,0,0,0,0,0,0,0,0,0,0,0,0,0,0,0,0,0,0,0,0,0,0,0,0,0,0,1579,0,0,0,0,0,0,0,0,0,0,0,0,0,0,0,0,0,0,0,1092,0,0,0,0,0,0,0,0,0,0,0,0,0,0,0,0,0,0,0,0,0,0,0,0,0,0,0,0,0,0,0,0,0,0,0,0,0,0,0,0,0,0,0,0,0,0,0,0,0,0,0,0,0,0,0,0,0,0,0,0,0,0,0,0,0,0,0,3770,0,0,0,0,0,0,0,0,0,0,0,0,0,0,0,0,0,0,0,0,0,0,0,0,0,0,0,0,0,0,0,0,0,0,0,0,0,0,1590,0,0,0,0,0,0,0,0,0,0,0,0,0,0,0,0,0,0,0,0,0,0,0,0,1672,0,0,0,0,0,0,0,0,0,0,0,0,0,0,0,0,0,0,0,0,0,0,0,0,0,0,0,0,0,0,0,0,0,0,0,0,0,0,0,0,0,0,1408,0,0,0,0,1617,0,0,0,0,0,0,0,0,0,0,0,0,0,0,0,0,0,0,0,0,0,0,0,0,0,0,0,0,0,0,0,0,0,0,0,0,0,0,0,0,0,0,0,0,0,0,0,0,0,0,1579,0,0,0,0,0,0,0,0,0,0,0,0,0,0,0,0,0,0,0,0,0,0,0,0,0,0,0,0,1876,0,0,0,0,0,0,0,0,0,0,0,0,0,0,0,1974,0,0,0,0,0,0,0,0,0,0,0,0,0,0,0,0,0,0,0,0,0,0,0,0,0,0,0,0,0,0,0,0,0,0,0,0,0,0,0,0,0,0,0,0,0,0,0,0,0,0,0,0,0,0,0,0,0,0,0,0,0,0,0,0,0,0,0,0,1602,0,0,0,0,0,0,0,0,0,0,0,0,0,0,0,0,0,0,0,0,0,0,0,0,0,0,0,0,0,1672,0,0,0,0,0,0,0,0,0,0,0,0,0,0,0,0,0,0,0,0,0,0,0,0,0,0,0,0,0,0,0,0,0,0,0,0,0,0,0,0,0,0,0,0,1651,0,0,0,0,0,0,0,0,0,0,0,0,0,0,0,0,0,0,0,0,0,0,0,0,0,0,0,0,0,0,0,0,0,1719,0,0,0,0,0,0,0,0,0,0,0,0,0,0,0,0,0,0,0,0,0,0,0,0,2001,0,0,0,0,0,0,0,0,0,0,0,0,0,0,0,0,0,0,0,0,0,0,0,0,0,0,0,0,0,0,0,0,0,0,0,0,0,0,0,0,0,0,0,0,0,0,0,1628,0,0,0,0,0,0,0,0,0,0,0,0,0,0,0,0,0,0,0,0,0,0,0,0,0,0,0,0,0,0,0,0,0,0,0,0,0,0,0,0,0,0,0,0,0,0,0,0,0,1741,0,0,0,0,2206,0,0,0,1590,0,0,0,0,0,0,0,0,0,0,0,0,0,0,0,0,0,0,0,0,0,0,0,0,0,0,0,0,0,0,0,0,0,0,0,0,0,0,0,0,0,0,0,0,0,0,0,0,0,0,0,0,0,0,0,0,0,0,0,0,0,0,0,0,0,0,0,0,0,0,0,0,0,0,0,0,0,0,0,0,0,0,0,0,0,0,0,0,0,0,0,0,0,0,0,0,0,0,0,0,0,0,0,0,0,0,0,0,0,0,0,0,0,0,0,0,0,0,0,0,0,0,0,0,0,0,0,0,0,0,0,0,2205,0,0,0,0,0,0,0,0,0,0,0,0,0,0,0,0,0,0,0,0,0,0,0,0,0,0,0,0,0,0,1762,0,0,0,0,0,0,0,0,0,0,0,0,0,0,0,0,0,0,0,0,0,0,0,0,0,0,0,0,1594,0,0,0,0,0,0,0,0,0,0,0,0,0,0,0,0,0,0,0,0,0,0,0,0,0,0,0,0,0,0,0,0,0,0,0,0,0,0,1719,0,0,0,0,0,0,0,0,0,0,0,0,0,0,0,0,0,0,0,0,0,0,0,0,0,0,0,0,0,0,0,0,0,0,0,0,0,0,0,0,0,0,0,0,0,0,0,0,0,0,0,0,0,0,0,0,0,0,0,0,0,0,0,0,0,0,0,0,0,0,0,0,0,0,0,0,0,0,0,0,0,0,0,0,0,0,0,0,0,0,1876,0,0,0,0,0,0,0,0,0,0,0,0,0,0,0,0,0,0,0,0,0,0,0,0,0,0,0,0,0,0,0,0,0,0,0,0,0,0,0,1651,0,0,0,0,0,0,0,0,0,0,0,0,0,0,0,0,0,0,0,0,0,0,0,0,0,0,0,0,0,0,0,0,0,0,0,0,0,0,0,0,0,0,0,0,0,0,0,0,0,0,0,0,0,0,0,0,0,0,0,0,0,0,0,0,0,0,0,0,0,0,0,0,0,0,0,0,0,0,0,0,0,0,0,0,0,0,0,0,0,0,0,0,0,0,0,0,0,0,0,0,0,0,0,0,0,0,0,0,0,0,0,0,0,0,0,0,0,0,0,0,0,0,0,1721,0,0,0,0,0,0,0,0,0,0,0,0,0,0,0,0,0,0,0,0,0,0,0,0,0,0,0,0,0,0,0,0,0,0,0,0,0,0,0,0,0,0,0,0,0,0,0,0,0,0,0,0,0,0,0,0,0,0,0,0,0,0,0,0,0,0,0,0,0,2339,0,0,0,0,0,1974,0,0,0,0,0,0,0,0,0,0,0,0,0,0,0,0,0,0,0,0,0,0,0,0,0,0,0,0,0,0,0,0,0,0,0,0,0,0,0,0,0,0,0,0,0,0,0,0,0,0,1740,0,0,0,0,0,0,0,0,0,0,0,0,0,0,0,0,0,0,0,0,1719,0,0,0,0,0,0,0,0,0,0,0,0,0,0,1669,0,0,0,0,0,0,0,0,0,0,0,0,0,0,0,0,0,0,0,0,0,0,0,0,0,0,0,0,0,0,0,0,0,0,0,0,0,0,0,0,0,0,0,0,0,0,0,0,0,0,0,0,0,0,0,0,0,0,0,0,0,0,0,0,0,0,0,0,0,0,0,0,0,0,0,0,0,0,0,0,0,0,0,0,0,0,0,0,0,0,0,0,0,0,0,0,0,0,0,0,0,0,0,0,0,0,0,0,0,0,0,0,0,0,0,0,0,0,0,0,0,0,0,0,1602,0,0,0,0,0,0,0,0,0,0,0,0,0,0,0,0,0,0,0,0,0,0,0,0,0,0,0,0,0,0,0,0,0,0,0,0,0,0,0,0,0,0,0,0,0,0,0,0,0,0,0,0,0,0,0,0,0,0,0,0,0,0,0,0,0,0,0,0,0,0,0,0,0,0,0,0,0,0,0,0,0,0,0,0,0,0,0,0,0,0,0,0,0,0,0,0,0,0,0,0,0,0,0,0,1762,0,0,0,0,0,0,0,0,0,0,1579,0,0,0,0,0,0,0,0,0,0,0,0,0,0,0,0,0,0,2002,0,0,0,0,1628,0,0,0,0,0,0,0,0,0,0,0,0,0,0,0,0,0,0,0,0,0,0,0,0,0,0,2339,0,0,0,0,0,0,0,0,0,0,0,0,0,0,0,0,0,0,0,0,0,0,1672,0,0,0,0,0,0,0,0,0,0,0,0,0,0,0,0,0,0,0,0,0,0,0,0,0,0,0,0,0,0,0,0,0,0,0,0,0,0,0,0,0,0,0,0,0,0,0,0,0,0,0,0,0,0,0,0,0,1668,0,0,0,0,0,0,0,0,0,0,0,0,0,0,1669,0,0,0,0,0,0,0,0,0,0,0,0,0,0,0,0,0,0,0,0,0,0,0,0,0,0,0,0,0,0,0,0,1590,0,0,0,0,0,0,0,0,0,0,0,0,0,0,0,0,0,0,0,0,0,0,0,0,0,0,0,0,0,0,0,0,0,0,0,0,0,0,0,0,0,0,0,0,0,0,0,0,0,0,0,0,1719,0,0,0,0,0,0,0,0,0,0,0,0,0,0,0,0,0,0,0,0,0,0,0,0,0,0,0,0,0,0,0,0,0,0,0,0,0,0,0,0,0,0,0,0,0,0,0,0,0,0,0,0,0,0,0,0,0,0,0,0,0,0,0,0,0,0,0,0,0,0,0,0,0,0,0,0,0,0,0,0,0,0,0,0,0,0,0,0,0,0,0,0,0,0,0,0,0,0,0,0,0,0,0,0,0,0,0,0,0,0,0,0,0,0,0,0,0,0,0,0,0,0,0,0,0,2339,0,1602,0,0,0,0,0,0,0,0,0,0,0,0,0,0,0,0,0,0,0,0,0,0,0,0,0,0,0,0,0,0,0,0,0,0,0,0,0,0,0,0,0,0,0,0,0,0,0,0,0,0,0,0,0,0,1762,0,0,0,0,0,0,0,0,0,0,0,0,0,0,0,0,0,0,0,0,0,0,0,0,0,0,0,0,0,0,0,0,0,0,0,0,0,0,0,0,0,0,0,0,0,0,0,0,0,0,0,0,0,0,0,0,0,0,0,0,0,0,0,0,0,0,0,0,0,0,0,0,0,0,0,0,0,0,1504,0,0,0,0,0,0,0,0,0,0,0,0,0,0,0,0,0,0,0,0,0,0,0,0,0,0,0,0,0,0,0,0,0,0,0,0,0,0,0,0,0,0,0,0,0,0,0,1740,0,0,0,0,0,0,0,0,0,0,0,0,0,0,0,0,0,0,0,0,0,0,0,0,0,0,0,0,0,0,0,0,0,0,0,0,0,0,0,0,0,0,0,0,0,0,0,0,0,0,1651,0,0,0,0,1740,0,0,0,0,0,0,0,0,0,0,0,0,0,2129,0,0,0,0,0,0,0,0,0,0,0,0,0,0,0,0,0,0,0,0,0,0,0,0,0,0,0,0,0,0,0,0,0,0,0,0,0,0,0,0,0,0,0,0,0,0,0,0,0,0,0,0,0,0,0,0,0,0,0,0,0,0,0,0,0,0,0,0,0,0,0,0,0,0,0,0,0,0,0,0,0,0,0,0,0,0,0,0,0,0,0,0,0,0,0,0,0,0,0,0,0,0,0,0,0,0,0,0,0,0,0,0,0,0,0,0,0,0,0,2001,0,0,0,0,0,0,0,0,0,0,0,0,0,0,0,0,0,0,0,1876,0,0,0,0,1617,0,0,4356,0,0,0,0,0,0,0,0,0,0,0,0,0,0,0,0,0,0,0,0,0,0,0,0,0,0,0,625,0,0,0,0,0,0,0,0,0,0,0,0,0,0,0,0,0,1408,0,0,0,0,0,0,0,0,0,1408,1740,0,0,0,0,0,0,0,0,0,0,0,0,0,0,0,0,0,0,0,0,0,1721,0,0,0,0,0,0,0,0,0,0,0,0,0,0,0,0,0,0,0,0,0,0,0,0,0,0,0,0,0,0,0,0,0,0,0,0,0,0,0,0,0,0,0,0,0,0,0,0,0,0,0,0,0,0,0,0,0,0,0,0,0,0,0,0,0,0,0,0,0,0,0,0,0,0,0,0,0,0,0,0,0,0,0,0,0,0,0,0,0,0,0,0,1590,1669,0,0,0,0,0,0,0,0,0,0,0,0,0,0,0,0,0,0,0,0,0,0,0,0,0,0,0,0,0,0,0,0,0,2339,0,0,0,0,0,0,0,0,0,0,0,0,0,0,0,0,0,0,0,0,0,0,0,0,0,0,0,0,0,0,0,0,0,0,0,0,0,0,0,0,0,0,0,0,0,0,0,0,0,0,0,0,0,0,0,0,0,0,1980,0,0,0,0,0,0,0,0,0,0,0,0,0,0,0,0,0,0,0,0,0,0,0,0,0,0,0,0,0,0,0,0,0,0,0,0,0,0,0,0,0,0,0,0,0,0,0,0,0,0,0,0,0,0,0,0,0,0,0,0,0,0,0,0,0,0,0,0,0,0,0,0,0,0,0,0,0,0,0,0,0,0,0,0,0,0,0,880,0,0,0,0,0,0,0,0,0,0,0,0,0,0,0,0,0,0,0,0,0,0,0,1485,0,1740,0,0,0,0,0,0,0,0,0,0,1876,0,0,0,0,0,0,0,0,0,0,0,0,0,0,0,0,0,0,0,0,0,0,0,0,0,0,1726,0,0,0,0,0,0,0,0,0,0,0,0,0,0,0,0,0,0,1672,0,0,0,0,0,0,0,0,0,0,0,0,0,0,0,0,0,0,0,0,0,0,0,0,0,0,0,0,0,0,0,0,0,0,0,0,0,0,0,0,0,0,0,0,0,0,0,0,0,0,0,0,0,0,0,0,0,0,0,0,0,0,0,0,0,0,0,0,0,1974,0,0,0,0,0,0,0,0,0,0,0,0,0,0,0,0,0,0,0,0,0,0,0,0,0,0,0,0,0,0,0,0,0,0,0,0,0,0,0,0,0,0,0,0,0,0,0,0,0,0,0,0,0,0,0,0,0,0,0,0,0,0,0,0,0,0,0,0,0,0,1876,0,0,0,0,0,0,0,0,0,0,0,0,0,0,0,0,0,0,0,0,0,0,0,0,0,0,0,0,0,0,0,0,0,0,0,0,0,0,0,0,0,0,880,0,0,0,0,0,0,0,0,0,0,0,0,0,0,0,0,880,0,0,0,0,0,0,1672,0,0,0,2267,0,0,0,0,0,0,0,0,0,0,0,0,0,0,0,0,0,0,0,0,0,0,0,0,0,0,0,0,0,0,0,0,0,0,0,0,0,0,0,1876,0,0,0,0,0,0,0,0,0,0,0,0,0,0,1721,1590,0,0,1876,0,0,0,0,0,0,0,0,0,0,0,0,0,0,0,0,0,0,0,0,0,0,0,0,0,0,0,0,0,0,0,0,0,0,0,0,0,0,0,0,0,0,0,0,0,0,0,0,0,1092,0,0,0,0,0,0,0,0,0,1485,0,0,0,0,0,0,0,0,0,0,0,0,0,0,0,0,0,0,0,0,0,0,0,0,0,0,0,0,0,0,0,0,0,0,0,0,0,0,0,0,0,0,0,0,0,0,0,0,0,0,2002,0,0,0,0,0,0,0,0,0,0,0,0,0,0,0,0,0,0,0,0,0,0,0,0,0,0,0,0,0,0,0,0,0,0,2080,0,0,0,0,0,0,0,1669,1876,0,0,0,0,0,0,0,0,0,1980,0,0,0,0,0,0,0,0,0,0,0,3770,0,1672,0,0,0,0,0,0,0,0,0,0,0,0,0,0,0,0,0,0,0,0,0,0,0,1504,0,0,0,0,0,0,0,0,0,0,0,0,0,0,0,0,0,0,0,0,0,0,0,0,0,0,0,0,0,0,0,0,0,0,0,0,0,0,0,0,0,0,0,0,0,0,0,0,0,0,0,0,0,0,0,0,0,0,0,0,0,0,0,0,0,0,0,0,0,0,0,0,0,0,0,0,0,0,0,0,0,0,0,0,0,0,0,0,1980,0,0,0,0,0,0,0,0,0,0,0,0,0,0,0,0,0,1721,0,0,0,0,0,0,0,0,0,0,0,0,0,0,0,0,0,0,0,0,0,0,0,1602,0,0,0,0,0,0,0,0,0,0,0,1876,0,0,0,0,0,0,0,0,0,0,0,0,0,0,0,0,0,0,0,0,0,0,0,0,0,0,0,0,0,0,0,0,0,0,0,0,0,0,0,0,0,0,0,0,0,0,0,0,0,0,0,0,1590,0,0,0,0,0,0,0,0,0,0,0,0,0,0,0,0,0,0,0,0,0,0,0,0,0,0,0,0,0,0,0,0,0,0,1980,0,0,0,0,0,0,0,0,0,0,2051,0,0,0,0,0,0,0,0,0,0,0,0,0,0,0,0,0,0,0,0,0,0,0,0,0,0,0,0,0,0,0,0,0,0,0,0,0,0,0,0,0,0,0,0,0,1669,0,0,0,0,0,0,0,0,0,0,0,0,0,0,0,2339,0,0,0,0,0,0,0,0,0,0,0,0,0,0,0,0,0,0,0,0,0,0,0,0,0,0,0,0,0,0,0,0,0,0,0,0,0,0,0,0,0,0,0,0,0,0,0,0,0,0,0,0,0,0,0,0,0,0,0,0,0,0,0,0,0,0,0,0,0,0,0,0,0,0,0,0,0,0,1974,0,0,0,0,0,0,0,0,0,0,0,0,0,0,0,0,0,0,0,0,0,0,0,0,0,0,0,0,0,0,0,0,0,0,0,0,1902,0,0,0,0,0,0,0,0,0,0,0,0,0,0,0,0,0,0,0,0,0,0,0,0,0,2002,0,0,0,0,0,0,0,0,0,0,0,0,0,0,0,0,0,0,0,0,0,0,0,0,0,0,0,0,0,0,0,0,0,0,0,0,1380,0,0,0,0,0,0,0,0,0,0,0,0,0,0,0,0,0,0,1762,0,0,0,0,0,0,0,0,0,0,0,0,0,0,0,0,0,0,0,0,0,0,0,0,0,0,0,0,0,0,625,0,0,0,0,0,0,0,0,0,0,1974,0,0,0,0,0,0,0,0,0,0,0,0,0,0,0,0,0,0,0,0,0,0,0,0,0,0,0,0,0,0,0,0,0,0,0,0,0,0,0,0,0,0,0,0,0,0,0,0,0,0,0,0,0,0,0,1740,0,0,0,0,0,0,0,0,0,0,0,0,0,0,0,0,0,0,0,0,0,0,0,0,0,0,0,0,0,0,0,0,0,0,0,0,1504,0,0,0,0,0,0,0,0,0,0,0,0,0,0,0,0,0,0,0,0,0,0,0,0,1721,0,0,0,0,0,0,0,0,0,0,0,0,0,0,0,0,0,0,0,0,0,0,0,0,0,0,0,0,0,0,0,0,0,0,0,0,0,1504,0,0,0,0,0,0,0,0,0,0,0,0,0,0,0,0,0,0,0,0,0,0,0,0,0,0,0,0,0,0,0,0,0,0,0,0,0,0,0,0,0,0,0,0,0,0,0,0,0,0,0,0,0,0,0,0,0,0,0,0,0,0,0,0,0,0,0,0,0,0,0,0,0,0,0,0,0,0,0,0,0,0,0,0,0,0,0,0,0,0,0,0,0,0,0,0,0,0,0,0,0,0,0,0,0,0,0,0,0,0,0,0,0,0,0,0,0,0,0,0,0,0,0,0,0,0,0,0,0,0,0,0,0,0,0,0,0,0,0,0,0,0,0,0,0,0,0,0,0,0,0,0,0,0,0,0,0,0,0,0,0,0,0,0,0,0,0,0,0,0,0,0,0,0,0,0,0,323,0,0,0,0,0,0,0,0,0,0,0,0,0,0,0,0,0,1590,0,0,0,0,0,0,0,0,0,0,0,0,0,0,0,0,0,0,0,0,0,0,0,0,0,0,0,0,0,0,0,0,0,0,0,0,0,0,0,0,0,0,1628,0,0,0,0,0,0,0,1719,0,0,0,0,0,0,0,0,0,0,0,0,0,0,0,1974,2001,0,0,0,0,0,0,0,0,0,0,0,0,0,0,0,0,0,0,0,0,0,0,0,0,0,0,0,0,0,0,2457,0,0,0,0,0,0,0,213,0,0,2179,1138,0,0,1504,0,0,0,0,0,0,1594,0,0,0,0,0,0,0,0,0,0,0,0,0,0,0,0,0,1876,0,0,0,0,0,0,0,0,0,0,0,0,0,0,0,0,0,0,0,0,0,0,0,0,0,0,0,0,0,0,0,0,0,0,0,0,0,0,0,0,0,0,0,0,0,0,0,1876,0,0,625,0,0,0,0,0,0,0,0,0,0,0,0,0,0,0,0,0,0,0,0,0,0,0,0,0,0,0,0,0,0,0,0,0,0,0,0,0,0,0,0,0,0,0,0,0,0,0,0,0,0,0,0,0,0,0,0,0,0,0,0,0,0,0,0,0,0,0,0,0,0,0,0,0,0,0,0,0,0,0,0,0,0,0,0,2267,0,0,0,0,0,0,0,0,0,0,0,0,0,0,0,0,0,0,0,0,0,0,0,0,0,0,0,0,0,0,0,0,0,0,0,0,0,0,0,0,0,0,0,0,0,0,0,0,0,0,0,0,0,0,0,0,0,0,0,0,0,0,0,0,0,0,0,0,0,625,0,0,0,0,0,0,0,0,0,0,0,0,0,0,0,0,0,0,0,0,0,0,0,0,0,0,0,0,0,0,0,0,0,0,0,0,0,0,0,0,0,0,0,0,0,0,0,0,0,0,0,0,0,0,0,0,0,0,0,0,0,0,0,0,0,0,0,0,0,1876,0,0,0,1672,0,0,0,0,0,0,0,0,0,1719,0,0,0,0,0,0,0,0,0,0,0,0,0,0,0,0,0,0,0,0,0,0,0,0,0,2057,0,0,0,0,0,0,0,0,0,0,0,0,0,0,0,0,0,0,0,0,0,0,0,0,0,0,0,0,0,0,0,0,0,0,0,0,0,0,0,0,0,0,0,0,0,1669,0,0,0,0,0,0,0,0,0,0,2001,0,0,0,0,2205,0,0,0,0,0,0,0,0,0,0,0,0,0,0,0,0,0,0,0,0,0,0,0,0,0,0,0,0,0,0,0,0,0,0,1602,0,0,0,0,0,0,0,0,0,0,0,0,0,0,0,0,0,0,0,0,0,0,2603,0,0,0,0,0,0,0,0,0,0,0,0,0,0,0,0,0,0,0,0,0,0,0,0,0,0,0,0,0,0,0,0,0,0,0,0,0,0,0,0,0,0,0,0,0,2339,0,0,0,0,0,0,0,0,0,0,0,0,0,0,0,0,0,1669,0,0,1762,0,0,0,0,0,0,0,0,0,0,0,0,0,0,0,0,0,0,0,0,0,0,0,0,0,0,0,0,0,0,0,0,0,0,0,0,0,0,0,0,0,0,0,0,0,0,0,0,2339,0,0,0,0,0,0,0,0,0,0,0,0,0,0,0,0,0,0,0,0,0,0,1602,0,0,0,0,0,0,0,0,0,0,0,0,0,0,0,0,0,0,0,0,0,0,0,0,0,0,0,0,0,0,1617,0,0,0,0,0,0,0,0,0,0,0,0,0,0,1980,0,0,0,0,0,0,1573,0,0,0,0,0,0,0,0,0,0,0,0,0,0,0,0,0,0,0,0,0,0,0,0,0,0,0,0,0,0,653,0,1617,0,0,0,0,0,0,0,0,0,0,0,0,0,0,0,0,0,0,0,0,0,0,0,0,0,0,0,0,0,0,0,0,0,0,0,0,0,0,0,0,0,0,0,0,0,0,0,0,0,0,0,0,0,0,0,0,0,0,0,0,0,0,0,0,0,0,0,0,0,0,0,0,0,0,0,0,0,0,0,0,0,0,0,0,0,0,0,0,0,0,0,0,0,0,0,0,0,0,0,0,0,0,0,1902,0,625,0,0,0,0,0,0,0,0,0,0,0,0,0,0,0,0,0,0,0,0,0,0,0,0,0,0,0,0,0,0,0,0,0,0,0,1602,0,0,0,0,0,1485,0,0,0,0,0,0,0,0,0,0,0,1672,0,0,0,0,0,0,0,0,0,0,0,0,0,0,0,0,1721,0,0,0,0,0,0,0,0,0,0,0,0,0,0,0,0,0,0,0,0,0,0,0,1902,0,0,0,0,0,0,0,0,0,0,0,0,0,0,0,0,0,0,0,0,0,0,0,0,0,0,0,0,0,0,0,0,0,0,0,0,0,0,0,0,0,0,0,0,0,0,0,0,0,0,0,0,0,0,0,0,0,0,0,0,0,0,0,1628,0,0,0,0,0,0,0,0,0,0,0,0,0,0,0,0,0,0,0,0,0,0,0,0,0,0,0,0,0,0,0,0,0,0,0,0,0,0,0,1651,0,0,0,0,0,0,0,1408,0,0,0,0,0,0,0,0,0,0,0,0,0,0,0,0,0,0,0,0,0,0,0,0,0,0,0,0,0,0,0,0,0,0,0,0,0,0,0,0,0,0,2001,0,0,0,0,0,0,0,0,0,0,0,0,0,0,0,0,0,0,0,0,0,0,0,0,0,0,0,0,0,0,0,0,0,0,0,0,0,0,0,1590,0,0,0,0,0,0,0,0,0,0,0,0,0,0,0,0,0,0,0,0,0,0,0,0,0,0,0,625,0,0,0,0,0,0,0,0,0,0,0,0,0,0,0,0,0,0,0,0,0,0,0,0,0,0,0,0,1408,0,0,0,0,0,0,0,0,0,0,0,0,0,0,0,0,0,0,0,0,0,0,0,0,0,0,0,1590,0,0,0,0,0,1594,0,0,0,0,0,0,0,0,0,0,0,0,0,0,0,0,0,0,0,0,0,0,0,2377,0,0,0,0,0,0,0,1740,0,0,0,0,0,0,0,0,0,0,0,0,0,0,0,0,0,0,0,0,0,0,0,0,0,0,0,0,0,0,0,0,0,0,0,0,0,0,0,0,0,0,0,0,0,0,0,0,0,0,0,0,0,0,0,0,0,0,0,0,0,0,0,0,0,0,0,0,0,0,0,0,0,0,0,0,0,0,0,0,0,0,0,0,0,0,0,0,0,0,0,1762,0,0,0,0,0,0,0,0,0,0,0,0,0,0,0,0,0,1741,0,0,0,0,0,0,0,0,0,0,0,0,0,0,0,0,0,0,0,0,0,0,0,0,0,0,0,0,0,0,0,0,0,0,0,0,0,0,0,0,0,0,0,0,0,0,0,0,0,0,0,0,0,0,1602,0,0,0,0,0,0,0,0,0,0,0,0,0,0,0,0,0,0,0,0,0,0,0,0,0,0,0,0,0,0,0,0,0,0,0,0,0,0,0,0,0,0,0,0,0,0,0,0,0,0,0,0,0,0,0,0,0,0,0,0,0,0,0,0,0,0,0,0,0,0,0,0,0,0,0,0,0,0,0,0,0,0,0,0,0,0,0,0,0,0,0,0,0,0,0,0,0,0,0,0,0,0,1721,0,0,0,0,0,0,0,1974,0,0,0,0,0,0,0,0,0,0,0,0,0,1602,0,0,0,0,0,0,0,0,0,0,0,0,0,0,0,0,0,0,0,0,0,0,0,0,0,0,0,0,0,0,0,0,0,0,0,0,0,0,0,0,0,0,0,0,0,0,0,0,0,0,0,0,0,0,0,0,0,1740,0,0,0,0,0,0,0,0,0,0,0,0,0,0,0,0,0,0,0,0,0,0,0,0,0,0,0,0,0,0,0,0,0,0,0,0,0,0,0,0,0,0,0,0,0,0,0,0,0,0,0,0,0,0,0,0,1876,0,1876,0,0,0,0,0,0,0,0,0,0,0,0,0,0,0,0,0,0,0,0,0,0,0,0,0,0,0,0,0,0,0,0,0,0,0,0,0,0,0,0,0,0,2377,0,0,0,0,0,0,0,0,0,0,0,0,0,0,0,0,0,0,0,0,0,0,0,0,0,0,0,0,0,0,0,0,0,0,0,0,0,0,0,0,1651,0,0,0,0,0,0,0,0,0,0,0,0,0,0,0,0,0,0,0,0,0,2258,0,0,0,0,0,0,0,0,0,0,0,0,0,0,0,0,0,0,0,0,0,0,0,0,0,0,0,0,0,0,0,0,0,0,0,0,0,0,0,0,0,1876,0,0,0,0,0,0,0,0,0,0,0,0,0,0,1408,2205,0,0,0,0,0,0,0,0,0,0,0,0,0,0,0,0,0,0,0,0,0,0,0,0,0,0,0,1876,0,0,0,0,0,419,2051,0,0,0,0,0,0,0,0,0,0,0,0,0,0,0,0,0,0,0,0,0,0,0,0,0,0,0,0,0,0,0,0,0,0,0,0,0,0,0,0,0,0,0,0,0,0,0,0,0,0,0,0,0,0,0,0,0,0,0,0,0,0,0,0,0,0,0,0,0,0,0,0,0,0,0,2179,0,0,0,0,0,0,0,0,0,0,0,0,0,0,0,0,0,0,0,0,0,0,0,0,0,0,0,0,0,0,0,0,0,0,0,0,0,0,0,0,0,0,0,0,0,0,0,0,0,0,0,0,0,0,0,0,0,0,0,0,0,0,1590,0,0,0,0,0,0,0,0,0,0,0,0,0,0,0,2179,0,0,0,0,0,0,0,0,0,0,0,0,0,0,0,0,0,0,0,0,0,0,0,0,0,0,0,0,0,0,0,0,0,0,2179,0,0,0,0,0,0,0,0,0,0,0,0,0,0,0,0,0,0,0,0,0,0,0,0,0,0,0,0,0,0,0,0,0,0,2206,0,0,0,0,0,0,2179,0,0,0,0,0,0,0,0,0,0,0,0,0,0,0,0,0,0,0,0,0,0,0,0,0,0,0,0,0,0,0,0,0,0,0,0,0,0,0,0,0,0,0,0,0,0,0,0,0,0,0,0,0,0,0,0,0,0,0,0,0,0,0,0,0,0,0,0,0,0,0,0,0,0,0,0,0,0,0,0,0,0,0,0,0,0,0,0,0,0,0,0,0,0,0,0,0,0,0,0,0,0,0,0,0,0,0,0,0,0,0,0,0,0,0,0,0,1602,0,0,0,0,0,0,0,0,0,0,0,0,0,0,0,0,0,0,0,0,0,0,0,0,0,0,0,0,0,0,1485,0,0,0,0,0,0,0,0,0,0,0,0,0,0,0,0,0,0,0,0,0,0,0,0,0,0,0,0,0,0,0,0,0,0,1485,0,0,0,0,0,1504,0,0,0,0,2001,0,0,0,1579,0,0,0,0,0,0,0,0,0,0,0,0,0,0,0,0,0,0,0,0,0,0,0,0,0,0,0,0,0,0,0,0,0,0,0,0,155,0,0,0,0,0,0,0,0,0,0,0,0,0,0,0,0,0,0,0,0,0,0,0,1974,0,0,0,0,0,2002,0,0,0,0,0,0,0,0,0,0,0,0,0,0,0,0,0,0,0,0,0,0,0,0,0,0,0,0,0,0,0,0,0,0,0,0,0,0,0,0,0,0,0,0,625,0,0,0,0,0,0,0,0,0,0,0,0,0,0,0,0,0,0,0,0,0,0,0,0,0,0,0,0,0,0,0,0,0,0,0,0,0,3900,0,0,0,0,0,0,2001,0,0,0,0,0,0,0,0,0,0,1721,0,0,0,0,0,0,0,0,0,0,0,0,0,0,0,0,0,0,0,0,0,0,0,0,0,0,0,0,0,0,0,0,0,0,1876,0,0,0,0,0,0,0,0,0,0,0,0,0,0,0,0,0,0,0,0,0,0,0,0,0,0,0,0,0,0,0,0,0,0,0,0,0,0,2051,0,0,0,0,0,0,0,0,0,0,0,0,0,0,0,0,0,0,0,0,0,0,0,0,0,0,0,0,0,0,0,0,0,0,0,0,0,0,0,0,0,0,0,0,2042,0,0,0,0,0,0,0,0,0,0,0,0,0,0,0,0,0,0,0,0,0,0,0,0,0,0,0,0,0,0,0,0,0,0,0,0,0,0,0,0,0,0,0,0,0,0,0,0,0,0,0,0,0,0,0,0,0,0,0,0,0,0,0,0,0,0,0,0,0,0,0,0,0,0,0,2002,0,0,0,0,0,0,0,0,0,0,0,0,0,0,0,0,0,0,0,0,0,0,0,0,0,0,0,0,0,0,0,0,0,0,0,0,0,0,0,0,0,0,0,0,0,0,1485,0,0,0,0,0,0,1876,0,0,0,0,1672,0,0,0,0,0,0,0,0,0,0,0,0,0,0,0,0,0,0,0,0,0,0,0,0,0,0,0,0,0,0,0,0,0,0,0,0,0,0,0,0,0,0,0,0,0,0,0,0,0,0,0,0,0,0,0,0,0,0,0,0,0,0,0,0,0,0,0,0,0,0,0,1340,0,0,0,0,0,0,0,0,0,0,0,0,0,0,0,0,0,0,0,0,0,0,0,2042,0,0,0,0,0,1944,0,0,0,0,0,0,0,0,0,0,0,0,0,0,0,0,0,0,0,0,0,0,0,0,0,0,0,0,0,0,0,0,0,0,0,0,0,0,0,0,0,0,0,0,0,0,0,0,0,0,2258,0,0,0,0,0,0,0,0,0,0,0,0,0,0,0,0,0,0,0,0,1504,0,0,0,0,0,0,0,0,0,0,0,0,0,0,0,0,0,0,0,0,0,0,0,0,0,1876,0,0,0,0,0,0,0,0,0,0,0,0,0,0,0,0,0,0,0,0,0,0,0,2205,0,0,0,0,2001,0,0,0,0,0,0,0,0,0,0,0,0,0,0,0,0,0,0,0,0,0,0,0,0,0,0,0,0,2258,0,0,0,1980,0,0,0,0,0,0,0,0,0,0,0,0,0,0,0,0,0,0,0,0,0,0,0,0,1258,0,0,0,0,0,0,0,0,0,1669,0,0,0,0,0,0,0,0,0,0,0,0,0,0,0,0,0,0,0,0,0,0,0,0,0,0,0,0,0,0,0,0,0,0,0,0,0,0,0,0,0,0,0,0,0,0,0,0,0,0,0,0,0,0,0,0,0,0,0,0,0,0,0,0,0,0,0,0,0,0,0,0,0,0,0,0,0,2238,0,0,0,0,0,0,0,0,1740,0,0,0,0,0,0,1504,0,0,0,0,0,0,0,1602,0,0,0,0,0,0,0,0,0,0,0,0,0,0,0,0,0,0,0,0,0,0,0,0,0,0,0,0,0,0,0,0,0,0,0,0,0,0,0,0,0,0,0,0,0,0,0,0,0,0,0,0,1590,0,0,0,0,0,0,0,0,0,0,0,0,0,0,0,0,0,0,0,0,0,0,0,0,0,0,0,0,0,0,0,0,0,0,0,0,0,0,0,0,0,0,1602,0,0,0,0,0,0,0,0,0,0,0,0,0,0,0,0,0,0,0,0,0,0,0,0,0,0,0,1726,0,0,0,0,0,0,0,0,0,0,0,0,0,0,0,0,0,0,0,0,0,0,0,0,0,0,0,0,0,0,0,0,0,0,0,0,0,0,0,0,0,0,0,1740,0,0,0,0,0,0,0,0,0,0,0,0,0,0,0,0,0,0,0,0,0,0,0,1669,0,0,0,0,0,0,0,0,0,0,0,0,2129,0,0,0,0,0,0,0,0,0,0,0,0,0,0,0,0,0,0,0,0,0,0,0,0,0,0,0,0,0,0,0,0,0,0,0,0,0,0,0,0,0,0,0,0,2002,0,0,0,0,0,0,0,0,0,0,1740,0,0,0,0,0,0,0,0,0,0,0,0,0,0,0,0,0,0,0,0,0,0,0,0,0,0,0,0,0,0,0,0,0,0,0,0,0,0,0,0,0,0,0,0,0,0,0,0,0,0,0,0,0,0,0,0,0,2457,1485,0,0,0,0,0,0,2001,0,0,0,0,0,0,0,0,0,0,0,0,0,0,0,0,0,0,0,0,0,0,0,0,0,0,0,0,0,0,0,0,0,0,0,0,0,0,0,0,0,0,0,0,0,0,0,1741,0,0,0,0,0,0,0,0,0,0,0,0,0,0,0,0,0,0,0,0,0,0,0,0,0,0,0,0,0,0,0,0,0,0,0,0,0,0,0,0,0,0,0,1573,0,0,0,0,0,1602,0,0,0,0,0,0,0,0,0,0,0,0,0,0,0,0,0,0,0,0,0,0,0,0,0,0,0,0,0,0,0,0,0,0,0,0,0,0,0,0,0,0,0,0,0,0,0,0,0,0,0,0,0,0,0,0,0,0,0,0,0,0,0,0,0,0,0,0,0,0,0,0,0,0,0,0,0,0,0,0,0,0,0,0,0,0,0,0,0,0,0,0,0,0,0,1590,0,0,0,0,0,0,0,0,0,0,0,0,0,0,0,0,0,0,0,0,0,0,0,0,0,0,0,0,0,0,0,0,0,0,0,0,0,0,0,0,0,0,0,0,0,1669,0,0,0,0,0,0,0,0,0,0,0,0,0,1740,0,0,0,0,0,0,0,0,0,0,0,0,0,0,0,0,0,0,0,0,0,0,0,0,0,0,0,0,0,0,0,0,0,0,0,0,0,0,0,0,0,0,0,0,0,0,0,0,0,0,0,0,0,0,0,0,0,0,0,0,0,0,0,0,0,0,0,0,0,0,0,0,0,0,0,0,0,0,0,0,0,0,0,0,0,0,0,0,0,0,0,0,0,0,0,0,0,0,0,0,0,0,0,0,0,0,0,0,0,0,1504,0,0,0,0,0,0,0,0,0,0,0,0,0,0,0,0,0,0,0,1590,0,0,0,0,0,0,0,0,0,0,0,0,0,0,0,0,0,0,0,0,0,0,0,0,0,0,0,0,0,0,0,0,0,0,0,0,0,0,0,0,0,0,0,0,0,0,0,0,0,0,0,0,0,0,0,2339,0,0,0,0,0,0,0,0,0,0,0,0,0,0,0,1719,0,0,0,0,1741,0,0,0,0,0,0,0,0,0,0,0,0,2258,0,0,0,0,0,0,0,0,0,0,0,0,0,0,0,0,0,0,0,0,0,0,0,0,0,0,0,0,0,0,0,0,0,0,0,0,0,0,0,0,0,0,0,0,0,0,0,0,0,0,0,0,0,0,0,0,0,0,0,0,0,0,0,0,0,0,0,0,0,0,0,0,0,0,0,0,0,0,0,0,0,0,0,0,0,0,0,0,0,0,0,0,0,0,0,0,0,0,2179,0,0,0,0,0,0,0,0,0,0,0,0,0,0,0,0,0,0,0,0,0,0,0,0,0,0,0,0,0,0,0,0,0,0,0,0,0,0,0,0,0,0,0,0,0,0,0,0,0,0,0,0,0,0,0,0,0,0,0,0,0,0,0,0,0,0,0,0,0,0,0,0,0,0,0,0,0,0,0,0,0,0,0,0,2002,0,0,0,0,0,0,0,0,0,0,0,0,0,0,0,0,0,0,0,0,0,0,0,0,0,0,0,0,0,0,0,0,0,0,0,0,0,0,0,0,0,0,0,0,0,0,0,0,0,0,0,0,0,0,0,0,0,0,0,0,0,0,0,0,0,0,0,0,0,0,0,0,0,0,0,0,0,0,0,0,0,0,0,0,0,0,0,0,1602,0,0,0,0,0,0,0,0,0,0,0,0,0,0,0,0,0,0,0,0,0,0,0,0,0,0,0,0,0,0,2467,0,0,0,0,0,0,0,0,0,0,0,0,0,0,0,0,0,0,0,0,0,0,0,0,0,0,0,0,0,0,0,0,0,0,0,0,0,0,1594,0,0,0,0,0,0,0,0,0,0,0,0,0,0,0,0,0,0,0,0,0,0,0,0,0,0,0,0,0,0,0,0,0,0,0,0,0,0,0,0,0,0,0,0,0,0,0,0,0,0,0,1669,0,2057,0,0,0,0,0,0,0,0,0,0,0,0,0,0,0,0,0,0,0,0,0,0,0,0,0,0,0,0,0,0,0,0,0,0,0,0,0,0,0,0,0,0,0,0,0,0,0,0,0,0,0,0,0,0,0,0,0,0,0,0,0,0,0,0,0,0,0,0,0,0,0,0,0,0,0,0,0,0,0,0,0,0,0,0,0,0,0,0,0,0,0,0,0,0,0,0,0,0,0,0,0,0,0,0,0,0,0,0,0,0,0,0,0,0,0,0,0,0,0,0,0,0,0,0,0,0,0,0,0,0,0,0,0,0,0,0,0,0,3683,0,0,0,0,0,0,0,0,0,0,2001,0,1590,0,0,0,0,0,0,0,0,0,0,0,0,0,0,0,0,0,0,0,0,0,0,0,0,0,0,0,0,0,0,0,0,0,0,0,0,0,0,0,0,1602,0,0,0,0,0,0,0,0,0,0,0,0,0,0,0,0,0,0,0,0,0,0,0,0,2339,0,0,0,0,0,0,0,0,0,0,0,0,0,0,0,0,0,0,0,0,0,0,0,0,0,0,0,0,0,0,0,0,0,0,0,1980,0,0,0,0,0,0,0,0,0,0,0,0,0,0,0,0,0,0,0,0,0,0,0,0,0,0,0,0,0,0,0,0,0,0,0,0,0,0,0,0,0,0,0,0,0,0,0,0,0,0,0,0,0,0,0,0,0,0,0,0,0,0,0,0,0,0,0,0,0,0,0,0,0,0,0,0,0,0,0,0,0,0,0,0,0,0,0,0,0,0,0,0,0,0,0,0,0,1669,0,0,0,0,0,0,0,0,0,0,0,0,0,0,0,0,0,0,0,0,0,0,0,0,0,0,0,0,0,0,0,0,0,0,0,0,0,0,0,0,0,0,0,0,0,0,0,0,0,0,0,1980,0,0,0,0,0,0,0,0,0,0,0,0,0,0,0,0,0,0,0,0,0,0,0,0,0,0,0,0,0,0,0,0,0,0,0,0,0,0,0,0,0,0,0,0,0,0,0,0,0,0,0,0,0,0,0,0,0,0,0,0,0,0,0,0,0,0,0,0,0,0,0,0,0,0,0,0,0,0,0,0,0,0,0,0,0,0,0,0,0,0,0,0,0,0,0,0,0,0,0,0,0,0,0,0,0,0,0,0,0,0,0,0,0,0,0,0,0,0,0,0,0,0,0,0,0,0,0,0,0,0,0,0,0,0,0,0,0,0,0,0,0,0,0,0,0,0,0,0,0,1408,0,0,0,0,0,0,0,0,0,0,0,0,0,0,0,0,0,0,0,0,0,0,0,1579,0,0,0,0,0,0,0,0,0,0,0,0,0,0,0,0,0,0,0,0,0,0,0,0,0,0,0,0,0,0,0,0,0,0,0,2179,0,0,0,0,0,0,0,0,0,0,0,0,0,0,0,0,0,0,0,0,0,0,0,0,0,0,0,2205,0,0,0,0,0,0,0,0,0,0,0,0,1628,0,0,0,0,0,1579,0,0,0,0,0,0,0,0,0,0,0,0,0,0,0,0,0,0,0,0,0,0,0,0,0,0,0,0,0,0,0,0,0,0,0,0,0,1602,0,0,0,0,0,0,0,0,0,0,0,0,0,3900,0,0,0,0,0,0,0,0,0,0,0,0,0,0,0,0,0,0,0,0,0,0,0,0,0,0,0,0,0,0,0,0,0,0,0,0,0,0,0,0,0,0,0,0,0,0,0,0,0,0,0,0,0,0,0,0,0,0,0,0,0,0,0,0,0,0,0,0,0,0,0,0,0,0,0,1740,0,0,0,0,0,0,0,0,0,0,0,0,0,0,0,0,0,0,0,0,0,0,0,0,0,0,0,0,0,0,0,0,0,0,0,0,0,0,0,0,0,0,0,0,0,0,0,0,0,0,0,0,0,0,0,0,0,0,0,0,0,0,0,0,0,0,0,0,0,0,0,0,0,0,0,0,0,0,0,0,0,0,0,0,0,0,0,0,0,0,0,0,2002,0,0,0,0,0,0,0,0,0,0,0,0,0,0,0,0,0,0,0,0,0,0,0,0,0,0,0,0,0,0,0,0,0,2051,0,0,0,0,0,0,0,0,0,0,0,0,0,0,0,0,0,0,0,0,0,0,0,0,0,0,0,0,0,0,0,1902,0,0,0,0,0,0,0,0,0,0,0,0,0,0,0,0,0,0,0,0,0,0,0,0,0,0,0,0,0,0,0,0,0,0,0,0,0,0,0,0,0,0,0,0,0,0,0,0,0,1628,0,0,0,0,0,0,0,0,0,0,0,0,0,0,0,0,0,0,0,0,0,0,0,0,0,0,0,0,0,0,0,0,0,0,0,0,0,0,0,0,0,0,0,0,0,0,0,0,0,0,0,0,0,0,0,0,0,0,0,0,0,0,0,0,0,0,0,0,1974,0,0,0,1573,0,2339,0,0,0,0,0,0,0,0,2001,0,0,0,0,0,0,0,0,0,0,0,0,0,0,0,0,0,0,0,0,0,0,0,0,0,0,0,0,0,0,0,0,0,0,0,0,0,0,0,0,0,0,0,0,0,0,0,0,0,0,0,1485,0,0,0,0,0,0,0,0,0,0,0,0,0,0,0,0,0,0,0,0,0,0,0,0,0,0,0,0,0,0,0,0,1740,0,0,0,0,0,0,0,0,0,0,0,0,0,0,0,0,0,0,0,0,0,0,0,0,0,1672,0,0,0,0,0,0,0,0,0,0,0,0,0,0,0,0,0,0,0,0,0,1902,0,0,0,0,0,0,0,0,0,0,0,0,0,0,0,0,0,0,0,0,0,0,0,0,0,0,0,0,1408,0,0,0,0,0,0,0,0,0,0,0,0,1980,0,0,0,0,0,0,0,0,0,0,0,0,0,0,0,0,0,0,0,0,0,0,0,0,0,0,0,0,0,0,0,0,0,0,0,0,0,0,0,0,0,0,0,0,0,0,0,0,0,0,0,0,0,0,0,0,0,0,0,0,0,0,0,0,0,0,0,0,0,0,0,0,0,0,0,1740,0,0,0,0,0,0,0,0,0,0,0,0,0,0,0,0,0,0,0,0,0,0,0,0,0,0,0,0,0,0,0,0,0,0,0,0,0,0,0,0,0,0,0,0,0,0,0,0,2163,0,0,0,0,0,0,0,0,0,0,0,0,0,0,0,0,0,0,0,0,0,0,0,0,0,0,0,0,0,1617,0,0,0,0,0,0,0,0,0,0,0,0,0,0,0,1648,0,0,0,0,0,0,0,1628,0,0,0,0,0,0,0,0,0,0,0,0,0,0,0,0,0,0,0,0,0,0,0,0,0,0,0,0,0,0,0,0,0,0,0,0,0,0,0,0,1876,0,0,0,0,0,0,0,0,0,0,0,0,0,0,0,0,0,0,0,0,0,0,0,0,0,0,0,0,2051,0,0,0,0,0,0,0,0,0,0,0,0,1602,0,0,0,0,0,0,0,0,0,0,1485,0,0,0,0,0,0,0,0,0,0,0,0,0,0,0,0,0,0,0,0,0,0,0,0,0,0,0,0,0,0,0,0,0,0,0,0,0,0,0,0,0,0,0,0,0,0,0,0,0,0,0,0,0,0,0,1579,0,0,0,0,0,0,0,0,0,0,0,0,0,0,0,0,0,0,0,0,0,0,0,0,0,0,0,0,0,0,0,0,0,0,0,0,0,0,0,0,0,0,0,0,0,0,0,1340,0,0,0,0,0,0,0,0,0,0,0,0,0,0,0,0,0,0,0,0,0,0,0,0,0,0,0,0,0,0,0,0,0,0,0,0,0,0,0,0,0,0,0,0,0,0,0,0,0,0,0,0,0,0,0,0,0,0,0,0,1485,0,0,0,0,0,0,0,0,0,0,0,0,0,0,0,0,0,0,0,0,0,0,0,0,0,0,0,0,0,0,0,0,0,0,0,0,0,0,0,0,0,0,0,0,0,0,0,0,0,0,0,0,0,0,0,0,0,0,0,1408,0,0,0,0,0,0,0,0,0,0,0,0,0,0,0,0,0,0,0,0,0,0,0,0,0,0,0,0,0,0,0,0,0,0,0,0,0,0,0,0,0,0,1669,0,1380,0,0,0,0,0,0,0,0,0,0,0,0,0,0,0,0,0,0,0,0,0,0,0,0,0,0,0,0,0,0,0,0,0,0,0,0,0,0,0,0,1741,0,0,0,0,0,0,0,0,0,0,0,0,0,0,0,1672,0,0,0,0,0,0,0,0,0,0,0,0,0,0,0,0,0,0,0,0,0,0,0,0,0,0,0,0,0,0,0,0,0,0,0,0,0,0,0,0,0,0,0,0,0,0,0,0,0,0,0,0,0,0,0,0,0,0,0,1628,0,0,0,0,0,2001,0,0,0,0,0,0,0,0,0,0,0,0,0,0,0,1672,0,0,0,0,0,0,1980,0,0,0,0,0,0,0,0,0,0,0,0,0,0,0,0,0,0,0,0,0,0,0,0,0,0,0,0,0,0,0,0,0,0,0,0,0,0,0,0,0,0,0,0,0,0,0,0,0,0,0,0,0,0,0,0,0,0,0,0,0,0,0,0,0,0,0,0,0,0,0,0,0,0,0,0,0,0,0,0,0,0,1740,0,0,0,0,0,0,0,0,0,0,0,0,0,0,0,0,0,0,0,0,0,0,0,2001,0,0,0,0,0,0,0,0,0,0,0,0,0,0,0,0,0,2258,0,0,0,0,0,0,0,0,0,0,0,0,0,0,0,0,0,0,1740,0,0,0,0,0,0,0,0,0,0,0,0,0,0,0,0,0,0,0,0,0,0,0,0,0,0,0,0,0,0,1651,0,0,0,0,0,0,0,0,0,0,0,0,0,0,0,0,0,0,0,0,0,0,0,0,0,0,0,0,0,0,0,0,0,0,0,1876,0,0,0,0,0,0,0,0,0,0,0,0,0,0,0,0,0,0,0,0,0,0,0,0,1902,0,0,0,0,0,0,0,0,0,0,0,0,0,0,0,0,0,0,0,2339,0,0,0,0,2754,0,0,0,0,0,0,0,0,0,0,0,0,0,0,0,2179,0,0,0,0,0,0,0,0,0,0,0,0,0,0,0,0,0,0,0,0,0,0,0,0,0,0,0,0,0,0,0,0,0,0,0,0,0,0,0,0,0,0,0,0,0,0,0,0,0,0,0,1590,0,0,0,0,0,0,0,0,0,1504,0,0,0,0,0,0,0,0,0,0,0,0,0,0,0,0,0,0,0,0,0,0,0,0,0,0,0,0,0,0,0,0,0,0,0,0,0,0,0,0,0,0,0,0,0,0,0,0,0,0,0,0,0,0,0,0,0,0,0,0,0,0,0,0,0,0,0,0,0,0,0,0,0,0,0,0,0,0,0,0,0,0,0,0,0,0,0,0,0,0,0,0,0,0,0,0,0,0,0,0,0,0,0,0,0,0,0,0,0,0,0,0,0,0,0,0,0,0,0,0,0,0,0,0,0,0,0,1602,0,0,0,0,0,0,0,0,0,0,0,0,0,0,0,0,0,0,0,0,0,0,0,0,0,0,0,0,0,0,0,0,0,0,0,0,0,0,0,0,0,0,0,0,0,0,0,0,0,0,0,0,0,0,0,0,0,0,0,0,0,0,0,0,0,0,1741,0,0,0,0,0,0,0,0,0,0,0,0,0,0,0,0,0,0,0,0,0,0,0,0,0,0,0,0,0,0,0,0,0,0,0,0,0,0,0,0,0,0,0,0,0,0,0,0,0,0,0,0,0,0,0,0,0,0,0,0,0,0,0,0,0,0,0,0,0,1408,0,0,0,0,0,0,0,0,0,0,0,0,1408,0,0,0,0,0,0,0,0,0,0,1668,0,0,0,0,0,0,0,0,0,0,1672,0,0,0,0,0,0,0,0,0,0,0,1602,0,1579,0,0,0,0,0,0,0,0,0,0,0,0,0,0,0,0,0,0,0,0,0,0,0,0,0,0,0,0,0,0,0,0,0,0,0,0,0,0,0,0,0,0,0,0,0,0,0,0,0,0,0,0,0,0,0,0,0,0,0,0,0,0,0,0,0,0,0,0,0,0,0,0,0,0,0,0,0,0,0,0,0,0,0,0,0,0,0,0,0,0,0,0,0,0,0,2042,0,0,0,0,0,0,0,0,0,0,0,0,0,0,0,0,0,0,0,0,0,0,0,0,0,0,0,0,0,0,0,0,0,0,0,0,0,0,0,0,0,0,0,0,0,0,0,0,0,0,0,0,0,0,0,0,0,0,0,0,0,0,0,0,0,0,0,0,0,1617,0,0,2457,0,0,0,0,0,0,0,0,0,0,0,0,0,0,1380,0,0,0,0,0,0,0,0,0,0,0,0,0,0,0,0,0,0,0,0,1602,0,0,0,0,0,0,0,0,0,0,0,0,0,0,0,0,0,0,0,0,0,0,0,0,0,0,0,0,0,0,0,0,0,0,0,0,0,0,0,0,0,0,0,0,0,0,0,0,0,0,0,1258,0,0,0,0,2001,0,0,0,0,0,0,0,0,0,0,0,0,0,0,0,0,0,0,0,0,2002,0,1902,0,0,0,0,0,0,0,0,0,0,0,0,0,0,0,0,0,0,0,0,0,0,0,0,0,0,0,0,0,0,0,0,0,0,0,0,0,0,0,0,0,0,0,0,0,0,0,0,0,0,0,0,0,0,0,0,0,0,0,0,0,0,0,0,0,0,0,0,0,0,0,0,0,0,0,0,0,0,0,0,0,0,0,0,0,0,0,0,0,0,0,0,0,0,0,0,0,0,0,1726,0,0,0,0,0,0,0,0,2051,0,0,0,0,0,2051,0,0,0,0,0,0,1741,1590,0,0,0,0,0,0,0,0,0,1602,0,0,0,0,0,0,0,0,0,0,0,0,0,0,0,0,0,0,0,0,0,0,0,0,0,0,0,0,0,0,0,0,0,0,0,0,0,0,0,0,0,0,0,0,0,0,0,0,0,0,0,0,0,0,0,0,0,0,0,0,0,0,0,0,0,0,0,0,0,0,0,0,0,0,0,1485,0,0,0,0,0,0,0,2603,0,0,1721,0,0,0,0,0,0,0,0,0,0,0,0,0,0,0,0,0,0,0,0,0,0,0,0,0,0,0,0,0,0,0,0,0,0,0,0,0,0,0,0,0,0,0,0,0,0,0,0,0,0,0,0,0,0,0,0,0,0,0,0,0,0,0,0,0,1741,0,0,0,0,0,0,0,0,0,0,0,0,0,0,0,0,0,0,0,0,0,0,0,0,0,0,0,0,0,0,0,0,0,0,0,0,0,0,0,0,0,0,0,0,0,0,0,0,0,0,0,0,0,0,0,1579,0,0,0,0,0,0,0,0,0,0,0,0,0,0,0,0,0,0,0,0,0,0,0,0,0,0,0,0,0,0,0,0,0,0,0,0,0,0,0,0,0,0,0,0,0,0,0,2002,0,0,0,0,0,0,0,0,0,0,0,0,0,0,0,0,0,2179,0,0,0,0,0,0,0,0,0,0,0,0,0,1974,0,0,0,0,0,0,0,0,0,0,0,0,0,0,0,0,0,0,1579,0,0,0,0,0,0,0,0,0,0,0,0,0,0,0,0,0,0,0,0,0,0,0,0,0,0,0,0,0,0,0,2603,0,0,0,0,0,0,0,0,0,0,0,0,0,0,2377,0,625,0,1740,0,0,0,0,0,0,0,0,0,0,0,0,0,0,0,0,0,0,1672,0,0,0,0,0,0,0,0,0,0,0,0,0,0,0,0,0,0,0,0,0,0,0,0,0,0,0,0,0,0,0,0,0,0,0,0,0,0,0,0,0,1602,1504,0,0,0,0,0,0,0,0,0,0,0,0,0,0,0,0,0,0,0,0,0,0,0,0,0,0,0,0,0,0,0,0,0,0,0,0,0,0,0,0,0,0,0,0,0,0,0,1721,0,0,0,0,0,0,0,0,0,0,0,0,0,0,0,0,0,0,0,0,0,0,0,0,0,0,0,0,0,0,0,0,0,0,0,0,0,0,0,0,0,0,0,0,0,0,0,0,0,0,0,0,0,0,0,0,0,0,0,0,0,0,0,0,0,0,0,0,0,0,0,0,0,0,0,0,0,0,0,0,0,0,0,0,0,0,0,0,0,0,0,0,0,0,0,0,0,0,0,0,0,0,0,0,0,0,0,0,0,0,0,0,0,0,1590,0,0,0,0,0,0,0,0,0,0,2377,0,0,0,0,0,0,0,0,0,0,0,0,0,0,0,0,0,0,0,0,0,0,0,0,0,0,0,0,0,0,0,0,0,0,0,0,0,0,0,0,0,0,0,0,0,0,0,0,0,0,0,0,0,0,0,0,0,0,0,1980,0,0,1651,0,0,0,0,0,0,0,0,0,0,0,0,1092,0,0,0,0,0,0,0,0,0,0,0,0,0,0,0,0,0,0,0,0,0,0,0,0,0,0,0,0,0,0,0,0,0,0,0,0,0,0,0,0,0,0,0,0,0,0,0,0,0,0,0,0,0,0,0,1740,0,0,0,0,0,0,0,0,0,0,0,0,0,0,0,0,0,0,2001,0,0,0,0,0,0,0,0,0,0,0,0,0,0,0,0,0,0,0,0,0,0,0,0,0,0,0,0,0,0,0,0,0,0,0,0,0,0,0,2206,0,0,0,0,0,0,0,0,0,0,0,0,0,0,0,0,0,0,0,0,0,0,1876,2179,0,0,0,0,0,0,0,0,0,0,0,0,0,0,0,0,0,0,0,0,0,0,0,0,0,0,0,0,0,0,0,0,0,0,0,0,0,0,0,0,0,0,0,0,0,0,0,0,0,0,0,0,0,0,0,0,0,0,0,0,0,0,0,0,0,0,0,0,0,0,0,0,0,0,0,0,0,0,0,0,0,0,0,0,0,0,0,0,0,0,1672,0,0,0,0,0,0,0,0,0,0,0,0,0,0,0,0,0,0,0,0,0,0,0,0,0,0,0,0,0,0,0,0,0,0,0,0,0,0,0,0,0,0,0,0,0,0,0,0,0,0,0,0,0,0,0,0,0,0,0,0,0,0,0,0,0,1741,0,0,0,0,0,0,0,0,0,0,0,0,0,0,0,0,0,0,0,0,0,0,0,0,0,0,0,0,0,0,0,0,0,0,0,0,0,0,0,0,0,2377,0,0,0,1719,0,2258,0,0,0,0,0,0,0,0,0,0,0,0,0,0,0,0,0,0,0,0,0,0,0,0,0,0,0,0,0,0,0,0,0,0,0,0,0,0,0,0,0,0,0,0,0,0,0,0,0,0,0,0,0,0,0,0,0,0,0,0,0,0,0,0,0,0,0,0,0,0,0,0,1602,0,0,0,0,0,0,0,0,0,0,0,0,0,0,0,0,0,0,0,0,2754,0,0,0,0,0,0,0,0,0,0,0,0,0,0,0,0,0,0,0,0,0,0,0,0,0,0,0,0,1740,0,0,1092,0,0,0,0,0,0,0,0,0,0,0,1669,0,0,0,0,0,0,0,0,0,0,0,0,0,0,0,0,0,0,0,0,0,0,0,0,0,0,2377,0,0,0,0,0,0,0,0,0,0,0,0,0,0,0,0,0,0,0,0,0,0,0,0,0,0,0,0,0,0,0,0,0,0,0,0,0,0,0,0,0,0,0,0,0,0,0,0,0,0,0,0,0,0,0,0,0,0,0,0,0,0,0,0,0,0,0,0,0,0,1974,0,0,0,0,0,0,0,0,0,0,1876,0,1980,0,0,0,0,0,0,0,0,0,0,0,0,0,0,0,0,0,0,0,0,0,0,0,0,0,0,0,0,0,0,0,0,0,0,0,0,0,0,0,0,0,0,0,0,0,0,0,0,0,0,0,0,0,0,0,0,0,0,0,0,0,0,0,0,0,0,0,0,0,0,0,0,0,0,0,0,0,0,0,0,0,0,0,0,0,0,0,0,0,0,0,0,0,0,0,0,0,0,0,0,0,2002,0,0,0,0,0,0,0,0,0,0,0,1573,0,0,0,625,0,0,0,0,0,0,0,0,0,0,0,0,0,0,0,0,0,0,0,0,0,0,0,0,0,0,0,0,0,0,0,0,0,0,0,0,0,0,0,0,0,0,0,0,0,0,0,0,0,0,0,0,0,0,0,0,0,0,0,0,0,0,0,0,0,0,0,0,0,0,0,0,0,0,0,0,0,0,0,0,0,0,0,0,0,0,0,0,0,0,0,0,0,0,0,0,0,0,0,0,0,0,0,0,0,0,0,0,0,0,0,0,0,0,0,0,0,0,0,0,0,0,0,0,0,0,0,0,0,0,1602,0,0,0,0,0,0,0,0,1668,0,0,0,0,0,0,0,0,0,0,0,0,0,0,0,0,0,0,0,0,0,0,0,0,0,1590,0,1590,0,0,0,0,0,0,0,0,0,0,0,0,0,0,0,0,0,0,0,0,0,1740,0,0,0,0,0,0,213,0,0,0,0,0,0,0,0,0,0,0,0,0,0,0,0,0,0,1902,0,0,0,0,0,0,0,0,0,0,0,0,0,0,0,0,0,0,0,0,0,0,0,0,0,0,0,0,0,0,0,0,0,0,0,0,0,0,0,0,0,0,0,0,0,0,0,0,0,0,0,0,0,0,0,0,0,0,0,0,0,0,0,0,0,0,0,0,0,0,0,1740,0,0,0,0,0,1974,0,0,0,0,0,0,0,0,0,0,0,0,0,0,0,0,0,0,0,0,0,0,0,0,0,0,0,0,0,0,0,0,0,0,0,0,0,0,0,0,0,0,0,0,1602,0,0,0,0,0,0,0,0,0,0,0,0,0,0,0,0,0,0,0,0,0,0,0,0,0,0,0,0,0,0,1651,1740,0,0,0,0,0,0,0,0,0,0,0,0,0,0,0,0,0,0,0,0,0,0,0,0,0,0,0,0,0,0,0,0,0,0,0,0,0,0,0,0,0,0,0,0,0,0,0,0,0,0,0,0,0,0,0,0,0,0,0,0,0,0,0,0,0,0,0,0,0,0,0,0,0,0,0,0,0,0,0,0,0,0,0,0,0,0,0,0,0,0,0,0,0,0,0,0,0,0,0,0,0,0,0,0,0,0,0,0,0,0,0,0,0,0,0,0,0,0,0,0,0,0,0,0,0,0,0,0,0,0,0,0,0,0,0,0,0,0,0,0,0,0,0,0,0,0,0,0,0,0,0,0,0,0,0,0,0,0,0,0,0,0,0,0,0,0,0,0,0,0,0,0,0,0,0,0,0,0,0,0,0,0,0,0,0,1504,0,0,0,0,0,0,0,419,0,0,0,0,0,0,0,0,0,0,0,0,0,0,0,0,0,0,0,0,0,0,0,0,0,0,0,0,0,0,0,0,0,0,0,2057,0,0,0,0,0,0,0,0,0,0,0,0,0,0,0,0,0,0,0,0,0,0,0,0,0,0,0,0,0,0,0,0,0,0,1719,0,0,0,0,0,0,0,0,0,0,0,0,0,0,0,0,0,0,0,0,0,0,0,0,0,0,0,0,0,0,0,0,0,0,0,0,0,0,0,0,0,0,0,0,0,0,0,0,0,0,0,0,0,0,0,0,0,0,0,0,0,0,0,0,0,0,0,0,0,0,0,0,0,0,0,0,0,0,0,0,0,0,0,0,0,0,0,0,0,0,0,0,0,1408,0,0,0,0,0,0,0,0,0,0,0,0,0,0,0,0,0,0,0,0,1974,0,1741,0,0,0,0,0,0,0,0,0,0,0,0,0,0,0,0,0,0,0,0,0,0,0,0,0,0,0,0,0,0,1721,0,0,0,0,0,0,0,0,0,0,0,1602,0,1579,0,0,0,0,0,0,0,0,0,0,0,0,0,0,0,0,0,0,0,0,0,0,0,0,0,0,0,0,0,0,0,0,0,0,0,0,0,0,0,0,0,0,0,0,0,0,0,0,0,0,0,0,0,0,0,0,0,0,0,0,0,0,0,0,0,0,0,0,0,0,0,0,0,0,0,0,0,0,0,0,0,0,0,0,0,0,0,0,0,0,0,0,0,0,0,0,0,0,0,0,0,0,0,0,0,0,0,0,0,0,0,0,0,0,0,0,0,0,0,0,0,0,0,0,0,0,0,2267,0,0,0,0,2002,0,0,0,0,0,0,0,0,0,0,0,0,0,0,0,0,0,0,0,0,0,0,0,0,0,0,2057,0,0,1719,0,0,0,0,0,0,0,0,0,1602,0,0,0,0,0,0,0,0,0,0,0,0,0,0,0,0,0,0,0,0,0,0,0,0,0,0,0,0,0,0,0,0,0,0,0,0,0,0,0,0,0,0,0,0,0,0,0,0,0,0,1380,0,0,0,2001,0,0,0,0,0,0,0,0,0,0,0,0,0,0,0,1719,0,0,0,0,0,0,0,0,0,0,0,0,0,0,0,0,0,0,0,0,0,0,0,0,0,0,0,0,0,0,0,0,0,0,0,0,0,0,0,0,0,0,0,0,0,0,0,0,0,0,0,0,0,0,0,0,0,0,0,0,0,0,0,0,0,0,0,0,0,0,0,0,0,0,0,0,0,0,0,0,0,0,1740,0,0,0,0,0,0,0,0,0,0,0,0,0,0,0,0,0,0,0,0,0,0,0,0,0,0,0,0,0,0,0,0,0,0,1876,0,1719,0,0,0,0,0,1485,0,0,0,0,0,0,0,0,0,0,0,0,0,0,0,0,0,0,0,0,0,0,0,0,0,0,0,0,0,0,0,0,0,0,0,0,0,0,0,0,0,0,0,0,0,0,0,0,0,0,0,0,0,0,1602,0,0,0,0,0,0,0,0,0,0,0,0,0,0,0,0,0,0,0,0,0,0,0,0,0,0,0,0,0,0,0,0,0,0,0,0,0,0,0,0,0,0,0,0,0,0,0,0,0,0,0,0,0,0,0,0,0,0,0,0,0,0,0,0,0,0,0,0,0,0,0,0,0,0,0,0,0,0,0,0,0,0,0,0,0,2051,0,0,1721,0,0,0,1340,0,0,0,0,0,0,0,0,0,0,0,0,0,0,0,0,0,0,0,0,0,0,0,0,0,0,0,0,0,0,0,0,0,0,0,0,0,0,0,0,0,0,0,0,0,0,0,0,0,0,0,0,1721,0,0,0,0,0,0,0,0,0,0,0,0,0,0,0,0,0,0,0,0,0,0,0,0,1485,0,0,0,0,0,0,0,0,0,0,0,0,0,0,0,0,0,0,0,0,0,0,0,0,1902,0,0,0,0,0,0,0,0,0,0,0,0,0,0,0,0,0,0,0,1602,0,0,0,0,0,0,0,0,0,0,0,0,0,1974,0,0,0,0,0,0,0,0,0,0,0,0,0,0,0,0,0,0,0,0,0,0,0,0,0,0,0,0,0,0,2051,0,0,0,0,0,0,0,0,0,0,0,0,0,0,0,0,0,0,0,0,0,0,0,0,0,0,0,0,0,0,1617,0,0,0,0,0,1740,0,0,0,0,0,0,0,0,0,0,0,0,0,0,0,0,0,0,0,0,0,0,0,0,0,0,0,0,0,0,0,0,0,0,0,0,0,0,0,0,0,0,0,0,0,0,0,0,0,0,0,0,1974,2051,0,0,0,0,0,0,0,0,0,0,0,0,0,4356,0,0,0,0,0,0,0,0,0,0,0,0,0,0,0,0,0,0,0,0,0,0,0,0,0,0,0,0,0,0,1741,0,0,0,0,0,0,0,0,1590,0,0,0,0,0,0,0,0,0,0,0,0,0,0,0,0,0,1594,0,0,0,0,0,0,0,0,0,0,0,0,0,0,0,0,0,0,0,0,0,0,0,0,0,0,0,0,0,0,0,0,0,0,0,0,0,0,0,0,0,0,0,0,0,0,0,0,0,0,0,0,0,0,0,0,0,0,0,0,0,0,0,0,0,0,0,0,0,0,0,0,0,0,0,0,0,0,0,0,0,0,0,0,0,0,0,0,0,0,0,1092,0,0,0,0,0,0,0,0,0,0,0,0,0,0,0,0,0,0,0,0,0,0,0,0,0,0,0,0,0,0,0,0,0,0,0,0,0,0,0,0,0,0,0,0,0,0,0,0,0,0,0,0,0,0,0,0,0,0,0,0,0,0,0,0,0,0,0,0,0,0,0,0,0,0,0,0,0,0,0,0,0,0,0,0,0,0,0,0,0,0,0,0,0,0,0,0,0,0,0,0,0,0,0,0,0,0,0,0,0,0,0,0,0,0,0,0,0,0,0,0,0,0,1669,0,0,0,0,0,0,0,0,0,0,0,0,0,0,0,0,0,0,0,0,0,0,0,0,0,0,0,0,0,0,0,0,0,0,0,0,0,0,0,0,0,0,0,0,1672,0,0,0,0,0,0,0,0,0,0,0,0,0,2051,0,0,0,0,0,0,0,0,0,0,0,0,0,0,0,0,0,0,0,0,0,0,0,0,0,0,0,0,0,0,0,0,0,0,0,0,0,0,1740,0,0,0,0,0,0,0,0,0,0,0,0,0,0,0,0,0,0,0,0,0,0,0,0,0,0,0,1340,0,1628,0,0,0,0,0,0,0,0,0,0,0,0,0,0,0,0,0,0,0,0,0,0,0,0,0,0,0,0,0,0,0,0,0,0,0,0,0,0,0,0,0,0,0,0,0,0,0,0,0,0,0,0,1741,0,0,0,0,0,0,0,0,0,0,0,0,0,0,0,0,1579,0,0,0,0,0,0,0,0,0,0,0,0,0,0,0,0,0,0,0,0,0,0,0,0,0,0,0,0,0,0,0,0,0,0,0,0,0,0,0,0,0,0,0,0,0,0,0,0,0,0,0,0,0,0,0,0,0,0,0,0,0,0,0,0,0,0,0,0,0,0,0,0,0,0,0,0,0,0,0,0,0,0,0,0,0,0,0,0,0,0,0,0,0,0,0,0,0,0,0,0,0,1719,0,0,0,0,0,0,0,0,0,0,0,0,0,0,0,0,0,0,0,0,0,1602,0,0,0,0,0,0,0,0,0,0,0,0,0,0,0,0,0,0,0,0,0,0,0,0,0,0,0,0,1740,0,0,0,0,0,0,0,0,0,0,0,0,0,0,0,0,0,0,0,0,0,0,0,0,0,0,0,0,0,1741,0,0,0,0,0,0,0,0,0,0,0,0,0,0,0,0,0,0,0,0,0,0,0,0,0,0,0,0,0,0,0,0,0,0,0,0,2339,0,0,0,0,0,0,0,0,0,0,0,0,0,0,0,0,0,0,0,0,0,0,0,0,0,0,0,0,0,0,0,0,0,0,0,0,0,0,0,0,0,0,0,0,0,0,0,0,0,0,0,0,0,0,0,0,0,0,0,0,0,0,0,0,0,0,0,0,0,0,0,0,0,0,0,0,0,0,0,0,0,0,0,0,0,0,0,0,0,0,0,0,0,0,0,0,0,0,0,0,0,0,0,0,0,0,0,0,0,0,0,0,0,0,0,0,323,0,0,0,0,0,0,0,0,0,0,0,0,0,0,0,0,0,0,0,0,0,0,0,0,0,0,0,0,0,0,0,0,0,1485,0,0,0,0,0,0,0,0,0,0,0,0,0,0,0,0,0,0,0,0,0,0,0,0,0,0,0,0,0,0,0,0,0,0,0,0,0,0,0,0,0,0,0,0,0,0,0,0,0,1741,0,0,0,0,2051,0,0,0,0,0,1762,0,0,0,0,0,0,0,0,0,1672,0,0,0,0,0,0,0,0,0,0,0,0,0,0,0,0,0,0,0,0,0,0,0,0,0,0,0,0,0,0,0,0,0,0,0,0,0,0,0,0,0,0,0,0,0,0,0,0,0,0,0,0,0,0,0,0,0,0,0,0,0,0,0,0,0,0,0,0,0,0,0,0,0,0,0,0,0,0,0,0,0,0,1408,0,0,0,0,0,0,0,0,0,0,1602,0,0,0,0,0,0,0,0,0,0,0,0,0,0,0,0,0,0,0,0,0,0,0,0,0,0,0,0,0,0,0,0,0,0,0,0,0,0,0,0,0,0,0,0,0,1672,0,0,0,0,0,0,0,0,0,0,0,0,0,0,0,0,0,0,0,0,0,0,0,0,0,0,0,0,0,2042,0,0,2042,0,0,0,0,0,0,0,0,0,0,0,0,0,0,0,0,0,0,0,0,0,0,0,0,1411,0,0,0,0,0,0,0,0,0,0,0,0,0,0,0,0,0,0,0,0,0,0,0,0,0,0,0,0,0,0,0,0,0,0,0,0,0,0,0,0,0,0,0,0,0,0,0,0,0,0,0,0,0,0,0,0,0,0,0,0,0,0,0,0,0,0,0,0,0,0,0,0,0,1741,0,0,0,0,0,0,0,0,0,0,0,0,0,0,0,0,0,0,0,0,0,0,0,0,0,0,0,0,0,0,0,0,0,0,0,0,0,0,1602,0,1669,0,0,0,0,0,0,0,0,0,0,0,0,0,0,0,0,0,0,0,0,0,0,0,0,0,0,0,0,0,0,0,0,0,0,0,0,0,0,0,0,0,0,0,0,880,0,0,0,0,0,0,0,0,0,0,0,0,0,0,0,0,0,0,0,0,0,0,0,0,0,0,0,0,0,0,0,0,0,0,0,0,0,0,0,0,0,0,0,0]},{\"axis\":{\"matches\":true},\"label\":\"age\",\"values\":[39,50,38,53,28,37,49,23,32,34,25,32,38,54,35,43,59,19,39,49,23,20,45,30,22,48,21,19,48,31,53,24,49,25,53,44,41,29,25,18,47,46,35,41,30,30,32,48,29,36,28,25,19,31,23,79,27,40,67,18,31,18,52,46,59,53,33,30,57,37,28,30,29,48,32,47,20,29,17,30,31,42,24,28,36,53,56,55,22,21,40,30,19,20,35,39,28,24,38,37,46,43,27,20,61,27,19,70,31,22,36,64,43,47,34,33,21,48,23,71,29,42,68,25,44,28,36,39,46,18,66,27,28,27,27,21,34,18,33,43,30,34,41,53,31,38,24,41,47,41,23,36,24,26,19,42,37,18,35,17,44,35,60,50,38,45,25,31,64,90,54,53,18,60,66,75,65,35,41,25,33,59,40,23,41,24,20,38,56,32,45,42,59,19,58,20,32,45,50,36,45,17,59,26,19,33,17,50,27,30,43,35,25,22,34,60,21,50,25,50,36,31,29,21,27,65,37,39,24,38,21,24,43,26,46,26,19,22,24,77,22,29,62,39,43,35,29,76,63,23,58,66,41,26,47,55,53,17,30,49,19,45,26,33,22,43,67,30,56,31,26,46,65,42,26,36,43,22,28,56,22,39,26,17,45,44,20,33,23,46,38,54,46,25,46,36,23,29,19,19,27,46,34,44,45,20,20,28,34,28,28,46,32,41,24,33,31,52,30,34,34,20,17,29,33,25,36,23,47,80,17,40,27,34,34,23,42,29,45,24,27,20,44,51,20,17,19,30,38,23,32,44,54,32,50,24,37,52,38,22,35,30,67,46,17,22,27,23,33,43,28,41,52,25,63,59,45,40,46,35,34,33,41,20,23,26,72,23,62,52,58,25,24,19,43,47,39,49,53,32,28,57,25,20,21,24,28,74,38,44,44,26,36,39,57,29,31,34,44,29,30,27,27,32,58,35,21,28,46,36,72,35,69,35,31,34,30,28,24,20,43,45,29,47,24,51,17,27,18,36,58,26,59,27,31,21,29,18,57,42,55,23,27,23,25,49,32,19,60,42,35,48,29,36,17,52,24,24,26,27,39,30,50,52,23,45,65,29,47,30,38,47,49,58,19,21,47,26,60,21,31,31,71,58,20,24,38,27,29,70,34,44,35,27,43,20,27,20,24,48,17,17,22,17,32,31,58,29,23,18,34,66,45,41,26,54,24,42,20,23,25,30,19,36,31,21,31,40,45,60,18,28,36,36,40,36,31,33,19,22,33,41,29,44,20,31,23,55,26,25,45,35,36,43,56,19,55,26,17,32,29,46,22,58,23,39,27,33,37,36,34,32,31,22,47,32,26,37,31,55,23,36,34,54,43,28,41,42,61,18,59,21,41,18,23,22,61,25,43,24,68,31,17,50,20,30,22,43,22,17,47,41,64,48,31,29,30,32,62,39,43,24,42,26,73,72,55,25,24,63,17,35,62,43,40,39,31,26,46,26,34,34,34,18,43,48,28,33,24,21,17,29,24,55,23,38,19,49,27,33,63,23,33,54,29,48,35,28,40,47,22,28,63,51,22,27,35,46,37,24,37,53,27,38,53,34,23,43,81,21,23,25,42,38,64,32,37,22,33,42,19,51,23,47,33,31,35,18,20,54,40,43,44,51,18,51,41,33,25,32,32,36,28,20,55,36,28,37,44,25,21,78,34,49,22,23,60,63,41,47,44,51,46,41,50,35,45,40,20,23,31,58,66,26,51,34,38,48,51,22,19,41,42,34,23,56,30,48,48,31,20,27,32,76,19,66,37,34,34,90,23,43,24,28,64,23,20,61,38,32,30,41,43,61,54,34,38,36,30,36,22,17,19,27,22,49,43,19,58,31,30,32,29,38,31,34,21,22,62,19,43,68,39,41,34,31,29,41,37,69,34,36,41,53,29,45,34,36,48,20,63,41,28,30,34,31,37,42,27,41,19,20,59,40,56,30,46,25,40,24,51,43,34,26,20,44,51,33,22,88,40,51,50,20,47,22,47,24,36,32,44,51,59,65,24,27,51,39,28,19,49,51,59,18,50,37,33,61,22,36,37,31,20,33,31,48,53,55,29,42,50,75,52,27,43,31,23,34,41,31,42,55,36,38,62,49,34,32,48,30,52,28,29,38,37,30,69,73,22,31,50,37,44,47,27,28,25,20,47,42,52,21,46,57,37,50,58,63,39,46,36,26,21,41,44,22,29,29,36,30,29,26,43,45,28,20,51,24,35,61,20,17,47,24,29,25,20,23,57,33,39,71,38,28,57,47,59,26,35,17,62,42,39,58,40,31,36,23,33,22,51,31,49,49,53,20,26,61,43,46,43,41,44,54,32,25,23,25,19,37,45,37,19,17,27,59,19,43,54,54,51,40,55,50,31,42,30,37,33,48,43,52,28,32,47,19,40,40,41,53,46,39,19,49,59,18,35,58,28,41,50,61,38,50,45,44,25,60,17,56,25,22,76,46,40,70,35,49,24,25,28,69,22,47,38,26,17,33,43,26,31,30,25,57,32,26,27,35,19,49,20,60,32,58,42,20,42,25,66,44,59,25,17,47,47,30,20,26,20,33,48,37,47,50,30,34,43,22,35,26,62,39,59,69,27,17,38,27,23,17,56,24,44,23,41,25,21,18,45,51,42,47,29,33,43,20,19,24,19,49,52,38,24,32,72,31,29,48,51,28,22,23,65,26,20,38,33,37,19,24,30,57,22,46,67,35,47,39,50,58,26,26,32,38,37,44,31,51,45,36,39,67,27,37,27,28,52,55,33,30,59,19,36,26,34,26,47,18,55,49,43,62,44,39,35,52,43,51,20,43,24,27,32,37,26,50,20,43,53,25,17,19,44,49,35,44,54,37,18,24,29,22,35,32,24,73,47,49,31,39,42,38,31,51,21,44,29,31,24,46,26,35,27,26,21,57,45,50,38,43,42,32,20,27,45,40,38,37,60,25,47,40,51,19,65,41,28,24,32,71,29,17,31,23,59,17,37,29,31,40,66,30,43,47,45,31,32,28,63,28,38,52,41,50,59,32,73,52,57,22,22,46,48,52,25,31,19,19,37,19,45,21,52,46,42,56,23,58,70,30,45,23,34,38,24,53,45,21,21,34,21,63,23,28,29,25,44,18,26,23,46,25,60,23,36,46,40,31,32,21,42,23,30,24,27,27,22,68,22,25,68,62,26,68,45,26,25,23,29,65,31,26,45,26,26,36,38,39,52,39,41,47,28,25,35,32,21,27,30,45,20,57,43,50,28,25,90,38,35,26,39,56,24,18,57,43,29,44,77,30,21,66,40,68,64,26,32,28,29,21,28,55,35,31,30,33,23,35,39,53,31,29,28,34,30,19,26,50,44,75,51,35,28,66,39,27,57,24,28,23,31,23,31,27,30,31,34,57,23,24,36,32,35,36,23,35,44,32,34,47,27,23,19,50,49,23,61,41,53,17,23,53,24,22,18,24,20,30,34,19,20,47,20,22,60,32,66,34,45,35,63,25,51,25,19,47,59,40,42,28,25,29,35,22,26,56,61,52,30,35,17,26,58,46,57,25,21,37,45,61,39,42,20,23,25,47,24,20,35,47,28,41,31,27,47,44,61,42,46,54,49,56,52,34,25,18,58,31,29,28,30,21,75,66,26,21,17,61,22,47,32,59,38,33,41,51,42,60,64,35,46,47,24,29,74,22,48,30,32,39,25,44,65,28,55,49,31,35,34,49,39,27,42,64,23,34,53,22,57,20,23,31,23,30,51,36,45,33,43,35,36,54,63,58,64,20,39,45,22,26,42,20,38,25,27,46,31,24,23,32,44,40,38,23,19,41,48,23,47,42,17,29,21,18,27,29,23,34,42,18,46,18,56,21,22,31,41,25,43,45,26,90,42,20,64,56,31,40,58,41,58,40,22,23,37,25,56,32,32,35,19,41,22,23,27,45,23,21,36,18,25,34,33,22,28,22,67,20,34,28,22,47,33,25,37,36,61,74,57,55,20,43,25,42,23,17,39,63,19,37,27,36,22,35,20,18,25,21,19,34,32,20,70,54,34,42,45,27,51,36,33,50,55,24,35,32,68,29,24,61,20,41,36,35,26,44,31,39,20,32,32,61,54,23,19,31,35,29,29,25,46,35,20,24,48,37,60,39,29,31,26,46,69,48,46,42,24,29,23,21,32,69,55,41,18,74,27,75,55,52,54,36,76,26,18,38,19,20,27,31,60,52,61,19,59,42,70,47,27,25,28,35,54,46,52,65,43,41,34,47,21,20,18,27,34,38,24,34,27,63,25,54,19,35,26,59,43,20,41,51,27,36,25,22,58,43,40,46,54,19,24,53,24,29,21,34,56,19,48,47,40,28,57,51,26,36,50,33,77,67,35,23,32,56,45,18,31,21,23,45,18,25,31,19,74,27,23,40,25,42,24,45,34,32,54,42,40,66,52,21,28,27,42,27,19,46,55,50,32,28,23,43,19,37,27,18,31,49,26,39,41,20,38,37,43,38,18,23,34,62,33,31,64,26,55,61,78,27,49,42,22,61,64,46,24,27,18,48,50,40,56,34,56,18,21,40,27,46,23,19,20,24,72,42,51,40,19,26,32,19,21,54,25,49,26,58,41,47,42,30,34,57,46,32,20,47,55,80,24,22,40,56,34,24,19,34,24,24,22,32,41,20,31,26,27,35,40,59,31,61,54,30,20,27,44,64,55,34,61,28,34,26,35,36,17,35,33,25,18,47,44,41,30,53,53,40,24,27,50,36,41,31,32,22,22,18,39,38,35,23,63,39,29,17,40,69,28,38,45,33,48,26,21,37,20,54,28,27,33,46,28,17,44,25,35,29,30,30,56,25,28,43,46,41,29,25,56,31,22,31,28,53,71,65,19,34,36,40,90,56,21,45,64,29,22,43,42,31,53,81,33,17,28,24,40,30,24,26,38,33,63,23,56,42,40,35,52,28,35,21,43,32,23,50,34,19,47,37,25,24,28,17,31,31,18,31,48,22,34,26,53,49,40,48,23,68,37,27,27,75,27,36,35,53,27,34,29,40,22,43,55,28,23,46,29,44,20,62,49,29,35,39,39,37,38,72,31,55,38,33,25,19,37,49,26,35,44,35,40,21,49,38,24,45,28,22,28,60,31,40,30,71,42,44,27,40,21,25,61,54,31,53,48,35,42,34,69,29,40,21,40,43,36,72,20,41,34,48,27,28,27,20,18,32,23,35,74,28,23,20,44,46,20,40,60,46,22,24,45,18,39,65,22,20,28,18,24,24,20,35,52,25,19,35,54,21,42,19,44,25,26,41,25,43,60,45,37,22,27,47,41,32,26,47,55,38,24,21,59,43,21,45,27,41,22,43,41,27,41,20,58,35,21,29,40,35,40,59,43,51,71,33,28,30,20,51,37,28,23,39,31,23,47,59,32,82,74,22,32,59,53,25,44,58,39,32,45,52,56,52,34,36,41,30,44,17,34,41,29,25,42,26,46,49,23,30,47,31,19,45,26,31,36,30,21,73,30,58,34,35,45,27,45,40,27,19,29,34,32,49,74,39,43,22,24,25,19,31,53,61,47,37,50,27,58,43,39,36,56,26,23,47,68,47,26,20,46,37,43,59,39,32,63,59,36,26,34,26,53,79,31,24,57,40,41,20,45,27,36,30,25,30,31,26,25,29,24,21,29,36,20,39,36,61,38,20,21,40,46,21,35,39,38,30,28,40,44,38,20,44,33,18,50,47,53,39,66,26,41,47,31,43,35,41,52,61,39,19,39,22,30,40,43,37,23,39,54,46,20,17,36,37,53,38,63,40,23,20,28,59,33,56,31,41,25,18,49,39,22,21,35,21,55,31,17,25,50,50,63,31,23,18,43,18,46,31,27,41,42,34,44,26,69,33,30,21,18,20,26,46,31,40,31,32,23,25,37,18,55,52,26,39,19,55,30,59,45,21,31,29,24,17,47,32,34,63,21,18,81,39,46,39,29,23,57,38,25,39,24,39,23,17,67,41,24,30,56,51,57,34,24,57,23,35,58,19,19,17,21,31,29,25,28,54,74,31,23,19,39,61,19,23,25,53,32,61,42,17,73,41,23,23,65,45,24,23,30,26,37,17,31,52,63,27,31,71,35,44,36,22,32,30,60,25,76,41,26,45,32,22,63,23,61,31,25,33,39,53,26,21,18,31,43,21,55,57,37,37,45,47,31,75,43,27,44,40,18,33,20,38,48,46,51,35,24,30,70,26,34,70,37,36,23,28,58,23,26,21,34,43,22,36,41,27,42,27,41,21,29,19,21,46,18,30,28,26,37,18,30,36,18,27,49,37,30,29,22,25,38,32,35,29,41,47,23,28,39,42,68,57,22,19,55,37,37,28,27,40,51,52,74,20,40,80,63,51,23,66,33,49,20,26,47,23,53,19,26,65,68,30,28,54,30,22,25,19,19,23,51,46,38,46,25,20,29,40,24,24,31,54,34,19,21,21,23,37,57,24,43,32,40,49,45,62,29,49,55,20,37,29,38,22,19,20,60,30,22,51,31,48,51,62,23,49,24,30,38,34,22,30,61,36,51,63,63,27,46,26,43,50,57,19,29,20,18,22,23,69,56,53,28,28,48,49,48,32,27,19,47,25,72,29,22,57,50,45,36,20,75,28,53,17,46,39,38,36,63,28,28,49,43,39,42,40,45,29,24,44,40,30,42,52,43,62,30,83,41,25,48,59,44,36,40,21,41,24,67,24,50,48,29,50,49,20,30,37,22,77,19,42,35,27,54,37,37,28,63,19,28,23,64,59,22,40,35,20,35,28,28,37,25,37,19,31,41,44,20,57,26,44,29,21,21,24,28,35,35,38,44,57,19,29,23,50,51,28,44,29,31,34,31,39,28,18,51,58,66,36,38,25,25,90,41,34,33,33,39,59,19,39,19,27,52,59,28,37,50,23,19,33,27,31,21,31,19,47,34,57,51,21,30,46,40,52,23,90,25,43,22,33,65,50,29,25,54,44,24,25,65,56,23,20,24,40,38,23,44,20,29,43,30,28,52,38,66,63,21,33,46,20,47,66,20,28,46,25,37,31,49,22,29,18,31,23,54,50,24,17,49,49,36,23,63,23,22,66,25,30,35,67,30,26,34,21,18,21,76,51,26,18,18,34,59,33,25,48,64,26,21,54,30,41,34,20,24,26,25,35,33,18,27,32,51,38,41,26,38,30,31,26,75,29,24,22,34,42,24,42,27,20,51,68,28,43,35,44,41,20,32,46,26,20,36,36,22,52,22,72,30,44,23,22,59,46,30,64,31,64,45,32,43,66,23,49,32,49,33,28,47,41,25,20,21,25,46,37,44,54,35,58,21,19,48,56,65,40,26,45,26,32,22,37,25,64,30,68,36,28,41,47,22,33,28,18,56,54,29,40,22,28,63,37,50,22,40,21,25,20,43,29,33,22,29,29,20,35,33,67,46,17,49,20,27,64,53,52,29,30,34,19,39,28,17,54,24,25,25,24,31,19,52,19,60,24,20,51,38,21,54,35,52,56,35,43,29,29,27,58,64,53,21,40,38,40,39,24,38,18,49,25,52,56,26,19,25,25,21,48,33,31,26,37,29,20,28,49,73,40,24,18,46,21,22,30,25,26,43,59,27,20,25,28,29,25,27,41,46,35,21,35,40,29,43,39,35,52,25,20,46,24,29,21,37,43,19,47,21,35,60,27,57,56,27,47,19,28,43,63,22,25,20,48,30,20,33,27,22,37,40,25,51,22,18,33,33,67,24,32,29,25,33,55,32,18,36,58,19,21,36,43,52,48,43,22,57,37,39,27,21,65,30,22,26,25,23,39,24,44,40,26,22,35,20,43,37,30,41,77,42,20,36,32,25,40,18,17,29,24,58,29,30,19,47,41,28,40,66,44,21,59,35,30,33,26,48,31,36,48,30,19,18,34,33,35,22,35,45,17,50,46,25,64,62,17,61,40,21,35,29,27,20,51,45,20,31,29,56,26,32,28,27,23,59,26,36,18,33,40,48,27,19,26,45,20,32,22,22,38,46,39,79,24,31,37,23,31,22,69,55,43,23,29,22,22,29,25,33,31,55,36,47,51,62,23,60,50,70,32,37,76,54,31,65,63,21,26,18,34,44,30,36,22,28,23,39,19,25,24,46,37,41,40,44,32,48,34,29,36,59,29,50,25,27,48,33,26,59,30,31,27,20,56,24,47,51,34,47,20,31,42,52,56,81,28,34,31,24,20,68,60,37,25,36,45,31,47,75,43,18,25,20,32,57,18,41,48,41,23,33,58,22,33,25,25,47,42,25,29,26,26,34,33,28,51,21,23,30,38,20,44,45,47,17,37,55,41,23,38,23,18,47,25,41,23,41,26,30,35,28,29,21,44,34,19,31,25,46,18,31,28,17,38,24,60,36,65,41,25,20,60,17,31,47,45,51,23,34,19,46,37,29,55,34,45,41,22,27,29,19,47,52,33,29,23,23,39,43,26,58,55,26,28,36,40,19,42,76,23,38,33,32,44,27,33,22,18,44,42,34,45,57,52,17,29,20,50,55,27,28,55,44,53,23,25,44,46,26,30,52,39,21,22,26,26,42,40,22,44,18,33,45,18,32,20,68,45,32,35,39,53,30,37,40,25,41,33,28,53,44,35,38,34,33,24,65,29,37,62,54,90,33,57,25,52,21,31,39,59,29,49,34,22,32,39,46,34,28,18,20,20,55,22,60,40,47,23,57,52,42,25,41,40,58,26,57,28,42,28,17,39,28,51,27,41,28,73,49,27,32,32,27,22,58,26,21,23,67,41,36,18,25,43,21,65,66,33,51,27,17,61,43,63,42,17,30,30,22,53,28,25,24,34,26,63,25,28,36,24,51,18,61,43,51,27,24,20,57,49,42,22,21,52,25,50,35,50,58,48,30,18,29,52,63,24,30,23,35,21,28,20,18,21,27,42,21,27,23,22,38,20,90,35,23,34,23,39,19,40,44,25,32,36,80,21,35,77,30,35,49,33,53,41,21,19,28,42,29,38,26,40,28,25,42,32,32,37,39,49,28,24,19,31,40,29,59,27,58,53,23,35,49,49,25,28,20,74,19,28,31,61,30,20,23,19,26,34,49,35,38,36,54,19,18,60,28,43,49,25,17,30,25,27,29,31,43,46,59,26,26,20,19,23,24,42,31,31,63,29,43,22,17,35,32,25,26,32,29,60,21,71,22,50,23,74,67,28,45,63,39,33,32,39,29,22,46,44,56,27,52,37,33,35,46,35,33,48,32,18,20,35,19,21,56,28,45,32,44,36,25,28,53,47,49,22,31,44,19,37,60,23,54,23,21,19,19,22,22,49,35,38,41,27,55,25,26,43,43,56,25,60,28,21,40,29,20,18,32,27,48,20,55,21,43,35,19,25,27,69,34,20,37,43,62,31,26,39,25,54,21,50,33,33,21,35,57,51,29,51,35,18,58,19,37,38,45,64,38,30,46,18,30,39,27,44,33,58,45,59,29,27,27,55,32,31,78,28,30,66,31,26,24,23,23,55,39,57,35,23,44,28,26,23,32,36,36,41,43,35,46,46,56,45,21,47,42,19,25,35,40,57,48,34,46,30,45,35,56,50,25,41,35,37,19,31,33,72,30,30,32,35,38,19,32,49,76,60,60,41,24,69,71,32,45,59,31,40,63,51,51,23,49,56,30,43,31,44,46,19,19,39,37,28,40,27,22,21,32,20,46,26,47,22,34,49,20,28,30,23,20,31,46,42,60,30,27,20,61,60,33,40,20,46,21,37,42,20,32,62,49,48,24,42,52,58,37,34,26,18,33,41,21,23,26,33,24,43,52,27,61,35,35,22,20,19,27,42,27,23,20,47,17,76,39,25,31,44,34,45,34,36,45,37,38,65,49,24,54,17,19,60,78,26,58,37,30,19,22,50,25,18,21,47,33,39,19,18,36,23,25,40,73,35,20,20,27,66,66,64,48,24,51,33,50,51,41,30,59,37,28,19,28,62,58,42,43,29,32,64,26,19,21,32,30,26,20,19,23,29,42,30,63,34,60,48,25,27,32,22,25,18,24,29,73,33,22,33,33,42,43,42,22,21,39,20,47,44,29,52,36,26,20,34,56,24,24,23,27,25,29,51,31,59,29,18,24,38,36,34,45,21,32,53,42,32,49,62,28,32,44,19,22,24,56,37,43,32,34,44,28,35,38,26,20,40,23,79,44,30,33,41,28,31,22,67,23,29,47,51,34,29,25,21,38,61,41,27,26,43,55,25,26,25,22,61,42,21,44,65,56,33,22,43,45,42,37,56,35,40,31,26,26,42,45,22,33,37,48,57,47,58,55,52,29,42,23,23,46,30,25,56,33,19,20,34,34,55,55,31,30,31,51,59,58,40,54,18,41,57,46,39,19,41,54,26,57,60,22,58,18,56,40,38,58,23,63,51,22,44,46,64,31,21,30,31,54,59,57,44,53,19,31,27,46,37,27,33,20,55,39,41,30,39,28,25,31,51,24,70,23,61,47,56,20,30,27,60,71,29,33,33,33,33,32,21,38,39,17,21,36,28,37,50,49,40,49,33,24,41,84,23,30,46,34,54,27,25,24,36,31,66,90,22,47,55,32,48,21,33,27,47,18,23,18,56,24,23,26,42,23,53,40,27,24,42,41,23,42,63,31,18,21,24,55,20,31,23,35,51,19,38,52,70,53,39,18,41,19,24,25,32,35,18,37,30,22,50,70,77,30,33,22,33,27,35,32,37,17,31,54,23,40,29,38,30,20,43,25,41,24,20,25,34,46,42,34,43,42,31,70,32,42,21,24,23,37,19,29,30,36,49,29,45,42,37,51,61,33,50,59,25,22,44,35,57,27,50,30,46,33,40,51,37,64,41,18,44,37,34,24,20,38,28,20,22,55,20,26,20,40,54,24,25,18,49,17,34,37,20,30,44,40,58,44,39,19,29,34,38,27,54,40,19,17,33,80,24,28,21,51,19,42,60,20,51,21,37,26,40,33,47,26,59,70,26,47,25,46,67,53,22,39,54,24,37,41,36,39,26,49,57,29,21,51,46,50,36,31,20,36,38,18,33,35,23,37,25,51,35,54,66,32,45,61,40,24,49,34,28,20,30,26,63,36,22,31,49,23,34,44,33,21,55,17,75,61,53,30,29,25,37,43,40,31,21,32,26,44,21,26,40,19,58,28,26,64,45,41,51,34,35,41,39,41,33,22,25,25,33,66,19,44,28,19,33,44,62,41,23,38,29,66,19,23,39,33,43,27,33,26,46,38,90,20,29,49,23,20,57,46,24,49,54,31,18,19,46,43,58,43,37,21,28,34,39,49,31,18,46,21,18,58,36,38,19,38,26,38,36,25,33,63,51,34,33,25,30,19,26,21,60,28,19,42,36,35,22,36,55,57,56,24,51,34,36,51,42,25,22,37,40,52,18,27,48,63,38,31,40,41,28,30,39,28,31,21,33,22,42,36,39,61,31,21,39,34,21,21,81,54,34,41,61,63,24,20,44,31,41,53,63,71,57,22,30,20,28,54,20,34,21,29,51,39,19,22,59,18,22,39,28,22,67,17,23,20,22,47,64,35,52,29,73,35,18,24,33,40,55,44,40,22,45,56,44,32,17,44,32,27,32,68,20,33,24,48,45,48,39,23,23,36,25,52,35,41,58,67,48,63,36,32,36,43,27,17,45,41,41,18,48,26,54,22,19,47,32,35,52,73,17,32,19,26,52,35,57,35,33,56,42,17,49,34,37,22,27,21,59,53,26,39,34,54,60,48,35,40,30,31,46,67,62,38,24,24,27,43,48,41,30,45,55,46,24,31,35,37,29,25,33,44,21,21,63,44,31,26,37,33,38,26,46,24,27,46,47,69,51,50,29,32,27,60,31,46,40,69,56,47,25,34,24,63,29,64,44,26,36,37,33,19,20,20,25,40,18,26,45,35,32,61,26,22,49,40,37,23,27,34,49,41,28,47,28,41,73,21,38,64,47,24,27,49,23,19,21,56,35,37,30,35,47,55,22,31,24,49,23,50,38,20,45,19,31,38,24,58,28,22,46,30,32,50,28,30,24,42,18,46,19,50,53,45,21,42,37,46,45,32,30,37,18,46,36,33,48,34,33,36,23,39,22,19,46,47,52,38,32,54,20,25,25,36,69,20,21,21,25,39,33,29,48,29,34,20,45,22,23,19,24,20,32,18,27,26,52,24,42,20,20,39,68,35,54,24,24,20,64,28,36,44,22,56,24,24,22,21,41,19,67,20,32,46,52,44,65,27,35,30,64,35,28,33,25,53,63,27,31,33,19,31,53,47,27,22,52,32,23,27,53,18,41,27,30,41,21,58,45,40,21,29,50,26,23,27,36,22,37,54,36,44,49,18,26,32,35,40,40,30,19,31,50,38,29,49,27,47,30,37,37,51,27,53,45,37,40,33,28,25,33,34,21,63,21,50,66,19,31,23,35,32,20,49,64,60,25,21,26,23,24,46,38,20,28,26,58,31,37,45,33,33,35,60,21,38,40,27,20,49,46,20,43,25,48,36,18,60,44,32,29,17,41,56,28,28,19,36,25,42,26,35,37,39,23,31,20,36,37,39,32,59,29,50,42,32,20,50,18,60,60,42,49,35,30,55,19,39,48,21,23,22,19,23,23,23,22,18,34,30,62,51,34,28,56,46,23,33,27,21,18,37,39,24,26,37,34,33,33,20,26,17,53,31,34,23,22,21,40,32,29,68,23,54,21,40,19,21,35,39,38,26,35,70,45,83,59,18,31,24,33,48,27,41,25,66,30,22,35,51,40,26,53,32,29,42,22,62,33,21,25,29,29,50,22,40,28,54,29,49,46,71,27,56,23,26,31,36,25,27,24,50,30,24,29,31,54,20,37,28,46,35,34,34,19,61,45,36,34,27,22,26,19,36,51,20,42,40,25,40,49,46,32,28,19,19,18,39,60,46,45,60,30,22,23,48,46,25,50,61,35,65,56,43,55,22,40,35,22,20,43,46,39,34,35,30,25,35,41,32,50,20,29,20,41,27,37,62,31,49,33,19,44,62,17,31,29,43,40,18,47,38,37,40,43,32,64,18,40,17,23,45,45,27,23,58,35,33,24,44,23,31,24,32,27,35,27,30,33,29,26,39,53,33,69,20,56,49,34,70,44,58,42,41,28,24,18,69,84,19,24,48,53,58,22,36,34,43,37,21,49,35,49,28,51,30,56,20,22,54,22,68,56,23,69,41,33,18,17,31,62,41,20,23,18,53,42,23,43,47,53,28,28,44,58,25,26,36,27,25,17,39,52,24,26,24,20,40,33,19,37,21,33,28,48,43,32,28,47,26,55,40,38,53,27,62,47,26,33,59,42,58,30,21,61,33,70,29,46,35,23,26,25,33,28,68,35,36,33,22,24,57,41,26,25,53,28,30,38,37,30,41,29,31,36,59,33,50,28,81,24,32,44,24,52,22,28,47,43,25,25,59,29,30,24,38,26,30,30,33,46,40,18,22,50,62,22,33,31,29,24,29,33,28,22,37,30,49,29,25,36,36,21,18,30,44,40,43,29,40,43,20,32,19,21,23,24,52,51,19,50,29,17,47,46,30,58,48,23,23,45,20,26,26,47,31,19,23,35,28,21,50,30,31,31,34,24,55,33,51,30,41,27,40,36,37,40,35,20,45,35,32,23,19,44,20,44,41,19,48,40,20,33,30,23,34,32,22,45,47,34,39,29,42,48,51,44,32,22,24,33,47,64,39,42,55,29,42,32,36,50,27,47,33,48,23,26,61,50,19,18,44,54,27,50,43,28,47,21,30,19,40,67,31,30,54,51,34,50,29,17,24,52,18,32,25,34,37,23,45,30,20,41,21,48,34,25,41,42,44,25,23,27,27,57,17,59,34,30,31,18,23,19,20,52,27,19,38,19,41,23,24,24,22,42,35,32,51,31,27,57,40,31,23,42,60,20,27,31,29,22,28,79,29,60,58,20,47,37,21,68,43,23,23,40,45,22,24,23,26,24,22,36,20,18,43,56,31,73,32,66,22,51,31,65,39,48,20,28,29,48,36,40,57,26,37,26,42,62,27,76,20,29,32,22,30,43,23,41,23,39,19,23,25,40,49,24,62,45,62,48,56,28,23,43,55,48,43,18,56,39,46,36,42,17,57,73,50,35,27,24,27,23,25,26,47,40,58,25,29,36,46,69,69,28,20,54,25,64,17,53,50,57,51,20,47,25,20,46,54,53,21,58,61,56,59,72,33,48,33,21,27,31,28,45,46,25,17,26,35,33,37,39,42,64,43,34,31,26,43,33,46,26,24,40,61,34,85,41,31,22,60,29,34,35,24,45,21,21,45,28,19,41,43,28,65,31,28,45,43,31,45,20,25,36,31,56,26,47,40,32,34,37,38,19,49,18,26,82,40,28,23,19,67,41,37,20,40,40,39,24,78,67,66,52,59,72,35,36,26,23,40,29,38,63,30,38,25,21,41,75,29,52,47,24,30,27,26,32,36,26,25,39,27,24,35,29,49,36,47,21,38,66,19,18,37,49,34,54,24,48,23,29,21,18,18,29,29,41,32,61,79,34,29,23,64,28,51,20,34,29,49,77,32,22,35,62,33,45,19,38,26,29,35,42,20,69,39,37,28,26,32,49,28,35,19,57,45,23,45,42,35,28,64,44,41,21,29,22,49,38,23,20,40,25,27,20,37,40,38,42,32,20,62,31,31,24,62,21,30,22,18,59,49,19,33,23,30,32,39,21,23,32,57,22,70,53,21,37,57,65,25,30,31,19,23,44,42,34,25,21,31,36,49,44,30,33,17,20,32,33,37,60,35,43,22,33,61,28,22,27,25,32,28,25,28,58,39,33,58,34,31,65,45,23,38,40,19,45,34,70,32,33,24,30,22,67,40,55,29,62,22,64,29,28,25,18,52,36,23,41,53,26,22,25,31,36,46,32,43,37,22,51,40,46,23,30,31,31,30,27,22,28,34,26,53,23,42,36,22,27,42,39,20,55,47,36,39,21,48,30,24,57,20,18,56,57,33,28,31,60,50,23,30,20,49,47,37,25,37,47,34,39,32,24,28,41,69,32,24,22,36,23,35,35,18,43,53,54,29,46,24,30,23,27,36,38,33,66,45,68,17,40,34,56,42,30,47,57,34,40,22,29,36,36,18,27,30,36,48,21,41,61,64,35,44,20,23,52,43,32,63,42,65,24,42,35,38,26,46,39,29,26,55,41,24,47,18,27,36,21,29,25,73,43,47,20,22,76,24,54,33,30,27,49,30,22,19,46,51,56,53,60,27,46,41,57,44,32,27,57,59,90,22,39,61,24,25,44,30,36,60,49,53,23,28,20,43,31,29,24,39,20,23,42,53,20,58,51,25,38,25,50,31,22,37,32,40,41,56,20,27,39,57,77,46,20,30,30,22,18,28,28,21,37,28,23,32,27,55,25,29,50,18,74,22,27,27,23,32,41,48,51,34,52,53,54,36,25,20,23,20,28,73,67,32,42,33,37,33,31,21,24,26,26,33,25,21,24,68,66,38,71,37,27,49,19,25,40,38,25,25,23,28,29,32,34,33,19,41,18,49,20,57,35,66,27,25,19,59,25,75,21,21,20,32,28,53,19,58,22,23,21,36,39,34,41,72,32,37,21,21,26,18,27,20,31,34,33,42,30,28,25,40,36,21,24,46,35,33,21,58,21,22,22,23,24,38,49,21,55,47,19,47,36,28,42,32,34,33,53,24,23,36,19,26,22,39,38,19,26,52,41,45,34,36,19,26,60,35,39,27,26,17,53,35,36,21,29,22,50,24,36,42,38,52,46,23,54,27,42,33,19,59,54,48,19,45,36,35,47,33,48,42,19,64,51,20,28,29,51,36,52,25,36,44,47,32,37,40,34,26,49,46,31,22,20,26,31,46,22,38,35,27,27,46,40,19,20,34,27,21,51,64,18,49,51,20,69,18,43,50,32,27,38,46,19,17,21,36,36,23,40,64,66,42,55,25,39,20,32,28,23,18,29,32,31,60,42,18,31,54,46,27,38,36,25,19,60,45,21,42,38,22,19,23,24,30,62,26,33,35,33,45,24,50,58,39,32,27,27,20,64,55,46,45,26,36,25,39,47,35,38,50,36,28,44,40,29,33,19,23,31,22,59,32,49,22,26,23,55,44,27,20,84,40,37,44,47,62,19,47,44,26,36,52,33,48,33,25,62,38,46,18,38,63,49,17,33,70,19,61,29,40,24,29,61,48,19,30,24,39,46,27,25,31,58,40,31,33,49,24,46,20,65,43,48,41,27,52,26,52,52,19,39,47,27,48,50,60,47,69,40,37,41,38,46,21,44,38,42,32,24,26,36,49,73,34,22,49,25,39,19,24,34,35,21,43,35,39,33,19,17,43,62,47,30,53,24,41,58,27,63,50,29,41,55,36,23,58,25,40,38,19,55,28,53,32,60,32,34,21,24,53,29,34,52,41,21,31,38,62,51,30,24,36,57,33,42,62,64,18,43,62,29,69,34,25,47,17,41,19,57,25,29,32,52,41,29,23,31,40,19,21,64,37,22,29,37,29,38,27,60,20,37,56,19,37,27,27,52,45,28,20,28,44,30,26,55,46,51,25,43,19,36,36,48,30,30,62,41,36,47,49,52,26,51,18,30,46,28,49,69,78,24,29,36,17,64,33,32,19,42,24,23,51,31,44,38,36,29,46,47,27,43,31,39,36,78,24,39,21,22,36,67,42,58,37,39,25,30,49,36,23,51,55,35,45,32,39,47,44,40,17,18,30,66,59,30,50,24,28,25,20,67,52,17,35,38,50,18,67,46,60,29,30,56,37,55,24,21,25,40,23,43,59,18,28,17,22,63,40,35,43,20,48,56,51,34,34,23,63,31,27,28,52,31,53,43,43,68,37,26,22,22,30,24,30,38,29,76,21,65,29,32,64,68,35,53,24,31,25,36,29,42,30,32,19,22,69,73,18,33,22,20,28,25,27,22,67,31,36,33,27,36,33,25,41,26,23,33,30,67,51,39,40,19,28,20,41,29,61,25,26,43,17,73,46,19,37,26,47,47,29,29,33,20,28,26,41,67,43,35,18,55,44,64,34,25,21,37,39,34,23,25,51,29,27,53,30,24,70,24,74,23,41,45,35,21,45,18,49,49,45,27,28,33,35,19,33,49,61,39,22,42,22,18,28,42,20,50,31,29,46,32,61,43,35,39,18,42,23,32,23,27,56,28,45,28,28,18,62,35,39,24,58,48,31,25,29,38,21,34,50,50,49,30,29,22,42,19,31,42,20,51,27,26,20,52,33,31,24,56,19,29,18,43,21,51,20,20,47,80,47,19,45,17,37,27,17,18,57,26,26,38,77,24,35,35,37,43,23,42,52,29,27,28,28,24,20,65,18,29,27,36,55,22,28,20,24,68,18,37,43,17,43,39,21,42,21,40,38,51,19,23,31,42,34,21,30,29,19,45,32,90,35,39,29,24,49,31,44,18,27,24,30,27,34,25,39,51,21,33,27,29,33,20,24,29,41,42,20,54,55,21,19,33,22,59,17,31,45,36,35,45,42,50,39,44,24,56,38,27,52,22,41,30,55,25,32,28,33,17,27,55,39,67,41,27,18,19,31,17,37,51,48,23,27,25,69,30,33,28,45,25,59,26,48,64,39,24,40,31,22,35,35,35,50,70,46,36,24,47,35,43,18,54,62,27,23,39,28,22,26,73,44,35,33,27,33,50,32,41,19,65,42,38,38,37,24,27,25,29,46,44,26,38,38,22,33,50,26,42,27,64,43,39,56,25,60,52,43,46,19,56,22,28,39,28,22,28,67,31,50,34,51,54,44,20,37,38,59,59,60,29,37,42,34,22,27,45,39,25,63,18,19,23,20,17,29,64,17,45,18,31,41,27,39,58,25,41,31,50,63,44,48,51,18,23,31,38,19,31,46,56,31,18,18,20,31,52,46,30,26,29,24,74,39,21,43,23,26,47,27,30,33,21,42,48,46,36,54,25,26,36,56,37,23,23,41,67,60,54,19,20,66,22,19,36,41,78,36,30,35,38,24,40,49,19,77,41,28,21,24,36,23,38,29,39,40,21,32,23,44,37,70,66,57,24,27,32,20,33,19,26,39,24,20,49,35,30,23,33,35,31,20,44,33,50,25,28,38,38,57,39,69,42,37,37,20,38,47,33,33,20,41,54,36,46,18,62,33,42,18,32,43,20,50,36,22,30,33,43,38,34,40,40,65,52,18,48,45,24,27,44,24,71,17,57,37,33,41,25,42,18,34,57,27,46,64,24,23,33,58,25,44,25,54,31,18,40,26,33,22,50,24,44,37,34,25,20,46,26,45,70,28,35,32,36,19,27,49,61,42,30,32,35,30,36,33,26,37,28,38,76,35,48,35,39,64,22,27,23,25,63,26,33,45,28,20,34,34,38,43,49,26,28,53,24,23,55,58,26,19,28,45,76,47,34,24,24,43,29,40,61,21,52,34,20,25,46,54,25,21,37,38,35,32,44,39,23,23,47,47,25,35,68,47,24,21,30,17,49,27,22,22,50,27,27,23,20,42,35,22,34,28,38,22,34,23,43,23,57,24,34,29,29,48,38,42,53,29,59,31,34,25,28,46,45,23,33,25,48,23,20,23,71,22,27,40,30,30,30,35,39,39,74,25,64,22,56,37,30,20,23,43,30,20,22,38,54,23,46,59,28,18,41,42,24,28,25,29,53,63,26,21,29,72,51,21,38,46,68,43,21,44,20,21,52,51,29,36,29,21,58,37,50,30,29,48,50,35,24,20,19,26,25,33,30,30,19,23,20,39,33,65,20,23,25,31,28,37,66,31,45,45,44,32,53,43,30,49,20,45,48,32,27,38,33,36,38,24,22,30,39,50,34,46,23,43,45,55,68,39,39,37,19,20,49,33,21,72,43,62,21,26,27,49,28,45,47,52,47,43,49,17,28,25,69,41,47,50,36,17,79,67,27,21,46,20,17,33,55,55,47,29,36,37,41,24,39,47,42,48,27,29,22,37,38,32,48,46,51,28,35,18,45,36,73,52,17,20,37,40,20,25,18,33,26,24,33,23,20,36,37,24,50,57,37,44,21,20,52,47,41,49,65,50,18,17,73,48,64,38,26,54,65,29,37,36,33,62,20,66,32,29,70,74,37,51,50,26,58,30,32,23,35,50,17,35,31,30,35,46,50,37,32,22,29,35,38,29,26,34,30,20,37,32,36,78,46,18,57,37,45,32,38,25,70,40,20,24,28,58,38,59,18,40,39,45,62,24,22,23,28,44,73,24,24,52,43,67,31,43,31,23,26,48,40,55,34,29,50,19,66,65,60,60,19,26,75,58,18,65,26,19,23,21,48,41,32,40,19,30,42,23,21,50,20,21,21,45,49,41,48,73,34,24,58,53,40,32,44,18,37,43,22,28,51,63,29,44,37,62,31,20,48,24,56,36,29,39,29,38,23,37,30,58,42,59,46,25,41,37,31,22,22,17,17,39,23,21,33,17,41,19,24,38,19,31,42,36,29,17,24,40,31,59,29,26,25,17,29,23,67,29,33,32,34,49,54,39,41,31,27,23,25,23,62,31,19,22,53,25,45,69,22,36,54,28,28,36,73,37,24,30,38,42,54,27,39,27,30,30,37,36,22,21,33,76,22,37,34,29,29,28,73,43,39,74,27,47,90,69,18,23,44,41,47,33,48,39,18,52,18,27,45,79,24,25,42,63,42,37,65,30,46,23,47,20,21,28,61,30,39,23,32,63,19,23,30,43,64,56,32,55,17,17,29,23,37,39,31,71,56,20,33,27,45,54,33,27,36,33,19,30,22,26,36,35,24,38,50,41,36,35,52,67,58,68,71,49,35,18,29,47,31,22,20,57,18,32,39,37,51,35,40,19,28,23,18,23,47,42,25,17,34,29,22,46,69,19,59,41,47,64,29,29,17,24,28,35,48,36,38,49,36,25,41,35,32,48,56,47,30,22,67,26,35,37,34,51,26,28,32,55,17,40,38,44,25,45,62,20,45,49,24,29,23,50,32,73,24,46,37,17,30,19,30,90,76,47,65,25,41,47,27,42,49,19,24,33,44,45,35,58,45,24,36,61,56,50,25,23,44,38,35,25,78,18,40,61,31,33,35,19,31,27,29,27,31,26,53,23,32,54,36,22,62,27,35,41,42,24,35,46,33,68,33,23,35,40,36,46,49,41,26,37,20,30,23,28,34,58,33,38,67,23,54,26,31,36,25,40,52,25,51,19,35,30,38,45,23,22,21,60,26,49,29,40,34,42,33,63,53,43,26,56,39,44,40,38,44,34,22,43,23,41,44,32,24,39,32,40,34,34,71,54,26,28,42,45,37,57,39,30,19,39,55,17,43,36,45,21,43,34,33,40,46,20,54,23,58,25,42,25,60,43,25,31,35,48,27,24,52,31,59,27,24,46,55,76,25,33,46,51,42,41,42,31,35,40,35,23,50,43,29,21,36,40,23,90,24,20,37,31,22,25,48,36,26,28,20,51,55,41,65,22,22,24,67,28,31,33,52,47,40,35,65,42,23,39,39,37,25,31,39,25,30,37,22,54,33,70,36,53,55,17,36,40,28,49,63,61,55,18,20,49,27,37,32,33,47,34,61,25,26,18,35,36,40,24,42,28,39,65,20,39,18,49,21,35,55,27,34,54,38,32,33,32,34,23,48,25,43,27,56,54,60,27,21,24,31,22,26,45,33,55,29,72,53,40,20,69,41,27,55,45,64,38,17,22,23,25,31,37,53,28,41,61,25,20,28,53,28,38,25,19,20,27,21,30,47,22,26,27,57,18,30,34,60,39,27,65,27,32,45,18,27,57,26,49,53,22,26,50,57,21,58,33,34,20,57,57,21,40,23,54,22,27,42,36,22,40,26,46,46,55,76,27,75,36,51,44,20,60,73,27,35,31,34,19,25,48,38,53,19,41,23,32,35,21,24,34,24,55,28,46,38,29,29,40,30,72,17,46,38,36,24,28,28,37,30,68,45,26,22,22,52,68,52,46,17,29,45,30,45,40,38,22,59,36,40,18,62,63,29,20,48,29,22,42,36,60,41,34,32,22,52,27,34,35,39,64,17,29,43,30,17,29,24,27,69,30,29,17,61,70,21,27,19,36,29,28,34,18,39,34,35,24,41,68,35,47,43,35,34,26,50,22,20,18,52,71,55,17,36,25,27,42,22,34,31,24,41,30,17,26,32,55,19,28,55,23,43,40,23,20,21,28,44,31,50,28,34,23,35,90,20,42,56,31,23,60,28,44,27,49,48,27,31,24,24,25,36,38,57,41,19,44,34,25,27,22,34,21,24,19,82,32,45,30,28,28,29,60,28,38,42,24,36,39,22,46,28,34,42,43,35,60,22,39,39,37,48,33,65,28,24,48,35,62,42,40,39,43,43,35,32,18,37,26,51,35,33,34,29,47,45,53,52,25,20,29,56,56,62,28,31,24,65,40,31,35,20,30,25,22,65,31,51,36,44,28,33,48,39,17,28,18,42,39,29,21,36,56,49,47,44,40,62,25,51,25,62,27,48,32,36,30,45,27,41,61,70,55,35,36,29,30,45,39,18,28,27,38,33,25,38,23,40,20,41,44,22,26,47,48,28,44,20,36,77,21,24,30,51,22,23,17,34,19,42,23,63,65,35,21,48,43,22,56,47,26,39,45,49,23,69,40,25,52,28,21,63,28,58,41,67,62,26,29,25,20,21,25,37,29,18,32,58,29,29,21,49,60,30,55,64,29,42,55,43,28,34,43,24,21,20,31,38,22,20,44,44,38,21,24,24,28,39,48,24,50,68,31,22,18,25,28,17,24,20,44,57,24,22,41,51,46,52,26,17,64,28,51,39,48,47,52,58,19,23,31,32,50,18,26,36,26,19,54,29,81,36,18,44,36,17,27,52,24,57,19,38,46,29,33,26,28,26,37,49,28,57,60,20,38,51,60,37,44,19,59,50,46,18,32,32,25,36,56,17,56,61,25,27,50,33,38,51,27,49,26,37,38,33,30,25,37,17,65,57,33,41,45,50,18,19,26,67,29,27,35,22,25,26,27,26,51,60,24,40,69,65,38,18,24,52,21,64,25,39,26,19,26,38,45,18,51,36,18,37,21,33,23,52,28,23,17,22,40,90,28,44,17,27,60,33,19,28,22,48,76,19,28,58,19,37,22,31,50,62,26,64,38,28,19,39,36,39,51,28,40,27,32,49,34,24,54,52,43,84,35,56,30,54,35,32,32,60,40,50,53,17,45,23,25,28,27,19,24,38,24,18,58,43,45,24,63,40,21,20,47,48,61,23,46,18,62,20,28,57,56,33,19,29,30,53,25,44,22,40,25,30,51,17,34,42,41,32,32,47,50,77,33,47,64,34,34,37,22,50,46,43,36,48,37,27,23,37,35,49,71,63,41,24,41,33,42,23,49,28,31,28,37,19,51,25,49,47,48,41,32,26,46,17,34,44,23,35,30,65,34,39,28,34,21,53,32,39,39,29,29,20,39,45,36,71,62,43,31,19,32,43,34,66,46,23,63,63,30,28,37,22,54,21,36,62,47,28,46,22,37,69,20,22,48,68,39,23,22,23,25,58,33,28,19,44,68,24,44,31,29,65,55,49,27,41,22,66,38,40,30,35,33,33,27,22,26,64,48,23,26,35,65,53,18,28,61,59,31,25,81,47,39,37,37,27,22,23,19,36,48,39,29,39,26,37,27,28,35,54,17,18,33,33,51,49,49,64,49,23,34,47,30,23,47,61,47,20,38,56,32,19,20,42,38,35,24,40,21,49,18,52,27,20,31,25,19,33,23,34,37,25,40,33,31,32,32,29,26,39,54,57,23,31,49,50,46,37,26,27,24,24,29,33,26,20,57,36,25,39,18,46,41,50,36,38,75,25,31,49,34,31,47,18,47,42,29,38,22,32,20,41,44,35,18,36,30,21,25,56,26,48,35,19,55,45,29,65,30,43,61,22,23,34,51,21,31,34,21,75,43,31,41,26,23,42,29,21,28,64,35,65,34,58,59,28,51,34,51,41,28,62,22,34,37,21,49,24,20,40,19,31,39,50,52,44,17,33,28,39,33,59,74,31,31,20,42,57,49,19,38,32,57,25,40,35,53,21,43,43,22,64,19,40,34,46,35,32,26,25,22,29,38,55,26,34,25,39,18,58,34,29,38,21,29,48,40,57,24,32,18,39,39,18,20,27,54,27,27,43,22,17,49,33,21,45,33,25,71,23,21,47,30,40,44,31,68,45,38,78,31,39,46,34,30,62,44,40,20,51,38,30,20,34,42,62,21,58,30,37,22,64,43,34,25,21,24,70,27,34,57,37,32,42,24,50,36,42,40,39,38,18,63,82,33,37,24,31,59,18,47,48,27,34,50,57,60,18,26,20,29,30,21,24,51,31,36,29,20,46,44,39,39,28,44,27,34,35,28,25,21,18,63,18,32,25,19,23,38,43,30,46,24,23,27,48,31,31,18,36,51,22,72,61,42,37,40,20,65,36,37,33,64,38,24,47,73,66,44,59,52,46,20,41,39,30,59,22,40,39,24,51,34,17,20,42,56,17,23,33,36,37,52,28,59,30,32,30,53,54,26,34,31,34,30,53,27,23,24,33,22,47,41,45,24,65,45,23,54,40,45,50,40,24,42,58,47,37,22,29,49,72,63,26,58,40,56,55,28,57,44,31,42,18,57,53,33,42,70,50,50,28,72,33,47,19,48,24,42,34,55,22,39,50,25,52,30,37,73,50,34,24,22,69,23,55,35,20,34,33,43,60,81,32,34,46,30,23,29,51,31,36,23,35,28,40,27,47,38,65,54,49,23,77,19,30,20,49,50,22,19,39,45,61,45,36,38,52,33,40,34,19,40,20,24,76,20,31,33,19,29,30,42,37,28,76,21,29,44,38,29,20,17,45,42,29,23,20,23,39,43,25,40,52,48,37,36,33,24,42,35,40,50,22,57,61,71,38,25,33,40,39,29,33,46,28,20,34,34,25,36,61,38,57,20,56,24,60,37,54,40,18,64,24,33,31,31,39,22,31,68,59,35,25,23,35,17,19,59,37,74,28,40,30,20,51,17,37,19,58,57,37,23,36,33,30,30,23,53,31,41,36,30,44,36,48,22,38,31,32,35,21,26,19,33,30,52,57,50,37,69,33,36,63,21,17,56,90,27,38,33,26,20,42,55,32,66,49,34,40,22,46,29,19,71,37,27,52,31,28,25,31,29,45,69,50,17,32,23,61,55,24,30,21,25,49,40,62,34,18,28,32,22,34,47,19,46,56,42,25,42,17,62,20,47,40,48,53,40,34,41,41,20,42,54,39,37,59,69,24,21,68,20,26,48,21,22,34,46,23,28,20,28,52,22,29,31,38,21,43,33,17,45,55,65,21,40,58,53,56,37,44,49,59,33,26,22,25,28,41,45,43,30,33,34,21,48,22,47,27,18,36,37,24,24,38,75,64,36,53,22,73,46,45,20,43,21,40,64,19,41,29,28,23,44,25,29,27,34,38,24,35,23,23,19,48,27,22,23,24,34,25,33,22,54,39,25,75,28,50,40,58,24,21,48,34,23,42,52,21,56,25,34,52,36,21,28,20,35,32,17,25,74,31,67,42,29,31,21,67,27,51,21,28,21,29,39,21,43,28,18,27,34,25,34,40,21,25,21,19,20,36,32,23,21,25,26,24,22,26,22,18,24,38,36,45,34,53,17,31,47,27,61,33,67,38,25,33,27,24,23,48,22,34,35,36,24,60,28,64,22,27,36,27,52,57,23,29,34,38,50,17,25,19,43,39,18,27,39,19,32,46,65,48,46,27,21,20,51,35,29,65,20,47,41,17,38,39,24,52,22,56,37,19,31,22,63,53,39,59,45,39,60,38,31,66,26,68,32,25,43,26,66,31,35,22,33,26,42,45,43,19,27,42,44,37,53,42,80,61,55,20,23,24,71,49,39,22,67,18,38,50,56,23,26,32,27,43,25,22,20,27,39,27,41,31,41,25,22,62,29,32,19,20,24,43,28,33,33,27,41,55,30,54,21,34,31,22,41,52,57,48,35,40,30,26,46,26,50,36,17,72,19,29,20,30,47,26,24,44,35,38,39,54,62,45,30,32,23,84,46,67,23,55,42,17,60,31,28,31,61,40,39,37,47,30,30,20,31,19,50,33,25,49,30,23,24,28,56,38,20,82,32,37,30,49,40,42,35,39,32,22,53,25,17,42,34,27,37,26,57,36,27,17,30,31,23,32,31,39,45,20,35,50,56,58,32,23,48,33,48,55,40,50,52,19,22,34,33,50,43,29,56,24,46,48,65,29,42,21,21,30,54,19,55,20,53,33,62,24,17,26,36,32,72,26,45,72,27,28,19,28,70,26,43,25,60,31,51,18,36,78,72,24,58,48,28,26,29,47,35,17,37,35,56,23,33,28,55,59,22,19,41,32,67,45,61,34,43,35,65,37,34,18,43,19,40,32,32,46,36,33,23,21,40,20,53,58,31,35,23,31,21,18,32,56,35,63,23,19,35,38,23,22,20,19,59,38,36,27,24,35,22,37,28,55,29,32,66,47,23,50,40,51,34,28,25,42,35,34,30,52,35,30,39,25,26,20,20,70,26,24,62,48,25,58,40,29,45,19,37,23,31,64,28,32,49,19,55,19,29,25,37,30,28,36,32,34,34,20,27,36,35,37,32,32,52,23,25,21,31,31,41,47,20,20,29,51,23,62,22,20,31,30,52,20,65,40,27,53,49,21,18,25,36,19,23,63,63,76,50,51,42,53,29,41,44,35,27,35,60,33,31,57,30,45,25,42,28,47,53,25,47,26,30,48,22,32,31,26,34,30,17,35,29,27,32,32,47,40,26,30,54,43,25,39,47,45,24,32,25,57,28,27,28,74,44,27,61,25,28,20,33,38,31,19,56,30,22,18,68,35,42,32,30,62,38,27,26,21,19,20,25,28,23,24,23,24,25,24,30,26,62,36,45,31,34,42,27,40,30,42,23,28,20,22,73,44,40,39,44,27,50,41,53,53,21,30,74,47,59,47,49,73,58,18,35,24,62,58,21,30,27,31,31,30,29,36,54,55,70,22,42,36,44,22,25,31,33,42,49,30,54,39,24,21,23,54,23,39,23,67,19,32,57,18,21,53,21,24,36,29,23,44,32,25,41,18,57,29,19,28,38,42,41,23,31,18,25,27,17,43,19,20,42,90,25,27,48,48,27,46,32,22,31,20,28,54,59,17,25,55,39,67,28,35,55,32,45,55,22,46,23,34,51,40,24,20,44,26,35,23,40,49,32,28,31,36,44,18,32,51,28,33,42,17,63,34,35,20,36,24,36,31,29,34,23,33,59,67,26,27,20,24,44,28,19,20,64,36,19,22,56,22,57,34,22,38,29,56,66,71,20,25,20,24,51,27,31,39,36,51,52,43,49,19,44,67,55,23,35,35,20,51,23,39,36,29,21,18,24,51,62,20,24,25,54,25,20,26,24,18,45,26,47,54,21,29,68,21,28,35,50,48,17,23,53,32,53,52,38,35,22,31,47,53,24,34,29,31,29,42,50,34,39,74,40,36,42,19,36,33,50,48,60,30,53,34,68,32,63,31,58,32,40,38,30,21,63,32,25,22,49,36,31,46,43,54,36,29,66,59,29,27,45,43,39,21,24,59,72,33,30,26,37,68,56,36,38,29,28,39,26,52,84,33,30,66,39,60,27,37,38,25,48,42,22,50,21,44,60,21,51,30,46,57,68,33,22,18,28,32,56,36,34,18,39,25,27,56,33,44,27,30,38,38,46,37,55,47,45,50,36,45,23,27,29,45,38,27,51,44,33,43,45,24,19,30,56,38,19,39,38,58,27,24,42,35,26,33,29,43,45,43,27,21,63,41,27,53,33,37,18,20,36,67,38,47,39,34,36,24,50,21,21,40,19,38,34,44,20,49,24,34,39,22,45,23,35,55,23,22,27,24,21,49,32,64,37,61,23,25,29,51,47,20,27,23,18,23,59,46,66,36,44,17,27,53,22,30,47,39,22,20,21,34,30,25,23,40,26,43,49,32,42,37,47,30,42,21,21,47,22,41,43,60,62,28,45,19,30,19,23,22,19,45,26,62,61,22,32,24,26,32,58,23,23,54,28,23,72,21,37,54,58,32,65,22,65,33,35,27,34,53,23,58,38,26,28,33,29,41,63,31,23,31,23,24,67,65,21,38,55,39,24,19,32,18,36,41,57,48,44,25,48,20,74,44,26,54,38,18,32,24,19,28,28,49,50,63,58,68,21,24,50,47,54,28,26,35,48,50,39,41,24,57,32,41,69,22,45,33,57,40,48,38,26,24,35,42,37,28,22,24,23,24,25,58,28,18,59,39,54,36,37,32,38,19,55,30,65,44,23,32,60,28,44,29,57,41,34,44,44,57,37,27,28,37,18,24,53,40,54,22,44,43,35,17,45,40,35,25,58,69,23,32,48,41,74,18,24,58,60,28,27,30,63,33,34,20,51,21,43,27,19,20,17,47,25,71,21,69,48,57,34,33,56,40,28,42,19,41,28,40,23,39,45,21,50,33,34,55,62,31,35,30,51,58,45,19,40,56,19,60,51,34,23,19,37,33,36,26,22,32,17,57,68,70,30,19,51,19,47,26,41,25,62,23,26,25,30,48,20,19,31,21,40,30,28,18,32,52,27,45,18,37,59,27,43,44,37,48,58,29,37,36,52,30,22,55,33,46,64,28,19,36,39,24,40,56,46,35,61,31,63,41,48,45,24,27,26,27,55,39,34,44,21,37,34,18,34,19,46,19,22,38,83,38,33,38,25,38,33,17,28,52,34,25,17,22,22,58,39,59,61,32,51,43,20,38,28,50,53,42,47,38,34,40,63,43,28,22,46,57,38,66,29,38,35,30,39,31,50,30,25,24,59,45,64,61,42,28,53,33,34,41,46,32,41,30,54,33,20,34,20,17,45,21,25,38,17,35,38,25,57,39,23,21,47,25,18,41,19,24,32,28,21,17,55,42,49,38,50,43,42,32,44,55,37,59,56,33,44,31,18,43,33,18,47,53,35,49,26,25,36,29,52,50,22,44,49,31,33,50,62,26,46,49,22,58,21,67,39,52,25,18,59,23,42,39,57,51,31,24,35,26,31,38,51,27,33,72,25,23,63,23,75,52,69,40,21,30,46,21,44,51,40,33,22,23,75,55,24,31,26,61,44,28,51,44,24,36,23,25,48,18,25,19,26,33,42,22,33,34,33,30,22,34,43,25,35,28,28,25,35,48,63,36,39,24,32,46,19,30,35,23,33,25,18,59,45,30,24,22,35,48,18,35,27,28,21,26,39,40,34,34,66,40,59,28,18,25,22,68,30,45,23,23,51,53,24,53,49,34,37,40,23,35,32,33,59,36,31,46,44,29,39,62,42,35,39,34,22,18,44,49,21,49,52,23,54,31,30,21,22,20,26,26,27,65,31,33,40,21,40,33,29,41,20,20,34,23,23,47,46,29,21,38,44,38,19,59,43,29,49,36,26,18,60,43,42,41,31,20,51,24,21,21,20,35,30,44,42,36,32,33,27,17,45,41,19,45,34,17,51,33,23,36,25,38,64,29,26,38,24,18,44,81,52,35,39,27,23,26,33,39,44,38,18,54,45,23,37,33,32,47,22,17,26,31,50,18,63,51,29,69,56,26,42,23,34,46,33,46,26,49,66,35,27,31,47,27,38,27,23,17,26,37,26,73,44,47,28,49,17,42,30,36,53,23,35,40,28,32,42,35,35,21,31,25,35,24,69,35,48,49,53,43,35,36,34,53,37,49,30,41,25,24,34,29,23,46,20,63,40,33,24,36,25,54,50,58,17,27,20,22,80,52,48,62,21,25,26,50,30,59,36,27,41,50,18,23,26,27,21,41,42,25,23,23,18,37,58,36,34,27,23,55,42,22,42,21,25,31,42,26,34,51,47,35,46,46,34,26,30,23,46,44,54,71,51,32,75,57,34,21,32,19,64,17,37,32,20,18,52,51,77,25,38,20,23,27,19,47,72,42,24,22,29,24,29,36,34,20,24,36,49,21,51,30,37,30,20,46,24,36,30,60,56,57,61,56,26,56,45,45,58,38,23,19,22,23,23,40,55,34,21,28,43,17,51,24,48,23,24,24,50,45,36,21,32,22,36,22,47,25,30,49,23,40,45,61,35,20,27,23,25,65,25,45,46,67,40,35,28,44,46,45,27,51,27,36,24,66,31,43,21,33,48,22,29,42,28,36,66,44,45,49,36,48,19,32,51,20,39,19,29,22,44,43,41,63,40,40,18,44,20,40,29,22,45,57,51,23,22,58,61,30,23,30,18,34,23,23,27,44,25,33,22,21,44,54,60,58,27,43,33,24,41,21,39,27,50,20,49,41,41,42,58,43,25,57,49,23,59,33,52,30,39,54,22,19,32,25,34,47,24,48,26,28,23,64,28,34,34,18,36,73,24,33,57,41,55,21,26,40,32,21,59,29,29,47,44,31,42,19,66,41,22,31,30,36,75,41,19,60,24,25,52,30,55,20,32,18,24,33,76,53,19,27,40,26,47,39,49,28,33,28,30,37,50,37,32,43,19,38,38,65,48,44,32,30,23,25,19,27,43,38,42,33,29,30,26,30,30,31,32,28,63,32,20,36,24,41,21,27,17,45,39,21,42,22,21,59,45,35,58,29,21,51,34,40,45,22,37,62,32,43,37,33,28,49,59,35,35,29,57,20,44,20,23,24,32,21,32,41,51,69,43,43,35,32,25,64,28,44,21,23,23,19,61,47,39,25,33,34,54,24,28,33,63,70,43,50,21,31,19,39,29,39,17,46,62,32,28,19,61,18,24,38,17,28,52,69,19,70,21,43,52,21,36,39,78,30,22,36,50,27,24,41,68,38,41,31,29,26,51,26,27,36,28,53,40,38,21,53,34,43,64,21,25,57,37,37,32,49,52,46,24,23,30,30,25,58,32,37,35,18,46,44,45,52,47,49,59,22,76,50,33,37,40,49,48,49,22,42,36,57,30,40,42,55,25,52,33,55,23,55,43,31,62,42,29,26,37,61,28,51,35,27,44,25,32,27,25,41,52,32,33,35,48,62,40,41,28,23,51,63,63,20,40,41,20,35,31,28,37,43,26,26,27,33,45,65,59,18,44,37,27,19,36,63,37,46,31,23,22,49,36,38,24,26,47,31,42,56,17,21,50,49,34,23,24,31,36,58,46,48,21,39,21,29,43,22,69,17,18,54,65,28,27,33,26,51,26,44,36,42,44,21,27,60,24,24,22,32,22,51,37,18,46,23,19,37,39,46,47,33,69,21,27,23,26,42,36,24,35,42,27,18,31,26,67,51,26,25,43,23,60,38,21,18,43,26,38,43,58,55,39,38,54,57,35,36,58,39,25,54,23,37,60,66,36,29,25,62,23,38,49,57,46,26,40,39,39,31,31,27,36,57,24,30,28,22,31,20,25,49,21,41,23,41,30,29,31,64,55,19,18,68,50,36,20,18,32,49,34,22,40,35,26,44,55,21,54,39,52,67,58,27,66,41,18,50,31,32,37,26,33,35,44,26,48,40,62,18,48,45,35,35,34,29,19,53,49,71,38,39,23,52,20,30,56,26,36,26,24,41,27,28,57,21,50,27,58,27,36,33,19,26,37,53,32,18,40,50,28,34,37,25,21,26,47,18,22,36,59,33,33,53,44,55,56,54,51,31,44,22,43,26,30,30,46,27,26,25,30,43,71,46,44,42,26,24,17,45,22,63,22,27,33,64,44,31,44,53,33,34,27,43,80,31,53,58,23,31,52,24,45,52,54,28,21,23,36,22,55,71,17,32,27,40,30,17,33,72,65,32,26,22,31,28,34,27,47,20,24,37,42,20,68,22,72,45,30,33,56,25,41,25,36,58,26,44,44,28,42,41,39,64,20,31,32,33,36,40,40,46,30,26,25,35,29,39,44,23,27,58,36,21,49,29,29,65,26,44,51,41,22,36,18,33,49,41,52,40,53,45,30,56,24,71,20,26,34,36,49,22,30,51,46,32,52,57,35,59,36,67,31,31,28,72,36,56,35,44,26,51,30,20,21,54,32,43,48,42,62,31,22,45,34,64,42,60,44,67,45,32,23,28,55,27,37,22,44,23,41,29,22,28,30,20,28,19,42,34,23,50,57,35,24,27,45,80,23,50,90,55,72,65,37,39,38,30,50,28,34,55,20,19,21,39,33,26,31,32,60,21,27,33,43,18,37,58,24,26,43,34,38,31,26,28,22,26,39,23,62,39,43,33,68,32,25,53,62,20,26,23,43,29,34,24,19,40,45,43,22,72,29,47,24,22,21,37,74,70,27,32,30,29,18,39,21,31,33,29,34,52,35,33,40,66,36,17,32,39,19,47,49,32,28,39,27,24,19,50,32,43,29,90,24,24,24,30,46,19,39,43,35,65,34,41,24,24,37,58,36,33,42,31,57,23,35,39,36,29,25,24,70,51,38,28,29,21,50,65,64,44,17,17,43,32,20,23,34,30,32,28,28,37,56,27,34,37,19,60,54,48,57,62,45,55,62,25,49,32,25,39,27,30,21,33,33,70,25,17,20,19,31,26,52,26,38,25,22,30,59,49,65,44,36,29,52,37,21,36,24,31,54,44,18,41,37,30,26,68,31,48,80,26,63,19,30,42,32,50,73,32,58,24,23,42,30,38,28,19,45,26,33,29,23,37,31,56,25,17,37,60,59,28,33,24,33,29,23,20,60,44,18,52,31,33,20,33,25,63,63,43,58,70,20,35,62,41,43,19,46,45,48,29,36,58,43,59,42,23,21,48,32,66,23,17,21,24,25,29,34,27,47,44,31,23,31,45,42,33,25,33,22,43,37,51,47,36,73,32,34,51,20,57,19,55,60,19,35,20,34,73,27,37,73,36,49,68,34,30,28,25,26,32,60,18,36,26,24,90,20,27,58,65,28,36,23,69,58,22,58,44,31,46,48,46,43,43,17,20,22,19,35,29,18,25,54,23,36,26,25,46,41,31,52,22,18,46,34,30,31,21,41,30,21,44,26,47,36,32,21,30,34,51,55,43,37,28,39,35,59,26,68,21,23,17,23,34,33,31,31,56,21,45,26,41,47,35,44,25,44,57,24,38,33,25,27,22,30,90,39,34,19,19,29,66,38,44,34,35,29,22,33,35,41,27,25,36,25,37,26,53,36,53,37,41,53,23,28,53,33,27,31,44,37,39,18,35,43,27,46,54,26,36,26,48,30,44,30,68,26,26,41,48,55,50,52,24,31,46,45,39,34,19,56,47,25,43,66,32,58,27,21,40,65,18,44,20,29,43,23,41,30,58,50,21,33,52,47,31,19,45,45,34,27,37,20,24,39,18,62,24,37,46,44,25,44,24,61,45,33,26,40,24,25,31,55,46,58,56,35,17,21,56,39,31,20,65,44,33,38,31,33,49,28,29,23,27,21,21,34,21,44,26,52,44,42,31,30,23,81,39,38,21,28,34,47,36,27,56,57,42,43,48,53,58,19,41,31,31,53,19,51,62,45,28,62,57,23,21,51,61,76,24,31,58,18,19,44,41,21,40,25,62,42,35,19,60,20,23,18,19,51,41,18,41,27,71,25,73,45,50,44,44,42,20,66,19,60,46,42,59,47,58,17,19,28,37,30,36,59,45,37,26,53,44,27,22,41,53,58,34,32,27,25,40,36,23,44,19,42,60,45,67,36,52,28,83,17,27,35,40,23,51,51,82,28,29,19,30,23,27,35,17,27,27,64,62,26,40,35,25,52,30,28,17,46,21,18,17,90,23,19,69,23,28,57,30,48,73,25,36,28,57,31,35,40,32,35,26,27,17,29,18,20,69,18,56,40,46,41,53,23,45,17,22,30,40,36,25,29,29,22,56,37,53,23,18,36,31,18,45,64,26,53,27,32,61,41,46,32,29,48,32,21,51,27,70,33,39,32,30,43,31,64,37,49,29,35,37,21,23,35,23,21,45,24,38,28,23,39,68,41,48,33,48,23,26,35,46,72,18,62,22,26,35,25,37,38,33,23,26,39,28,29,43,23,45,48,22,32,27,22,44,34,28,45,17,53,55,44,40,58,62,31,31,30,37,38,58,28,46,34,39,61,30,31,21,50,47,20,23,46,20,30,43,23,25,26,48,26,41,25,33,24,31,24,41,38,19,19,24,59,49,22,21,50,44,36,35,48,23,37,36,26,23,29,53,52,31,19,64,55,20,45,17,38,22,63,36,43,41,36,23,46,47,46,32,90,63,23,76,23,81,17,58,25,25,23,29,27,55,30,45,50,22,80,30,20,29,56,63,20,38,31,21,25,31,28,38,30,27,26,47,27,43,32,20,21,32,37,45,54,24,28,23,54,71,51,52,30,38,43,24,29,55,43,28,54,38,60,19,22,44,28,30,39,43,24,27,64,28,61,27,49,20,41,28,36,44,40,19,54,55,57,29,51,44,35,40,46,33,32,22,39,18,43,46,40,40,23,64,36,48,18,17,36,36,20,22,39,57,30,38,34,47,28,25,25,43,27,32,44,19,21,26,68,31,33,49,24,30,18,30,51,52,52,23,23,36,19,53,17,69,46,33,40,56,29,41,22,28,31,35,38,17,39,27,50,56,80,38,26,43,45,30,24,43,54,18,38,41,22,70,60,24,61,35,19,52,39,33,52,41,37,27,38,22,20,34,24,24,43,38,42,27,18,48,40,57,41,90,66,34,23,35,32,32,31,32,40,27,34,29,41,22,20,18,49,58,23,49,23,17,20,64,34,63,51,40,55,35,30,47,29,17,55,50,60,53,45,31,32,37,28,26,42,32,38,49,61,45,31,20,64,20,24,23,34,54,21,23,79,42,60,37,47,20,53,34,43,24,23,29,58,40,43,25,23,34,26,21,45,33,39,29,52,24,34,53,31,58,32,57,32,77,37,51,33,53,32,30,19,33,31,28,19,27,21,24,46,31,21,38,31,46,23,29,70,17,18,41,28,23,32,56,36,26,62,35,25,28,21,31,23,54,33,40,27,55,53,23,66,39,21,26,21,59,61,22,47,50,67,59,28,34,63,48,26,47,29,30,19,27,59,19,45,37,44,34,30,56,19,37,21,34,27,44,33,32,37,26,49,20,37,22,44,30,55,36,29,19,45,42,27,20,43,21,33,34,72,63,25,72,55,41,20,71,35,18,23,57,56,25,64,35,61,36,18,21,43,32,48,40,22,42,60,34,27,47,65,61,18,49,26,30,23,65,32,24,58,32,35,24,38,38,49,25,56,32,22,23,33,42,62,24,26,65,43,35,48,45,56,59,56,21,26,38,27,63,20,21,51,39,21,65,54,39,24,36,64,43,44,47,32,20,33,52,49,31,62,44,28,40,46,22,37,62,44,36,26,21,25,32,26,23,55,23,42,29,48,36,46,34,27,18,18,42,64,20,27,52,60,25,63,54,21,27,63,37,22,54,54,60,19,25,51,47,44,18,57,22,36,33,39,41,35,40,30,25,34,22,18,45,19,33,45,40,25,22,52,32,26,24,37,49,43,35,17,40,26,21,54,40,51,60,22,20,21,21,43,20,41,55,39,80,59,56,69,33,51,42,66,26,43,28,25,17,34,24,41,65,19,43,21,36,33,50,34,39,44,40,21,47,19,22,20,17,41,28,20,24,33,26,24,41,21,33,23,40,47,41,38,50,45,33,34,65,24,26,55,66,43,37,22,21,69,27,24,18,53,26,21,39,76,19,54,23,44,27,23,37,21,63,35,47,41,50,26,51,41,32,40,56,50,28,28,19,44,31,21,35,35,29,38,50,33,46,36,41,30,29,60,24,42,26,37,27,26,23,49,46,21,48,70,44,58,41,54,28,65,35,82,68,42,24,54,22,43,17,46,37,70,47,31,23,17,63,23,24,34,37,24,32,42,20,37,47,25,60,64,32,33,71,55,85,57,25,57,30,19,28,43,19,24,22,64,55,26,80,79,43,46,51,68,22,32,65,28,37,40,40,52,35,62,49,49,45,37,36,25,28,57,46,28,25,35,43,38,26,36,23,34,41,44,48,43,44,28,55,52,30,21,33,23,18,21,30,21,38,24,24,39,43,43,30,25,45,22,24,18,22,28,38,68,40,31,33,54,63,67,47,67,33,33,25,25,35,18,54,30,29,39,23,34,42,72,27,18,27,27,28,40,43,26,48,41,32,23,35,42,27,34,25,34,39,33,25,45,46,23,37,35,45,71,19,38,42,48,32,19,57,55,48,46,36,26,31,77,25,38,33,51,20,40,20,41,44,35,35,46,24,18,37,58,55,68,48,42,45,43,37,36,60,27,47,33,19,33,33,57,36,33,41,20,28,24,31,38,40,55,49,33,52,24,46,20,50,22,32,62,26,20,37,40,22,41,24,40,56,20,55,29,37,61,26,49,18,30,24,24,37,37,36,40,44,43,19,50,17,39,43,43,31,25,30,55,55,29,30,33,23,71,22,21,62,22,49,31,27,26,30,17,26,45,31,51,56,24,29,26,51,32,30,41,49,43,76,27,55,21,20,39,20,28,56,39,54,42,50,23,27,81,47,57,33,37,53,27,42,58,20,19,39,51,52,50,36,30,30,76,24,26,22,23,51,58,38,55,42,27,61,44,63,46,47,37,43,48,61,79,44,54,22,18,25,24,59,46,19,22,41,33,26,22,22,34,23,20,25,44,55,77,42,45,23,60,23,52,20,20,23,30,30,17,22,25,18,58,30,59,29,26,39,21,22,25,19,44,35,40,19,32,52,36,38,57,22,80,20,40,36,27,52,43,35,29,27,24,26,47,20,19,34,20,23,25,21,25,63,25,28,28,41,52,36,27,32,50,21,60,47,32,61,21,36,38,59,43,19,42,33,47,28,61,23,31,38,21,22,33,23,31,28,26,19,46,31,41,22,25,44,25,30,34,21,27,29,36,27,57,24,63,34,27,31,31,55,64,20,35,41,38,21,42,42,23,20,26,56,40,19,33,45,29,48,38,29,35,59,27,70,30,76,25,39,36,23,60,20,20,22,24,41,35,23,17,43,33,30,54,39,32,61,24,22,18,20,53,32,68,28,28,21,52,25,33,49,58,67,42,61,34,28,19,31,32,76,53,46,43,59,19,63,44,46,22,36,58,25,36,29,49,43,46,43,40,43,48,26,30,43,53,74,64,32,23,24,63,25,37,28,31,52,26,55,17,27,35,17,22,33,26,21,19,22,28,29,22,47,60,62,59,41,31,18,64,51,47,32,39,37,29,44,19,65,61,30,61,32,37,53,29,48,28,18,60,38,19,18,33,33,29,37,19,28,23,47,21,19,35,50,20,17,33,57,53,62,35,27,23,27,39,25,24,23,30,34,32,18,20,18,41,21,61,30,47,19,29,34,42,26,20,20,27,39,33,42,23,27,43,23,40,30,59,65,28,79,54,27,22,34,18,28,18,46,23,77,29,41,41,34,49,49,30,28,62,41,20,61,30,29,50,62,57,35,26,60,22,62,26,26,32,66,24,19,37,37,22,34,35,42,29,34,62,35,37,47,37,22,31,74,63,30,44,35,50,18,33,59,17,51,26,55,36,19,39,39,55,31,19,30,47,31,32,33,31,32,46,29,41,23,45,47,24,53,38,26,18,43,26,47,21,32,58,55,40,33,49,25,57,29,28,28,19,40,28,20,19,75,24,31,28,41,23,33,34,47,45,35,39,23,25,37,25,34,33,78,61,22,29,37,35,37,18,37,25,32,25,50,18,25,23,51,47,37,27,19,52,25,17,21,41,20,24,23,33,50,37,19,40,30,65,44,32,28,39,59,34,20,33,31,39,35,37,28,17,23,19,30,27,29,43,41,34,23,51,24,24,24,31,38,25,29,29,24,31,36,25,55,21,60,41,43,47,50,23,38,30,35,25,61,71,35,35,38,27,51,55,45,33,25,46,34,52,47,46,69,36,31,38,57,24,37,38,34,21,21,61,35,29,18,41,38,51,55,20,23,24,48,22,22,28,25,48,32,31,65,56,22,27,27,30,33,19,42,37,26,32,43,47,24,34,33,45,42,25,25,23,35,28,26,37,22,30,42,38,49,68,41,25,23,17,45,49,29,21,20,59,26,25,35,66,67,33,38,72,21,39,22,24,25,26,50,23,41,60,67,77,62,22,37,17,31,23,27,38,23,22,61,55,23,39,25,25,66,30,32,18,20,20,34,33,40,30,41,20,44,50,38,30,45,25,22,25,63,26,22,41,21,39,82,18,60,22,34,50,53,27,37,25,33,34,35,33,25,56,36,88,60,40,21,46,56,36,67,35,20,34,23,19,19,25,53,18,31,33,33,35,20,36,36,51,45,24,28,63,25,44,49,52,27,35,49,28,37,65,24,30,38,42,17,42,25,29,71,34,25,40,67,18,38,42,36,23,56,22,39,36,38,19,37,57,54,18,22,63,38,26,40,20,39,28,42,42,21,40,36,67,65,50,18,31,20,34,24,38,17,52,30,49,45,21,17,23,32,22,27,43,44,31,34,34,37,21,35,28,62,40,34,32,70,23,30,57,24,38,48,43,18,42,30,48,70,37,51,35,26,26,19,34,25,22,32,72,36,76,37,44,53,28,69,20,33,22,20,42,23,24,32,41,35,25,34,23,55,26,42,39,42,25,27,30,58,18,52,24,35,31,21,52,24,22,39,34,26,29,67,28,62,36,18,25,48,56,30,41,36,30,27,19,30,47,31,44,37,28,38,26,40,31,18,43,30,19,36,19,25,36,22,42,33,38,21,33,52,30,18,24,17,48,66,46,28,33,44,43,42,39,23,20,54,34,59,40,37,45,67,49,56,29,33,25,23,39,26,57,27,21,22,43,20,42,29,28,26,29,42,30,21,21,56,39,21,35,23,17,35,22,53,42,36,44,39,59,34,17,31,59,39,31,27,18,48,53,43,50,56,27,20,18,38,40,55,26,22,52,33,19,45,53,46,25,90,33,45,38,37,18,44,50,26,36,37,32,38,62,46,41,37,27,38,35,34,50,67,34,19,23,17,25,21,17,63,31,45,25,20,31,42,47,69,42,19,56,61,38,35,27,20,59,53,20,33,35,22,29,56,23,30,17,35,25,42,19,32,44,47,24,42,19,37,26,25,52,50,32,37,42,47,47,27,61,47,30,69,42,26,32,51,29,38,64,26,68,32,29,51,21,26,33,26,52,31,29,19,51,45,20,40,52,46,24,20,38,44,24,49,36,31,46,46,29,37,44,28,28,48,52,19,37,22,38,40,58,26,17,49,26,40,60,28,22,31,34,27,40,68,51,55,23,48,42,32,71,17,26,17,33,59,46,45,27,31,32,28,36,23,37,36,45,26,24,67,21,33,48,21,24,24,23,40,42,45,53,25,32,34,57,25,40,17,17,82,40,26,37,25,39,36,37,23,63,59,49,62,17,28,45,40,45,20,19,41,31,21,27,20,51,46,39,21,44,42,34,46,35,30,22,21,40,56,48,21,52,30,31,43,36,42,65,43,24,44,25,21,29,21,64,55,42,63,21,28,45,21,53,45,47,41,53,34,53,33,45,42,46,17,23,21,53,58,36,45,41,30,50,23,41,47,51,60,51,20,29,42,32,19,48,38,40,38,26,23,20,49,23,43,56,60,29,25,39,37,38,47,35,25,51,21,29,34,20,18,27,23,36,48,40,51,59,32,39,32,44,51,54,22,19,31,53,28,19,21,36,18,50,18,19,49,40,31,47,35,47,43,51,76,33,19,49,26,23,24,48,36,33,22,43,31,53,36,39,24,17,21,34,28,20,47,26,26,17,45,23,41,26,28,18,66,29,34,27,25,22,26,49,44,37,39,33,40,26,31,28,71,25,25,19,36,56,34,22,44,60,65,53,28,41,40,35,41,28,53,26,28,27,27,53,50,30,47,27,55,21,35,31,30,19,25,57,21,30,25,26,42,39,48,24,53,36,34,25,31,21,33,44,30,32,46,20,35,35,29,21,33,42,33,35,32,22,61,28,24,58,42,26,25,59,65,18,18,20,19,37,23,60,17,37,29,34,37,47,22,61,57,40,40,35,32,49,31,58,26,35,25,43,32,48,31,20,28,50,22,19,23,24,26,45,88,19,24,84,48,46,31,58,35,36,57,30,30,30,52,27,59,21,60,24,19,60,64,51,25,17,37,74,23,20,37,46,40,50,25,44,41,38,54,40,38,20,71,35,34,56,30,17,18,35,21,46,33,27,42,35,25,47,20,32,28,58,52,30,33,56,21,56,20,24,52,23,40,30,41,27,19,41,27,50,29,30,48,40,27,31,64,29,38,53,70,38,36,34,24,23,21,47,59,18,32,33,19,27,38,20,35,22,23,26,53,39,25,18,65,49,64,56,68,50,45,43,39,37,20,36,26,36,47,34,53,32,44,25,35,34,42,47,23,56,38,47,38,42,48,27,40,75,46,51,34,23,32,45,21,36,40,20,68,20,27,57,47,30,17,56,20,38,19,24,31,44,21,41,18,23,37,46,43,31,27,64,31,48,28,42,60,17,21,46,18,22,44,36,65,26,21,41,28,27,19,40,19,40,37,34,44,33,72,19,59,40,35,22,41,50,21,40,22,43,17,42,19,43,46,18,47,31,33,59,29,26,24,25,30,52,19,23,37,25,30,40,20,35,24,32,35,20,25,50,24,30,37,50,20,49,55,61,22,23,43,39,21,30,50,51,47,49,45,48,20,61,72,19,47,39,24,44,19,20,23,20,62,25,67,36,38,23,28,25,60,31,29,51,27,18,34,19,36,35,27,29,25,20,52,34,36,71,20,20,41,38,55,17,43,19,33,63,34,31,21,23,20,59,29,32,57,50,26,22,26,56,23,23,35,45,21,56,31,44,21,31,20,17,19,71,23,21,29,33,21,19,29,34,26,30,34,24,28,24,19,45,24,24,20,23,25,64,28,28,77,22,17,38,45,25,53,24,30,39,30,48,62,34,32,40,17,19,25,42,66,63,43,26,36,35,25,21,46,43,41,50,36,31,52,56,35,55,30,34,43,24,30,33,32,29,50,18,20,22,41,42,24,22,23,21,23,45,41,38,37,70,24,28,24,37,28,54,56,27,21,29,27,31,38,48,58,23,28,49,51,23,40,59,47,37,39,43,40,29,37,19,28,56,45,60,37,31,31,39,17,19,24,34,58,23,33,76,40,28,41,22,29,26,22,41,29,41,19,25,24,59,17,69,25,50,29,43,29,29,17,43,41,18,21,20,47,26,31,45,35,33,30,19,19,71,29,43,23,52,28,44,37,31,20,45,19,18,33,51,54,24,54,47,31,21,52,20,18,58,23,21,43,53,18,31,48,55,24,47,54,40,56,23,34,27,72,43,32,53,18,38,41,29,46,47,56,28,50,47,42,22,42,42,46,55,25,43,34,27,25,37,48,38,17,37,45,64,35,23,42,23,26,47,21,29,32,72,19,25,58,24,37,25,36,41,31,22,36,42,29,25,23,34,27,33,38,21,39,32,20,63,56,30,39,41,50,44,27,58,25,31,22,44,41,44,61,32,28,46,26,43,62,67,19,55,19,19,43,31,65,32,41,33,72,27,75,39,47,31,48,36,18,33,34,39,20,67,42,59,31,19,47,68,30,34,49,24,18,24,21,52,48,29,20,31,30,30,51,29,56,46,41,29,48,34,42,25,47,23,43,19,22,40,41,42,31,69,58,36,31,20,41,35,62,28,27,17,45,44,27,51,49,54,43,32,38,26,42,66,43,37,25,42,32,41,25,65,32,32,24,51,67,28,77,47,26,20,40,19,54,68,17,32,29,42,40,27,22,58,49,41,43,57,47,79,40,35,35,26,49,48,22,22,50,47,36,73,24,37,28,20,29,24,29,18,27,50,25,42,36,71,44,19,49,28,26,18,65,23,21,20,19,77,32,37,29,22,30,59,19,37,29,38,19,29,29,47,39,28,39,44,70,60,21,22,41,62,43,28,42,23,19,23,41,63,51,49,29,17,21,26,24,19,65,17,27,53,24,34,86,43,47,30,25,60,26,27,59,64,90,36,39,30,24,23,62,48,62,35,27,49,18,19,54,21,30,22,33,47,42,29,35,23,28,34,40,67,49,34,60,26,25,40,56,54,25,28,31,45,52,39,19,23,23,35,58,38,27,19,22,59,31,18,20,28,28,49,19,41,46,20,28,37,66,35,25,48,56,47,41,40,41,21,52,21,35,29,21,35,70,34,21,29,51,22,47,19,23,49,58,77,27,29,54,39,32,36,24,32,26,49,38,47,38,18,59,34,32,29,29,37,36,29,39,69,43,39,19,51,75,37,24,20,58,21,28,40,45,41,58,26,29,45,23,39,22,67,28,23,33,37,19,90,35,62,20,25,21,32,32,70,57,31,34,26,44,66,39,36,61,38,26,27,58,37,56,29,28,21,26,21,33,33,82,19,57,55,27,33,72,68,29,41,30,54,56,48,66,25,31,32,42,22,43,42,20,65,38,22,41,19,27,52,29,41,38,37,55,62,48,25,47,49,55,42,40,34,38,45,43,32,18,27,57,38,26,21,17,31,51,31,28,40,51,62,54,55,24,27,18,21,27,35,60,38,37,43,49,17,32,23,25,42,46,29,30,24,17,76,31,39,38,48,60,26,20,50,20,23,43,50,58,55,47,39,27,62,38,25,31,40,42,31,33,58,46,28,24,39,60,22,27,47,26,39,60,32,19,49,31,29,39,26,27,52,50,61,35,41,20,35,30,69,29,21,24,55,42,48,31,30,29,32,56,40,20,36,45,38,70,21,57,33,37,28,32,18,45,22,38,37,23,59,18,30,63,38,48,60,46,30,17,50,32,18,34,32,23,26,46,43,37,28,43,51,30,34,53,42,18,40,26,20,41,22,56,34,28,35,29,21,45,43,35,21,35,30,45,29,29,33,17,52,24,40,32,33,30,28,62,32,19,38,30,32,46,22,47,47,36,32,37,36,64,17,23,40,37,35,56,52,24,33,39,34,24,23,18,20,19,34,28,35,20,31,37,64,27,36,23,46,24,22,19,20,57,19,17,36,35,27,28,25,47,19,49,43,56,42,40,44,17,36,19,72,46,33,22,17,46,33,32,52,27,22,25,60,38,37,49,40,31,40,25,18,19,35,28,53,33,20,45,34,32,19,24,32,31,21,23,60,17,67,17,53,48,38,18,23,34,39,20,39,21,26,54,34,32,59,24,54,54,67,33,37,47,51,45,19,27,36,20,51,45,32,59,43,20,29,28,18,49,46,58,56,41,74,30,62,19,29,20,36,36,51,29,17,18,40,26,42,32,33,28,47,37,73,37,19,32,44,20,29,21,34,44,18,22,26,29,21,49,24,26,25,30,30,20,31,31,57,58,41,23,47,26,45,23,20,18,27,25,45,53,23,17,42,61,21,48,46,37,35,27,28,19,69,69,36,20,28,58,48,39,38,50,35,45,38,42,32,63,21,43,35,37,51,19,61,21,45,40,32,55,64,34,19,58,46,44,31,31,19,56,53,68,69,62,39,45,29,33,29,18,22,48,52,48,25,37,55,67,36,47,36,25,19,24,30,17,28,34,35,24,20,22,20,44,38,53,26,23,53,35,41,31,50,25,23,48,34,37,43,20,27,35,33,57,43,54,28,32,52,41,19,33,21,25,44,20,46,39,34,19,53,46,23,39,30,33,22,44,30,66,39,34,17,17,60,63,42,30,33,43,20,30,37,33,65,27,18,41,38,45,18,33,28,47,30,36,21,44,33,61,29,18,27,21,22,35,37,26,18,55,59,70,39,38,33,19,28,74,35,35,38,46,46,39,31,50,31,27,27,28,21,57,56,22,48,36,51,39,38,51,43,35,39,47,23,26,25,29,30,57,45,21,25,61,59,28,24,29,49,41,33,20,32,24,31,35,50,39,52,44,39,28,19,35,44,40,20,30,75,17,20,25,27,19,21,19,42,28,59,48,33,27,24,24,29,24,24,28,63,36,58,51,39,26,39,28,45,45,23,38,38,39,52,17,31,22,47,28,30,29,52,35,28,21,45,21,74,29,39,23,32,61,23,18,38,33,19,23,37,25,36,32,65,18,25,29,53,27,24,54,23,45,44,24,39,50,58,44,24,34,40,53,24,58,26,22,36,78,43,60,34,46,46,69,61,47,29,37,33,24,37,40,34,61,56,69,41,40,57,26,90,39,51,51,17,42,42,43,21,31,66,27,40,18,43,31,28,44,37,42,18,54,56,27,26,41,41,32,18,36,37,31,46,24,25,55,64,30,65,46,18,32,35,26,24,36,44,23,57,20,32,38,29,22,21,40,45,76,49,22,47,26,21,27,26,20,31,57,39,66,34,80,21,49,48,19,42,59,63,26,41,42,19,45,47,34,36,21,39,52,18,59,54,22,20,43,48,24,26,46,60,52,44,56,57,35,30,29,28,30,45,17,54,31,55,26,37,38,51,41,24,33,31,27,32,35,40,19,23,40,43,43,53,26,32,25,20,22,33,26,29,20,58,32,23,30,67,26,53,27,29,17,52,28,18,28,34,46,30,20,29,55,20,54,27,43,17,48,34,66,29,43,37,54,45,29,26,33,45,25,25,69,37,20,17,27,26,55,39,41,34,67,40,58,23,43,25,36,58,33,60,24,45,49,19,34,42,25,73,59,28,19,31,58,21,41,59,48,44,24,28,50,23,30,46,21,52,26,27,28,28,61,32,30,51,36,28,61,55,36,21,59,59,20,42,41,36,25,39,22,53,27,60,56,29,19,38,22,32,27,25,22,32,37,22,42,45,33,39,27,30,52,61,39,47,19,37,31,69,22,29,24,42,27,53,35,22,25,27,30,27,25,36,32,70,50,40,34,57,39,49,26,31,60,27,31,59,19,18,22,24,60,24,52,34,38,34,23,40,40,17,53,43,18,62,45,46,73,23,30,51,35,41,31,31,41,42,23,21,53,36,32,20,17,22,25,58,24,20,20,22,19,37,44,63,22,31,17,21,46,29,20,27,19,36,62,28,18,37,27,46,29,62,28,22,34,30,19,49,27,47,57,64,56,53,31,45,63,45,23,39,31,35,22,40,31,58,46,38,22,17,48,73,53,37,30,29,29,75,42,62,70,42,42,27,54,29,29,37,55,67,51,35,41,64,23,49,38,62,62,70,45,20,38,50,30,52,62,31,34,42,26,43,42,31,26,50,35,37,53,20,28,21,66,74,30,49,53,24,54,32,45,46,37,25,28,44,58,27,69,47,30,46,27,19,18,32,38,19,28,39,38,46,53,21,48,30,24,32,30,57,56,27,38,19,49,28,34,28,31,55,35,42,63,31,22,67,50,63,17,41,53,44,24,35,31,66,45,64,43,37,19,59,50,28,27,42,34,19,81,22,58,31,17,23,25,47,44,38,23,34,38,52,50,35,44,38,33,29,18,43,42,42,32,36,30,21,19,19,35,43,45,25,39,26,60,22,23,46,34,38,56,55,23,39,24,25,18,19,32,40,43,59,25,32,17,17,27,41,19,41,30,18,24,33,48,48,43,34,41,25,20,61,35,42,26,46,18,29,32,31,19,43,41,35,48,28,44,20,51,28,36,28,21,34,36,25,31,44,49,40,27,18,68,36,21,22,61,24,25,66,29,22,57,41,20,22,64,29,25,62,21,46,21,18,39,63,17,31,35,51,48,28,42,38,30,24,50,22,18,36,39,46,26,19,24,28,25,38,42,28,36,46,21,19,35,26,21,67,26,51,27,39,52,21,27,46,42,19,43,51,65,36,26,28,43,20,29,44,18,60,60,38,29,41,49,37,41,37,19,29,40,27,29,25,38,18,50,48,50,74,24,19,39,40,30,27,23,68,24,18,42,42,37,57,31,34,55,56,36,35,63,28,38,30,18,53,46,45,35,41,18,19,24,28,29,35,27,18,53,26,28,27,35,36,23,22,25,31,43,23,23,63,33,51,31,32,31,23,31,41,41,27,30,23,24,59,56,35,59,51,42,29,23,43,46,30,23,29,33,33,46,35,25,35,30,37,22,25,50,33,59,24,41,38,60,19,23,17,24,43,21,54,22,29,22,34,28,68,36,20,24,38,32,47,28,58,38,43,28,21,23,25,41,24,41,27,54,28,29,36,60,34,32,60,39,59,36,19,25,39,34,30,43,33,22,48,54,49,37,45,51,46,29,35,31,26,25,49,53,52,52,74,50,76,19,25,45,34,20,66,63,27,41,43,23,37,31,33,28,70,35,17,44,47,24,38,34,62,27,35,38,28,28,59,42,39,41,43,62,58,43,67,31,54,20,22,38,42,34,50,50,43,29,30,21,27,39,33,22,38,45,35,21,49,50,20,49,22,60,67,21,60,17,38,38,40,23,19,46,25,24,62,54,23,60,18,41,45,62,28,31,44,33,62,27,55,41,26,67,25,22,19,26,61,43,53,53,42,55,17,55,36,54,45,31,26,19,31,34,38,21,27,35,20,24,27,18,28,36,66,19,59,33,28,34,41,30,59,42,29,53,41,32,20,36,33,25,34,19,40,48,51,22,34,22,34,56,49,36,18,26,48,35,29,21,28,65,26,26,70,55,27,24,22,26,23,41,52,41,59,24,31,84,51,24,30,22,30,47,19,43,30,46,49,37,42,57,46,23,64,20,31,44,42,23,35,30,35,40,18,23,63,20,49,53,34,22,28,24,37,62,19,51,65,31,42,54,23,28,42,30,33,33,39,27,20,62,17,20,27,40,44,37,17,35,36,48,26,26,35,29,36,25,18,21,22,36,25,37,39,32,53,30,62,38,23,39,37,27,41,35,30,29,42,51,34,44,27,39,46,32,31,23,66,26,53,48,37,17,28,17,39,28,38,28,40,20,23,25,41,18,36,34,34,67,22,25,61,31,47,31,17,23,42,78,26,26,30,23,25,32,25,51,24,22,28,29,26,19,39,29,27,19,67,28,25,21,48,35,50,22,45,62,33,22,25,44,56,49,46,33,25,72,32,44,48,17,22,17,26,19,17,38,34,19,51,38,42,20,51,23,27,19,29,33,60,22,22,60,35,45,32,35,32,40,20,21,21,26,24,51,65,61,67,49,61,36,19,29,60,21,22,36,37,35,17,22,42,26,45,63,22,45,27,20,46,28,45,26,32,30,59,45,76,38,32,38,30,41,27,44,36,42,45,36,27,62,29,38,29,18,19,32,34,25,34,37,37,18,24,17,35,31,29,49,35,55,37,33,32,63,39,42,30,57,56,28,46,50,41,23,72,47,29,35,24,22,24,55,40,61,58,39,45,25,36,27,28,27,41,18,36,66,33,30,62,21,19,26,50,17,47,23,51,19,33,32,52,36,34,26,26,35,32,23,28,20,17,26,43,45,54,51,58,49,21,44,26,39,19,37,49,45,60,28,23,44,19,41,23,57,32,76,57,58,50,38,53,59,23,23,23,30,28,46,34,26,39,28,33,30,26,28,48,49,41,20,37,18,26,66,68,27,66,28,26,25,46,62,35,26,40,31,52,61,39,25,47,33,17,26,25,39,46,27,29,40,24,55,25,36,26,36,23,25,36,37,35,33,31,49,34,40,27,50,38,55,49,40,42,27,40,43,24,22,52,33,21,27,31,49,37,37,26,31,36,52,40,21,63,30,30,50,41,23,52,17,46,26,30,23,21,39,37,38,47,20,35,32,32,27,28,26,23,70,41,43,65,40,40,43,50,19,32,32,42,30,20,45,24,43,28,35,36,38,32,50,35,30,61,27,61,18,31,20,35,51,18,59,21,22,60,21,61,64,63,27,23,41,18,17,34,24,29,38,61,40,19,28,59,32,30,54,20,27,32,35,27,34,38,28,65,61,18,45,68,25,48,19,47,25,30,67,35,26,61,54,32,34,36,28,22,58,27,62,21,41,28,33,19,76,25,40,22,17,55,51,26,44,65,34,42,26,39,46,34,59,20,51,47,21,30,38,23,22,31,50,19,23,35,28,27,46,27,25,34,33,36,30,23,36,29,19,20,20,22,60,19,59,36,25,49,25,50,44,28,33,40,56,23,38,21,67,54,50,59,51,30,64,61,26,47,24,27,55,20,30,36,19,26,24,24,36,53,46,29,60,58,67,39,37,54,63,47,23,55,49,23,19,25,35,23,48,48,44,55,33,18,24,24,27,26,73,32,35,52,30,23,61,38,68,42,48,19,31,40,32,23,30,44,24,34,17,30,45,22,49,39,39,34,24,19,24,25,71,27,28,18,49,36,57,17,30,41,26,61,50,24,44,38,61,25,34,38,42,17,48,55,41,45,49,19,39,43,42,17,30,61,60,27,24,42,34,22,47,50,30,38,34,34,31,68,22,42,37,36,38,72,40,19,30,52,41,29,24,17,35,38,36,24,38,19,30,36,27,66,17,19,57,54,21,43,50,41,20,28,62,41,37,53,23,46,28,50,19,84,61,44,32,25,47,19,37,28,32,24,22,30,56,28,28,39,23,32,37,71,20,53,42,26,21,37,36,25,29,20,32,24,40,24,61,36,20,36,45,22,31,34,24,42,23,40,55,28,32,61,62,29,26,19,40,42,55,55,39,28,36,49,41,60,35,36,23,51,17,33,50,18,26,21,26,39,33,42,28,20,66,31,36,52,27,45,21,25,24,38,51,45,59,41,23,43,17,42,43,28,47,21,39,39,34,57,27,21,25,35,19,34,33,36,33,60,47,21,34,37,27,31,30,33,41,23,65,30,51,30,37,42,67,33,27,35,21,66,46,23,43,40,52,36,33,20,21,59,62,54,35,36,21,30,21,39,54,32,23,42,62,28,28,35,19,27,54,19,27,30,35,66,19,32,31,26,44,30,32,19,33,20,61,33,24,31,20,32,29,61,48,29,61,34,22,32,38,27,26,62,28,50,37,63,35,25,51,26,46,24,19,36,18,30,29,65,34,58,39,21,28,32,31,27,45,34,17,25,33,21,22,61,58,30,24,50,49,22,21,25,34,61,21,20,44,29,31,35,27,26,33,44,28,30,41,23,19,48,26,26,49,33,36,41,27,21,56,40,46,55,43,46,51,19,31,21,36,23,39,24,38,36,17,27,30,43,51,19,28,41,21,31,45,23,32,67,35,29,38,38,18,47,22,21,27,28,32,23,25,44,33,29,32,78,55,20,35,27,42,47,29,33,44,70,25,24,42,39,72,43,25,27,64,33,18,20,32,45,48,20,23,47,46,19,51,41,37,31,25,47,60,43,28,19,19,21,33,44,28,24,20,21,20,21,34,17,35,26,35,25,27,43,37,58,25,54,42,44,61,29,24,50,18,49,38,41,70,24,22,28,45,26,38,19,30,53,32,47,36,21,37,31,43,61,56,35,59,47,64,26,50,30,46,44,23,33,34,38,21,41,35,62,69,19,54,58,39,73,64,32,57,25,53,39,49,23,40,24,20,50,24,35,33,54,35,47,48,33,20,36,30,25,40,25,33,53,18,41,25,66,53,27,28,23,29,26,26,26,38,36,32,31,38,39,35,18,75,28,41,31,38,43,27,46,20,42,69,47,49,20,52,33,18,55,61,30,61,36,34,27,32,23,22,25,29,90,37,32,18,35,50,51,31,69,71,28,28,25,49,52,23,32,31,30,24,45,30,42,49,20,25,41,55,31,25,32,29,37,52,19,21,43,39,54,35,34,26,55,51,35,31,17,38,29,39,73,47,28,27,19,24,52,36,26,28,27,47,36,49,63,42,28,68,38,59,26,59,34,67,45,64,65,23,31,33,17,63,45,17,26,38,29,44,43,39,43,23,19,49,52,32,38,25,44,63,42,21,32,24,50,35,24,40,31,43,40,75,52,51,39,40,33,29,37,19,46,37,34,38,26,34,57,33,26,20,61,17,18,21,41,46,55,27,39,36,51,27,42,23,41,49,46,54,22,31,27,34,46,36,22,51,43,54,24,29,40,18,31,32,24,24,24,27,37,19,54,47,22,20,36,49,20,34,28,38,32,35,51,33,71,53,64,24,19,26,22,33,63,20,33,57,56,25,80,36,52,49,30,25,22,41,54,38,36,35,41,30,25,50,19,51,39,20,17,25,36,65,33,32,25,41,72,36,67,28,24,17,32,67,21,51,32,18,24,21,24,34,68,49,50,33,18,20,64,39,35,21,29,45,37,20,20,35,24,19,23,34,23,46,55,27,35,47,50,32,40,47,21,45,33,68,49,29,46,19,56,55,29,21,38,52,22,20,31,39,55,35,67,18,51,37,21,32,48,62,21,28,19,20,41,29,20,51,26,30,36,68,41,20,43,39,31,23,69,38,18,41,23,26,37,25,31,27,59,42,27,32,27,43,20,46,45,29,23,46,38,29,57,26,43,23,24,25,22,38,33,18,52,28,37,23,17,38,81,22,43,31,66,31,35,21,36,33,36,37,50,29,24,34,29,58,27,46,63,38,23,42,48,33,24,49,40,57,50,35,19,18,20,42,28,28,22,27,75,47,25,52,27,35,44,42,26,23,28,38,28,29,56,23,30,48,45,24,22,29,45,24,40,34,32,20,23,46,21,31,48,34,19,20,29,36,33,36,64,45,25,28,26,23,24,58,36,46,23,32,26,52,19,60,39,45,37,29,53,46,20,39,38,36,53,29,64,36,41,34,68,22,43,19,36,25,33,27,33,24,47,48,28,33,26,22,31,73,38,36,24,21,18,41,17,50,30,47,24,50,29,31,53,33,43,18,78,27,19,24,20,25,30,37,67,35,75,47,23,51,42,54,20,35,27,41,22,66,25,20,20,67,29,25,40,26,28,41,39,48,19,27,59,19,32,39,33,38,27,23,59,25,37,31,24,53,26,59,39,28,22,20,25,27,20,63,43,39,27,17,40,23,30,24,23,24,45,22,41,31,49,38,58,58,61,33,22,59,50,56,36,18,28,60,41,42,31,47,35,19,36,35,39,64,17,49,19,36,26,27,38,25,19,22,46,33,51,18,60,39,23,39,40,24,32,31,39,27,45,22,31,63,28,23,33,22,29,36,46,67,20,23,38,20,37,37,58,25,27,33,43,21,45,44,52,31,18,20,32,48,46,28,27,18,43,32,43,20,73,46,40,25,22,33,49,62,56,24,42,41,23,22,35,42,22,32,25,66,26,46,24,25,22,31,30,54,19,47,29,53,22,21,36,69,31,48,23,36,22,36,54,33,52,23,33,30,35,27,24,44,62,75,47,64,33,20,18,43,30,32,61,21,56,28,23,55,27,33,22,43,32,38,18,67,29,19,39,42,34,52,18,64,43,49,49,19,22,31,26,44,38,33,24,18,32,27,28,30,33,74,36,36,29,39,25,21,39,38,20,51,21,36,50,25,23,41,34,19,18,36,29,23,35,35,40,22,19,70,38,35,25,43,29,20,21,47,44,17,25,43,42,46,22,49,21,43,22,28,25,30,33,34,48,29,33,44,49,25,33,38,20,44,27,18,38,45,27,64,66,34,42,26,27,21,23,47,20,35,28,21,36,81,41,29,30,25,42,30,65,18,26,30,61,21,53,60,47,48,32,25,31,33,27,37,34,51,25,25,55,39,31,31,51,30,62,27,23,35,46,27,22,37,42,45,33,46,24,56,45,41,66,29,37,63,35,22,58,24,34,33,33,17,20,30,22,20,64,38,17,45,27,45,23,44,36,35,24,56,47,29,55,37,36,33,34,24,25,31,38,35,67,34,46,19,26,28,47,30,18,43,35,58,32,40,32,21,44,25,42,27,62,31,33,50,46,22,52,57,41,42,19,45,51,69,45,48,42,19,39,58,36,21,17,29,52,33,38,24,42,54,26,42,31,56,28,34,64,25,48,47,17,44,46,32,42,61,47,62,62,19,33,39,17,58,35,34,55,32,19,41,24,52,48,32,47,38,18,25,40,56,32,28,53,26,60,21,29,45,35,25,38,30,41,27,64,41,51,35,61,52,20,52,36,33,40,22,24,19,40,63,18,19,49,49,60,71,34,30,46,32,25,25,32,20,34,40,34,19,53,64,30,20,19,20,35,33,38,50,23,30,33,48,43,33,36,50,26,55,37,43,38,42,47,44,28,51,51,49,31,29,23,40,66,17,69,23,37,38,38,37,23,17,48,17,35,43,36,24,45,34,56,22,19,33,48,20,47,20,44,45,27,20,17,31,49,44,49,28,33,35,17,25,41,30,61,41,36,24,27,18,20,18,23,38,36,28,47,38,26,46,49,19,45,70,19,46,20,17,19,37,51,24,31,27,30,28,25,22,21,67,54,36,29,32,55,56,19,36,35,44,40,18,71,27,20,33,34,23,36,19,38,22,36,17,30,35,58,39,62,51,52,25,26,26,59,21,26,68,65,41,34,28,40,37,34,21,51,32,18,48,33,33,47,40,42,51,44,37,25,52,42,28,34,31,35,25,38,43,22,18,26,43,21,62,26,18,65,41,31,56,22,36,30,35,37,32,56,29,41,38,34,54,36,42,33,21,69,32,50,40,45,31,24,21,43,22,62,21,37,34,43,25,43,23,33,64,35,69,20,31,22,32,23,21,36,62,24,27,20,30,17,17,21,56,37,52,45,72,39,28,38,44,51,20,25,45,17,20,64,34,74,23,23,27,18,33,50,47,18,34,64,23,33,43,57,22,23,32,20,30,56,34,32,19,60,29,24,41,23,51,18,28,38,29,25,31,34,41,62,58,40,24,19,32,51,25,60,22,20,42,18,23,40,52,21,35,45,39,54,42,26,59,22,33,18,24,28,21,22,56,21,17,62,39,30,20,18,54,33,57,50,23,23,47,39,46,18,68,43,35,21,21,41,61,24,21,36,37,49,21,18,26,20,46,23,42,45,52,22,20,27,36,34,20,47,21,33,31,61,46,19,61,28,28,61,54,50,17,56,28,34,33,42,64,29,41,45,44,34,40,45,23,24,23,36,42,45,54,29,35,47,51,28,24,46,57,22,28,17,23,19,66,38,39,39,39,22,36,32,29,43,51,42,32,34,51,38,21,33,34,32,38,29,40,46,37,38,25,38,34,20,34,61,55,36,22,34,33,27,43,39,20,38,30,21,60,43,23,25,38,22,23,61,28,17,21,49,37,23,38,21,22,20,38,40,44,37,57,56,41,50,33,29,35,36,30,35,27,22,24,18,18,43,45,39,30,22,30,20,61,27,60,43,35,20,47,40,20,75,25,34,45,23,46,41,17,39,37,34,20,18,42,22,66,35,21,51,34,24,43,42,41,21,64,24,23,29,44,28,35,41,32,37,18,24,29,45,35,46,24,72,35,29,70,36,49,18,21,42,25,32,25,30,21,38,34,37,52,23,29,23,30,45,26,23,24,42,72,21,24,27,54,17,39,50,57,20,49,44,42,18,18,51,28,25,42,33,63,27,20,49,70,46,35,24,22,43,47,34,37,35,23,27,29,23,35,18,27,56,40,31,18,25,36,38,52,23,34,26,47,21,65,31,68,26,42,31,28,36,62,21,21,60,22,30,64,25,27,40,31,50,27,31,50,33,62,38,19,30,38,49,24,29,24,25,51,17,19,60,29,66,28,57,24,43,20,21,20,20,19,34,40,33,36,41,47,41,28,29,46,28,57,22,28,24,22,36,50,18,41,21,36,21,46,57,61,22,33,43,17,30,40,31,37,37,36,46,46,32,17,42,37,29,38,46,24,57,59,35,53,26,55,46,30,24,32,35,26,46,38,31,53,27,39,22,20,60,51,37,35,17,18,52,18,20,34,19,18,17,30,29,18,50,22,21,39,20,62,32,32,55,34,28,26,41,75,21,26,39,24,56,17,23,28,57,25,22,39,41,43,19,35,19,33,33,31,69,24,75,34,33,44,18,48,35,34,54,57,21,28,21,66,48,44,41,31,30,51,31,18,60,29,33,34,40,57,55,40,26,29,30,65,19,28,34,63,31,18,59,49,48,21,41,56,26,53,23,58,61,29,22,31,90,53,22,55,34,28,22,36,33,17,38,60,72,57,39,50,45,37,27,41,20,44,54,33,22,46,22,59,57,26,55,19,26,39,17,26,26,50,18,26,50,52,42,53,30,23,23,32,29,40,17,23,37,25,22,27,21,38,27,25,27,33,28,28,29,46,30,65,28,39,35,50,25,63,19,31,17,27,30,18,41,35,29,25,53,53,26,41,28,48,22,53,57,53,23,31,20,25,37,34,29,31,47,51,27,23,55,31,30,23,19,22,50,21,29,20,33,41,23,21,38,31,19,59,36,50,60,28,21,27,18,56,31,35,35,36,47,23,21,49,46,31,27,56,48,30,29,50,18,31,39,39,22,42,18,27,51,27,60,36,41,53,34,34,22,43,27,29,27,42,49,24,22,30,28,20,43,18,53,33,21,65,49,20,46,61,48,44,37,45,33,55,25,26,38,20,30,29,42,24,42,42,46,27,43,43,27,31,38,44,27,50,23,22,36,24,23,37,25,40,31,28,24,29,53,39,44,30,24,29,62,25,45,21,39,60,35,27,41,32,24,58,31,28,41,19,27,25,51,46,67,50,20,57,40,42,67,30,26,51,38,24,48,35,64,26,39,55,23,33,28,50,44,51,34,24,27,44,24,30,35,39,42,41,36,42,20,29,27,59,31,21,26,87,25,32,38,21,17,44,23,30,51,54,44,40,24,18,18,42,28,32,48,24,73,19,27,27,31,45,47,22,24,69,45,31,48,34,48,20,40,28,20,41,24,35,22,23,23,32,48,48,22,31,46,24,38,38,33,61,42,21,29,54,23,52,23,51,29,23,73,47,61,26,32,39,33,35,42,46,33,47,33,26,42,28,29,18,33,36,40,40,36,52,24,30,28,46,36,48,36,21,18,66,38,22,29,40,21,49,26,33,59,37,56,27,49,30,28,25,18,25,36,20,25,26,39,30,26,49,34,28,28,26,66,61,29,74,61,27,57,41,45,43,29,65,41,31,50,18,26,57,63,29,43,28,32,28,51,67,17,24,25,68,54,32,61,41,53,45,64,27,36,34,43,61,31,52,18,60,47,21,28,26,48,46,58,32,20,43,17,36,36,45,51,29,35,19,56,64,62,24,33,22,44,37,34,43,39,30,58,31,45,30,42,25,72,60,71,40,22,52,30,36,40,31,39,22,22,20,26,35,28,34,17,18,25,61,19,22,19,45,20,37,26,17,58,19,36,47,62,36,38,31,26,41,28,23,46,32,59,31,36,31,29,48,58,20,19,63,53,35,26,47,44,80,49,27,39,36,32,58,63,46,39,30,39,44,27,80,31,34,28,36,67,53,29,19,21,54,41,28,31,82,23,40,35,24,21,27,29,40,17,27,34,18,39,44,18,28,30,60,58,49,27,59,42,27,35,50,36,21,38,46,59,55,49,22,28,59,37,33,34,55,18,70,27,43,62,18,38,18,46,44,32,25,55,55,25,40,29,60,45,43,24,34,47,24,47,18,50,22,68,62,25,24,44,32,68,25,47,37,57,34,46,21,26,17,36,33,27,32,24,37,29,47,37,23,50,25,40,32,19,26,30,34,41,42,22,25,22,48,19,31,30,22,25,32,51,24,52,58,43,31,28,61,26,46,50,18,23,21,46,38,53,26,20,35,40,70,57,40,18,45,24,42,28,32,56,44,20,59,21,49,22,33,23,34,53,44,60,55,57,59,26,49,45,29,21,36,18,37,19,65,30,27,25,21,49,51,42,53,29,21,54,34,62,30,27,25,26,55,26,45,34,26,44,45,55,20,33,44,32,54,56,22,24,37,49,21,23,50,44,39,63,37,26,19,34,29,33,53,24,39,50,31,22,42,23,22,65,34,23,45,19,46,23,59,36,51,42,35,20,25,41,40,36,44,31,41,43,43,19,50,46,52,18,29,19,34,23,64,68,42,41,22,25,49,28,23,19,72,33,53,35,31,18,45,28,55,22,37,28,19,31,40,51,56,21,22,44,30,44,47,34,36,21,45,33,33,58,24,49,37,42,19,51,63,30,62,27,32,42,37,60,24,34,20,29,90,55,36,49,50,17,54,26,44,28,21,24,31,59,29,50,42,44,49,61,65,59,30,24,36,21,34,41,18,26,23,63,54,37,54,22,32,42,31,28,31,28,24,50,26,24,18,32,23,33,49,75,26,66,34,18,33,44,36,53,60,28,36,35,45,23,35,46,58,55,63,41,45,42,90,41,22,22,23,40,28,39,25,48,62,44,28,62,32,20,40,60,55,18,43,31,22,56,41,24,52,48,35,33,20,33,30,31,29,26,61,45,29,20,26,23,31,47,61,35,23,20,41,39,61,51,36,41,34,25,19,23,25,18,51,61,53,17,61,38,40,32,50,30,85,62,24,58,66,55,39,58,50,28,34,41,22,35,49,21,64,52,32,27,48,28,24,51,32,61,60,33,42,24,82,26,18,34,57,25,34,71,35,47,33,50,45,32,25,20,40,66,30,36,27,33,58,30,26,81,32,22,31,29,30,37,22,30,45,41,72,45,31,37,43,65,43,43,32,43,32,22,27,58,22]},{\"axis\":{\"matches\":true},\"label\":\"capital-gain\",\"values\":[2174,0,0,0,0,0,0,0,0,0,0,0,0,0,0,0,0,0,0,0,0,0,0,0,0,0,0,0,0,0,0,0,0,0,0,0,0,0,0,0,0,0,0,0,5013,2407,0,0,0,0,0,0,0,0,0,0,0,0,0,0,0,0,0,0,0,0,0,0,0,0,0,0,0,0,0,0,0,0,34095,0,0,0,0,4064,0,0,0,0,0,0,0,0,0,0,0,0,0,0,4386,0,0,0,0,0,0,0,0,0,0,0,0,0,0,0,0,0,0,0,0,0,0,0,0,0,0,0,0,0,0,0,0,0,0,0,0,0,0,0,0,0,0,0,0,0,0,0,0,0,0,0,0,0,0,0,0,0,0,0,0,0,0,0,0,0,0,0,0,0,0,0,0,0,0,0,1409,0,0,3674,0,0,0,0,0,0,0,0,0,0,0,0,0,0,0,0,0,0,0,0,0,0,0,0,4064,0,0,0,1055,2407,0,0,0,0,0,0,0,0,0,0,0,0,0,0,0,0,0,0,0,3464,0,0,0,0,0,0,0,0,0,0,0,0,0,0,0,0,0,0,0,0,0,0,0,2050,0,0,0,0,0,0,0,0,0,0,0,0,0,0,0,0,0,0,0,0,0,0,0,0,0,0,0,0,0,0,0,0,0,0,0,0,0,0,0,0,0,0,0,0,0,0,0,0,0,0,0,0,0,0,0,0,0,0,0,0,0,0,0,0,0,0,0,0,0,0,2176,0,0,0,0,0,0,0,0,2174,0,594,0,0,0,0,0,0,0,0,0,0,0,0,0,0,0,0,0,0,0,0,0,0,0,0,0,0,0,0,0,0,0,0,0,0,0,0,0,0,594,0,0,0,0,0,0,0,0,0,0,0,0,0,0,0,0,0,0,0,0,0,0,0,0,0,0,0,0,0,0,0,0,0,0,0,0,0,0,0,0,0,0,0,0,0,0,0,0,0,0,0,0,0,0,0,0,0,0,0,0,0,0,0,0,0,0,0,5013,0,0,0,0,0,0,0,0,0,0,0,0,0,0,0,0,0,0,0,0,0,0,0,2174,0,0,0,0,0,0,0,0,0,0,6849,0,0,1055,0,0,0,0,0,0,0,0,0,0,0,0,0,0,0,0,0,0,0,0,0,0,0,0,0,0,4101,0,0,0,1111,0,0,0,0,0,0,3411,0,0,0,0,0,2597,0,0,0,0,0,0,0,0,0,0,0,0,0,0,0,0,0,0,0,0,0,0,0,0,0,0,0,0,0,0,0,4386,0,0,0,0,0,0,0,4650,0,0,0,0,0,0,0,0,2407,0,0,594,0,0,0,0,0,0,0,0,0,0,0,0,0,0,0,0,0,0,0,0,0,0,0,0,0,0,0,0,0,0,0,0,0,0,0,0,1055,0,0,2463,0,0,0,0,0,0,0,0,0,0,0,0,0,0,0,0,0,0,0,0,0,0,0,0,0,0,0,0,0,0,0,0,0,0,0,0,0,0,0,0,0,0,0,0,0,0,0,0,0,0,0,0,0,0,0,0,0,0,0,0,0,0,0,0,0,0,0,0,0,2174,0,0,0,0,0,0,0,0,0,0,0,0,0,0,0,0,0,0,0,0,0,0,0,0,0,0,0,0,0,0,0,0,0,0,0,0,0,0,0,0,0,0,0,0,0,0,0,0,0,0,0,0,0,0,0,0,0,0,0,0,0,0,0,0,0,4101,2964,0,0,0,0,0,0,0,0,0,3325,0,0,0,0,0,2580,0,0,0,0,0,0,0,0,0,0,0,0,0,0,0,0,0,0,0,0,0,0,0,0,0,0,0,1409,0,0,0,0,0,0,0,0,0,0,0,0,0,0,0,0,0,3471,0,0,0,0,0,0,0,0,0,0,0,0,0,0,0,0,0,0,0,0,0,0,0,0,0,0,0,0,0,0,0,0,0,0,0,0,0,0,0,0,0,4865,0,0,0,0,0,0,0,0,0,0,0,0,0,0,0,0,0,0,0,0,0,0,0,0,0,0,0,0,0,3411,0,0,0,0,0,0,0,0,0,0,0,0,0,0,0,0,0,0,0,0,0,0,0,0,0,0,0,0,4386,0,0,0,0,0,0,0,0,0,4650,0,0,0,0,0,0,0,0,0,0,0,0,0,0,0,0,0,0,0,0,0,0,0,0,0,0,0,0,0,0,0,0,0,0,0,0,0,0,0,0,0,0,0,0,0,0,0,0,0,0,0,0,0,0,0,0,0,0,0,0,0,0,0,0,0,0,0,0,0,0,0,0,0,0,1471,0,0,0,0,0,0,0,0,0,3674,0,2329,0,0,0,0,0,0,0,0,3411,0,0,0,0,0,0,0,0,0,0,0,0,0,0,0,0,0,0,0,0,0,0,0,0,0,0,0,0,0,0,0,0,0,0,0,0,0,5013,0,2105,0,0,0,0,0,0,0,0,0,0,0,0,0,0,0,0,0,0,0,0,3411,0,0,0,594,0,0,0,0,0,0,0,0,5013,0,0,0,1055,0,3325,0,0,0,0,0,0,0,0,0,0,0,0,0,0,0,0,0,0,0,2105,0,0,0,0,0,0,0,0,3325,0,0,0,0,0,0,0,0,0,0,2885,0,0,0,0,0,0,0,0,0,0,0,0,0,0,0,0,0,0,0,0,0,0,0,0,0,0,0,0,0,0,0,0,0,0,0,0,0,0,0,0,0,0,0,0,0,0,0,0,2176,0,0,0,0,0,0,0,0,0,0,0,0,0,0,1055,0,0,0,0,0,0,0,0,0,0,0,0,0,0,0,0,0,0,0,0,0,0,0,0,0,2407,0,0,0,0,2202,0,0,0,0,0,0,0,0,0,0,0,0,0,0,0,0,0,0,0,0,0,2961,0,0,0,0,0,0,0,0,0,0,0,0,1055,0,0,0,0,0,0,0,0,0,0,0,0,0,0,0,0,0,0,0,0,0,0,0,0,0,0,0,6849,0,0,0,0,0,0,0,0,0,0,0,0,0,0,0,0,0,0,0,0,0,0,0,0,0,0,0,0,0,0,6767,0,0,0,0,0,0,0,0,2202,0,0,0,0,0,0,0,0,0,0,0,0,0,2174,0,0,0,2228,0,0,0,0,0,0,0,0,0,0,0,0,0,0,0,0,0,0,0,0,0,0,0,0,0,0,0,0,0,3325,0,0,0,0,0,0,0,0,0,0,0,0,0,0,0,0,0,0,0,0,0,0,0,0,0,0,0,0,0,0,0,0,0,0,0,0,0,0,0,0,0,0,0,0,0,1506,0,0,0,0,0,0,0,0,0,0,0,0,0,0,0,0,0,0,0,0,0,0,0,0,0,0,0,0,0,0,0,0,0,0,0,0,0,0,0,0,0,0,0,0,0,0,0,0,0,0,0,0,0,0,0,0,0,0,0,0,0,0,0,0,0,0,0,0,0,0,1409,0,0,0,2635,0,0,0,0,0,0,0,0,4865,0,0,0,0,0,0,0,0,0,0,0,0,0,0,0,0,0,0,0,0,0,0,0,0,0,0,0,0,0,0,0,0,0,0,0,0,0,0,0,0,0,0,0,0,0,0,0,0,0,0,0,0,0,0,0,0,0,0,0,0,0,0,0,0,0,0,0,0,0,0,0,0,0,0,0,0,0,0,0,0,0,0,0,0,0,0,0,5013,0,0,0,0,0,0,0,0,0,0,0,0,0,0,0,0,0,0,0,0,0,0,0,0,0,0,0,0,0,0,0,0,0,0,0,0,0,0,0,0,0,0,0,0,0,0,0,6767,0,0,0,0,0,0,0,0,0,0,1055,0,0,0,0,0,0,0,0,0,0,0,0,0,0,0,0,0,0,0,0,0,0,0,0,0,0,0,0,0,0,0,0,0,0,0,0,0,0,0,0,0,0,0,0,0,0,0,0,0,0,0,0,0,0,0,0,0,0,0,0,0,0,0,0,0,0,0,0,0,0,0,0,0,0,0,0,0,0,0,0,0,0,0,0,0,0,0,0,0,0,0,0,0,0,0,594,0,0,0,0,0,0,0,0,0,0,0,0,0,0,3781,0,0,3471,0,0,0,0,0,0,0,0,0,0,0,0,0,0,0,0,0,0,0,0,0,0,0,0,0,3137,0,0,3325,0,0,0,0,0,0,0,0,0,0,0,0,0,0,0,0,0,0,0,0,0,0,0,0,0,0,0,0,0,0,0,0,0,0,0,0,0,0,0,0,0,0,0,0,0,0,0,0,0,0,0,0,0,0,3818,0,0,0,0,0,1409,0,0,0,0,0,0,0,0,0,0,0,0,0,0,0,0,0,0,0,3942,0,0,0,0,0,0,0,0,0,0,0,0,0,0,0,0,0,0,0,0,0,0,0,914,0,0,0,0,0,0,0,0,0,0,0,0,4064,4064,0,0,0,0,0,0,0,0,0,0,0,0,0,0,0,0,0,0,0,0,0,0,401,0,0,0,0,0,0,0,0,0,0,0,0,0,0,0,0,0,0,0,0,0,0,0,0,0,0,0,0,0,0,0,0,0,0,0,0,0,0,0,4101,0,0,0,0,0,0,0,0,0,0,0,0,0,0,0,0,0,0,0,0,0,0,0,0,0,0,0,0,0,0,0,0,0,0,0,0,2829,0,0,0,0,0,4865,0,0,0,0,0,0,0,0,0,0,0,0,0,2977,0,0,0,0,0,0,2597,0,0,0,0,0,0,0,0,594,0,0,0,0,0,0,0,0,0,0,0,0,0,0,0,0,0,0,0,0,0,0,0,0,0,0,0,0,0,0,0,0,0,0,0,6849,0,0,0,0,0,0,0,0,0,0,0,0,0,0,0,0,0,5013,0,0,0,0,0,0,0,0,0,0,0,0,0,0,0,0,0,0,0,0,0,0,0,0,0,0,0,0,0,0,0,0,0,0,0,0,0,0,0,0,0,0,0,0,0,0,0,0,0,0,0,0,0,0,0,0,0,0,0,0,0,0,0,0,0,0,0,0,0,0,0,0,0,2062,0,0,0,0,0,0,0,0,0,0,0,0,0,0,0,0,0,0,0,0,0,0,0,0,0,0,0,0,0,0,0,0,0,0,0,0,0,0,0,0,0,0,0,0,0,0,0,0,0,0,0,0,0,0,0,3325,0,0,0,0,0,0,0,0,0,0,0,0,0,0,0,0,0,0,2829,0,0,0,0,0,0,0,0,0,0,0,0,4650,0,0,0,0,0,0,0,0,0,0,0,0,0,0,0,0,0,0,0,0,0,0,0,0,0,0,0,0,0,0,0,0,0,0,0,0,0,0,0,0,0,0,0,0,0,0,0,0,0,0,0,0,0,0,0,0,0,0,0,0,0,0,0,0,0,0,0,0,0,0,0,2829,0,2354,0,0,0,0,0,0,0,0,0,0,0,0,0,0,0,0,0,0,0,0,0,0,0,0,0,0,0,0,0,0,0,0,0,0,0,0,0,0,0,0,0,0,0,0,0,0,0,0,2964,0,0,0,0,0,0,0,0,0,0,0,0,0,0,0,0,0,0,0,0,0,0,0,3464,0,0,0,0,0,0,0,0,0,0,0,0,0,0,0,0,0,0,0,0,0,0,0,0,5455,0,0,0,0,0,0,0,0,0,0,0,0,0,0,0,0,0,0,0,0,0,0,0,0,0,0,0,0,0,0,0,0,0,0,0,0,0,0,0,0,0,0,0,0,0,0,0,0,0,0,0,0,0,0,0,0,0,0,0,0,0,0,0,0,0,0,0,0,0,0,0,0,0,0,0,0,3325,0,0,0,0,0,5013,0,0,0,0,0,0,0,0,0,0,0,0,0,0,3464,0,0,0,0,0,0,0,0,0,0,0,0,0,0,0,2885,0,0,0,0,0,0,0,0,3325,0,0,0,0,0,0,0,0,0,0,0,0,0,0,0,0,0,0,0,0,0,0,0,0,0,0,0,0,0,0,0,0,0,0,0,0,0,0,0,0,0,0,0,0,0,0,0,0,0,1424,0,0,0,0,0,5013,0,0,0,0,0,0,0,0,0,0,0,0,0,0,0,0,0,0,0,0,0,0,0,0,0,0,0,0,0,0,0,0,0,0,0,0,0,0,0,0,0,0,0,3273,0,0,0,0,0,0,0,0,0,0,0,0,1055,0,0,0,0,0,0,0,0,0,0,0,0,0,22040,0,0,0,0,0,0,0,1055,0,0,0,0,0,0,0,0,0,0,0,0,0,0,0,0,3137,0,0,0,0,0,0,0,0,0,0,0,0,0,0,0,0,0,0,0,0,1055,0,0,0,0,0,0,0,0,0,0,0,0,0,0,0,0,0,0,0,0,0,0,0,0,0,0,0,0,0,0,0,0,0,0,0,0,0,0,3325,0,0,0,0,0,0,0,0,4416,0,0,0,0,0,0,0,0,0,0,0,0,0,0,0,3908,0,0,0,0,0,0,0,0,0,0,0,0,0,0,0,0,0,0,0,0,0,0,0,0,0,0,0,0,0,0,0,0,0,0,0,0,0,0,0,0,0,0,0,0,0,0,3325,0,0,0,0,0,0,0,0,0,0,0,0,0,0,0,0,594,0,0,0,0,0,0,0,0,0,0,0,0,0,0,0,0,0,0,3137,0,0,0,0,0,0,0,0,0,0,0,0,0,0,0,0,0,0,3411,0,0,0,0,3137,0,0,0,0,0,0,0,0,0,0,0,0,0,0,0,0,0,0,0,0,0,0,0,0,0,0,5013,0,0,0,0,0,0,0,0,0,0,0,0,0,0,0,0,0,0,0,0,0,0,0,0,0,0,0,0,0,0,0,0,0,0,0,0,0,0,0,10566,0,0,0,0,0,0,0,4650,0,0,0,0,0,0,0,0,3325,0,0,0,0,0,0,0,0,0,0,0,0,0,0,0,0,0,0,0,0,0,0,0,0,0,0,0,0,0,0,0,0,0,0,0,0,0,0,5013,0,0,0,0,0,0,0,0,0,0,0,0,0,0,0,0,0,0,0,0,0,0,0,0,0,0,0,0,0,0,0,0,0,0,914,0,0,0,0,4064,0,0,0,0,0,0,0,0,0,0,0,0,0,0,0,0,0,0,0,0,0,0,0,0,0,991,0,0,0,1055,0,0,6849,0,0,0,0,0,0,0,0,0,0,0,0,0,0,0,0,0,0,0,0,0,0,0,0,0,1506,0,3325,0,0,0,0,0,3137,0,0,0,0,0,0,0,0,0,0,0,0,0,0,0,0,0,0,0,0,0,2885,0,0,0,0,0,0,0,0,0,0,0,0,0,0,0,0,0,0,0,0,0,0,0,0,0,0,0,0,0,0,0,0,0,0,0,0,2829,0,0,0,0,4931,0,0,0,0,0,0,0,0,0,0,0,0,0,0,0,0,0,0,0,0,0,0,0,0,0,0,0,0,0,0,0,0,0,0,0,0,0,0,0,0,1086,0,0,0,0,0,0,0,0,0,0,0,0,0,0,0,0,0,0,0,0,0,0,0,0,0,0,0,0,0,0,0,0,0,0,0,0,0,0,0,0,0,0,0,0,0,0,0,0,0,0,0,0,0,0,0,0,0,0,0,0,0,0,0,0,0,0,0,0,0,0,5013,0,0,0,0,0,0,0,0,0,0,0,0,0,0,0,0,0,0,0,0,0,0,0,0,0,0,0,0,0,0,0,0,0,0,0,0,0,0,0,0,0,0,0,0,0,0,0,0,0,0,0,0,0,0,0,0,0,0,0,0,0,0,0,0,0,0,0,0,0,0,0,0,0,0,0,0,0,0,0,0,0,0,5013,0,0,0,6849,0,0,0,0,0,0,0,0,0,0,0,0,0,0,0,0,0,0,0,0,0,0,0,0,0,0,0,0,0,0,0,0,0,0,0,0,0,0,0,0,0,0,0,0,0,0,0,0,0,0,0,0,0,34095,0,0,0,0,0,0,0,0,0,0,6497,0,0,0,0,0,0,0,4064,0,0,0,0,0,0,0,0,0,0,0,0,0,0,0,0,0,3674,0,0,0,0,0,0,0,0,0,0,0,0,3137,0,0,0,0,0,0,0,0,0,0,0,0,0,0,5013,0,0,0,0,0,0,0,0,0,0,0,6849,0,0,0,0,0,0,0,0,0,0,0,0,0,0,0,0,0,0,0,0,0,0,0,0,0,0,0,0,0,0,0,3908,0,0,0,0,114,0,0,0,0,2407,3137,0,0,0,0,0,0,0,0,0,0,0,0,0,0,0,4650,0,0,0,0,0,0,0,0,0,0,0,0,0,0,0,0,0,0,0,0,0,0,0,0,0,0,0,0,0,0,0,0,0,0,0,0,0,0,0,0,0,0,0,0,0,0,0,0,0,0,0,4101,0,0,0,0,0,0,0,0,0,0,0,0,0,0,0,0,2346,0,0,0,0,0,0,0,0,0,0,0,0,0,0,0,0,0,0,0,0,0,0,0,0,0,0,0,0,5013,0,0,0,0,0,0,0,0,0,0,0,0,0,0,0,0,914,0,2174,0,0,0,0,0,0,0,0,2407,0,0,0,0,0,0,0,0,0,2407,0,0,0,0,0,0,0,0,0,0,0,0,0,0,0,0,0,0,0,0,0,0,0,0,0,0,0,0,0,0,0,0,0,0,0,0,0,0,0,0,0,0,0,0,5013,0,0,0,0,0,0,0,0,0,0,0,0,0,0,0,0,0,0,0,0,0,0,0,0,0,0,0,0,0,0,0,0,0,0,0,0,0,0,0,594,0,0,0,0,0,0,0,0,0,0,0,0,0,0,0,0,0,0,0,0,0,0,0,0,0,0,0,0,0,0,0,0,0,0,0,2580,0,0,0,0,0,0,0,0,0,0,0,0,0,0,0,0,0,0,0,0,0,0,0,0,0,0,0,0,0,0,0,0,0,0,0,0,0,0,0,0,2174,0,0,0,0,0,0,0,0,0,0,0,0,0,0,0,0,0,0,0,0,1506,0,0,0,0,0,0,0,3411,0,0,0,0,0,0,0,0,0,0,0,0,3418,0,0,0,0,0,0,0,0,0,0,0,0,0,0,0,0,0,0,0,0,0,0,0,0,0,0,0,0,0,0,0,0,4064,0,0,0,0,0,0,0,0,0,0,0,0,0,0,0,0,0,0,0,0,0,0,0,0,0,0,0,0,0,0,0,0,0,5013,0,0,0,0,0,0,0,0,0,0,0,0,0,0,0,0,0,0,0,0,0,0,0,0,0,0,0,0,0,0,0,0,0,0,0,0,0,0,0,0,2580,0,0,0,0,0,0,0,0,0,0,0,0,0,0,0,0,0,0,0,0,0,0,0,0,0,0,0,0,0,0,0,0,0,0,0,0,0,0,0,0,0,0,0,0,0,0,0,0,0,0,0,0,0,0,0,0,0,0,0,0,0,0,0,0,0,0,0,2354,0,0,0,0,0,0,0,0,0,0,0,0,0,0,0,0,0,0,0,0,0,0,0,0,0,3325,0,0,0,0,0,0,0,0,0,0,0,0,0,0,0,0,0,0,0,0,0,4416,0,0,0,0,0,0,0,0,2977,0,0,0,0,0,0,0,0,0,0,0,0,0,0,0,0,0,0,0,0,0,0,0,0,0,0,0,0,0,0,0,0,0,0,0,0,0,0,0,0,0,0,0,0,0,0,0,0,0,0,0,0,0,0,0,0,0,0,0,0,0,0,0,0,0,0,2597,0,0,0,0,0,0,0,0,0,0,0,0,0,2174,0,0,0,0,0,0,0,0,0,0,0,0,0,0,0,0,0,0,0,0,0,0,0,0,0,0,0,0,0,0,0,0,0,0,0,0,0,0,0,0,0,0,0,0,0,0,3432,0,0,0,0,0,0,0,0,0,0,2885,0,0,0,0,0,0,0,0,0,0,0,0,0,0,0,0,0,0,0,0,0,0,0,0,0,0,0,0,0,0,0,0,0,0,0,2228,0,0,0,0,0,0,0,0,4064,0,0,0,0,0,0,0,0,0,0,0,0,0,0,0,0,0,0,0,0,0,0,0,0,0,0,0,0,0,0,0,0,0,0,0,0,0,0,0,0,0,0,0,0,0,0,0,0,0,0,0,0,0,0,0,0,0,0,0,0,0,0,0,0,0,0,2174,0,0,0,0,0,0,0,5013,0,0,0,0,0,0,3325,0,0,0,0,0,0,0,2907,0,0,0,0,0,0,1151,0,0,0,0,0,0,0,0,5013,0,0,0,0,0,0,0,0,0,0,0,0,0,0,0,0,0,0,0,0,0,0,0,0,0,0,4650,0,0,0,0,0,0,0,0,0,0,0,0,0,0,0,0,0,0,0,0,0,0,0,0,0,0,0,0,0,0,0,0,0,0,0,0,0,0,0,0,0,0,0,0,0,0,0,0,0,0,0,0,0,0,0,0,0,0,0,0,0,0,0,2329,0,0,0,0,0,0,0,0,0,0,0,0,0,0,0,0,0,0,0,2414,0,0,0,2290,0,0,0,0,0,0,0,0,0,0,0,0,0,0,0,0,0,0,0,0,0,0,0,0,0,0,0,0,0,0,0,0,0,0,0,0,0,0,0,0,0,0,0,0,0,0,0,0,0,0,0,0,0,0,0,0,0,0,0,0,0,0,0,0,0,0,0,0,0,0,0,0,0,0,0,0,0,0,0,0,0,0,0,0,0,0,0,0,0,0,0,0,0,0,0,0,0,0,0,0,0,0,4064,0,0,0,0,0,0,0,3418,0,0,0,0,0,0,0,0,0,0,0,0,0,0,0,0,0,0,0,0,0,0,0,0,0,0,0,0,0,0,0,10566,2580,0,0,0,0,0,0,0,0,0,0,0,0,0,0,0,0,0,0,0,0,0,0,0,0,0,0,0,0,0,0,0,114,0,0,0,0,0,0,0,0,0,0,0,0,0,0,0,0,0,0,0,0,0,0,0,0,0,0,0,0,0,0,0,0,0,0,0,0,0,5013,0,0,0,0,0,0,0,0,0,0,0,0,0,0,0,0,0,0,0,0,0,0,0,0,0,0,0,0,0,0,0,0,0,0,2174,0,0,0,0,0,0,0,0,0,0,0,0,0,0,0,0,0,594,0,0,0,0,0,0,0,0,0,0,0,0,0,0,0,0,0,0,0,0,0,0,0,0,0,0,0,0,0,0,0,0,0,41310,0,0,0,594,0,0,0,0,0,0,0,0,0,0,0,0,0,0,0,0,0,0,0,0,0,0,0,0,0,4650,0,0,0,0,0,0,0,0,0,4650,0,0,0,0,0,0,0,0,0,0,0,0,0,1151,0,0,0,0,0,0,0,0,0,0,0,0,0,0,0,0,0,0,0,0,0,0,0,0,0,0,0,2597,0,0,2346,0,0,0,0,0,0,0,0,0,0,0,2463,0,0,0,0,0,0,0,0,0,0,0,0,0,0,0,0,0,0,0,0,0,0,0,0,0,0,2597,0,0,0,0,0,0,0,0,0,0,0,0,0,0,0,0,0,0,0,0,0,0,0,0,4508,0,0,0,0,0,0,0,0,0,0,0,0,0,0,0,0,0,0,0,5013,0,0,0,0,0,0,0,0,0,0,0,0,0,0,0,0,0,0,0,0,0,0,0,0,0,0,0,0,0,0,0,0,0,0,0,0,0,5455,0,0,0,0,0,0,0,5013,0,0,0,0,0,2174,0,0,0,0,0,0,0,0,0,0,0,0,0,2829,0,0,0,0,0,0,0,0,2580,0,0,0,0,0,0,3471,0,0,0,0,0,0,0,0,0,0,0,0,0,0,0,0,0,0,0,0,0,0,0,0,0,0,0,0,0,0,0,0,4064,0,0,0,0,0,0,0,0,0,0,0,0,0,0,0,0,0,0,0,0,0,0,0,0,0,0,0,0,0,0,0,0,0,0,0,0,0,0,0,0,0,0,0,0,0,0,0,0,0,0,0,0,0,0,5013,0,0,0,0,0,0,0,0,0,0,0,0,0,0,0,0,0,0,0,0,0,0,0,0,0,5013,0,0,0,0,0,0,2050,0,0,0,0,0,0,0,0,0,0,0,0,0,0,0,0,0,0,0,0,0,0,0,0,0,0,0,0,0,0,0,0,0,0,0,2538,0,0,0,3908,0,0,0,0,0,0,0,0,0,0,0,10566,0,0,0,0,0,0,0,0,0,0,0,0,1055,0,0,0,0,0,0,0,0,0,0,0,0,0,0,0,0,0,0,0,0,0,0,0,0,0,0,0,0,0,0,0,0,0,0,0,0,0,0,0,0,0,0,0,0,0,0,0,0,0,0,0,0,0,0,0,0,0,0,0,0,0,0,0,0,0,0,0,0,0,0,0,0,0,0,0,0,6497,0,0,0,0,0,0,0,0,0,0,0,0,0,0,0,0,0,0,0,0,0,0,0,0,0,0,0,0,0,0,0,0,0,0,0,0,0,0,0,0,0,0,0,0,0,0,0,0,0,0,0,0,0,0,0,0,0,0,0,0,0,0,0,0,0,34095,0,0,0,0,0,0,0,0,0,0,3137,0,0,0,0,0,2105,0,0,0,0,0,0,0,0,0,0,0,0,0,0,0,0,0,0,0,0,0,0,0,0,0,0,0,0,0,0,0,0,0,0,0,0,0,0,0,0,0,3411,0,0,0,0,0,0,0,0,2885,0,0,0,0,0,0,0,0,0,0,0,0,0,0,0,0,0,0,0,0,0,0,0,0,0,0,0,0,0,0,0,0,0,0,0,0,0,0,0,0,0,0,0,0,0,0,0,0,0,0,0,0,0,0,0,0,0,0,0,0,0,0,0,0,0,0,0,0,0,0,0,0,0,0,0,4650,0,0,0,0,0,0,0,0,3411,0,0,0,3781,0,0,0,0,0,0,0,0,0,0,0,0,0,0,0,0,0,0,0,0,0,0,0,0,0,0,0,0,0,0,0,0,0,0,0,0,2354,0,0,0,0,0,0,0,0,0,0,0,0,0,0,0,0,2635,0,0,0,0,0,0,0,0,2174,0,0,0,0,0,0,0,0,0,0,0,0,0,0,0,0,0,0,4101,0,0,0,0,3781,0,0,0,0,0,0,0,0,0,0,0,0,0,0,0,0,0,0,0,0,0,0,0,0,0,0,0,0,0,0,0,0,0,0,0,0,0,0,0,0,0,0,0,0,0,0,0,0,0,0,0,0,0,0,0,0,0,0,0,0,0,0,0,0,0,0,0,0,0,0,0,0,0,0,0,0,0,0,0,0,0,0,0,0,0,0,0,0,2635,0,0,0,0,0,0,0,0,0,0,0,0,0,0,0,0,0,0,0,0,0,0,0,0,0,0,0,0,4064,0,0,4101,0,0,0,0,0,0,0,0,0,0,0,0,0,0,0,0,0,0,3464,0,0,0,0,0,0,2174,0,0,0,0,0,0,0,0,0,0,0,0,0,0,0,0,2050,0,0,0,0,0,0,0,0,0,0,0,0,0,0,0,0,0,0,0,0,0,0,0,0,0,0,0,0,0,0,0,0,0,0,0,0,0,0,0,0,0,0,0,0,0,0,0,0,0,3456,0,0,0,0,0,0,0,0,0,0,0,0,0,0,0,0,0,0,0,0,0,0,0,0,0,0,0,0,0,0,0,0,0,0,0,0,0,0,0,2202,0,0,0,2907,0,0,0,0,0,0,0,0,0,0,0,0,0,0,0,0,0,0,0,0,0,0,3908,0,0,0,0,0,0,0,0,0,0,0,0,0,0,0,0,0,0,0,0,0,0,0,0,0,0,3464,0,0,0,0,0,0,0,0,0,0,0,0,0,0,0,0,0,0,0,0,0,0,0,0,0,0,0,0,0,0,0,0,0,0,0,0,0,0,0,0,0,0,0,0,0,0,0,0,0,0,0,0,0,4650,0,0,0,0,0,0,0,0,0,1471,0,0,0,0,0,0,0,0,0,0,0,0,0,0,0,0,0,0,0,0,0,3464,0,0,0,0,0,0,0,0,0,0,0,0,0,0,0,0,0,0,0,0,0,0,0,0,0,0,0,0,0,0,0,3464,3674,0,0,0,0,0,0,0,0,0,0,0,0,0,0,0,0,0,0,0,0,0,0,0,0,0,0,0,0,0,0,0,0,0,0,0,0,0,0,0,0,0,0,0,0,0,0,0,0,4386,0,0,0,0,0,0,0,0,0,0,0,0,0,0,0,0,0,0,0,0,2105,0,0,0,0,0,0,0,0,0,0,0,0,0,0,0,0,0,0,0,0,0,0,0,0,0,0,0,0,0,0,5013,0,0,0,0,0,0,0,0,0,0,0,0,0,0,0,0,0,0,0,0,0,0,0,0,0,0,0,0,0,0,0,0,4865,0,0,0,0,0,0,0,0,0,0,0,0,0,0,0,0,0,0,0,0,0,0,0,0,0,0,0,0,0,0,0,0,0,0,0,0,0,0,0,0,0,0,0,0,0,0,0,0,0,0,0,0,0,0,0,0,0,0,1848,0,0,3887,0,3471,0,0,0,0,0,0,0,0,0,0,0,0,0,0,0,0,0,0,0,0,0,0,0,0,0,0,0,0,0,3325,0,0,0,0,0,0,0,0,0,0,0,0,0,0,0,0,0,0,0,0,3325,0,0,0,0,2977,0,0,0,0,0,0,0,0,0,0,0,0,0,0,0,0,0,0,0,0,4101,0,0,0,0,0,0,0,0,0,0,0,0,0,0,0,0,0,0,0,0,0,0,0,0,0,2228,0,0,0,0,0,0,0,0,0,0,0,0,0,0,0,0,0,0,0,0,0,0,0,0,0,0,0,0,0,0,0,0,0,0,0,0,0,0,0,0,0,0,0,0,0,0,0,0,0,0,0,0,0,0,0,0,0,0,0,0,0,0,3674,0,0,0,0,4865,0,0,0,0,0,0,0,2635,0,0,0,0,0,0,0,0,0,0,0,0,0,0,0,0,2885,594,0,0,0,0,0,0,0,0,0,0,0,2174,0,0,5721,0,0,0,0,0,0,0,0,0,0,2174,0,0,0,0,0,0,0,4650,0,0,0,0,0,0,0,0,0,2829,0,0,0,0,0,0,0,0,0,0,0,0,0,0,0,0,0,0,0,0,0,0,0,0,0,0,0,0,0,0,0,0,0,0,0,0,0,0,0,0,0,0,0,0,0,0,0,0,0,0,0,0,0,0,0,0,0,0,0,0,0,0,0,0,0,0,2414,0,0,0,0,0,0,0,0,0,0,4064,0,0,0,0,0,3325,2597,0,2829,0,0,0,0,0,0,0,0,0,0,0,0,0,0,0,0,0,0,0,0,0,0,0,0,0,5455,0,0,0,0,0,0,0,0,0,0,0,0,4101,0,0,0,0,0,0,0,0,0,0,3137,0,0,0,0,0,0,0,0,0,0,0,0,0,0,0,0,0,0,0,0,0,0,0,0,0,0,0,0,0,0,0,0,0,0,0,0,0,0,0,0,0,0,0,0,0,0,0,0,0,0,0,0,0,0,0,0,0,0,0,0,0,0,0,0,0,0,0,0,0,0,0,0,0,0,0,0,0,0,0,0,0,0,0,0,0,0,0,0,0,0,0,0,0,0,0,0,0,0,0,0,0,0,0,0,0,0,0,0,0,0,0,4064,0,0,0,0,0,0,0,0,0,0,0,0,0,0,0,4101,0,0,3908,0,0,0,0,0,0,0,0,0,0,0,0,0,0,0,0,0,0,0,0,0,0,0,0,0,0,0,0,0,0,0,0,0,0,0,0,0,0,0,0,0,0,0,0,0,0,0,0,0,0,0,0,0,0,0,0,0,0,0,0,0,0,0,0,0,0,0,0,0,0,0,0,0,0,0,0,0,0,0,0,0,0,0,0,0,0,0,0,0,0,0,3325,0,0,0,0,0,0,0,0,0,0,0,0,0,0,4064,0,0,0,0,0,0,0,0,4101,0,0,0,0,0,0,0,0,3325,0,0,0,0,1455,0,0,0,0,0,0,0,0,0,0,0,0,0,0,4101,0,0,0,0,0,0,0,0,0,0,0,0,0,0,0,0,0,0,0,0,0,0,0,0,0,0,0,0,0,0,0,1055,0,0,0,0,0,0,0,0,0,0,0,0,0,0,0,0,0,0,0,0,0,0,0,0,0,0,0,0,0,0,0,0,0,0,0,0,0,0,3908,0,0,0,0,0,0,0,0,0,0,0,0,0,0,0,0,0,0,0,0,0,0,0,0,0,2829,0,0,0,0,0,0,0,0,0,0,0,0,0,0,0,0,0,0,0,0,0,0,0,0,0,0,0,0,0,0,0,0,0,0,0,0,0,0,0,0,0,0,0,10566,0,0,0,0,0,0,0,0,0,0,0,0,0,0,0,0,0,4064,0,0,0,0,0,0,0,0,0,0,0,0,0,0,0,0,0,0,0,0,0,0,0,0,0,0,0,0,3908,0,0,0,0,0,0,0,0,0,0,0,0,0,0,0,0,0,0,0,0,0,0,0,0,0,0,0,0,0,0,0,0,0,0,0,0,0,0,0,0,0,0,0,0,0,0,0,0,0,0,0,0,0,0,0,0,0,0,2329,0,0,0,6849,0,0,0,0,0,0,0,0,2036,0,0,0,0,0,0,0,0,0,0,0,0,0,0,0,0,0,0,0,0,0,0,0,0,0,0,0,0,0,0,3887,0,0,0,0,0,0,0,0,0,0,2174,0,0,0,0,0,0,0,0,0,0,0,0,0,0,0,0,0,0,0,0,0,0,0,0,0,0,4865,0,0,0,3942,0,0,0,0,0,0,0,0,0,0,0,0,3325,0,0,0,0,2202,0,0,0,0,0,0,0,0,0,0,0,0,0,0,0,0,0,0,0,0,0,0,0,0,0,0,0,0,0,0,0,0,0,1831,0,0,0,0,0,0,0,0,0,0,0,0,0,0,0,0,0,0,0,0,0,0,0,0,0,0,0,0,0,0,0,0,0,0,0,0,0,0,0,0,0,0,0,0,5455,0,0,0,0,0,0,0,0,4064,0,0,0,0,0,0,0,0,0,0,0,0,0,3325,3325,0,0,0,0,0,0,0,0,0,0,0,0,0,0,0,0,0,0,0,0,0,4650,0,0,0,2885,0,0,0,0,0,0,0,0,0,0,0,0,0,0,0,0,0,0,0,0,0,0,0,0,0,0,0,0,0,0,0,0,0,2885,0,0,0,0,0,0,0,0,0,0,0,0,0,0,0,0,0,0,0,0,0,0,0,0,0,0,0,0,0,0,0,0,0,0,0,0,0,0,0,0,0,3942,0,1424,0,0,0,0,0,1409,0,0,0,0,0,0,0,0,0,0,0,0,0,0,0,0,0,0,0,0,0,0,0,0,0,0,0,0,0,0,0,0,0,1831,0,0,0,0,0,0,0,0,914,0,0,0,0,0,0,3471,0,0,0,0,0,0,0,0,0,0,0,0,0,0,0,0,0,0,0,0,0,0,0,0,0,0,0,0,0,0,0,0,0,0,0,0,0,0,0,0,0,0,0,0,0,0,0,0,0,0,0,0,0,0,0,0,0,0,0,0,0,0,2176,0,0,0,0,0,0,0,0,0,0,0,0,0,0,0,0,0,0,0,0,0,0,0,0,0,0,0,0,0,0,0,0,0,0,0,0,0,0,0,0,0,0,0,0,0,0,0,0,0,0,0,0,0,0,3942,1055,0,0,0,0,0,0,0,0,0,0,0,0,0,0,0,0,0,0,0,0,0,0,0,0,0,0,0,0,0,0,0,0,0,0,0,0,0,0,0,0,0,0,0,3908,0,0,0,0,0,0,0,0,0,0,4064,0,0,0,0,0,0,0,0,0,3137,0,0,0,0,0,0,0,0,0,0,0,0,0,0,0,0,0,0,0,0,0,0,0,0,0,0,0,0,0,0,0,0,0,0,0,0,0,0,0,0,0,0,0,0,0,0,0,0,0,0,0,0,0,0,0,0,0,0,0,0,0,0,0,0,5013,0,0,0,0,0,0,0,0,0,2463,0,0,0,2964,0,0,0,0,0,0,0,0,0,0,0,0,0,0,0,0,0,0,0,0,0,0,0,0,0,0,0,0,0,0,0,0,0,0,0,0,0,0,0,0,0,2829,0,0,0,0,0,0,0,0,0,0,0,0,0,0,0,0,0,0,0,0,0,0,0,0,0,0,0,0,0,594,0,0,0,0,0,0,0,0,0,3818,0,0,3908,0,0,0,0,0,0,0,0,0,0,0,0,0,0,0,0,0,0,0,0,0,0,0,0,3325,0,0,6497,0,0,0,0,0,0,0,0,0,0,0,0,0,0,0,0,5013,0,0,0,0,0,0,0,0,0,0,5013,0,0,0,0,0,0,0,0,0,2907,0,0,0,0,0,0,0,0,0,0,0,0,0,0,0,0,0,0,0,0,0,0,0,0,0,0,0,0,0,0,0,0,0,0,0,0,0,0,0,0,0,0,0,0,0,0,0,0,0,0,0,0,0,0,0,0,0,0,0,0,0,0,0,5013,0,0,0,0,0,0,0,0,0,0,0,0,0,0,0,0,0,0,0,0,1424,0,0,0,0,0,0,0,0,0,0,0,0,0,0,0,0,0,0,0,0,0,0,0,0,0,0,0,0,0,0,0,0,0,2176,0,0,0,0,5013,0,0,0,3137,0,0,0,0,0,0,0,0,0,0,3674,0,0,0,2202,0,0,0,0,0,0,0,0,2202,0,0,0,0,0,0,0,0,0,0,0,0,0,0,0,0,0,0,0,0,0,0,0,0,0,0,0,0,0,0,0,0,0,0,0,0,0,0,0,0,0,0,0,0,0,0,0,0,0,0,0,0,0,0,0,0,0,0,0,0,0,0,0,0,0,2174,0,0,0,0,0,0,0,0,0,594,0,0,0,0,0,0,0,5013,0,0,0,0,0,0,0,0,0,0,0,0,2176,0,0,0,0,0,0,0,0,0,0,0,0,0,0,0,0,0,0,0,0,0,0,0,0,0,0,0,0,0,0,0,0,0,0,0,4416,0,0,0,0,0,0,0,0,0,0,0,0,0,0,0,0,0,5013,0,0,0,0,0,0,0,0,0,0,0,0,0,0,0,0,0,0,0,0,0,0,0,0,0,0,0,0,0,0,0,3674,0,0,0,0,0,0,0,0,0,0,0,0,0,0,0,0,0,0,0,0,0,0,0,0,0,0,0,0,0,0,0,0,0,0,0,0,0,0,0,0,0,0,0,0,6849,0,3273,0,5013,0,0,0,0,0,0,3325,0,0,0,0,0,0,0,0,0,0,0,0,0,0,0,0,0,0,0,0,0,0,0,0,0,0,0,0,0,0,0,0,0,0,0,0,0,0,0,5013,0,0,0,0,0,0,0,0,0,0,0,0,0,0,0,0,0,0,0,0,0,0,0,0,0,0,0,2105,0,0,0,0,0,0,0,0,0,4508,0,0,0,5013,0,0,0,0,0,0,0,0,0,0,0,3674,0,0,0,0,0,0,0,0,0,0,0,0,0,0,0,0,0,0,0,0,0,0,0,0,0,0,0,0,0,0,0,0,0,0,0,0,0,2936,0,0,10566,0,0,0,0,0,0,0,0,0,0,0,0,0,0,0,0,0,0,0,0,0,0,0,0,0,0,0,0,0,0,0,0,0,0,0,0,0,0,0,0,0,0,0,0,0,0,0,0,6849,0,0,0,0,0,0,0,0,0,0,0,0,0,0,0,0,0,0,0,0,0,0,0,0,0,0,0,0,0,0,0,0,0,0,0,0,0,3818,0,0,0,0,0,0,0,0,0,0,0,0,0,0,0,0,0,0,0,0,0,0,0,0,0,0,0,0,2202,0,0,0,0,0,0,0,0,0,0,0,0,0,0,0,0,0,0,0,0,0,0,0,0,0,0,0,0,4650,0,0,0,0,0,0,0,0,0,0,0,0,0,0,0,1151,0,0,0,0,0,0,0,0,0,0,0,0,0,0,0,0,0,0,0,0,0,0,0,0,0,0,0,4508,0,0,0,0,0,0,0,0,0,2993,0,0,0,0,0,0,0,0,0,0,0,0,0,0,0,0,0,0,0,0,0,0,0,0,0,0,0,0,0,0,0,0,0,0,0,0,0,0,0,0,0,2829,0,0,0,0,0,0,0,0,0,0,0,0,0,0,0,0,0,0,0,0,0,0,0,0,0,0,0,0,0,0,0,0,0,0,0,0,0,0,0,0,0,0,0,0,0,0,0,0,0,0,0,5013,0,0,0,0,0,0,0,0,0,0,0,0,0,0,0,0,0,0,0,0,0,0,0,0,0,0,0,0,0,0,0,0,0,0,0,0,4064,0,0,0,0,0,3411,0,0,0,0,0,0,0,0,0,0,0,0,0,0,2174,0,0,0,3325,0,0,0,0,0,0,0,0,0,0,0,0,0,0,0,3464,0,0,0,0,0,3887,0,0,0,0,0,0,0,0,0,0,0,0,0,0,0,0,0,0,0,0,0,0,0,0,0,401,0,0,0,0,0,0,0,0,0,0,0,0,0,0,0,0,0,0,0,0,0,0,0,0,0,0,0,0,1086,0,2174,0,0,0,0,0,0,0,0,0,0,0,0,0,0,0,0,0,0,0,0,0,0,0,0,0,0,0,0,0,0,0,5455,0,0,0,0,0,0,0,0,0,0,0,0,0,0,0,0,0,3325,0,0,0,0,0,0,0,0,0,0,0,0,0,0,0,5721,0,0,0,7443,0,0,0,0,0,0,0,0,0,0,0,0,0,0,0,0,0,0,0,0,0,0,0,0,2036,0,0,0,0,0,0,0,0,0,0,0,0,0,0,0,0,0,0,0,0,0,0,0,0,0,0,0,3137,0,0,0,0,0,0,0,0,0,0,0,0,0,0,0,0,0,0,0,0,0,0,0,0,0,0,0,0,0,0,0,0,0,0,0,0,0,0,0,2176,0,0,0,0,0,0,0,0,0,0,0,0,0,0,0,0,0,0,0,0,0,0,0,0,0,0,0,0,0,0,0,0,0,0,0,0,0,0,0,0,0,0,0,0,0,0,0,0,0,0,0,0,0,0,0,0,0,0,0,0,0,0,0,0,0,0,0,0,0,0,0,0,0,0,0,0,0,0,0,0,0,0,0,0,0,0,0,0,0,0,4064,0,0,0,0,0,0,0,0,0,0,0,0,0,0,6360,0,0,0,1848,0,0,0,0,0,0,0,0,0,0,0,0,0,0,0,0,0,0,0,0,0,0,0,0,0,0,0,0,0,0,0,0,0,0,0,0,0,0,0,0,0,0,0,0,0,0,0,0,0,0,0,0,0,0,2174,0,0,0,0,0,0,0,0,0,0,0,0,0,0,0,0,0,0,0,0,0,0,0,0,0,0,0,0,0,0,0,0,0,0,0,0,0,0,0,0,0,0,0,0,0,0,0,0,0,0,0,0,0,0,0,0,0,0,0,0,0,0,0,0,0,0,0,0,0,0,0,0,0,0,0,0,0,0,0,2036,0,0,0,0,0,0,0,0,0,0,0,0,0,0,0,0,0,0,0,0,0,0,0,0,0,0,0,0,0,0,0,0,0,0,0,0,0,0,0,0,0,0,0,0,0,0,0,0,0,0,0,0,0,0,0,0,0,0,0,0,0,0,0,0,0,0,0,0,0,0,0,0,0,0,0,0,6849,0,0,0,0,0,0,2885,0,0,0,0,0,0,0,0,0,4416,0,0,0,0,0,0,2354,5013,0,0,0,0,0,0,0,0,0,4064,0,0,0,0,0,0,0,0,0,0,0,0,0,0,0,0,0,0,0,0,0,0,0,0,0,0,0,0,0,0,0,0,0,0,0,0,0,0,3781,0,0,0,0,0,0,1848,0,0,0,0,0,0,0,0,0,0,0,0,0,0,0,0,0,0,0,0,0,0,0,0,0,0,0,0,0,0,0,3908,0,0,0,0,0,0,0,0,0,0,3908,0,0,0,0,0,5013,0,0,0,0,0,0,3464,0,0,0,0,0,0,0,0,0,0,0,0,0,0,0,0,0,0,0,0,0,0,0,0,0,0,0,0,5455,0,0,0,0,0,0,0,0,0,0,0,0,0,0,0,0,0,0,0,0,0,0,0,0,0,0,0,0,0,0,0,0,0,0,0,0,0,0,0,0,0,0,0,0,0,0,0,0,0,0,3325,0,0,0,0,0,0,0,0,0,0,0,0,0,0,0,0,0,0,0,0,0,0,0,0,0,0,0,0,0,0,0,0,0,0,0,0,0,3464,0,0,0,0,0,0,0,0,0,0,3325,0,4064,0,0,0,0,0,0,0,0,0,1506,0,0,0,0,0,0,0,0,0,0,0,0,0,0,0,0,0,0,0,0,3908,0,0,0,0,594,0,0,0,0,0,0,0,0,0,0,0,0,0,0,0,0,0,0,0,0,0,0,0,0,0,0,0,0,3137,0,3411,0,0,0,0,0,0,0,0,0,0,0,0,0,0,0,0,0,0,0,0,0,0,0,0,0,4386,0,0,0,0,1797,0,0,0,0,0,0,0,0,0,0,0,0,0,0,0,0,6849,0,0,0,0,0,1848,0,0,0,0,0,0,0,0,0,0,0,0,0,0,0,0,0,4650,0,0,0,0,0,0,0,0,0,0,0,0,0,0,0,0,0,0,0,0,1173,0,3137,0,0,0,0,0,3781,0,0,0,0,0,0,0,0,0,0,0,0,0,0,0,0,0,0,0,0,0,0,0,0,0,0,0,0,0,0,0,0,0,0,0,0,0,0,0,0,0,0,0,0,0,3137,0,0,0,0,0,0,0,0,0,0,0,0,0,0,0,0,0,0,0,0,0,0,0,0,0,0,0,0,0,0,0,0,0,0,0,0,0,0,0,0,0,0,0,0,0,0,0,2907,0,0,0,0,2635,0,0,0,0,0,0,0,0,0,0,0,0,0,0,0,0,0,0,0,0,0,0,0,0,0,0,0,0,0,4650,4865,0,0,0,2407,0,0,0,0,0,0,0,0,0,0,0,0,0,0,594,0,0,0,0,0,0,0,0,0,0,0,0,0,0,0,0,0,0,0,0,0,0,0,0,0,0,0,0,0,0,0,0,0,0,0,0,0,0,0,0,0,0,0,0,0,0,0,0,0,0,0,0,0,0,0,0,0,0,0,0,0,0,0,0,0,6849,0,0,0,5013,0,0,0,0,0,0,0,0,0,0,0,0,0,0,0,0,0,0,0,0,0,2635,0,0,0,0,0,0,0,0,0,0,0,0,0,0,0,0,0,0,0,0,0,0,0,0,0,0,0,0,0,0,0,0,0,0,0,0,0,0,0,0,0,0,0,0,0,0,0,0,0,0,0,0,0,0,0,0,0,0,0,0,0,0,0,0,0,0,2174,0,0,4508,0,0,0,0,0,0,0,0,0,0,0,0,0,0,0,0,0,0,0,0,0,0,0,0,0,0,0,2176,0,0,0,0,0,0,0,0,0,0,0,0,0,0,0,0,0,0,0,0,0,0,0,0,0,0,0,0,0,0,0,0,0,0,2463,0,0,0,0,0,0,0,0,0,0,0,0,0,0,0,0,0,0,0,0,0,0,0,0,0,0,0,0,0,0,0,0,0,2407,0,0,0,0,0,0,0,0,0,0,0,0,0,0,0,0,3325,0,0,0,0,0,0,0,0,0,0,0,0,0,4650,0,0,0,0,0,0,0,0,0,0,0,0,0,0,0,0,0,0,0,0,0,0,0,0,4416,0,0,0,0,2829,0,0,0,0,0,0,0,0,0,2407,0,0,0,0,0,0,0,0,0,0,0,0,0,0,0,0,0,0,0,0,0,0,0,0,0,0,0,0,0,0,0,0,0,0,0,0,0,0,0,0,6849,0,0,0,0,0,0,0,0,0,0,0,0,0,0,0,0,0,0,0,0,0,0,0,0,0,0,0,0,0,0,0,0,0,0,0,0,0,0,0,0,0,0,0,0,0,0,0,0,0,0,0,0,4064,0,0,0,0,0,0,0,0,0,0,0,0,3908,0,0,0,0,0,0,0,0,0,0,0,0,0,0,0,0,0,0,0,0,0,0,0,0,0,0,0,0,0,0,0,0,0,0,0,0,0,0,0,0,0,0,0,0,0,0,0,0,0,0,0,0,0,0,0,0,0,0,0,0,0,0,0,0,0,0,0,0,0,0,0,0,0,0,0,0,0,0,0,0,0,0,0,0,0,0,0,0,0,0,0,0,0,0,0,0,0,0,0,0,0,0,0,0,0,0,0,0,0,0,0,0,0,0,0,0,0,0,0,0,0,0,0,0,0,0,0,0,0,0,0,0,0,0,0,0,0,0,0,0,0,0,0,0,0,0,0,0,0,0,0,0,0,0,0,0,0,0,0,0,0,0,0,0,0,0,0,0,0,0,0,0,0,0,0,0,0,0,0,0,0,0,0,0,0,0,0,0,0,0,0,0,0,0,0,0,0,0,0,0,0,0,0,0,0,0,0,0,0,0,0,0,0,0,0,0,0,2829,0,0,0,0,0,0,0,0,0,0,0,0,0,0,0,0,0,0,0,0,2174,0,0,0,0,0,0,0,0,2829,0,0,0,0,0,0,0,0,0,0,0,0,0,0,0,0,0,0,0,0,0,0,0,0,0,0,0,0,0,0,0,0,0,0,0,0,2174,0,0,0,0,0,0,0,0,0,0,0,0,2463,0,0,0,0,0,0,0,0,0,0,0,0,0,3273,0,0,0,0,0,0,0,0,1151,0,0,4101,0,0,0,0,0,0,0,0,0,0,0,0,0,1151,0,0,0,0,0,0,0,0,0,0,0,0,0,5013,0,0,0,0,0,0,0,0,0,0,0,0,0,0,0,0,0,0,0,0,0,1797,0,0,0,0,0,0,0,0,0,0,0,0,0,0,0,0,0,0,0,0,0,0,0,0,0,0,0,0,0,0,0,0,0,0,0,0,0,0,0,0,0,0,0,0,0,0,0,0,0,0,0,0,0,0,0,0,3908,0,0,0,0,0,0,0,5013,0,0,0,0,0,0,0,0,0,0,0,0,0,0,0,0,0,0,0,0,0,0,0,0,0,0,0,0,0,0,0,0,0,0,0,0,0,0,0,0,0,0,0,0,0,0,0,0,0,0,0,0,0,0,0,0,0,0,0,0,0,3325,0,0,0,0,0,0,0,0,0,0,0,0,0,0,0,0,0,0,0,0,0,0,0,0,0,0,0,0,0,0,0,0,0,0,0,0,0,0,0,0,0,0,0,0,0,0,0,0,0,0,0,0,0,0,0,0,0,0,0,0,0,0,0,0,0,0,0,0,0,0,0,0,0,0,0,0,0,0,0,6849,0,0,0,0,0,0,0,0,0,0,0,0,0,0,0,0,0,0,2174,0,0,0,0,0,0,0,0,0,0,0,0,0,0,0,0,0,0,0,0,0,0,0,0,0,0,0,0,0,0,0,0,0,0,0,0,0,0,0,0,0,0,0,0,0,5013,0,0,0,0,0,0,0,0,0,0,0,0,0,0,0,0,0,0,0,0,3464,0,0,0,0,0,0,0,0,0,0,0,0,0,0,0,4416,0,0,0,0,0,0,0,0,0,0,0,0,0,0,0,0,0,0,0,0,0,0,0,6723,0,0,0,0,0,0,0,0,0,0,3464,0,0,0,0,0,0,0,0,2009,0,0,0,0,0,0,0,0,0,0,0,0,0,0,0,0,0,0,0,0,0,0,0,0,0,0,0,0,2176,0,0,0,3411,0,0,0,0,0,0,0,0,0,0,0,0,0,0,0,0,0,0,0,0,0,0,0,0,0,0,0,0,0,0,0,0,0,0,0,0,2202,0,0,0,0,0,0,0,0,0,0,0,0,0,0,0,0,0,0,0,0,0,0,0,0,0,0,0,0,0,0,0,0,2346,0,0,0,0,0,0,0,0,0,0,0,0,0,0,0,0,0,0,0,0,0,0,0,0,0,0,0,0,0,0,0,0,0,0,0,0,0,0,0,2414,0,0,0,0,0,0,0,0,0,0,0,0,0,0,0,0,0,0,0,0,0,0,0,0,0,0,0,0,0,0,0,0,0,0,0,0,0,0,0,0,0,0,0,0,0,0,0,0,0,0,0,0,0,0,0,0,0,0,0,0,0,0,0,0,0,0,0,0,0,0,0,0,0,0,0,0,0,0,0,0,0,0,0,0,0,0,0,0,0,0,0,0,0,0,0,0,0,0,0,0,6497,0,0,0,0,0,0,0,0,0,0,0,0,0,0,0,0,0,0,0,0,0,0,0,0,0,0,0,0,0,0,0,4650,0,0,0,0,0,0,0,0,0,0,0,0,5013,0,4650,0,0,0,0,0,0,0,0,0,0,0,0,0,0,0,0,0,0,0,0,0,0,0,0,0,0,0,0,0,0,0,0,4064,0,0,0,0,0,0,0,0,0,0,0,0,0,0,0,0,0,0,0,0,0,0,0,0,0,0,0,0,0,0,0,0,4508,0,0,0,0,0,0,2829,0,0,0,0,0,0,0,0,0,0,0,0,0,0,0,0,0,0,0,0,0,0,0,0,0,0,0,0,0,0,0,0,0,0,0,0,0,0,0,0,0,0,0,0,0,0,0,0,0,0,0,0,0,0,0,0,0,0,0,0,0,0,0,0,0,0,0,0,0,0,0,0,0,0,0,0,0,0,0,0,0,0,0,0,0,0,0,0,0,0,0,0,0,0,0,0,0,0,0,0,0,0,0,0,0,0,0,0,0,0,0,0,0,0,0,0,0,0,0,0,0,0,0,0,0,0,0,0,0,0,2176,0,0,0,0,34095,0,0,0,0,0,0,0,0,0,0,0,0,0,0,0,0,1831,0,0,0,0,0,0,0,0,0,0,0,0,0,0,0,0,0,0,4650,0,0,0,0,0,0,3418,0,0,0,0,0,0,2885,0,0,0,0,0,0,0,0,0,0,0,0,0,0,0,0,0,0,2050,0,0,0,0,0,0,0,0,0,0,0,0,0,0,0,0,0,0,0,0,0,0,0,0,0,0,0,0,0,0,0,0,0,0,0,0,0,0,0,0,0,0,0,0,0,0,0,0,0,0,0,0,0,0,0,0,0,0,0,0,0,0,0,0,0,0,0,0,0,0,0,0,0,0,0,0,0,0,0,0,0,0,0,0,0,0,0,0,0,0,0,0,0,0,0,0,0,0,0,0,0,0,0,0,0,0,3464,0,0,0,0,0,0,0,0,0,0,0,0,0,0,0,0,0,0,0,0,0,0,0,0,0,0,0,0,0,0,2829,0,0,0,0,0,0,0,0,0,0,0,0,0,0,0,0,0,2414,0,4416,0,0,0,0,0,0,0,0,0,0,0,0,0,0,0,0,0,0,0,0,0,0,0,0,0,0,0,0,0,0,0,0,0,0,0,0,0,0,0,0,0,0,0,0,0,2174,0,2407,0,0,0,0,0,0,0,0,0,0,0,0,0,0,0,0,0,0,1797,0,0,0,0,0,0,0,1055,0,0,0,0,0,0,0,594,0,0,0,0,0,0,0,0,0,2885,0,0,0,0,0,0,0,0,0,0,0,0,0,0,0,0,0,0,0,0,0,0,0,0,0,0,0,0,0,0,0,0,0,0,0,0,0,0,0,0,0,0,0,0,0,0,0,0,0,0,0,0,0,0,0,0,0,0,0,0,2202,0,0,0,0,0,0,0,0,0,0,0,0,0,0,0,0,0,0,0,0,0,0,0,0,0,0,0,6497,0,0,0,0,3908,0,0,0,0,0,0,0,0,0,0,0,0,0,0,0,0,0,1506,0,0,0,0,0,6497,0,0,0,0,0,0,0,0,0,0,7443,0,0,0,0,0,0,0,0,0,0,0,0,0,0,0,0,0,0,0,2885,3942,0,0,2580,0,0,0,2964,0,3942,0,0,0,0,0,0,0,0,0,0,0,0,0,0,0,0,0,0,0,0,0,0,0,0,0,0,0,0,0,0,0,0,0,0,0,0,0,0,0,0,0,0,0,0,0,0,0,0,0,0,0,0,0,0,0,0,0,0,0,0,0,0,0,0,0,0,0,0,0,0,0,0,0,0,0,0,3325,0,0,0,0,0,2885,0,0,0,0,0,0,0,0,0,0,0,0,0,0,0,0,0,3325,0,0,0,0,0,0,0,0,0,0,0,0,0,0,0,0,0,0,3325,0,0,0,3908,0,0,0,0,0,4865,0,0,0,0,0,0,3432,0,0,0,0,0,0,0,0,0,0,0,6849,0,0,0,0,0,0,0,0,0,0,0,0,0,0,0,0,0,0,0,0,0,0,0,0,0,0,0,0,0,0,0,0,0,0,0,0,0,0,0,0,0,0,0,0,0,0,0,0,0,0,0,0,0,0,0,3674,0,0,0,0,2885,0,0,0,0,0,0,0,0,0,0,0,0,0,6849,0,2463,0,0,0,0,0,0,0,0,0,0,0,0,0,0,0,0,0,0,0,0,0,0,0,0,0,0,0,0,0,0,0,0,0,0,0,0,0,0,0,0,0,0,0,0,0,0,0,0,0,0,0,0,0,0,0,0,0,0,0,0,0,0,0,0,0,0,0,0,0,0,0,0,0,0,4650,0,0,0,0,0,0,0,0,0,0,0,0,0,0,2354,0,0,0,0,0,0,0,0,0,0,0,0,0,0,0,0,0,0,0,0,0,0,0,0,0,0,0,0,0,0,0,0,0,0,0,0,0,0,0,0,0,0,0,0,0,0,0,0,0,0,0,0,0,0,0,0,0,0,0,0,0,0,0,0,0,0,0,0,3908,0,0,0,0,0,0,0,0,0,3103,3908,0,0,0,0,0,0,0,0,0,0,2176,0,0,0,0,0,0,0,0,0,0,0,0,0,0,0,0,0,0,2290,0,0,0,0,0,0,0,0,0,0,0,0,0,0,0,0,0,0,0,0,0,0,0,0,0,0,0,0,0,0,0,0,0,0,914,0,0,0,0,0,0,0,0,0,0,0,0,0,0,0,4650,0,0,0,0,0,0,0,0,0,0,0,0,0,0,0,0,0,0,0,0,0,0,0,0,0,0,0,0,0,0,0,0,0,0,0,0,0,0,0,0,0,0,0,0,0,0,0,0,0,0,0,0,0,0,0,0,0,0,1055,0,0,0,0,0,0,0,0,0,0,0,0,0,0,0,0,0,0,0,0,0,0,0,0,0,0,0,0,0,0,0,0,0,0,0,0,0,0,0,0,0,0,0,0,0,0,2907,0,0,0,0,0,0,0,0,2174,0,0,0,0,0,0,0,0,594,0,0,0,0,0,0,0,0,0,0,0,0,0,0,0,0,0,0,0,0,0,0,0,0,0,0,0,0,0,0,0,0,0,0,0,0,0,0,0,0,0,0,0,0,0,0,0,0,6849,0,0,0,0,0,2407,0,0,0,0,0,0,0,0,0,0,0,0,0,0,0,0,0,3103,0,0,0,0,0,0,0,0,0,0,0,0,0,0,0,0,0,0,0,0,0,0,0,0,0,0,0,0,0,0,0,0,0,0,0,0,0,3781,0,4064,4865,0,0,0,0,0,0,0,0,0,0,0,0,0,0,0,0,0,0,0,0,0,0,0,0,0,0,2653,0,0,0,0,0,0,0,0,4650,0,0,0,0,0,3418,0,0,0,0,0,0,991,4650,0,0,0,0,0,0,0,0,0,0,0,0,0,0,0,0,34095,0,0,0,0,0,0,0,0,0,0,0,0,0,0,2354,0,0,0,0,3908,0,0,0,0,0,0,0,0,0,2174,0,0,0,3411,0,0,0,0,0,0,0,0,0,0,0,0,0,0,0,0,0,0,0,0,0,0,0,0,0,0,0,0,0,0,4386,3325,0,0,0,0,0,0,0,0,0,0,0,0,0,0,0,0,0,0,0,0,0,0,0,0,0,0,0,0,0,0,0,3942,0,0,0,0,0,0,0,0,0,0,2174,0,0,0,0,0,0,0,0,0,0,0,0,0,0,0,0,0,0,0,0,0,0,3908,0,0,0,0,0,0,0,0,0,0,0,0,0,0,0,0,0,0,0,0,0,0,0,0,0,0,0,0,0,0,0,0,0,0,0,0,0,0,0,1639,0,0,0,0,0,0,0,0,0,0,0,0,0,0,0,0,0,0,0,0,0,0,0,0,0,0,0,0,0,0,0,0,0,0,0,0,0,0,0,0,0,0,0,0,0,0,0,0,0,0,0,0,0,0,0,0,0,0,1055,0,0,0,0,0,0,0,0,0,0,0,0,0,0,0,0,0,0,0,0,0,0,0,0,0,0,0,2176,0,0,0,0,0,0,0,0,0,0,0,0,0,0,0,0,0,0,0,0,0,0,3137,0,0,0,0,0,0,0,0,0,0,0,0,0,0,0,0,0,0,0,0,2174,0,1848,0,0,0,0,0,0,0,0,0,0,0,0,0,0,0,0,0,0,0,0,0,0,0,0,0,0,0,0,0,0,0,0,0,0,0,0,0,0,4064,0,0,0,0,0,0,0,0,2653,0,0,0,0,0,0,0,0,0,0,0,0,0,0,0,0,0,0,0,0,0,0,0,0,0,0,0,0,0,0,0,0,0,0,0,0,0,0,0,0,0,0,0,3942,0,0,0,0,0,0,0,0,0,0,0,0,0,0,0,0,0,0,0,0,0,0,0,0,0,0,0,0,0,0,0,0,0,0,0,4064,0,0,0,0,0,0,0,0,0,0,0,0,0,0,0,0,0,0,0,0,0,0,0,0,0,0,0,0,0,0,0,0,0,0,0,0,0,0,0,0,0,0,0,0,0,0,0,0,0,0,0,0,0,0,0,2176,0,0,0,0,0,0,0,0,0,0,0,0,0,0,0,0,0,0,0,0,0,0,0,0,0,0,0,0,0,0,0,0,0,0,0,0,0,0,0,0,0,0,0,0,0,0,0,0,0,0,0,0,0,0,0,0,0,0,0,0,0,0,0,0,0,0,0,0,0,0,0,0,0,0,0,0,0,0,0,0,2062,0,0,0,0,0,0,0,0,0,0,0,0,0,0,0,0,0,0,0,0,0,0,0,0,0,0,0,0,0,0,2202,0,0,0,0,0,0,0,0,0,0,0,0,0,0,0,0,0,0,0,0,0,0,0,0,0,0,0,0,0,0,0,0,0,0,0,0,0,0,0,0,0,0,0,0,0,0,0,0,0,0,0,2202,0,0,0,0,0,0,0,0,0,0,0,0,0,0,0,0,0,0,0,0,0,0,0,0,0,0,0,0,0,0,0,0,0,0,0,0,0,0,0,0,0,0,0,0,0,0,0,0,0,0,0,0,0,0,0,0,0,0,0,0,0,0,0,0,0,0,0,0,0,0,0,0,0,0,3411,0,0,0,0,2463,0,0,0,0,0,2580,0,0,0,0,0,0,0,0,0,0,0,0,0,0,0,0,0,0,0,0,0,0,0,0,0,0,0,0,0,0,0,0,0,0,0,0,0,0,0,0,0,0,0,0,0,0,0,0,0,0,0,0,0,0,0,0,0,0,0,0,0,0,0,0,0,0,0,0,0,0,0,0,0,0,4416,0,0,0,0,0,0,0,0,0,0,0,0,0,0,0,0,0,0,0,0,0,0,0,0,0,0,0,0,0,0,0,0,0,0,0,0,0,0,0,0,0,0,0,0,0,0,0,0,0,0,0,0,0,0,0,0,0,0,0,0,0,0,0,0,0,0,0,0,0,0,0,0,0,0,0,0,0,0,0,0,0,0,0,0,0,0,0,0,0,0,0,0,0,0,0,0,0,0,0,0,0,0,0,0,0,0,0,0,0,0,0,0,0,0,0,0,0,0,0,0,0,0,3908,0,0,0,0,0,0,0,0,0,0,0,0,0,2829,0,0,0,0,0,0,0,0,0,0,0,0,0,0,0,0,0,0,0,0,0,0,5455,0,0,0,0,0,0,0,0,0,0,0,0,0,0,0,0,0,0,0,0,0,0,0,0,0,0,0,0,0,0,0,0,0,0,0,0,2354,0,2653,0,0,0,0,0,0,0,0,0,0,0,0,0,0,0,0,0,0,0,0,0,0,0,0,0,0,0,0,0,0,0,0,0,0,0,0,0,0,0,0,0,0,0,0,0,0,0,0,0,0,0,4064,0,0,0,0,0,0,0,0,0,0,0,0,0,0,0,0,0,0,0,0,0,0,0,0,0,0,0,0,0,0,594,0,0,0,0,0,0,0,2829,0,0,0,0,0,0,0,0,3887,0,0,0,0,0,0,0,0,0,0,0,0,0,0,0,0,0,0,0,0,0,0,3818,0,0,0,0,0,0,0,0,0,0,0,0,0,0,0,0,0,0,0,0,0,0,0,0,0,0,0,0,0,0,0,0,0,0,0,0,0,0,0,0,0,0,0,0,0,0,0,0,0,0,0,0,0,0,0,0,0,0,0,1055,0,0,3781,0,0,0,0,0,0,0,0,0,0,0,1506,0,0,0,0,0,0,0,0,0,0,0,0,0,0,0,0,0,0,0,0,0,0,0,0,4650,0,0,0,0,0,0,0,0,0,0,0,0,0,2885,0,0,0,0,0,0,0,0,0,0,0,0,0,0,3273,0,0,0,0,0,0,0,0,0,0,0,0,0,0,0,0,0,6767,0,0,0,2329,0,0,0,0,0,0,0,0,0,0,0,0,0,0,0,0,0,0,0,0,0,0,0,0,0,0,0,0,0,0,0,0,0,0,0,0,0,0,3674,0,0,0,0,0,0,0,0,0,0,0,0,0,0,0,0,0,0,0,3818,0,0,0,0,0,0,0,4064,0,0,0,0,0,0,0,0,0,0,0,0,0,2176,0,0,0,0,0,0,0,0,0,0,2290,0,0,0,0,0,0,0,0,0,0,0,0,0,0,0,0,0,0,0,0,0,0,0,0,0,0,0,3137,0,0,0,0,0,0,0,0,0,0,0,0,0,0,0,0,0,0,0,0,0,0,0,0,0,0,0,0,0,0,0,0,0,0,0,0,0,0,0,0,0,0,0,0,0,0,0,0,0,0,0,0,0,0,0,0,0,0,0,4416,0,0,0,0,0,0,0,0,0,0,0,0,0,0,0,0,0,0,0,0,0,0,0,0,0,0,0,0,0,0,0,0,0,1797,0,0,0,0,0,0,0,0,0,0,0,0,0,0,0,0,0,0,0,0,0,0,0,3137,0,0,0,0,0,0,0,2907,0,0,0,0,0,0,0,0,0,0,0,0,0,0,0,0,0,0,0,0,0,0,0,0,0,0,0,0,0,0,0,0,0,0,0,0,0,0,0,0,0,0,0,0,0,0,0,0,0,0,0,0,0,0,0,0,0,0,0,0,0,0,0,0,0,0,0,0,0,0,0,0,0,0,0,0,0,0,0,0,0,0,0,0,0,0,0,0,0,0,0,0,0,0,0,0,0,0,0,0,0,0,0,0,0,0,0,0,0,0,0,0,0,0,0,0,0,0,0,0,0,0,0,0,0,0,0,1055,0,0,0,0,0,0,0,0,0,0,914,0,0,0,3411,0,0,0,0,0,0,0,0,0,0,0,0,0,0,0,0,0,0,0,0,0,0,0,0,0,0,0,0,0,0,0,3464,0,0,0,3325,0,0,0,0,0,0,0,0,0,0,0,0,0,0,0,0,0,0,0,0,0,0,0,0,0,0,0,0,0,0,0,0,0,0,0,0,0,0,594,0,0,0,0,0,0,0,0,0,0,0,0,0,0,0,0,0,0,0,0,0,0,0,0,0,0,0,0,0,0,0,0,0,0,0,0,0,0,0,0,0,0,0,0,0,1055,3464,0,0,0,0,0,4650,0,0,0,0,0,0,0,0,0,0,0,0,0,0,0,0,0,0,0,0,0,0,0,0,0,0,0,0,0,0,0,0,0,0,0,0,0,0,0,0,0,0,0,0,0,0,0,0,0,0,0,0,0,0,0,0,0,0,0,0,0,0,0,0,0,0,0,0,0,0,0,0,2936,0,0,0,0,0,0,0,0,0,0,0,0,0,0,0,0,0,0,0,0,0,0,0,0,0,0,0,0,0,0,0,0,0,0,0,0,0,0,0,0,0,0,0,0,0,0,0,0,0,0,0,0,0,0,0,6497,0,0,0,0,0,0,0,0,0,0,0,0,0,0,0,0,0,0,0,0,0,0,0,0,0,0,0,0,0,0,0,0,0,0,0,0,0,0,0,0,0,0,0,0,0,0,0,0,0,0,0,0,0,0,0,0,0,0,0,0,0,0,0,0,0,0,0,0,0,0,0,0,0,0,0,0,0,0,0,0,0,0,0,0,0,0,0,0,0,0,0,0,0,0,0,0,0,0,0,0,0,0,0,0,0,0,2407,0,0,0,0,0,0,0,0,0,0,0,0,0,0,0,0,0,0,0,0,0,0,0,0,0,0,0,0,0,0,0,0,0,0,0,0,0,0,0,2407,0,0,0,0,0,0,0,0,0,0,0,0,0,0,0,0,0,0,0,0,0,0,0,0,0,0,0,0,0,0,0,0,0,0,0,0,0,0,0,0,0,0,0,4865,0,0,0,0,0,0,0,0,0,0,0,2964,0,2597,0,0,0,0,0,0,0,0,0,0,0,0,0,0,0,0,0,0,0,114,0,0,0,0,0,0,0,0,0,0,0,0,0,0,0,0,0,594,0,0,0,0,0,0,0,0,0,0,0,0,0,0,0,0,0,0,0,0,0,0,0,0,0,0,0,0,0,0,0,0,0,3908,0,0,0,0,0,0,0,0,0,0,0,0,0,0,0,0,0,0,2977,0,0,0,0,0,0,0,0,0,0,0,0,0,0,0,0,0,0,0,0,0,0,0,0,0,0,5013,0,0,0,0,0,0,0,0,0,0,0,0,0,0,0,0,0,0,0,0,0,0,0,0,3432,0,0,0,0,0,0,0,0,0,0,0,0,0,0,0,0,0,0,0,0,0,0,0,0,0,0,2174,0,0,0,0,0,0,0,0,0,0,0,0,0,0,0,0,0,0,0,0,0,0,2414,0,0,0,0,4508,0,0,0,3411,0,0,0,0,0,0,0,0,0,0,0,0,0,0,0,594,0,0,0,0,0,0,0,0,0,3908,0,0,0,0,0,0,0,0,0,0,0,0,0,0,0,0,0,0,0,0,0,0,0,0,0,0,0,0,0,0,0,0,0,0,0,41310,0,0,0,0,0,0,0,0,0,0,0,0,0,0,0,0,0,0,1506,0,0,0,0,0,5455,0,0,0,0,0,0,0,0,0,0,0,0,0,0,0,0,2597,0,0,0,0,0,0,0,0,0,0,0,0,0,0,0,0,0,0,5013,0,0,0,0,0,0,0,0,0,0,0,0,0,0,0,0,0,0,0,0,0,0,0,0,0,0,0,0,0,0,0,0,0,0,0,0,0,0,0,0,0,0,0,0,0,0,0,0,0,0,0,0,0,0,0,0,0,0,0,0,0,0,0,0,0,0,0,0,0,0,0,0,0,2174,0,0,0,0,0,0,0,4064,0,0,0,0,0,0,0,0,0,0,0,3674,0,0,0,0,0,0,0,0,0,0,0,0,0,0,0,0,0,0,0,0,0,0,0,0,0,0,0,0,0,6360,0,0,0,0,0,0,0,0,2228,0,0,0,0,0,0,0,0,0,0,0,0,0,0,0,0,0,2635,0,0,0,0,0,0,0,0,0,0,0,0,0,0,0,0,0,0,0,0,0,0,5013,0,0,0,0,0,0,0,0,0,0,0,0,0,0,0,0,0,0,0,0,0,2597,0,0,0,0,0,0,0,0,0,0,0,0,0,0,0,0,0,0,0,0,0,0,0,0,0,0,0,2829,0,0,0,0,0,0,594,0,0,0,0,0,0,0,0,0,0,0,0,0,0,0,0,0,0,4416,0,0,0,0,0,0,0,0,0,0,0,0,0,0,0,0,0,0,0,0,0,4101,0,0,0,0,0,0,2174,0,4650,0,0,0,0,0,0,0,0,0,0,0,0,0,0,0,0,0,0,0,0,0,0,0,0,0,0,0,0,0,0,0,0,0,0,0,0,0,0,0,0,0,0,0,0,0,0,0,0,0,0,0,0,0,0,2202,0,0,0,0,0,4064,0,0,0,0,0,0,0,0,2961,0,0,0,0,0,0,0,0,0,0,0,0,0,0,0,0,0,0,0,0,0,0,0,0,0,0,0,0,0,0,0,0,0,0,0,0,0,0,0,0,0,0,0,0,0,0,0,0,0,0,0,0,0,0,0,0,0,0,0,0,0,0,0,0,0,0,0,0,0,0,0,0,0,0,0,0,0,0,0,0,0,0,6849,0,0,0,0,0,0,0,0,0,0,0,0,0,0,0,0,0,0,2885,2407,0,0,0,0,0,0,0,0,0,0,0,0,0,0,0,0,1409,0,0,0,0,0,0,0,0,0,0,0,0,0,0,0,0,0,3781,0,4386,0,0,0,0,0,0,0,0,0,0,0,0,0,0,0,0,0,0,0,3942,0,0,0,0,0,0,0,0,0,0,0,0,0,0,0,0,0,0,0,0,0,0,0,0,0,0,0,0,0,0,0,0,0,0,0,0,0,0,0,0,0,4865,0,4865,4064,0,0,0,0,0,0,0,0,0,0,0,0,0,0,5013,0,5013,0,0,0,0,0,0,0,0,0,0,5721,0,0,0,0,0,0,0,0,0,0,0,2174,0,0,0,0,0,0,0,0,0,0,0,4650,0,0,0,0,0,0,0,0,0,0,0,0,0,0,0,0,0,0,0,0,0,0,0,0,0,0,0,0,0,0,0,0,0,0,0,0,0,0,0,0,0,0,0,0,0,2885,0,0,0,0,0,0,0,0,0,0,0,0,0,0,0,10566,0,0,0,0,0,0,0,0,0,0,4508,0,0,0,0,0,0,0,0,0,0,0,6497,0,0,0,0,0,0,0,0,0,0,0,0,0,0,1151,0,0,0,0,0,0,0,0,0,0,0,0,0,0,0,0,0,0,0,0,0,0,0,0,0,0,0,0,0,0,0,0,0,0,0,0,0,2414,0,0,0,0,0,0,0,0,0,0,0,0,0,0,0,0,0,0,0,0,0,0,0,0,6849,0,0,0,0,0,0,0,0,0,0,0,0,0,0,0,0,0,0,0,0,0,0,0,0,0,0,0,0,0,3908,0,0,0,0,0,0,0,0,0,0,0,0,0,0,2290,0,0,0,0,0,0,0,4508,0,0,0,0,0,0,0,0,0,0,0,0,0,0,0,0,0,0,0,0,0,0,0,0,0,0,0,0,0,0,0,0,0,0,0,0,0,0,0,0,0,0,0,0,0,0,0,1797,0,0,0,0,0,0,0,0,0,0,0,0,0,0,0,0,0,0,0,0,0,0,0,0,0,0,0,0,0,0,0,0,0,3137,0,0,0,0,0,0,2105,0,0,0,0,0,0,0,0,0,2354,0,0,0,0,0,0,0,0,0,0,0,0,0,0,0,0,0,0,0,0,0,0,0,0,0,0,0,0,0,0,0,0,0,0,0,0,0,0,0,0,0,2829,0,0,0,0,0,0,0,0,0,0,0,0,0,0,0,0,0,0,0,0,0,0,0,0,0,0,0,0,0,0,0,0,0,0,0,0,0,0,0,0,0,0,0,0,0,0,0,0,0,0,0,0,0,0,0,0,0,0,0,0,0,0,0,0,0,0,0,0,0,0,0,0,0,0,0,0,0,0,4386,0,0,0,0,0,2174,0,0,0,0,0,0,0,0,0,0,0,0,0,0,0,0,0,0,0,0,0,0,0,0,0,0,0,0,0,0,0,0,0,0,0,4064,0,0,0,0,0,0,0,0,0,0,0,0,0,0,0,0,0,0,0,0,0,0,0,0,0,0,0,0,0,0,0,0,0,0,0,0,0,0,0,0,0,0,0,0,0,0,0,0,0,0,0,0,3818,0,0,0,0,0,0,0,0,0,0,0,0,4650,0,0,0,0,0,0,0,0,0,0,0,0,0,0,0,0,0,0,0,4650,0,0,0,0,0,0,0,0,0,0,0,0,0,0,2202,0,0,0,0,0,0,0,0,0,0,0,0,0,0,0,0,0,0,0,0,0,0,0,0,0,0,0,0,0,0,0,0,0,0,0,0,0,0,2174,0,0,0,0,0,0,0,0,0,0,0,0,0,0,0,0,0,0,0,2050,0,0,0,0,0,0,0,0,0,0,0,0,0,0,0,0,0,0,0,0,0,0,0,0,0,2635,0,0,0,0,0,0,7978,0,0,0,0,0,0,0,0,0,0,0,0,0,4508,0,0,0,0,0,0,0,0,0,0,0,0,0,0,2174,0,0,0,0,0,0,0,0,0,0,0,0,0,0,0,0,0,0,0,0,0,0,0,0,0,0,0,0,0,0,0,0,0,0,0,0,0,0,0,0,0,0,0,0,0,0,0,0,0,0,0,0,3325,0,0,0,0,0,0,0,0,0,0,0,0,0,0,0,0,0,0,0,0,0,0,0,0,0,0,0,0,0,0,0,0,0,0,0,0,0,0,4386,0,0,0,0,0,0,0,0,0,0,0,0,0,3781,0,0,0,0,0,0,0,0,0,0,0,0,0,0,0,0,0,0,0,0,0,0,0,0,0,0,0,0,0,0,0,0,0,0,0,0,0,0,0,0,0,0,0,0,0,0,0,0,0,0,0,0,0,0,0,0,0,0,0,0,0,0,0,0,0,0,0,0,0,0,0,0,0,0,0,0,0,0,0,0,0,0,0,0,0,0,3103,0,0,0,0,0,0,0,0,0,0,0,0,0,0,0,0,0,2174,0,0,0,0,0,0,6360,0,0,0,0,0,0,0,0,0,0,0,0,0,0,0,0,0,0,0,0,0,0,0,0,0,0,0,0,0,0,0,0,0,0,0,0,0,0,0,0,0,0,0,0,0,0,0,0,0,0,0,0,0,0,0,0,0,0,0,0,0,0,0,0,0,0,0,0,0,0,0,0,0,0,0,0,2105,0,0,0,0,0,0,0,0,0,0,0,0,0,0,0,0,0,0,0,0,0,0,0,0,0,0,0,0,0,3942,0,0,0,0,0,0,0,0,0,0,0,0,0,0,0,0,0,0,0,2885,5013,0,0,0,0,0,0,0,0,0,0,1471,0,0,0,0,2977,0,0,0,0,0,0,0,0,0,2463,0,0,0,0,0,0,0,0,0,0,0,0,0,0,0,0,0,0,0,0,0,0,0,0,0,0,0,0,0,0,0,0,0,7443,0,0,0,0,0,0,0,0,0,0,0,0,0,0,0,0,0,0,0,0,0,0,2829,0,0,0,0,0,0,0,0,0,0,0,0,0,0,0,0,0,0,0,0,0,0,0,0,0,0,0,0,0,0,0,0,0,0,0,0,0,0,0,0,0,0,0,0,0,0,0,0,0,0,1055,0,0,0,0,0,0,0,0,0,0,0,0,0,0,0,4101,2202,0,0,0,0,0,0,2829,0,0,2829,0,0,0,0,0,0,0,0,0,0,0,0,0,0,0,0,0,0,0,0,0,0,0,0,0,0,0,0,0,0,0,0,0,0,0,5013,0,0,0,0,0,1471,0,0,0,0,0,0,0,0,0,0,0,0,0,0,0,0,0,0,0,0,0,0,2964,0,0,0,0,0,0,0,3137,2105,0,0,0,0,0,0,0,0,0,0,0,0,0,0,0,0,0,0,0,0,0,0,0,0,0,0,0,0,0,0,0,0,0,0,0,0,0,0,0,0,0,0,0,0,0,0,0,0,0,0,0,0,0,0,0,0,114,0,0,0,0,0,0,0,0,0,0,0,0,0,0,0,0,2463,0,0,0,0,0,0,3818,0,0,0,0,0,0,0,0,4865,0,0,0,0,0,0,0,0,0,0,0,0,0,0,0,0,0,0,0,0,0,0,0,0,0,0,0,0,0,0,0,0,0,0,0,0,0,0,0,0,0,0,0,0,0,0,0,0,0,0,0,0,0,0,0,0,0,0,0,0,0,0,0,0,0,0,0,0,0,0,0,0,0,0,0,0,0,0,594,0,0,0,0,0,0,0,0,0,0,0,0,0,0,0,6849,0,0,0,0,0,0,0,0,0,0,0,0,0,0,0,0,0,0,0,0,0,0,0,0,0,0,0,0,0,0,0,0,0,4865,0,0,0,0,0,0,0,0,0,0,0,0,0,0,0,0,0,0,0,0,0,0,0,0,1506,0,0,0,0,0,0,0,0,0,0,0,0,0,0,0,0,0,0,3464,0,0,0,0,0,0,0,0,0,0,0,0,0,0,0,0,0,0,0,0,0,0,0,0,0,0,594,0,0,0,0,0,0,0,0,0,0,0,0,0,0,0,0,0,0,0,0,0,0,0,0,0,0,0,0,0,0,0,0,0,2829,0,0,0,0,2290,0,0,0,0,0,0,0,0,0,0,0,0,0,0,0,0,0,0,2907,0,0,0,0,0,0,0,0,0,0,0,0,0,0,0,3103,0,0,0,0,0,0,0,0,0,3137,0,5013,0,0,0,0,4650,0,0,4064,0,0,0,0,0,0,0,0,0,0,0,6849,0,0,0,0,0,0,0,4416,0,1831,0,0,0,0,0,0,0,0,0,0,0,0,0,0,0,1831,0,0,0,0,0,0,0,0,3411,0,0,0,0,0,0,0,0,0,0,0,0,0,0,0,0,0,0,0,0,0,0,0,0,0,0,0,0,0,0,5013,0,0,0,0,0,0,0,0,0,0,0,0,0,0,0,0,0,0,0,2829,0,0,0,0,0,0,0,0,0,0,0,0,0,0,0,0,0,0,0,0,0,0,0,0,0,0,0,0,0,0,0,0,0,0,0,0,0,0,0,0,0,0,0,0,0,0,0,0,0,0,0,0,0,0,3137,0,0,0,0,0,0,0,0,0,0,0,0,0,0,0,2597,0,0,0,0,0,0,0,0,0,0,0,4650,0,0,0,0,0,0,0,0,0,0,0,1506,0,0,0,0,4101,0,0,0,0,0,0,0,0,0,0,0,0,0,0,0,0,0,0,0,0,0,0,0,0,0,0,0,0,0,0,0,1848,2885,0,0,0,0,0,0,0,0,0,0,0,0,3942,0,0,0,0,0,0,0,0,0,0,0,0,0,0,0,0,0,0,0,0,0,0,0,0,0,0,0,0,0,0,0,0,0,0,0,0,0,0,0,0,0,0,0,0,0,0,0,0,0,0,0,0,0,114,0,0,0,0,0,2829,6849,0,0,0,0,0,0,0,0,0,0,0,2176,0,0,0,594,0,0,0,0,0,0,0,0,0,0,0,0,0,0,0,0,0,0,0,0,0,0,0,0,0,0,0,0,0,2580,0,0,0,0,0,0,0,0,0,0,0,0,0,0,0,0,0,0,0,0,0,0,0,0,0,0,0,0,0,0,0,0,0,0,0,0,0,0,3908,0,0,0,0,0,0,0,0,0,0,0,0,0,0,0,0,0,2036,0,0,0,0,0,0,0,0,0,0,0,3418,0,0,0,0,0,0,0,0,0,0,0,0,0,0,0,0,0,0,0,0,0,0,0,0,0,0,0,594,0,0,0,0,0,0,0,0,0,0,0,0,0,0,0,0,0,0,0,0,0,0,0,0,3325,0,0,0,0,0,0,0,0,0,0,0,0,0,0,0,0,0,0,0,0,0,0,0,0,0,0,0,0,0,0,0,0,0,1506,0,0,0,0,0,0,0,0,0,0,0,0,0,0,0,0,0,0,0,0,0,0,0,0,0,0,0,2009,0,0,0,0,0,0,0,0,0,0,0,0,0,0,0,594,0,0,0,0,0,0,0,2964,0,0,0,0,0,0,0,0,0,0,0,0,0,0,0,0,0,0,0,0,0,0,0,0,0,0,0,0,0,0,0,0,0,0,0,0,0,2964,0,0,0,0,0,0,0,0,0,0,0,0,0,0,0,0,2907,0,0,0,0,0,0,0,0,0,0,0,0,0,2463,0,1831,0,0,3325,0,0,0,5013,0,0,0,0,0,0,0,0,0,0,0,0,0,0,0,0,0,0,0,0,0,0,0,0,0,0,0,0,0,0,6849,0,0,0,0,0,0,3908,0,0,0,0,0,0,0,0,0,0,0,0,0,0,0,0,0,0,0,0,0,0,0,0,6497,0,0,0,0,0,0,0,0,0,0,0,2346,0,0,0,3137,0,5455,0,594,0,0,0,0,0,0,0,0,0,0,0,0,0,0,0,0,0,0,0,0,0,0,0,0,0,0,5013,0,0,0,0,0,0,0,0,0,0,0,0,0,0,0,0,0,0,0,0,0,0,0,0,0,0,2580,0,0,0,0,0,0,0,0,0,0,0,0,0,2597,0,0,0,0,0,0,0,0,0,0,3325,0,0,0,0,0,0,0,0,0,0,0,0,0,0,0,0,0,0,0,0,0,0,0,0,0,0,0,0,3464,0,0,0,0,0,0,0,0,0,0,0,0,0,0,0,0,0,0,0,0,0,0,0,0,0,0,0,0,0,0,0,0,0,0,0,0,0,0,0,0,0,0,0,0,0,0,0,0,0,0,0,0,0,0,0,0,0,0,0,0,0,0,0,0,0,0,0,0,0,0,0,0,0,0,0,0,0,0,0,0,0,0,2174,0,0,0,0,0,0,0,0,0,0,0,0,0,0,0,0,0,0,0,0,0,0,0,0,0,0,0,0,0,0,0,0,4064,0,0,0,0,0,0,0,0,0,0,0,0,0,0,0,0,0,0,0,0,0,0,0,0,0,0,0,0,0,0,0,0,0,0,0,0,0,0,0,0,0,0,0,0,0,0,0,4650,0,0,0,0,0,0,0,0,0,0,0,0,0,0,0,0,0,0,2635,0,0,914,0,0,0,0,0,0,0,0,0,0,0,0,0,0,0,0,0,0,0,0,0,0,0,3464,0,0,0,0,0,0,0,0,3942,0,0,0,0,0,0,0,0,0,0,0,0,0,0,0,0,0,0,0,0,0,0,0,0,0,0,0,0,0,0,0,0,0,0,0,0,0,0,2597,0,0,0,0,0,0,0,0,0,0,0,0,0,0,0,0,0,0,0,0,0,0,0,0,0,0,0,0,0,0,0,0,0,991,0,0,0,0,0,0,3325,0,0,0,0,3887,0,0,0,0,0,0,0,0,0,0,0,0,0,0,0,0,0,0,0,0,0,0,0,0,0,0,0,0,0,0,0,0,0,0,0,0,0,0,0,0,0,0,0,0,0,0,0,0,0,0,0,0,0,0,0,0,0,0,0,0,0,0,0,0,0,0,0,0,0,0,0,0,0,0,0,0,0,0,0,0,0,0,0,0,0,0,0,0,0,0,0,0,0,0,0,0,0,0,0,0,0,0,0,0,0,0,0,0,0,0,0,0,0,0,0,0,0,0,0,0,0,991,0,0,0,0,0,0,0,0,0,0,1471,0,0,0,0,0,0,0,0,0,0,0,0,0,3908,0,0,0,0,0,0,0,0,2597,0,0,2354,0,0,0,0,0,0,0,0,0,1055,0,0,0,0,0,0,0,0,0,0,0,0,0,0,0,0,0,0,0,0,0,0,2907,0,0,0,0,0,0,0,0,0,0,0,3137,5013,0,0,0,0,0,0,0,0,0,0,0,0,0,0,0,0,0,0,0,0,0,0,0,0,0,0,0,0,3781,0,0,0,0,0,0,0,0,0,0,0,0,0,0,0,0,0,0,0,0,4650,0,0,0,0,0,0,0,0,0,0,0,0,0,0,0,0,0,0,0,0,0,0,0,0,0,0,0,0,2414,0,0,0,0,0,0,0,0,0,0,0,0,0,0,0,0,0,0,0,0,0,0,0,2653,0,0,0,0,0,0,0,0,0,0,0,0,0,0,0,0,0,0,0,0,0,0,0,0,0,0,0,0,0,0,0,0,0,0,0,0,0,1831,0,0,0,0,0,0,2176,0,0,0,0,0,0,0,0,0,0,0,4650,0,4101,0,0,0,0,0,0,0,0,0,0,0,0,0,0,0,0,0,0,0,0,0,0,0,0,0,0,0,0,0,0,0,0,0,0,0,0,3411,0,0,0,0,0,0,0,0,0,0,0,0,0,0,0,0,0,0,0,0,0,0,0,0,0,6767,0,0,0,0,0,0,0,0,0,0,0,0,0,0,0,0,0,0,0,0,0,0,0,0,0,0,0,0,0,0,0,3137,3325,0,0,0,0,0,0,0,0,0,0,0,3137,0,0,0,0,0,0,0,0,0,0,0,0,0,0,0,0,0,0,3325,594,0,0,0,0,0,0,0,0,0,0,0,0,0,0,2176,0,0,0,0,0,0,2174,0,0,0,0,0,0,0,0,0,0,0,0,0,0,0,0,0,0,0,0,0,0,0,0,0,0,0,0,0,0,0,0,0,0,0,0,0,0,0,0,0,0,0,0,0,0,0,0,0,0,0,0,0,0,0,0,0,0,0,0,0,0,2174,0,0,0,0,0,0,0,0,0,0,0,0,0,0,0,0,0,3103,0,0,0,0,0,0,0,0,0,0,0,0,0,0,0,0,0,2597,2407,0,0,0,0,0,0,0,0,0,0,0,2580,2885,0,0,0,0,0,0,0,0,0,0,0,0,0,0,0,0,0,0,0,0,0,0,0,0,0,0,0,0,0,0,0,0,0,0,0,0,0,0,0,0,0,0,0,0,0,0,0,0,0,0,0,0,0,0,0,0,0,0,0,0,0,0,0,0,0,3464,0,0,0,0,0,0,0,0,0,0,0,0,0,0,0,0,0,0,0,0,0,0,0,0,0,0,0,0,0,0,0,0,0,0,0,0,0,0,0,4508,0,0,0,0,0,0,0,0,0,0,0,0,0,0,0,0,4650,0,0,3137,0,0,0,0,0,0,0,0,0,0,0,0,0,0,0,0,0,0,0,3908,0,0,0,0,0,0,0,0,0,0,0,0,0,0,0,0,0,0,0,0,0,0,0,0,0,0,0,0,0,0,0,0,0,0,0,0,0,5455,0,0,0,0,594,0,0,0,0,0,0,0,0,0,0,0,2009,0,0,0,0,0,0,0,0,0,0,0,0,0,0,0,0,0,0,0,0,0,0,0,0,0,0,0,0,0,0,0,0,0,0,0,0,0,0,0,0,0,0,0,3464,0,0,0,0,0,0,3325,0,0,3103,0,0,0,0,0,0,3674,0,0,3103,0,0,0,0,0,0,0,0,0,0,0,0,0,0,0,0,0,0,0,0,0,0,0,0,0,0,0,0,0,0,0,0,0,0,0,0,0,0,0,0,0,0,0,0,0,0,0,0,0,0,0,0,0,0,0,0,0,0,0,0,0,0,0,0,0,0,0,0,0,0,0,0,0,0,0,0,0,0,0,0,0,0,0,0,0,0,0,0,0,0,0,0,0,0,0,0,0,0,0,0,0,0,0,0,0,0,0,0,0,0,0,0,0,0,0,0,0,0,0,0,0,0,0,0,0,0,2829,0,0,0,0,0,0,0,0,0,0,0,0,0,0,0,0,0,0,0,0,0,0,0,0,0,0,0,0,0,0,0,0,0,0,0,0,0,0,0,0,0,0,0,0,0,0,0,0,0,0,0,0,5013,0,0,0,0,0,0,0,0,0,0,0,0,0,0,0,0,0,0,0,0,0,0,0,0,0,0,3411,0,0,0,0,0,0,0,0,0,0,0,0,0,0,0,0,2174,0,991,0,0,0,0,0,0,3325,0,0,0,0,0,0,0,0,4650,0,0,0,0,0,0,0,0,0,0,0,0,6767,0,0,0,0,0,0,0,0,0,0,0,0,3471,0,0,0,0,0,0,0,0,0,0,0,0,0,0,0,0,0,0,0,0,0,0,0,0,0,0,0,0,0,0,0,0,0,0,0,0,0,0,0,0,0,0,2597,0,0,0,0,0,0,0,0,0,0,5013,0,0,0,0,0,0,0,0,0,0,0,0,2105,0,0,0,0,0,0,0,0,0,0,0,0,0,0,0,0,0,0,0,0,0,0,0,0,0,0,0,0,0,0,0,0,0,2174,0,0,0,0,0,0,0,2907,2354,0,0,0,0,0,0,0,0,0,0,0,0,0,0,0,0,0,0,0,0,0,0,0,0,0,0,0,0,0,0,5013,0,0,0,0,0,0,0,0,0,0,0,0,0,0,0,0,0,0,2829,0,0,0,0,0,0,2993,0,0,0,0,0,0,0,0,0,0,0,0,0,0,0,0,0,0,0,0,0,0,0,0,0,0,6849,0,0,0,0,0,0,0,0,0,0,0,0,0,0,0,0,0,0,0,0,0,0,0,0,0,0,0,0,0,0,0,0,0,0,0,0,0,0,0,0,0,0,0,0,0,0,0,0,0,0,4064,0,0,0,0,0,0,0,0,0,0,0,0,0,0,0,0,0,0,0,0,0,0,0,0,0,0,0,0,0,0,0,0,0,0,0,0,0,0,0,0,0,0,5013,0,0,0,0,0,0,0,0,0,0,0,0,0,0,0,0,0,0,0,0,0,0,0,0,0,0,0,0,0,0,0,0,0,0,0,0,0,0,0,0,0,0,0,0,0,0,0,0,0,0,0,0,0,0,0,5013,0,0,0,0,0,0,2885,0,0,0,0,0,0,0,0,0,0,0,0,0,0,0,0,0,0,0,2346,0,0,0,0,0,0,0,0,0,2977,0,0,0,0,0,0,0,0,0,0,0,0,0,0,0,0,0,0,0,0,0,0,0,0,0,0,0,0,0,0,0,0,0,0,0,0,0,0,0,0,0,0,0,0,0,0,0,0,0,0,0,0,0,0,0,0,0,0,0,0,0,0,0,0,2174,0,594,0,0,0,0,0,0,0,0,0,0,0,0,0,0,0,0,0,2597,0,0,0,0,0,0,0,0,0,0,0,0,0,0,0,0,0,0,0,0,0,0,0,0,0,0,0,0,0,0,0,0,0,0,0,0,0,0,0,0,0,0,0,0,0,0,0,0,0,0,0,0,0,0,0,0,4650,0,0,0,0,0,0,0,0,1506,0,0,0,0,0,0,0,0,0,0,0,0,0,0,2597,0,0,0,0,0,0,0,0,0,0,0,0,0,0,0,0,0,0,0,0,0,0,0,0,0,0,0,0,0,0,0,0,0,0,0,0,4650,0,0,0,0,0,4865,0,0,0,0,0,0,0,0,0,0,0,0,0,0,0,0,0,0,0,0,0,0,0,0,0,0,0,0,2329,0,0,0,0,0,0,0,0,0,0,0,0,0,0,0,0,0,0,0,0,0,0,0,0,0,0,0,0,0,0,0,0,0,0,0,0,0,0,0,0,0,0,0,0,0,0,0,1506,0,0,0,0,2597,0,0,0,0,0,0,0,0,0,0,0,0,0,0,0,0,0,0,0,0,0,0,0,0,0,0,0,0,0,0,0,0,0,0,0,0,0,0,0,1506,0,0,0,0,0,0,3273,0,0,0,0,0,0,0,0,0,0,0,0,0,0,114,0,0,0,0,0,0,0,0,0,0,0,0,0,0,0,0,0,0,0,0,0,0,0,0,0,0,0,0,0,0,0,0,0,0,0,0,0,0,0,0,0,0,0,0,0,0,0,0,0,0,0,0,0,0,0,0,0,0,0,0,0,0,0,0,0,0,0,0,4064,0,0,0,0,0,0,0,0,0,0,0,0,0,0,0,0,0,2174,0,1506,0,0,0,0,0,0,0,0,0,0,0,0,0,0,0,0,0,0,0,0,0,0,0,0,0,0,0,0,0,0,0,0,0,0,0,0,0,0,0,0,0,0,0,0,0,0,0,0,0,0,0,0,0,0,0,0,0,0,0,0,0,0,0,0,4865,0,0,0,0,0,0,0,0,0,0,0,0,0,0,594,0,0,0,0,0,0,0,0,0,0,0,0,0,0,0,0,0,0,0,0,0,0,0,0,0,0,0,0,0,0,0,0,0,0,0,0,0,0,0,0,0,0,0,0,0,0,0,0,0,0,0,0,0,0,0,0,0,0,0,0,0,0,0,0,0,0,0,0,0,0,0,0,0,0,0,4064,0,0,0,0,0,0,0,0,0,0,0,0,0,0,0,0,0,0,0,0,0,0,0,4865,0,0,0,0,0,0,0,2176,0,0,0,0,2202,0,0,0,0,0,0,3781,3325,0,0,0,0,0,0,0,0,0,0,0,0,0,0,0,0,0,0,0,0,0,0,0,0,0,0,0,0,0,0,0,0,0,0,0,0,0,0,0,0,0,0,0,0,0,0,0,0,0,0,6849,0,0,0,0,0,2174,0,0,0,0,0,0,0,0,0,0,0,0,0,0,0,0,0,0,0,0,0,0,0,0,0,0,0,0,0,0,0,0,0,0,0,0,0,0,0,0,0,0,0,0,0,0,0,0,0,0,0,0,0,0,0,0,0,0,0,0,0,0,0,0,0,0,0,0,0,0,0,0,0,0,0,0,0,0,0,0,0,0,0,0,0,0,0,0,0,0,0,0,0,0,0,0,0,0,0,0,0,0,0,0,0,0,0,0,0,0,0,0,0,5013,0,0,0,2885,0,2407,0,0,0,0,0,0,0,0,0,0,1055,0,0,0,0,0,0,0,0,0,0,0,0,0,0,0,0,0,0,0,0,0,0,0,0,0,0,0,0,0,0,0,0,0,0,0,0,0,0,0,0,0,0,0,0,0,0,0,0,0,0,0,0,0,0,0,0,0,0,0,4064,0,3137,0,1086,0,0,0,0,0,0,0,0,0,0,0,0,0,0,0,0,0,0,0,0,0,0,0,0,3464,0,0,0,0,0,0,0,0,0,0,0,0,0,0,0,0,0,0,0,0,0,0,0,0,0,0,0,0,0,0,0,0,0,0,0,0,0,0,0,0,0,0,0,0,0,0,0,0,0,0,0,0,0,0,0,0,0,0,0,0,0,0,0,2977,0,0,0,0,0,0,0,0,0,0,0,0,0,0,0,0,0,0,0,0,0,0,0,0,0,0,0,0,0,0,0,0,0,0,0,3781,0,0,0,0,0,0,0,0,0,0,0,0,0,0,0,0,0,0,0,0,0,0,0,0,0,0,0,0,0,0,0,0,0,0,0,0,0,0,0,0,0,0,0,5013,0,0,0,0,4508,0,0,0,0,0,0,1797,0,0,0,0,0,0,0,0,0,2346,0,0,2977,0,0,0,0,0,2635,0,0,0,0,0,0,0,0,0,0,0,0,0,0,0,0,0,3137,0,0,0,0,0,0,0,0,0,0,0,0,0,0,0,0,0,0,0,0,0,0,0,0,0,0,0,0,0,0,0,0,0,0,0,0,0,0,0,0,0,0,0,0,0,0,0,0,0,0,0,0,0,0,0,0,0,0,0,0,0,0,0,0,0,0,0,0,0,0,0,0,0,0,0,0,1173,0,0,0,0,0,0,0,0,0,0,0,0,0,0,0,0,0,0,0,0,0,0,0,0,0,0,0,0,0,0,0,0,1471,0,0,0,0,0,0,0,0,0,0,0,0,0,0,0,0,0,0,0,0,0,0,0,0,0,0,0,0,0,0,0,0,0,0,0,0,0,0,0,0,0,0,0,0,0,0,0,0,0,2885,0,0,2387,0,0,0,0,0,0,0,0,0,0,0,0,0,0,0,0,0,0,0,3137,0,0,0,0,0,0,0,0,0,0,0,0,0,0,0,0,0,0,0,0,0,0,0,0,0,0,0,0,0,0,0,0,0,3464,0,0,0,0,0,0,0,0,0,0,0,0,0,0,0,0,0,0,0,0,0,0,0,0,0,0,0,0,0,0,0,5013,0,4508,0,0,0,0,0,0,0,0,0,0,0,0,0,0,0,3137,0,0,0,0,0,0,0,0,0,0,0,0,0,0,0,0,0,0,0,0,0,0,0,0,0,0,0,3908,0,0,0,0,0,0,0,0,0,0,0,0,0,0,0,0,0,0,0,0,0,0,0,0,0,0,0,0,0,0,0,0,0,0,0,0,0,4101,0,0,0,0,0,0,0,0,0,0,0,0,0,0,0,0,1173,0,0,1409,0,0,0,0,0,0,0,0,0,0,0,0,0,0,0,0,0,0,0,0,0,0,0,0,0,0,0,2414,0,1797,4064,0,0,0,0,0,5013,3674,0,0,0,0,0,0,0,0,0,0,0,0,0,0,0,0,0,0,0,0,0,0,0,0,0,0,0,0,0,0,0,4650,0,0,0,0,0,0,0,0,0,0,0,0,0,0,0,0,0,0,0,0,0,0,0,0,0,0,0,0,0,0,0,0,0,0,0,0,0,0,0,0,0,0,0,0,0,0,0,0,0,2964,0,0,0,0,0,0,2174,0,0,0,0,0,0,0,0,0,4386,0,0,0,0,0,0,0,0,0,0,0,0,0,0,0,0,0,0,0,0,0,0,0,0,0,0,0,0,0,0,0,0,0,0,0,0,0,0,0,0,0,0,0,0,0,0,0,0,0,0,2580,0,0,3908,0,0,0,0,0,0,0,0,0,0,0,0,2174,0,0,0,0,0,0,0,0,0,3411,0,0,0,0,0,0,0,0,0,0,0,0,0,0,0,0,0,0,0,0,0,0,0,0,0,0,0,0,0,2354,0,0,0,0,0,0,4386,0,0,0,0,0,0,0,0,0,0,0,0,4386,0,0,0,2580,0,0,0,0,0,0,0,0,0,0,0,0,0,0,0,0,0,0,0,0,0,0,0,0,0,0,0,0,0,0,0,0,0,0,0,0,0,0,0,2329,0,0,0,0,0,0,0,0,0,0,0,0,0,0,0,0,0,0,0,0,0,0,0,0,0,0,0,0,0,0,0,0,0,0,0,0,0,0,0,0,0,0,0,0,0,0,0,0,0,0,0,0,0,0,0,0,0,0,0,0,0,0,0,0,0,0,0,0,5013,0,0,0,0,0,0,0,0,0,0,0,0,0,0,0,0,0,0,0,0,0,0,0,0,0,0,0,0,0,0,0,3137,0,2176,0,0,0,0,0,0,0,0,0,0,3325,0,0,0,0,0,0,0,0,0,0,0,0,0,0,0,0,0,0,0,0,0,0,0,0,0,0,0,0,0,0,0,0,0,0,0,0,0,0,0,0,0,0,0,0,0,0,0,0,0,0,0,0,0,0,0,0,0,0,0,0,0,0,0,0,0,0,0,0,3325,0,0,0,0,0,0,0,0,0,0,0,0,0,0,0,0,0,0,0,0,0,0,0,0,0,0,0,0,0,0,0,0,0,0,0,0,0,0,0,0,0,0,0,0,0,0,0,0,0,0,0,0,0,0,0,0,0,0,0,0,0,0,0,0,0,0,2202,0,0,0,0,0,0,0,0,0,0,0,0,0,0,0,0,0,0,0,0,0,0,0,0,0,0,0,0,0,0,0,0,0,0,0,0,0,0,0,0,0,0,0,0,0,0,0,0,0,0,0,0,0,0,0,0,0,0,0,0,0,0,0,0,0,0,0,0,0,0,0,0,0,0,0,0,0,0,0,2174,0,3432,0,0,0,0,0,0,0,0,0,0,0,0,0,0,0,0,0,0,0,0,0,6497,0,0,0,0,0,0,0,0,0,0,0,0,0,0,0,0,0,0,0,0,0,0,2463,0,0,0,0,0,0,0,0,0,0,0,0,0,0,0,0,0,0,5013,0,0,0,2936,0,0,0,0,0,0,0,0,0,0,0,0,0,0,0,0,0,0,0,0,0,0,3325,0,0,3908,0,0,0,0,0,0,0,0,0,0,0,0,0,0,0,0,0,0,0,0,0,0,0,0,0,0,0,0,0,0,0,0,0,0,0,0,0,0,0,0,0,0,0,0,0,0,3908,0,0,0,0,0,0,0,0,0,0,0,0,0,0,0,0,3411,0,0,0,0,0,0,0,0,0,0,0,0,0,0,0,0,0,0,4064,0,0,0,0,0,0,0,0,0,0,0,0,0,0,0,0,0,0,5455,0,0,0,0,0,0,0,0,0,0,0,0,7443,0,0,0,0,0,0,0,0,0,0,0,0,0,0,0,0,0,0,0,0,0,0,0,0,0,0,0,0,0,0,0,0,0,0,0,0,0,0,0,0,0,0,0,0,0,0,0,0,0,0,0,0,0,0,0,0,0,0,0,0,0,2829,0,0,0,0,0,0,0,0,0,0,0,0,0,0,0,0,0,0,0,0,0,0,0,0,0,0,0,0,0,0,0,0,0,0,0,0,0,0,0,0,0,0,0,0,0,0,0,0,0,0,0,0,0,0,0,0,0,0,0,0,0,0,0,0,0,0,0,0,0,0,0,0,0,0,0,0,0,0,0,0,0,0,0,0,0,0,0,0,0,0,0,0,0,0,0,0,0,0,3137,0,0,0,0,0,0,2635,0,0,0,0,0,0,0,0,0,0,0,0,0,0,0,0,0,0,0,0,0,0,0,0,0,0,0,0,0,0,0,0,0,0,3325,0,0,0,0,0,0,0,0,0,0,0,0,0,0,0,0,3325,0,0,0,0,0,0,0,0,0,0,0,0,0,4101,0,0,0,0,0,0,0,0,0,0,0,0,0,0,0,0,0,0,0,0,0,0,0,0,0,3273,0,0,0,0,0,0,0,2829,0,3942,0,0,0,0,0,0,0,0,0,3471,0,0,0,0,0,0,0,0,0,0,0,0,0,0,0,0,0,0,0,0,0,0,0,0,0,0,0,0,0,0,0,0,0,0,0,0,0,0,0,0,0,0,0,0,0,0,0,0,0,0,0,0,0,0,0,0,0,0,0,0,0,0,0,0,0,0,0,0,0,0,0,0,0,0,0,0,0,0,0,0,0,0,0,0,0,2176,0,0,0,0,0,0,0,0,0,0,0,0,0,0,0,0,0,0,0,0,0,0,0,0,0,0,0,0,0,4064,0,0,0,3325,0,2176,0,0,0,0,0,0,0,0,0,0,0,0,0,0,0,0,0,0,0,0,0,0,0,0,0,0,0,0,0,0,0,0,2885,0,4101,0,0,0,0,0,0,0,0,0,0,0,0,0,0,0,0,0,0,0,0,0,0,0,0,0,0,0,0,0,0,0,0,0,0,0,0,0,0,0,0,0,3411,0,0,0,0,0,0,0,0,0,0,0,0,5013,0,0,0,0,0,0,0,0,0,0,0,0,0,0,0,0,0,0,0,3137,0,0,0,0,0,0,0,0,0,0,0,0,0,0,0,0,0,0,0,0,0,0,0,4064,0,0,0,0,0,3942,0,0,0,0,2961,0,0,0,0,0,0,0,2597,0,0,0,0,0,0,0,0,0,0,0,0,0,0,0,0,0,0,0,0,0,0,0,0,0,0,0,0,0,0,0,0,0,0,0,0,594,0,0,0,0,0,0,0,0,0,0,0,0,0,0,0,0,0,0,0,0,0,0,0,0,0,0,0,0,0,0,0,0,0,0,0,0,0,0,1151,0,0,0,0,0,0,0,0,0,0,0,0,0,0,0,0,0,0,0,0,0,0,0,0,0,0,0,0,0,0,0,0,2176,0,0,0,0,0,0,0,0,0,6723,0,0,0,0,0,0,0,0,0,0,0,0,0,0,0,0,0,0,0,0,0,0,0,0,0,0,0,0,0,0,0,5060,0,0,0,0,0,0,0,0,0,0,0,0,0,0,0,0,0,0,0,0,0,0,0,0,0,0,0,0,0,0,0,0,0,0,0,0,0,0,0,0,0,0,0,0,914,0,0,0,0,0,0,0,0,0,0,594,0,0,0,0,0,0,0,0,0,2829,0,2228,0,3137,0,0,0,0,6497,0,0,0,0,0,0,0,0,0,0,0,0,0,0,0,0,0,0,0,0,0,0,0,0,0,0,0,4416,0,0,3887,3464,0,0,0,0,3456,0,0,0,0,0,0,0,0,0,0,0,0,0,0,0,0,0,0,0,0,0,0,0,0,0,0,0,0,0,0,0,0,0,0,0,0,0,0,0,0,6849,0,0,0,0,0,0,0,0,0,0,0,0,0,0,0,0,0,0,0,0,2907,0,2407,0,0,0,0,0,0,0,0,0,0,0,0,0,0,0,3411,0,5013,0,0,0,0,0,0,0,0,0,0,0,0,0,0,0,0,0,0,0,0,0,2407,0,0,0,0,0,0,0,0,0,0,2176,0,0,0,0,0,0,0,0,0,0,0,0,0,0,0,0,0,0,0,0,0,0,0,0,0,0,0,0,0,0,0,0,0,0,0,0,0,0,0,0,0,4650,0,0,2597,0,0,0,0,0,0,0,0,0,0,0,0,0,0,0,0,0,0,0,0,0,0,0,0,0,0,0,0,0,0,0,0,0,0,0,0,0,0,0,0,0,0,0,0,0,0,0,0,0,0,0,0,0,0,0,0,0,3137,0,0,0,0,0,0,0,0,0,0,0,0,0,0,0,0,0,0,0,0,1151,0,0,0,0,0,0,0,0,0,0,0,0,0,0,0,0,0,0,0,0,0,0,0,0,0,0,0,0,0,0,0,0,0,0,0,0,0,0,0,0,0,0,0,0,0,0,0,0,0,0,0,0,3674,0,0,0,0,0,0,0,0,0,0,0,0,0,0,0,0,0,0,0,0,0,0,0,0,0,0,0,0,0,0,0,0,0,0,0,0,0,0,0,0,0,0,0,0,0,0,0,0,0,0,0,0,0,0,0,0,0,0,0,0,0,0,0,0,0,0,0,0,0,0,0,0,0,0,0,0,0,0,0,0,0,0,0,0,0,0,0,0,0,0,0,0,0,0,0,0,0,0,0,0,0,0,0,0,0,0,0,0,0,0,0,0,0,0,0,0,0,0,0,0,0,0,0,4650,0,0,0,0,3325,0,0,0,0,0,0,0,0,0,0,0,0,0,0,0,0,0,0,0,0,0,0,0,0,0,0,0,0,0,0,0,0,0,0,0,0,0,0,0,0,0,0,0,0,0,0,0,0,0,0,0,0,0,0,0,0,0,0,0,0,0,0,0,0,0,0,0,0,0,0,0,0,0,0,0,0,0,0,0,0,0,0,0,0,0,0,0,0,0,0,0,0,0,0,0,0,0,0,0,0,0,0,0,0,0,0,0,0,0,0,0,0,0,0,0,0,0,0,0,0,0,0,0,0,0,0,0,0,0,0,0,0,0,0,0,0,0,5013,0,0,0,0,0,0,0,0,0,0,0,0,0,0,0,0,0,0,0,0,0,0,0,0,0,0,0,0,0,0,0,0,0,0,0,0,0,0,0,0,0,0,0,0,0,0,0,0,0,0,0,0,0,0,0,0,0,0,0,0,0,0,0,0,0,3137,0,0,0,0,0,3411,0,0,0,0,0,0,0,0,0,0,0,0,0,0,0,0,0,0,0,0,0,0,0,0,0,0,0,0,0,0,0,0,0,0,0,0,0,0,0,0,0,0,0,0,0,0,0,0,0,0,0,0,0,0,0,0,0,0,0,0,0,0,0,0,0,0,0,0,0,0,0,0,0,0,0,0,0,0,0,0,0,0,0,0,0,0,0,0,0,0,0,0,0,0,0,0,0,0,0,0,0,0,0,0,0,0,0,0,0,0,0,0,0,0,0,0,0,0,0,0,0,0,0,0,0,0,0,0,0,0,0,0,0,0,0,0,0,0,0,0,0,0,0,0,0,0,0,0,0,0,0,0,0,0,0,0,0,0,0,0,0,0,0,0,0,0,0,0,0,0,0,0,0,0,0,0,0,0,2829,0,0,0,0,0,0,0,3325,2176,5013,1055,3411,0,0,0,0,0,0,0,0,0,0,0,0,0,0,0,0,0,0,0,0,0,0,0,0,0,0,0,0,0,0,0,0,0,0,0,0,0,0,0,0,0,0,0,0,0,0,0,0,0,0,0,0,0,0,0,0,0,0,0,0,0,0,0,0,0,0,0,0,0,0,0,0,0,0,0,0,1055,0,0,0,0,0,0,0,0,0,0,4101,0,0,0,0,0,0,0,0,0,0,0,0,0,0,0,0,0,0,0,0,0,0,0,0,0,0,0,0,0,0,0,0,0,0,0,0,0,0,0,0,0,0,0,0,0,0,0,0,0,0,0,0,0,0,0,0,0,0,0,0,0,0,0,0,0,0,0,0,0,0,0,0,0,0,0,0,0,0,0,0,0,0,0,0,0,0,0,0,0,0,0,0,0,0,0,0,0,0,0,0,0,0,0,0,0,0,0,0,0,0,0,0,0,0,0,0,0,0,0,0,0,0,0,0,0,0,0,0,0,0,0,0,0,0,0,0,0,0,6849,0,0,0,0,0,0,0,0,0,0,2653,0,0,0,0,0,0,0,0,0,0,0,0,0,0,0,1471,0,0,0,0,0,0,0,0,0,0,0,0,0,0,0,0,0,0,0,0,0,0,0,0,0,0,0,0,0,0,0,0,0,0,0,0,0,7443,0,0,0,0,0,0,0,0,0,0,0,0,0,0,0,0,0,0,0,0,0,0,0,0,0,0,1506,0,0,0,0,0,0,0,0,0,0,0,0,0,0,0,0,0,0,0,0,0,0,0,0,0,0,0,0,0,0,0,0,0,0,0,3471,0,0,0,0,0,0,0,0,0,0,0,0,0,0,0,0,0,0,0,0,0,0,0,1086,0,0,0,0,0,0,0,0,0]}],\"hovertemplate\":\"income=\\u003c=50K\\u003cbr\\u003e%{xaxis.title.text}=%{x}\\u003cbr\\u003e%{yaxis.title.text}=%{y}\\u003cextra\\u003e\\u003c\\u002fextra\\u003e\",\"legendgroup\":\"\\u003c=50K\",\"marker\":{\"color\":\"#636efa\",\"symbol\":\"circle\"},\"name\":\"\\u003c=50K\",\"showlegend\":true,\"type\":\"splom\"},{\"dimensions\":[{\"axis\":{\"matches\":true},\"label\":\"capital-loss\",\"values\":[0,0,0,0,0,0,0,0,0,0,0,0,1902,0,0,0,0,0,0,0,0,0,0,1902,0,0,0,0,0,1887,0,0,0,0,0,0,1564,0,0,1977,0,0,0,0,0,0,0,0,0,0,0,0,0,0,0,0,0,0,1977,0,0,0,0,0,0,0,0,0,0,0,0,0,0,0,0,0,0,1887,0,0,0,0,0,0,0,0,1564,0,0,2415,0,0,0,0,0,1977,1887,0,0,0,0,0,0,0,0,0,0,0,0,1977,0,0,0,0,0,0,0,0,0,0,0,0,0,0,0,0,1977,0,0,0,1887,0,0,1902,0,0,0,0,0,0,0,0,0,0,0,0,0,0,0,0,0,0,0,0,0,0,1902,0,0,0,0,0,0,0,0,0,0,0,0,0,0,0,0,0,0,0,0,0,0,0,0,1902,0,0,0,0,0,653,0,0,0,0,0,0,0,0,0,0,0,0,2415,0,0,0,0,0,0,0,0,0,0,0,0,2415,0,0,1977,0,0,0,0,0,0,0,0,2392,0,0,0,0,0,0,1902,0,0,0,0,0,0,0,0,0,1902,0,0,0,1902,0,0,1977,1902,0,1902,0,0,0,0,0,1977,0,0,0,0,0,2415,0,0,0,0,0,0,0,0,0,0,0,0,1977,0,0,0,0,0,0,0,0,0,0,0,0,0,0,0,0,0,0,0,0,1902,0,0,0,0,0,0,0,1887,0,1977,0,0,0,0,0,0,0,0,0,0,0,0,0,0,0,0,0,0,0,0,0,0,1848,0,0,0,1564,1887,0,0,0,0,0,0,0,0,0,1887,0,0,0,0,1902,0,0,0,0,0,0,0,0,0,0,0,0,0,0,0,0,0,0,0,0,0,0,0,0,0,0,0,0,0,1887,0,0,1848,0,0,0,0,0,0,0,0,0,0,0,0,1977,0,0,0,0,0,0,0,0,0,0,0,0,0,0,0,0,0,0,0,0,1902,1887,0,0,1902,0,1902,0,0,0,0,0,0,0,0,0,0,0,0,0,0,0,0,0,0,0,0,0,0,0,0,0,0,0,0,0,0,0,0,0,0,0,0,0,0,0,0,0,0,0,0,0,0,0,0,0,1902,0,0,0,0,0,0,2415,0,0,0,0,0,0,0,0,0,0,0,0,0,0,0,0,0,0,0,0,1485,0,0,0,1848,0,0,1977,0,0,0,0,0,0,0,0,0,0,0,1485,0,0,0,1887,0,0,1902,0,0,1887,0,0,0,0,0,0,0,0,0,0,0,0,0,0,0,0,0,0,0,0,0,0,0,0,0,0,0,1977,0,0,0,0,0,0,0,0,0,0,0,0,1902,0,0,0,0,0,0,0,0,1887,1887,0,1887,0,0,0,0,0,0,0,0,0,0,0,0,0,0,1564,0,0,2547,0,2174,0,2415,0,0,0,0,0,0,0,0,0,2415,0,0,0,0,0,0,0,0,0,0,0,0,0,0,0,0,0,0,0,0,0,0,0,0,0,0,0,0,0,0,0,0,1977,0,0,0,0,0,0,0,0,0,0,0,0,0,0,0,0,0,0,0,0,0,0,0,0,0,0,0,0,0,0,0,0,0,0,0,0,0,1977,0,0,0,0,1902,0,0,1977,0,0,0,0,0,1977,0,1485,0,0,0,2444,0,0,0,0,0,0,0,0,2392,0,0,0,1902,0,0,0,0,0,0,0,0,0,0,0,0,0,0,0,0,0,0,0,1902,0,2415,0,0,0,0,0,0,0,0,0,0,0,0,0,0,1977,0,0,0,1977,0,0,0,0,0,1977,0,0,0,1977,0,1977,0,0,0,0,0,0,0,0,0,0,0,0,0,0,0,0,0,0,0,0,0,1977,2415,0,0,0,0,0,1902,0,0,0,1887,0,0,0,1848,0,0,0,0,0,0,0,0,0,0,0,0,0,0,0,0,0,0,0,0,0,0,0,0,0,0,0,0,0,0,0,0,0,0,0,0,0,0,0,0,0,0,0,0,0,0,0,0,0,0,0,0,0,0,0,0,0,0,0,0,0,0,0,0,0,0,0,0,0,0,0,1902,1977,0,0,0,2377,1902,0,0,0,1887,0,0,0,0,2392,0,1848,0,0,0,1902,0,0,0,0,0,0,0,0,0,0,0,0,0,0,0,0,0,0,1977,0,0,0,0,0,0,0,0,0,0,0,0,1887,0,0,0,0,0,0,0,0,1485,0,0,0,0,1977,1887,1848,0,0,0,0,0,0,0,0,0,0,0,0,0,0,1902,0,0,0,0,0,0,0,0,0,0,0,0,1977,0,0,0,0,0,0,0,0,2392,0,1977,0,0,0,0,0,0,0,0,1887,0,0,0,1902,0,0,0,0,1887,0,1887,0,0,0,0,0,1902,0,1902,0,0,0,0,0,0,0,0,0,0,0,0,0,0,0,1902,0,1887,0,0,0,0,0,0,0,0,0,0,0,0,0,0,0,0,0,0,0,0,0,1902,0,1848,0,0,0,0,0,0,0,0,0,0,0,0,0,0,0,0,0,1977,0,0,1485,0,0,0,0,0,0,0,0,0,0,0,0,0,0,0,0,0,0,0,0,0,2415,0,1902,0,0,0,0,0,0,0,0,0,0,0,0,0,0,1485,0,0,0,0,0,0,0,0,0,0,0,0,0,0,0,0,0,0,1848,0,0,0,0,1887,0,0,0,0,0,0,0,0,1902,0,0,0,0,1848,0,0,1564,0,0,0,1564,0,0,0,0,0,0,0,0,0,0,0,1887,0,0,0,1902,0,0,0,0,0,0,1485,0,0,1902,0,0,0,0,0,0,0,0,0,0,0,0,0,0,0,0,0,1902,0,1902,0,1977,0,0,0,0,0,0,0,0,0,0,0,0,0,0,1977,1977,0,0,0,1902,0,0,0,0,0,0,0,0,0,0,0,0,0,2377,0,0,0,0,0,0,0,0,0,0,0,0,0,0,0,0,0,0,0,0,0,2415,0,0,0,0,0,0,0,1887,0,0,1902,0,0,0,0,0,0,0,0,0,3004,0,0,0,0,0,0,0,0,0,0,0,0,0,0,0,2231,0,0,0,0,0,0,0,1977,0,0,0,0,0,0,0,0,0,0,0,0,0,0,0,0,0,0,0,0,0,0,0,0,0,0,0,0,0,0,0,0,0,0,0,0,0,0,0,0,0,0,0,0,0,0,1902,0,0,0,0,0,0,0,0,0,0,0,0,0,0,0,1902,0,0,0,0,1848,0,0,0,0,0,0,0,0,0,0,0,0,0,0,2824,0,0,0,0,0,0,0,0,0,0,1977,0,0,0,0,0,0,0,0,0,0,0,0,0,0,0,0,0,0,0,0,0,0,0,0,0,0,0,0,0,0,0,0,0,0,0,0,0,0,1977,0,0,0,2559,0,0,0,0,0,0,0,0,0,0,0,0,0,0,0,0,0,0,0,0,0,0,1887,0,1977,0,0,0,0,0,0,0,0,0,0,0,0,0,0,0,0,0,0,0,0,0,0,0,0,0,0,0,0,1902,0,1977,1902,0,0,0,0,1887,0,0,0,0,0,1902,0,0,0,1902,1977,0,0,0,0,0,0,0,0,1902,0,0,0,0,0,0,0,0,0,2392,0,0,0,0,0,0,0,0,0,0,0,0,0,0,1977,0,0,2559,0,0,0,0,0,0,0,0,0,0,0,0,0,0,0,0,0,0,0,0,0,0,0,0,0,0,0,0,0,1902,2559,0,0,0,0,0,0,0,0,0,0,0,0,1564,1977,0,0,0,0,0,0,0,1902,1887,1902,0,0,0,0,0,0,0,0,0,0,0,0,0,0,0,0,0,0,0,1848,0,0,0,0,0,1902,0,0,0,0,0,0,0,0,0,0,0,0,0,0,0,0,0,0,0,0,0,0,0,0,1848,0,0,0,0,0,0,0,0,0,0,0,0,1977,0,0,0,0,0,0,0,0,0,0,0,0,1564,0,2559,0,0,0,0,0,0,0,0,0,0,2415,0,0,0,0,0,0,0,0,0,0,0,0,0,0,1977,0,0,0,0,2258,0,1887,0,1977,0,0,0,0,0,0,0,0,0,0,0,0,0,0,0,0,0,0,0,0,0,0,0,0,0,0,0,0,0,0,0,0,0,0,0,0,0,0,0,1887,0,1977,0,0,0,0,0,1902,0,0,0,0,0,0,0,1977,1887,0,0,0,0,0,0,0,0,0,0,0,0,0,0,1485,1887,0,0,0,0,0,0,0,0,0,0,0,0,0,0,0,0,0,0,0,0,0,0,0,0,1848,0,2174,0,0,0,0,0,0,0,0,0,0,0,0,0,0,0,1485,0,0,0,0,0,0,0,0,0,0,0,0,0,0,0,2559,0,0,0,0,0,0,0,0,0,0,0,0,0,0,0,0,0,0,1887,0,1902,0,0,0,0,0,0,0,0,0,0,0,0,0,0,1902,0,0,0,0,0,0,0,1848,1977,0,0,0,0,0,1825,0,0,0,0,0,0,0,0,1902,0,0,0,0,0,0,0,0,0,0,0,0,1902,1902,2415,0,0,0,0,0,0,0,0,1887,0,0,0,0,0,0,1564,0,0,0,0,0,0,0,0,0,0,0,0,0,0,0,0,0,0,0,0,0,0,1887,0,0,0,0,0,0,1977,0,0,0,0,0,0,1977,0,0,0,0,0,0,0,0,0,0,0,0,1485,0,1485,0,0,0,0,0,2282,0,0,0,0,0,0,0,0,0,0,0,0,0,0,0,0,1902,0,0,0,0,0,0,0,0,1902,0,0,0,0,0,0,0,0,0,0,1902,0,0,0,0,0,1485,0,0,0,0,0,0,0,0,0,0,0,0,0,0,0,0,0,0,0,0,0,0,0,0,0,2258,0,0,0,0,0,0,0,0,0,0,0,0,0,0,0,0,0,0,0,0,0,0,0,0,0,0,0,0,0,0,0,0,0,0,0,0,0,0,0,0,0,0,0,1977,0,0,0,0,0,1902,0,0,0,0,0,0,0,0,0,0,0,0,0,0,0,0,0,0,0,0,1977,0,0,0,0,0,1564,0,0,0,0,0,0,0,0,0,0,0,0,0,0,0,0,0,0,0,0,0,0,0,0,0,0,0,0,0,0,0,1485,0,0,0,0,2174,0,0,0,0,1902,0,1887,0,0,0,0,0,0,0,0,0,1977,0,0,0,0,0,0,0,0,1902,0,0,0,1977,1902,0,0,0,0,0,0,0,0,0,0,0,0,1902,0,0,0,0,0,0,0,0,0,0,0,0,0,1977,0,0,0,0,0,0,0,0,1887,0,0,0,0,0,0,0,0,0,0,1902,0,0,0,0,0,0,0,0,0,0,0,0,0,0,0,0,0,0,0,2415,0,0,0,0,0,0,0,0,2377,0,0,0,0,0,0,0,0,0,0,0,0,0,0,0,0,0,0,0,1977,0,0,0,0,0,0,0,0,0,0,0,0,0,0,0,0,0,0,0,0,0,1485,0,0,0,1902,0,0,1977,0,1977,0,0,0,0,0,0,0,0,0,0,0,0,0,0,0,0,0,0,0,0,0,0,0,0,0,0,0,0,0,0,0,0,2231,0,0,0,0,0,2444,0,0,0,0,0,0,0,0,0,0,0,0,0,0,0,0,0,0,0,0,0,0,0,0,0,0,0,0,0,0,0,0,0,0,0,0,0,0,0,0,0,2246,1977,0,0,0,1902,1977,0,0,0,0,0,0,0,0,0,0,0,0,0,0,0,0,0,0,0,0,0,0,0,0,0,0,0,0,0,0,0,0,0,0,0,0,0,0,0,0,0,0,0,1902,0,0,0,1977,0,1848,0,0,0,1887,2258,0,0,0,0,0,0,0,0,0,0,0,0,0,0,0,0,1977,0,0,0,0,0,0,0,0,0,2444,0,0,0,0,0,1848,1485,0,0,0,0,0,0,0,0,0,0,0,0,0,0,0,0,0,1977,0,0,0,0,0,0,0,0,0,0,0,0,0,0,0,0,0,0,0,0,0,0,0,0,0,0,0,0,0,0,0,0,0,0,0,0,0,0,2559,1848,0,0,0,0,0,0,0,0,0,0,0,0,0,0,0,0,0,0,0,0,2824,0,0,0,1977,0,0,0,1564,1977,0,0,0,0,1977,0,0,0,0,0,0,0,0,1902,1887,0,0,0,1887,0,0,1902,0,0,0,1848,0,1977,0,0,0,0,1902,0,0,0,0,2258,1977,0,0,0,0,0,0,0,0,0,1887,0,0,0,0,0,1902,0,0,0,0,0,0,0,0,1977,0,0,0,0,2231,1825,0,0,1902,0,0,0,0,0,0,1887,0,0,0,0,1902,1887,0,0,0,0,0,0,0,0,0,0,0,1564,0,0,0,0,0,1902,0,0,0,0,0,0,0,0,0,0,0,0,0,0,0,0,0,0,0,0,0,0,0,2547,1887,0,0,0,0,0,0,0,0,0,0,0,2415,0,0,0,0,0,0,0,0,0,0,0,0,0,0,0,0,0,0,0,0,0,0,0,0,0,0,0,0,0,0,1902,0,0,0,0,1902,0,0,0,0,0,0,1977,0,0,0,0,0,0,0,0,1485,1977,0,0,0,0,0,0,0,0,0,0,0,0,0,0,0,0,0,0,0,0,0,0,0,0,0,0,0,0,1977,0,0,0,0,0,1902,0,0,0,1887,0,0,1887,0,0,0,0,0,0,0,0,0,1977,0,0,0,0,0,0,0,0,0,0,0,0,0,0,1902,0,1977,0,0,0,0,0,0,0,0,0,0,0,0,0,1887,0,0,0,0,1887,0,0,0,0,1564,2246,1848,0,0,0,0,0,1977,0,0,0,0,0,0,0,0,0,0,0,0,0,0,0,0,0,0,0,0,0,0,0,0,0,0,0,1485,0,0,0,0,0,0,0,0,0,0,0,0,0,0,0,0,0,0,0,1902,0,0,0,0,1902,1848,0,0,0,1887,0,0,0,0,0,0,0,0,0,0,0,0,0,1887,0,0,0,0,0,0,0,0,0,0,0,0,0,0,0,0,0,0,0,0,0,0,0,0,0,1977,0,1902,0,1755,0,0,3683,0,0,0,0,0,0,0,0,0,0,0,0,0,0,0,0,0,0,1887,0,0,0,0,0,0,0,0,0,0,0,0,0,0,0,1902,0,0,0,0,0,0,0,1902,0,0,0,0,0,0,0,0,0,0,0,0,0,0,0,0,1977,0,0,0,1977,0,0,0,0,0,0,0,0,0,0,0,0,0,1977,0,0,0,0,0,0,0,0,0,0,1977,0,0,0,0,0,0,0,0,0,0,0,0,0,0,0,0,0,0,0,0,0,0,0,0,0,0,0,0,0,0,0,0,0,1902,0,0,0,0,0,1902,0,0,1887,0,0,0,0,0,0,0,0,0,2392,0,0,0,0,0,0,0,0,1887,0,0,0,0,0,1902,0,0,0,0,0,0,0,0,0,0,0,0,0,0,0,0,0,0,0,0,0,0,0,0,0,0,0,0,0,1902,0,653,0,0,0,0,0,0,1887,0,0,0,0,0,0,0,0,0,0,0,0,0,0,0,0,2824,0,0,0,0,0,0,0,1564,0,0,0,2258,0,1977,0,0,0,1887,0,1977,0,0,0,0,0,0,0,0,0,0,0,0,0,0,1977,0,0,0,0,0,0,0,0,2415,0,0,0,0,0,1977,0,0,0,0,1977,0,0,1977,0,2444,0,0,0,1977,0,0,0,0,0,0,0,0,0,0,0,1977,1902,0,0,0,0,0,0,0,0,0,1848,0,0,1887,0,0,0,0,0,0,0,0,0,0,0,0,1902,0,0,0,0,2415,0,0,0,0,0,0,0,0,0,0,0,0,0,0,0,0,0,0,0,0,0,0,0,0,0,0,0,0,1977,0,0,0,0,0,0,0,0,0,0,2415,0,0,0,0,0,0,0,0,0,0,0,0,0,0,2415,0,0,0,0,0,0,0,0,0,1902,0,0,0,0,0,1902,0,0,0,0,1848,0,0,1902,0,0,0,0,0,0,0,0,0,0,0,0,0,0,0,0,0,1902,0,0,0,0,0,1902,0,0,0,0,0,0,0,0,0,0,0,0,0,0,0,0,0,0,0,0,0,0,0,0,1485,0,0,0,0,0,0,0,0,2415,0,0,0,0,0,0,0,0,0,0,1848,0,0,0,0,0,0,0,0,0,0,0,0,0,0,0,0,0,0,0,0,0,0,0,0,0,0,0,0,0,0,0,0,0,0,0,0,0,0,0,0,0,0,0,1902,0,0,0,1485,0,0,0,0,0,0,0,0,0,0,0,0,1902,0,0,0,0,0,0,1485,0,0,0,0,0,0,0,0,0,0,0,0,0,0,0,0,0,0,0,0,0,0,0,0,0,0,0,0,1887,0,0,0,0,0,0,0,0,0,0,0,0,0,0,0,0,0,0,0,1977,0,0,0,0,0,0,0,0,0,0,0,0,0,0,0,0,0,0,0,0,0,0,0,0,0,1977,0,0,0,0,0,0,0,0,0,0,0,1977,0,0,0,0,2415,0,0,0,0,0,0,0,0,0,0,1902,0,0,0,0,0,0,0,0,0,0,0,0,0,0,0,0,0,0,0,0,0,0,0,0,0,0,0,0,0,0,0,0,0,0,1902,0,0,0,0,1902,0,0,0,0,1902,0,1977,0,0,0,0,0,0,0,0,0,0,0,0,0,0,0,0,0,0,1887,0,1564,0,0,2174,0,0,0,0,0,1977,0,0,0,0,1564,0,0,0,0,0,0,1887,0,0,0,0,0,0,0,0,0,0,0,0,0,1887,0,0,0,1902,0,0,0,0,0,0,0,1887,0,0,0,0,0,0,0,0,0,0,0,0,0,0,0,0,0,0,1887,1564,0,0,0,0,0,0,0,0,1902,0,0,0,0,0,0,0,0,0,0,0,0,0,0,0,1564,0,0,0,0,0,0,0,0,0,0,0,0,0,0,0,0,0,0,0,0,0,0,0,1902,0,0,0,0,0,0,0,0,0,0,0,0,0,0,0,0,0,0,0,0,0,0,2415,0,0,0,1887,0,0,0,0,0,1977,0,0,0,0,0,0,1887,0,0,0,0,0,0,0,0,0,0,0,0,0,0,0,0,0,0,0,0,0,0,0,0,1887,0,1887,0,0,0,0,0,0,0,0,0,0,2824,0,0,0,0,0,0,0,0,0,0,0,0,0,0,0,0,0,0,0,0,0,0,0,0,0,0,0,0,0,0,0,0,1848,0,1887,0,0,0,0,0,1977,0,0,0,0,1485,0,0,0,1887,0,0,0,0,0,0,0,1887,0,0,0,0,0,0,0,0,0,0,0,0,0,0,0,1977,0,1902,0,0,0,0,0,0,0,0,0,0,0,0,0,1902,0,0,0,2415,0,0,1887,0,1902,0,1887,0,0,0,0,0,0,0,0,0,0,0,0,0,0,0,0,0,0,0,0,0,0,0,0,0,0,0,0,0,0,0,0,1977,0,0,0,0,0,0,0,0,0,0,0,1902,0,0,0,0,0,0,0,0,0,1902,0,0,1902,0,0,2559,0,0,0,0,0,0,0,0,1977,0,2415,0,0,0,0,0,0,0,0,0,0,0,0,0,0,0,0,0,0,0,0,0,0,0,0,0,0,0,0,0,0,0,0,0,2559,0,0,1887,0,0,0,0,0,0,0,0,0,0,0,0,0,0,0,0,0,2246,0,0,0,0,0,1887,0,0,0,2444,0,1848,1887,0,0,0,0,0,0,0,0,0,0,0,0,2415,0,0,0,0,0,1977,0,0,0,0,0,0,0,0,1902,0,0,0,0,0,0,0,0,0,0,0,0,0,0,0,0,0,0,0,0,0,2258,0,0,0,0,0,1887,0,0,0,0,0,0,0,1902,1887,0,0,0,0,0,0,0,0,0,0,0,0,0,0,0,0,0,0,0,0,1977,0,0,0,0,0,0,0,1977,1848,0,0,0,0,0,0,0,0,0,1902,0,0,0,0,1564,0,0,0,0,0,0,0,0,0,0,0,0,0,0,0,0,0,1848,0,0,0,0,0,0,0,0,0,0,1848,1977,0,1977,0,0,0,0,0,0,0,0,0,0,0,0,0,1902,0,1887,0,0,0,0,0,0,0,0,0,0,0,0,0,0,0,0,0,0,0,1902,1887,0,0,0,0,0,1902,0,0,0,0,0,0,0,0,0,0,0,0,0,0,0,0,0,0,0,0,0,0,0,0,0,0,0,0,0,0,0,1902,0,0,0,0,0,1848,0,0,0,0,0,0,1887,0,0,0,0,0,0,0,0,0,0,0,2415,0,1887,0,0,0,0,0,0,0,0,0,0,0,0,0,0,0,0,0,0,0,0,0,0,0,0,0,0,1902,0,0,0,0,0,0,0,0,0,0,0,0,0,0,0,0,0,0,0,0,0,0,0,0,0,0,0,0,0,0,0,0,0,0,0,0,0,2246,0,0,0,0,1977,1848,0,0,0,1977,0,0,0,1977,0,0,0,2824,0,0,0,0,0,0,0,0,0,0,1564,0,0,0,1902,0,0,0,0,0,0,0,0,0,0,0,0,0,0,1485,1902,0,0,0,0,0,0,0,0,0,0,0,0,0,0,0,0,0,0,0,2559,0,0,0,0,0,0,0,0,0,0,0,0,0,0,0,0,0,0,0,0,0,0,0,0,0,0,0,0,0,0,0,0,0,0,2824,0,0,0,1848,0,0,0,0,0,0,0,0,1977,0,0,0,0,0,0,0,0,0,0,0,0,0,0,0,0,0,0,0,0,0,2415,0,0,0,1564,0,0,0,0,0,1887,1977,0,0,0,0,0,0,0,0,0,0,0,0,0,0,0,0,0,0,0,0,2415,0,0,1887,0,0,0,0,0,0,0,1902,0,1887,0,0,0,0,0,0,0,0,0,1977,1887,0,0,0,0,0,1902,0,0,0,0,0,0,0,0,0,0,0,0,0,0,0,0,0,0,0,2444,0,0,0,0,2258,0,0,1977,0,0,0,0,0,0,0,0,0,0,0,0,0,0,0,0,1887,0,0,0,0,0,0,0,0,0,1902,0,0,0,0,0,0,0,0,0,0,0,0,0,0,0,0,1887,0,0,1887,0,0,0,0,0,0,0,0,0,0,0,1977,0,0,0,0,0,0,0,0,0,0,0,0,0,0,0,0,0,0,0,0,0,0,0,0,0,0,0,1887,0,0,0,0,0,0,0,0,0,0,0,0,0,0,0,0,0,0,0,0,0,0,0,0,0,0,1902,0,0,0,0,0,0,0,0,0,0,2174,0,0,0,0,0,0,0,0,0,0,0,0,0,0,0,0,0,1902,0,0,1977,0,0,0,0,0,0,0,0,0,0,0,0,0,0,0,0,0,0,0,0,0,0,0,0,0,0,2201,0,0,0,1902,0,0,1887,0,1977,2415,0,0,0,0,0,0,0,0,0,0,0,0,0,1902,1977,0,0,0,0,0,0,0,0,0,0,0,0,0,0,0,2246,0,0,0,1902,0,0,0,0,0,0,0,0,0,0,0,0,0,0,0,0,0,0,0,0,0,0,0,0,0,0,0,0,0,0,1977,0,0,1902,0,0,0,0,0,0,0,0,0,0,0,0,0,0,0,0,0,0,0,0,0,2415,1977,0,0,0,0,0,0,0,0,1977,0,0,2547,0,0,0,0,0,0,0,0,0,0,0,0,0,0,0,1887,0,0,0,0,1887,0,0,0,0,0,0,0,0,0,0,0,1902,0,0,0,0,0,0,0,0,0,0,0,0,1902,0,0,0,0,0,0,0,2415,0,0,0,0,1887,0,0,0,0,0,0,0,0,0,0,0,0,0,0,0,0,0,0,0,0,0,0,0,0,0,0,0,0,0,0,0,0,0,0,0,0,0,0,0,2415,0,1902,0,0,0,0,0,0,0,0,0,0,0,0,0,0,1977,1848,0,0,0,0,0,0,0,0,0,0,0,0,0,0,0,0,0,0,0,0,0,0,0,0,0,0,0,0,0,0,0,0,0,2377,0,0,0,0,0,0,0,0,0,0,0,0,0,0,0,0,0,0,0,0,0,0,0,0,0,0,0,0,0,0,0,0,0,0,1887,0,0,0,2415,0,0,0,0,0,0,0,0,0,0,0,0,0,0,0,0,0,0,0,0,1887,0,0,1887,0,0,0,0,0,0,0,0,0,0,0,0,0,0,0,0,0,1977,0,0,0,0,0,0,0,0,0,0,0,0,2415,0,0,0,0,0,0,0,0,0,0,2415,0,0,0,0,1977,0,0,0,0,1887,0,0,0,0,0,0,0,0,0,0,0,0,0,0,0,0,0,0,0,0,0,0,0,0,0,0,0,0,0,0,0,0,0,0,1848,0,0,0,0,0,0,0,0,0,0,0,0,0,1902,0,0,0,0,0,0,1902,0,0,1485,0,0,0,0,0,0,0,0,0,0,0,0,0,0,0,0,0,0,0,0,1902,0,0,0,0,0,0,0,0,0,0,0,1902,0,0,0,2415,0,0,0,0,1977,0,0,0,0,0,0,0,0,0,0,0,0,0,0,0,0,0,0,0,0,0,0,0,0,0,0,0,0,0,1977,0,0,0,0,0,0,0,0,0,0,0,0,0,0,0,0,0,0,0,0,0,0,0,0,0,0,0,0,0,0,0,0,0,0,0,0,0,0,2415,0,0,0,0,0,0,0,0,1902,0,0,0,0,0,0,0,1887,0,0,0,0,0,0,0,0,0,2824,0,1887,0,0,0,1848,0,0,0,0,0,0,0,0,0,0,0,0,0,0,0,1977,0,0,0,0,0,0,0,0,0,1902,0,0,0,0,0,0,0,0,0,1887,0,0,0,0,0,0,0,0,0,0,0,0,0,0,0,0,0,0,0,0,0,0,0,0,0,0,0,0,0,0,0,0,0,0,0,0,0,0,0,1848,0,0,2377,0,0,0,0,0,0,0,0,0,0,0,1887,1902,0,0,0,0,0,0,0,0,0,0,0,0,0,0,0,1977,0,0,0,0,0,0,0,0,0,0,0,0,1977,0,0,0,0,0,0,0,0,0,0,0,0,0,0,2377,0,0,0,0,0,0,0,0,0,0,0,0,0,0,0,0,0,0,0,0,0,0,0,1977,0,0,0,0,0,0,0,0,0,0,0,0,0,0,0,0,0,0,0,0,0,0,0,0,0,0,0,0,1887,0,1848,0,0,0,0,0,0,0,0,0,0,0,0,0,0,0,0,0,0,0,1977,1887,0,0,0,0,0,1848,0,2392,0,0,0,0,0,1887,0,0,0,0,0,0,0,0,0,0,0,0,0,0,0,0,0,0,0,0,0,0,0,0,0,0,0,0,2415,0,0,0,0,0,1977,0,0,0,0,0,0,0,0,0,1977,0,0,1887,0,0,0,0,0,0,0,0,0,0,0,0,0,0,0,0,0,1887,0,0,0,0,0,0,0,0,0,0,0,1887,0,0,0,0,1887,0,0,0,0,0,0,0,1902,0,0,0,0,0,0,0,1902,0,0,0,0,0,0,0,0,0,0,0,0,0,0,0,0,0,0,0,0,0,0,0,0,0,0,0,0,0,0,0,0,0,0,0,0,0,0,0,0,0,0,1902,0,0,1902,0,2444,0,1902,0,0,0,0,0,0,0,0,0,0,0,0,0,0,1977,0,1887,2392,0,0,0,0,0,0,0,0,0,0,0,0,0,0,0,0,0,0,0,0,0,0,0,1902,1887,0,0,0,0,0,0,0,2377,0,0,0,0,0,0,0,0,0,0,0,0,0,0,0,0,0,0,0,0,0,0,0,0,0,0,0,0,0,0,0,0,0,0,0,0,0,0,0,0,0,0,0,0,0,0,0,0,0,0,0,0,0,0,0,0,0,0,0,0,1887,0,0,0,0,0,2415,0,1902,0,0,0,0,0,2246,0,0,1902,2258,0,0,0,0,0,0,0,1902,0,0,0,0,0,0,1902,0,0,0,0,0,1902,0,0,1848,0,0,0,0,0,0,0,0,1977,0,1564,0,0,0,0,0,0,0,0,0,0,0,0,1902,0,0,0,0,1977,0,0,0,0,0,1564,0,0,0,0,0,0,0,0,0,0,0,0,0,0,0,0,0,0,0,0,0,0,0,0,0,1977,0,0,0,2559,1902,0,0,0,0,0,0,0,0,0,0,0,0,0,1977,0,0,0,0,0,0,0,1848,0,0,0,1902,0,0,0,0,0,0,0,0,0,0,0,0,1887,0,0,1977,0,0,0,0,0,0,2377,0,0,0,0,0,0,1977,0,0,0,0,0,0,0,0,0,2444,0,0,0,0,0,0,0,1887,0,0,0,2824,0,0,0,0,0,0,0,0,0,0,0,0,0,1887,0,0,0,0,0,0,0,0,0,0,0,0,0,0,0,0,0,0,0,0,0,0,0,0,0,0,0,0,0,0,2415,1887,1977,0,0,0,0,0,0,0,0,1977,0,0,0,0,0,0,0,0,0,0,0,1902,0,0,0,0,0,0,0,0,0,0,0,0,1977,0,0,0,0,0,0,0,0,0,0,0,0,0,0,0,0,0,0,0,0,0,0,0,0,0,0,0,2444,0,0,0,0,0,0,0,0,0,0,0,0,0,0,0,0,0,0,0,0,1485,0,0,0,0,0,0,0,0,0,0,0,0,0,0,0,0,0,0,0,0,2258,0,0,1485,0,0,0,0,0,0,0,0,0,0,0,0,0,0,0,0,1848,0,2559,0,0,0,0,0,0,0,0,0,0,0,0,1977,0,0,0,0,0,0,0,1887,0,0,0,0,0,0,0,0,0,0,1887,0,0,0,1977,0,0,0,0,0,0,0,0,1977,0,0,0,0,0,0,1887,0,0,0,0,0,0,1887,0,0,0,0,0,0,0,0,0,0,0,0,0,0,0,0,0,0,0,0,0,0,0,0,0,1887,0,0,0,0,0,0,1485,0,0,0,0,0,0,0,1902,0,1902,1977,0,0,0,0,1977,0,0,0,0,0,0,0,0,2824,0,0,0,0,0,0,0,0,0,0,0,0,1977,0,0,0,0,1902,0,0,0,1848,0,0,0,2415,0,0,0,0,0,0,0,0,0,0,0,0,0,0,1977,0,0,0,0,0,1887,0,0,0,0,0,0,0,1848,2377,0,0,0,1485,0,0,0,0,0,0,0,1485,1887,1887,0,0,0,0,0,0,0,0,0,0,0,0,0,0,0,0,0,0,0,0,0,0,0,0,0,0,0,0,0,0,0,0,0,0,0,0,0,0,0,0,0,0,0,0,0,0,0,0,0,0,0,0,0,0,0,2547,0,0,0,0,0,0,0,0,0,0,0,0,0,0,0,0,0,0,0,0,0,0,0,0,0,1902,0,0,0,0,0,0,0,0,0,0,0,0,0,0,0,2444,0,0,0,0,0,0,0,0,0,0,0,0,0,0,0,0,0,0,0,0,0,0,0,0,0,0,0,0,0,0,0,0,1902,0,0,0,0,0,0,0,0,0,0,1977,0,0,0,0,0,0,0,0,0,0,0,0,0,0,0,0,0,0,0,0,0,0,0,2174,0,0,0,0,0,0,0,1887,0,0,1902,1977,0,0,0,0,0,1848,0,0,0,0,0,0,0,0,0,0,0,0,0,0,0,1902,0,2392,1887,0,0,0,0,0,0,0,0,0,0,0,0,0,0,1977,0,0,0,0,0,0,0,0,0,0,0,0,0,0,1902,0,0,0,0,0,0,0,0,0,0,0,0,0,1902,0,0,0,0,0,2377,0,0,0,0,1887,0,0,2258,0,0,0,0,0,1977,0,0,0,0,0,0,0,0,0,1902,0,0,0,0,0,0,0,0,0,0,0,0,0,0,0,0,0,0,0,0,0,0,0,0,0,0,0,1887,0,0,0,1977,0,0,0,0,0,0,0,0,1977,0,0,0,0,0,0,1902,0,0,0,0,0,0,0,0,0,0,0,0,0,0,0,1887,0,0,0,0,0,0,0,0,0,1902,0,0,0,0,0,0,0,0,0,0,0,0,0,0,0,0,0,0,0,0,0,0,2415,0,1977,0,0,0,0,0,1977,0,0,0,0,0,0,0,0,0,0,0,0,0,0,2258,0,0,0,0,0,0,1848,0,0,0,0,0,0,0,0,0,0,0,1887,0,0,0,0,0,0,0,0,0,1848,0,0,0,0,0,0,0,0,0,0,0,0,0,0,0,0,0,0,0,0,0,0,0,0,0,0,0,0,0,0,1848,0,0,1887,0,0,0,0,0,0,0,0,0,0,0,0,0,0,0,0,0,0,0,0,0,0,0,0,0,0,0,0,0,0,0,0,0,0,0,0,0,0,0,1977,0,0,0,0,0,0,0,0,0,0,0,0,0,0,0,0,0,0,0,0,0,0,0,2472,0,0,0,0,0,0,1977,0,0,0,0,0,0,0,0,0,0,0,0,0,0,0,0,1977,0,0,0,0,0,0,0,0,0,0,0,0,0,0,0,0,0,1902,0,0,0,0,0,0,0,0,0,0,0,0,0,1902,0,1887,0,0,0,0,0,0,0,1887,0,0,0,0,0,0,0,0,0,0,0,0,0,0,0,0,1902,0,1887,0,0,0,2415,0,0,0,0,0,0,0,0,0,0,0,0,0,0,0,0,0,0,0,1755,0,0,0,0,0,0,0,1887,0,0,0,0,1902,0,0,0,0,0,0,0,2415,0,0,0,0,0,0,0,1887,0,2824,0,0,0,0,0,0,0,2174,0,0,0,1887,0,0,0,0,0,0,0,0,0,0,0,0,0,0,0,0,1902,0,0,0,0,0,0,1977,0,0,0,0,1887,0,0,0,0,0,0,0,1887,0,0,0,0,0,0,0,0,0,0,0,0,0,0,0,1977,0,0,0,1887,0,0,0,0,1887,0,0,0,0,0,0,0,0,0,0,0,0,0,1825,0,0,0,0,2415,0,0,0,0,0,0,0,0,0,1977,0,0,0,2415,0,0,1902,0,1887,1825,0,0,0,0,0,0,0,0,0,0,0,0,0,0,0,1887,0,0,0,0,1902,0,0,0,0,0,0,0,0,0,0,0,0,0,0,0,0,0,0,0,0,1887,0,1902,0,0,0,0,0,0,0,0,0,0,0,0,3004,0,0,0,0,0,0,0,0,0,0,0,0,0,0,0,0,0,0,0,0,0,1902,0,0,0,0,0,0,0,0,0,0,0,1977,0,0,1848,0,0,0,0,0,0,0,1887,0,0,0,1887,0,0,0,1902,1887,0,0,0,0,0,0,2444,0,0,0,0,0,0,0,0,0,0,0,0,0,0,0,0,0,0,0,0,0,0,0,0,0,0,0,1902,0,0,0,0,0,0,0,0,0,0,0,0,0,1848,0,0,0,0,0,1977,0,0,0,0,0,0,1887,1887,0,0,0,0,0,1977,0,0,0,1564,0,0,0,0,0,0,1902,0,0,0,0,0,0,0,0,0,0,0,0,0,0,0,1848,0,1902,0,0,0,0,1887,0,0,0,0,0,0,0,0,0,1485,0,0,0,1902,0,0,0,0,0,0,0,0,0,0,0,1887,0,0,0,0,0,1564,0,0,0,0,1977,0,0,0,0,0,0,0,1887,0,1902,0,0,0,0,1887,0,0,0,0,0,0,0,0,0,0,0,0,0,0,0,0,0,0,2377,0,0,0,0,0,0,0,0,0,0,0,0,0,0,0,0,0,0,0,0,0,0,0,0,0,0,0,0,0,0,0,0,0,0,0,0,0,0,0,0,0,0,0,0,0,1902,0,0,0,0,0,0,0,0,0,0,0,2415,0,1887,0,0,0,0,1977,0,0,0,0,0,0,0,0,0,0,0,0,0,0,1902,0,0,0,0,0,0,0,0,0,0,0,0,0,0,0,0,0,0,0,0,0,1848,0,0,0,0,1902,0,0,0,0,0,0,0,0,0,0,0,0,0,0,1887,0,0,1902,0,0,0,0,0,0,0,0,0,2415,1887,0,0,0,0,0,0,1485,0,0,1848,2258,0,0,0,0,0,0,0,0,0,0,0,0,0,0,1887,0,0,0,0,0,0,0,0,0,0,0,0,0,0,0,0,0,0,0,1887,0,0,0,0,0,0,0,0,0,0,0,1977,0,2258,2444,0,0,0,0,0,0,0,0,0,0,0,0,0,0,1902,1902,0,0,2415,0,0,0,0,0,0,0,1977,1485,0,0,0,0,1887,1902,0,0,0,0,0,0,0,0,1977,0,2559,0,0,0,0,0,0,0,0,0,0,0,0,0,0,1887,0,0,1902,0,0,0,0,0,1887,0,0,0,0,1977,0,0,0,0,0,0,0,0,0,0,0,0,0,0,0,0,0,0,0,0,0]},{\"axis\":{\"matches\":true},\"label\":\"age\",\"values\":[52,31,42,37,30,40,43,40,56,54,31,57,47,50,43,42,53,49,29,44,49,43,34,48,37,76,44,32,38,56,49,29,47,31,38,49,45,52,45,51,28,44,40,37,58,40,35,51,36,58,37,54,37,28,41,38,40,58,40,41,42,37,64,33,61,44,24,42,57,41,48,31,55,35,41,34,36,43,38,36,33,33,59,38,40,62,43,57,40,44,35,34,25,52,50,41,28,46,35,32,63,30,33,44,45,60,42,44,40,49,30,60,38,34,34,38,50,37,44,42,41,67,33,54,47,52,37,29,65,57,52,60,31,42,51,46,34,33,49,43,30,33,52,36,50,30,35,43,44,42,42,33,50,37,34,35,31,46,44,34,50,42,43,65,42,42,42,55,29,54,46,59,53,51,37,43,40,40,48,60,46,43,32,33,64,56,47,57,53,41,51,55,37,61,48,59,49,39,44,71,51,41,39,32,38,37,42,30,39,67,51,37,37,41,31,38,36,44,43,44,33,42,35,48,34,67,40,45,47,56,48,39,50,38,39,54,50,42,33,48,45,44,36,53,30,52,49,45,49,35,38,37,48,43,41,42,41,44,29,45,34,41,35,33,60,58,35,31,46,35,33,61,50,46,28,33,54,50,65,25,58,50,50,40,48,45,30,44,61,38,44,54,63,48,38,45,38,36,46,35,65,54,51,57,43,53,38,51,46,67,42,65,50,47,58,37,49,32,35,41,48,27,55,39,52,51,40,61,36,34,32,61,52,52,65,40,40,42,50,24,39,39,53,31,31,45,57,32,36,47,36,56,51,44,49,46,41,48,30,39,40,61,58,53,43,37,45,53,28,32,36,37,64,30,37,59,46,52,40,48,49,41,62,75,44,26,39,40,55,33,57,36,45,54,60,46,48,44,61,52,40,57,34,54,42,48,65,71,35,41,44,44,50,46,44,47,64,43,37,37,44,53,51,56,43,38,41,35,38,40,55,49,64,45,30,53,42,46,49,26,50,51,49,43,38,39,42,35,39,33,50,38,35,51,49,43,51,51,22,32,47,61,38,32,31,63,44,42,44,55,34,42,39,44,42,38,44,30,25,50,46,37,40,32,51,50,49,45,26,40,48,49,36,60,54,47,30,49,37,72,39,47,32,63,36,27,28,53,37,42,46,37,51,36,34,37,51,31,37,42,51,49,52,47,43,42,66,30,45,44,46,44,33,57,47,41,47,45,27,37,54,36,34,41,63,50,49,50,47,45,60,33,45,32,42,59,35,60,37,38,51,45,51,44,44,63,29,43,31,41,46,52,45,30,53,42,26,62,65,45,63,39,53,23,51,36,44,29,62,31,37,47,26,36,34,54,56,33,30,53,57,48,44,39,66,34,55,60,61,42,38,64,39,39,50,30,39,44,40,50,32,57,57,34,31,47,29,51,36,49,47,34,24,55,39,56,54,34,32,67,52,41,33,46,39,37,41,60,24,45,41,31,41,42,52,32,55,33,52,47,34,48,48,40,70,49,51,37,55,47,52,50,39,42,39,34,45,28,30,62,32,37,37,38,43,53,43,43,48,51,41,55,49,61,43,47,47,41,54,36,57,58,44,41,37,50,36,40,47,47,38,45,39,48,46,47,67,55,30,40,49,29,75,45,27,60,42,38,49,36,36,61,37,64,37,42,64,28,55,51,57,51,42,47,61,46,50,39,57,30,59,41,35,38,28,40,51,48,48,48,46,42,61,28,45,44,26,55,64,45,48,51,44,32,40,64,56,41,33,33,58,53,41,53,38,31,36,49,30,54,35,39,39,62,50,45,49,34,59,36,47,57,42,47,48,64,38,46,49,44,34,38,31,37,30,38,33,52,59,31,33,62,76,45,37,45,41,33,46,36,49,41,35,57,51,40,32,46,47,51,46,51,45,61,34,58,52,29,42,34,46,50,50,53,46,41,50,38,38,31,39,38,34,46,35,59,55,36,35,25,35,40,37,62,47,51,52,46,49,36,47,36,43,56,51,47,38,68,43,53,37,63,43,27,59,27,40,72,52,39,34,44,44,42,33,30,32,62,31,51,39,30,53,46,44,53,41,32,44,38,43,54,38,50,30,32,64,46,56,46,39,37,24,49,63,33,52,33,53,32,25,26,51,40,48,52,43,44,28,45,43,41,50,46,54,68,43,54,51,51,35,31,53,39,54,62,53,33,61,51,52,53,46,32,38,30,42,39,39,49,55,64,52,52,44,31,35,40,72,31,36,40,34,39,27,50,27,46,40,35,36,34,59,40,38,34,49,39,41,55,45,31,36,33,52,27,46,54,41,67,55,47,36,53,41,54,61,39,44,46,27,49,32,32,49,42,59,34,41,30,35,35,35,46,63,51,34,46,36,33,51,53,33,53,22,32,42,27,31,45,35,48,32,48,48,47,45,52,43,40,53,52,56,68,40,43,45,57,49,51,41,46,64,50,53,37,39,55,60,37,50,49,61,35,31,57,41,34,50,40,53,38,41,47,31,34,37,54,35,47,42,55,46,53,48,38,27,49,47,45,59,46,30,58,45,33,37,53,38,45,38,33,32,39,34,55,46,60,38,34,60,29,25,33,30,28,42,65,47,31,32,31,30,40,66,31,49,67,30,58,46,51,36,42,49,40,69,30,47,34,53,26,57,34,60,43,35,32,42,39,35,50,49,46,37,45,43,46,36,37,33,54,43,45,44,35,42,48,32,47,38,33,41,46,49,44,63,40,45,49,28,44,51,30,56,46,45,34,43,31,47,47,63,48,56,59,33,63,42,55,48,32,52,57,44,62,33,61,48,36,52,25,39,46,47,44,50,49,38,42,54,47,42,29,41,49,41,32,37,42,25,49,38,32,38,40,76,43,76,41,47,44,54,51,50,52,38,39,36,51,57,59,50,45,44,54,31,33,47,57,41,36,52,45,47,35,25,30,33,41,90,55,63,42,61,35,23,50,57,90,35,31,37,59,34,53,51,39,45,55,34,33,39,44,51,41,61,29,56,62,33,53,25,33,39,44,39,34,42,44,34,40,44,43,57,27,60,47,42,54,44,44,33,33,57,30,29,60,29,44,34,59,39,39,47,53,35,49,21,54,31,51,37,38,32,62,33,38,56,53,54,51,30,30,40,55,53,41,44,31,39,39,43,37,41,43,47,38,24,45,46,56,41,47,48,56,50,57,54,50,46,35,45,43,51,47,49,53,35,53,35,46,41,48,67,31,25,34,41,36,36,39,33,55,39,57,57,42,41,52,71,53,37,34,35,39,42,42,64,45,29,37,38,58,24,51,52,41,50,51,35,34,65,39,57,52,29,55,34,78,40,43,52,47,43,32,25,37,39,41,33,56,48,45,48,32,36,28,58,39,45,79,40,58,50,60,43,38,42,42,32,37,40,35,43,36,41,55,55,52,36,52,67,32,44,43,51,38,59,34,50,40,43,51,58,41,50,39,48,57,39,66,36,46,46,50,44,75,56,47,48,61,58,46,35,41,33,33,37,49,74,40,34,42,41,55,42,55,62,52,34,38,43,37,43,54,53,28,50,37,39,37,29,51,49,63,40,35,25,28,26,48,28,34,55,26,49,61,42,41,39,33,23,77,45,43,39,40,48,37,45,34,56,72,33,46,43,52,34,29,35,47,43,51,31,39,31,40,41,47,36,54,35,46,48,61,58,31,32,44,75,54,47,44,37,28,33,42,31,47,49,38,59,55,47,35,28,60,45,37,24,43,51,46,30,43,41,49,39,44,48,36,50,65,38,45,56,60,46,44,60,47,47,32,36,39,54,55,37,63,57,31,58,29,56,28,38,44,50,52,44,61,58,51,41,59,30,49,46,56,56,56,31,31,38,44,55,45,41,37,57,32,43,34,47,47,58,28,37,34,47,42,41,52,36,39,38,42,37,48,63,40,40,45,30,39,42,29,38,48,42,36,35,45,41,33,28,49,42,54,47,35,39,53,31,59,45,38,67,53,40,44,34,37,52,46,37,42,37,42,34,49,47,42,41,36,50,25,48,59,24,44,55,46,47,42,37,46,36,36,47,39,54,27,54,38,41,43,53,31,47,74,37,51,46,33,64,36,39,43,41,39,36,44,28,38,64,35,51,63,41,38,36,43,46,44,43,38,31,31,65,60,53,44,57,47,27,46,40,31,37,30,34,37,51,40,58,29,57,37,47,58,50,47,43,42,19,33,50,39,32,49,52,37,31,39,54,42,25,51,55,31,37,43,41,42,45,38,42,45,36,29,49,33,47,37,51,43,37,73,35,39,38,49,45,54,50,49,46,58,35,33,34,67,37,48,50,40,47,37,38,47,33,66,45,34,48,42,60,42,29,34,53,46,51,62,52,38,30,31,49,57,35,55,59,39,44,39,32,31,35,34,32,36,53,39,34,45,45,48,59,29,53,42,63,39,44,59,34,38,39,38,42,35,37,48,36,35,31,65,47,29,44,49,30,32,50,35,30,52,46,39,45,43,26,36,38,50,51,50,43,30,46,46,51,61,35,45,47,39,62,53,56,45,43,30,50,41,34,26,48,69,51,31,43,47,49,30,39,58,44,43,38,28,30,40,38,35,45,33,27,44,46,50,70,27,35,42,33,43,43,35,45,59,51,53,28,43,24,48,32,33,50,34,60,23,32,43,32,42,36,46,29,36,27,50,41,37,59,38,48,80,33,44,48,52,47,26,48,56,46,30,41,50,47,27,50,29,54,47,52,49,36,33,55,36,44,57,61,39,36,58,90,34,34,35,58,47,41,35,46,69,31,37,37,31,46,46,33,33,53,45,34,36,41,47,29,40,42,36,57,35,34,44,45,28,30,40,37,65,30,32,43,38,55,90,44,63,34,47,42,32,43,29,41,58,32,46,62,56,37,34,45,30,51,38,47,43,41,25,50,44,41,24,34,46,29,58,37,39,56,59,58,39,41,54,47,52,68,29,40,51,38,77,70,44,37,47,34,51,38,34,36,32,54,46,32,37,44,39,47,47,35,60,37,48,28,33,58,47,50,41,46,60,39,50,38,41,38,72,35,58,59,34,36,35,59,31,52,43,50,35,63,52,34,69,49,59,45,41,62,58,53,43,46,38,50,42,54,62,54,58,55,32,45,47,40,32,46,52,27,33,46,43,40,33,40,58,28,47,42,56,65,48,53,45,43,22,37,55,49,43,42,46,43,39,44,37,35,37,49,70,58,51,22,26,24,24,49,52,48,62,35,61,27,44,38,44,30,37,44,34,57,34,61,49,45,36,49,52,36,44,45,40,34,37,25,63,33,51,64,29,46,29,53,32,61,44,61,37,36,63,47,55,58,50,59,50,43,37,49,44,34,37,47,44,51,33,43,37,63,48,32,48,40,47,40,43,38,54,49,68,56,35,28,49,33,32,52,36,38,50,71,57,34,50,61,51,43,41,45,28,50,36,51,51,51,28,58,59,54,38,36,49,50,60,43,48,56,28,39,59,43,45,34,55,42,44,34,52,54,28,37,31,52,74,52,27,47,40,63,51,54,59,42,37,46,35,43,40,48,37,36,61,33,31,44,47,29,45,33,32,42,49,46,31,34,47,31,39,39,48,51,28,50,24,63,28,51,48,65,51,49,36,63,56,39,42,53,27,48,37,49,56,29,45,35,37,26,55,39,38,47,49,51,33,90,46,46,38,47,51,36,48,51,43,32,35,45,60,50,51,53,38,52,48,30,37,32,45,42,41,57,59,40,71,53,38,36,68,45,77,57,36,29,48,55,42,37,30,55,56,45,43,39,37,41,38,36,46,54,30,40,30,67,45,58,43,65,29,44,37,25,50,35,35,51,32,45,48,25,38,49,44,35,51,30,44,33,36,32,47,37,47,33,40,53,43,58,39,45,38,31,56,36,21,56,52,39,54,30,38,60,27,34,28,52,37,35,54,52,60,48,28,61,43,55,46,47,58,34,34,29,58,53,36,48,35,49,33,31,57,49,40,55,30,42,36,35,45,40,28,52,43,39,47,29,31,42,32,29,26,37,38,44,46,31,32,45,40,41,46,59,47,47,45,45,37,62,46,46,51,60,37,42,27,66,84,45,53,27,31,54,43,40,29,35,39,51,36,49,63,50,45,29,52,59,50,37,28,53,41,28,44,34,45,49,47,41,36,52,38,39,47,61,46,56,47,44,52,49,42,44,56,37,37,34,50,69,43,50,47,42,43,43,27,40,47,42,63,62,30,29,57,41,36,50,41,51,53,40,42,52,41,47,46,30,38,47,59,59,52,37,51,48,39,30,50,45,42,41,51,49,67,26,38,47,36,44,44,61,29,40,37,34,37,54,45,69,57,35,51,46,55,43,49,48,38,35,41,59,43,34,40,45,42,30,50,59,44,48,49,42,49,35,35,42,50,52,43,57,45,47,38,44,34,58,38,47,57,45,37,45,27,44,44,38,44,26,32,50,43,44,49,38,51,58,51,53,33,30,34,46,46,43,61,40,46,47,32,46,45,45,42,37,56,45,53,39,46,36,36,39,48,56,66,52,24,38,46,48,67,36,39,35,45,46,31,33,33,33,35,64,39,55,52,24,40,25,48,33,52,44,30,28,61,33,50,33,45,47,52,50,37,38,32,28,50,42,43,47,50,45,57,39,28,29,35,41,60,42,48,32,55,36,26,53,41,57,46,59,27,47,43,33,60,41,30,37,32,27,44,45,34,50,39,57,49,41,59,54,46,28,29,41,35,32,36,34,47,34,24,56,59,30,35,31,28,40,37,33,33,63,46,39,43,50,60,50,39,30,46,40,34,64,42,44,41,53,45,38,42,56,49,57,49,74,38,46,56,27,43,52,63,25,36,49,37,53,47,48,43,61,37,41,51,41,50,48,27,47,37,28,46,39,44,50,50,58,36,39,50,40,46,47,65,41,50,45,33,50,51,44,40,40,48,46,53,37,40,69,38,21,35,39,30,37,38,56,35,46,33,42,48,41,50,54,59,56,61,41,37,45,35,44,52,67,34,35,37,39,46,48,26,29,45,43,49,53,52,44,50,39,57,79,44,58,41,28,71,40,35,42,49,35,28,46,50,67,34,60,44,48,51,52,43,66,42,51,50,34,53,54,43,39,32,45,43,37,41,55,35,28,37,43,36,54,36,78,77,39,34,40,38,43,53,40,57,25,41,33,38,33,41,43,32,41,36,53,46,34,37,32,44,41,55,60,45,46,49,41,40,38,36,56,33,36,34,26,49,71,51,38,54,38,42,63,54,57,27,42,47,25,46,29,61,53,26,44,38,46,60,40,42,66,41,42,42,33,32,44,55,63,50,46,30,47,30,57,38,45,47,27,43,48,64,50,54,54,54,40,39,43,38,34,55,49,28,42,36,34,40,37,41,50,36,30,47,40,45,55,49,49,46,43,42,45,55,52,51,50,39,56,37,45,45,48,36,45,42,58,30,61,27,39,44,53,43,57,37,63,38,41,31,58,36,34,44,50,37,45,44,37,38,48,64,37,55,43,47,66,70,54,38,33,38,25,45,66,30,41,48,41,35,66,52,24,40,29,46,44,44,33,48,54,42,42,60,43,45,28,49,36,40,57,34,36,40,51,47,24,27,51,40,26,54,53,80,41,57,40,42,43,38,28,51,32,32,37,47,66,38,52,37,54,34,66,49,56,58,54,53,41,43,57,40,44,39,46,72,47,36,39,33,47,65,34,40,42,22,43,54,51,39,36,36,31,43,48,43,67,43,36,46,46,30,27,54,56,42,46,49,62,40,45,43,39,48,37,40,41,31,68,64,51,41,28,44,31,43,49,41,38,38,32,45,45,61,32,50,51,59,44,48,57,29,30,38,46,59,48,33,38,61,60,55,58,56,46,51,43,38,36,29,48,38,44,40,31,57,29,44,65,37,38,32,38,42,47,40,30,37,58,22,30,58,51,43,51,41,29,33,63,65,31,43,45,49,51,31,48,32,44,52,36,39,44,52,39,48,37,58,44,59,42,48,55,36,39,44,55,35,33,60,44,73,32,43,51,58,38,60,38,37,38,29,40,29,29,35,48,36,50,41,79,38,24,42,31,47,40,53,51,39,36,51,61,52,33,35,47,36,52,39,43,36,43,50,44,36,36,48,52,35,45,39,46,50,30,48,39,46,51,40,37,60,62,38,52,62,51,45,44,43,49,35,54,41,51,31,46,33,43,50,34,53,38,57,28,40,43,38,38,43,28,36,65,53,54,59,47,37,49,39,55,31,53,60,37,51,25,44,52,59,32,54,41,60,38,53,62,35,52,31,46,57,32,46,56,24,40,39,49,44,51,45,45,35,59,47,51,62,47,46,48,57,31,33,47,30,31,31,47,48,37,38,30,32,42,42,61,41,49,45,58,36,67,61,47,27,39,47,49,43,45,46,59,50,43,41,39,45,40,53,33,46,61,75,40,61,28,47,32,45,51,48,32,50,28,59,37,48,41,62,28,27,42,60,58,50,36,35,40,45,50,52,46,38,62,31,31,45,43,48,39,49,30,25,62,37,38,41,28,32,52,47,53,31,49,47,59,53,36,35,48,39,52,48,43,47,41,44,45,58,38,32,52,44,53,43,60,25,46,32,68,62,57,36,58,59,40,56,35,73,90,42,34,56,25,35,30,42,52,43,60,54,41,51,59,47,24,38,63,39,41,27,64,46,41,55,38,37,37,45,29,58,53,51,59,42,27,35,51,41,58,59,31,39,43,54,41,62,50,58,46,39,57,50,47,37,39,34,42,39,36,37,56,58,39,41,36,30,51,36,57,54,52,56,28,35,61,43,56,45,36,50,34,38,31,51,56,50,38,33,34,27,52,46,50,44,39,53,68,54,67,48,32,57,51,40,45,47,39,50,35,57,59,32,55,43,48,27,41,54,42,46,22,58,51,52,34,45,49,79,46,36,62,40,31,64,49,44,70,61,47,33,40,73,40,39,36,53,42,37,27,48,60,44,39,38,51,34,41,35,45,37,47,47,38,78,46,40,59,31,42,55,61,50,53,37,49,30,55,37,28,45,41,33,52,42,43,38,28,55,31,43,45,44,64,30,51,48,37,39,41,45,29,31,46,55,48,44,49,42,32,39,71,35,42,51,53,48,40,40,32,58,37,29,30,37,42,34,39,41,34,38,43,40,36,25,62,44,62,28,45,44,46,66,29,54,40,50,37,39,42,43,42,53,41,36,42,42,41,78,43,32,50,61,45,31,60,28,49,37,54,35,34,33,53,49,51,44,37,54,33,49,59,35,34,50,36,41,49,38,52,57,54,44,52,37,57,58,59,50,44,50,53,41,46,35,56,50,37,52,65,63,57,28,38,44,29,36,32,59,58,37,57,50,50,47,39,26,55,46,26,32,70,49,30,43,38,48,57,42,51,29,39,40,45,38,36,47,41,37,38,46,39,51,40,51,31,36,39,38,61,26,34,59,53,55,46,43,36,46,47,38,47,48,51,64,39,34,71,40,38,44,43,27,56,47,38,26,79,60,34,36,40,43,30,26,50,40,61,41,27,28,34,57,38,57,43,59,68,46,40,48,50,32,28,62,39,33,37,30,25,35,38,56,38,33,44,41,41,62,38,31,42,48,49,37,66,52,67,42,54,39,37,41,42,44,41,37,40,38,44,49,36,31,44,29,33,57,37,43,40,33,45,36,47,31,44,58,57,58,37,29,41,58,68,53,43,60,46,43,36,46,47,66,36,39,36,60,37,54,50,40,38,33,48,36,39,40,47,31,46,39,34,36,47,38,44,50,29,43,31,37,55,46,45,36,51,44,31,37,79,36,44,46,36,41,34,63,42,46,48,42,52,33,58,37,31,37,53,34,30,53,37,58,74,45,33,61,29,45,31,40,27,46,38,46,50,54,40,43,45,41,27,48,57,42,51,49,45,42,30,38,44,47,50,30,31,39,43,51,54,45,42,45,46,47,69,43,41,35,34,33,39,67,43,54,50,61,51,66,57,44,42,74,34,54,40,44,29,66,47,47,50,43,33,71,48,53,44,32,31,53,36,37,63,67,64,53,37,53,54,43,59,46,29,30,27,35,42,47,36,48,33,31,52,35,39,45,56,64,36,45,33,30,70,30,46,59,45,26,46,54,28,40,37,45,53,48,45,54,36,50,46,41,46,43,58,33,50,35,36,39,73,47,36,30,32,52,27,42,49,43,31,37,53,59,32,53,35,38,58,43,41,31,54,31,47,40,48,35,59,63,43,44,50,51,50,50,37,45,34,39,32,53,48,68,45,24,51,47,45,42,25,37,52,47,41,61,32,63,36,39,60,37,56,55,43,46,60,47,52,43,40,25,49,44,58,69,45,53,32,47,41,53,66,44,40,46,52,45,41,37,33,50,40,54,53,50,60,67,26,49,59,44,50,44,42,65,42,29,45,60,38,55,52,40,46,39,41,59,67,60,39,32,32,33,43,50,63,55,40,58,38,30,33,34,50,44,35,67,35,44,58,30,52,44,44,31,55,48,50,43,56,41,59,46,53,47,29,44,56,45,36,32,29,41,48,47,39,37,40,38,34,43,36,51,47,47,47,55,53,44,41,51,25,63,59,43,53,34,37,51,50,50,53,32,49,52,41,44,23,33,66,58,38,38,38,49,38,40,58,37,50,36,33,35,33,52,63,59,36,32,47,42,32,58,47,34,48,35,46,35,52,29,55,55,60,39,26,29,34,77,50,60,26,25,53,42,45,55,40,34,58,55,28,33,34,30,35,56,41,30,45,38,36,54,30,36,44,47,41,52,35,48,68,44,48,54,35,50,57,46,33,65,46,43,55,48,37,27,26,28,35,70,52,68,37,35,41,48,39,38,44,56,47,31,41,45,52,36,52,44,53,36,41,64,49,25,37,53,52,43,41,45,37,48,35,36,65,48,37,41,52,39,49,28,49,44,52,36,39,48,50,49,70,32,46,40,46,41,44,47,58,38,65,48,60,45,34,41,37,36,47,40,37,42,47,61,26,58,40,33,66,36,55,60,42,48,44,59,57,44,30,44,34,36,39,58,40,40,34,58,43,35,52,43,34,37,47,36,44,51,59,27,29,55,37,35,57,31,50,43,35,33,36,33,62,73,26,35,32,42,54,35,41,40,46,42,49,31,31,90,30,46,39,38,49,37,44,29,56,66,58,62,41,50,43,36,34,59,60,46,39,32,37,42,40,28,27,50,47,40,62,40,35,54,26,44,55,30,34,34,65,47,39,53,50,46,56,50,45,45,44,60,25,43,46,53,47,37,51,35,45,29,59,42,47,49,45,52,40,33,37,49,39,30,47,52,54,29,51,35,53,40,36,51,32,43,49,45,46,54,34,30,60,29,44,64,31,35,36,41,46,43,24,54,54,38,34,54,30,45,69,48,39,40,57,59,42,58,45,38,42,46,44,42,45,40,71,26,51,41,50,53,32,58,47,51,42,50,46,58,47,68,46,40,52,40,33,32,32,51,69,55,45,50,43,47,36,62,65,46,47,29,38,36,26,27,45,51,43,46,29,35,43,30,40,41,48,44,25,44,54,38,47,38,60,40,47,32,54,32,52,59,54,39,34,53,34,42,26,48,39,74,56,29,59,30,48,58,46,81,59,46,49,32,40,31,52,46,47,55,37,55,41,29,48,41,44,31,52,44,35,27,37,44,34,38,53,33,45,28,38,48,62,30,41,52,36,34,31,69,39,42,52,28,34,50,26,35,57,56,41,27,43,68,45,30,42,33,45,41,49,52,38,43,33,40,55,39,51,57,34,46,55,45,45,35,36,51,35,58,57,40,31,40,65,31,40,38,36,44,30,36,34,46,34,48,55,34,41,35,42,59,57,56,46,28,42,33,47,50,40,30,52,23,47,58,46,43,58,54,59,39,44,53,55,29,30,55,49,30,28,37,39,32,36,30,30,57,44,42,59,48,43,41,27,46,46,55,44,34,35,54,42,47,35,53,56,28,50,45,59,50,56,33,50,39,40,59,42,54,38,54,41,45,42,53,30,40,28,54,56,30,36,45,39,28,31,43,32,46,31,47,46,51,50,36,39,46,53,45,43,51,34,31,37,34,46,41,50,32,39,44,43,49,37,34,51,40,32,39,68,48,31,41,65,34,59,49,37,48,50,41,54,40,50,38,37,60,45,28,62,45,47,41,34,35,43,46,59,48,55,61,39,39,48,51,34,38,39,47,50,64,42,53,37,57,47,38,40,39,40,32,53,54,49,31,53,47,52,53,29,61,40,53,39,46,34,38,28,49,43,30,25,41,65,39,31,44,26,34,39,39,32,46,33,45,34,29,43,61,56,57,36,42,28,28,36,33,54,40,45,38,36,47,19,23,41,69,39,51,26,57,39,30,37,46,62,36,47,44,51,53,35,56,45,62,36,59,38,39,59,34,47,42,49,35,33,63,40,40,34,34,68,35,45,50,46,53,39,40,48,54,35,40,37,33,59,37,50,27,39,51,30,49,29,49,52,42,36,54,58,37,41,63,37,45,66,22,41,44,50,49,59,45,39,45,58,66,37,39,57,44,56,33,36,45,39,44,46,36,70,76,24,37,40,53,52,31,50,33,57,39,31,39,45,23,39,47,31,45,50,40,55,64,51,30,36,45,45,28,49,83,69,71,42,32,55,48,48,53,29,31,42,62,47,46,31,60,72,59,32,50,32,54,65,70,53,37,55,49,48,41,29,47,53,56,30,64,40,54,61,62,42,51,41,44,41,35,32,70,55,45,57,70,56,56,41,69,56,42,41,40,43,32,50,40,58,25,33,27,39,55,35,57,32,60,48,36,34,51,40,51,38,60,51,48,40,71,35,64,36,26,37,50,47,37,29,63,50,42,32,57,50,51,51,38,61,42,46,28,39,50,30,44,34,46,41,59,62,38,60,43,59,31,29,56,58,41,36,46,42,42,37,46,36,35,59,31,40,33,31,43,55,55,44,25,44,42,30,58,52,37,40,49,49,32,42,46,39,28,51,47,32,63,24,61,50,36,38,39,42,35,52,33,61,39,59,41,37,38,43,28,50,45,46,38,55,55,47,62,46,46,35,41,42,46,41,50,50,31,50,56,42,59,32,52,39,60,40,44,45,51,65,37,31,53,43,36,61,66,31,67,59,34,29,41,43,31,32,39,41,51,31,40,53,56,51,44,49,47,53,48,61,45,32,43,39,67,29,28,32,26,22,44,50,38,39,51,62,28,83,44,60,52,73,54,35,29,63,52,46,52,25,54,35,33,40,38,54,42,51,51,40,31,43,42,51,39,63,52,47,60,50,68,30,48,53,50,39,55,46,50,32,48,34,41,81,49,46,35,29,52,32,46,26,41,57,52,35,49,47,32,57,41,42,37,48,49,54,53,42,36,62,47,37,35,50,29,29,31,45,53,41,48,48,68,36,34,37,47,33,57,25,24,51,51,42,58,45,54,50,37,43,50,39,52,44,46,72,48,54,41,57,44,63,54,55,62,46,45,61,38,28,39,62,34,65,30,44,53,41,43,55,58,57,40,40,49,27,53,37,43,46,49,35,33,45,29,49,47,37,47,53,40,41,29,40,29,43,44,40,37,39,37,47,40,48,50,23,43,33,31,40,55,38,79,47,50,45,31,42,51,41,42,46,44,43,45,33,36,36,38,52,46,50,36,49,50,32,40,56,51,44,51,53,56,29,33,47,64,40,60,32,27,52,35,46,54,45,38,34,45,41,60,59,45,36,36,40,47,49,53,50,31,52,41,45,50,54,53,51,54,32,49,54,34,56,43,59,68,41,68,38,48,62,56,58,43,39,51,45,51,47,30,43,44,33,50,40,49,41,57,49,41,45,42,45,58,34,44,22,46,56,36,35,40,52,36,29,53,43,47,30,28,38,43,46,26,53,43,24,32,35,53,50,32,64,26,39,35,40,46,49,38,48,60,52,36,46,30,67,35,43,59,33,46,46,54,67,62,36,52,53,41,54,55,31,25,46,45,58,45,38,36,47,43,37,36,48,40,28,40,53,51,49,31,46,41,30,37,46,51,33,47,48,38,24,42,31,46,61,50,43,26,51,31,61,44,56,69,38,33,56,68,28,25,39,46,33,38,67,60,29,65,41,33,52,39,40,51,47,34,49,71,32,57,62,39,37,40,38,51,51,39,39,47,40,43,44,46,53,64,54,64,49,29,47,59,42,44,60,44,33,52,45,31,43,46,53,40,32,44,47,54,27,32,79,50,45,66,39,32,34,37,43,53,44,48,37,34,46,50,27,35,60,56,55,55,45,32,41,36,65,59,33,50,49,34,48,47,54,34,46,34,47,36,39,64,57,36,32,27,37,38,45,34,32,64,41,27,34,54,48,40,35,36,59,31,39,26,51,39,61,29,41,41,59,54,32,51,35,44,28,74,61,47,42,36,40,43,49,41,35,40,36,36,42,45,30,32,36,35,40,48,40,34,55,47,60,73,49,47,53,50,31,43,56,58,65,51,26,38,31,50,54,40,42,58,69,34,34,64,41,53,46,49,54,52,49,42,51,47,25,47,36,47,52,50,53,42,32,42,29,48,36,53,53,45,38,54,30,46,66,41,51,33,41,29,24,46,35,39,50,26,31,49,40,50,61,49,51,48,63,73,54,41,65,36,38,37,35,37,30,43,61,42,36,47,63,58,43,33,37,28,57,32,36,34,47,58,53,35,51,40,55,57,71,49,30,48,43,60,37,38,59,42,69,34,45,44,47,39,34,50,30,43,45,46,56,25,58,56,34,37,56,44,30,44,38,32,35,48,51,44,44,38,43,59,49,61,33,48,56,37,39,51,30,70,38,32,29,61,46,56,39,40,62,42,53,47,64,41,42,34,31,43,55,49,40,55,30,52,57,43,38,51,41,31,33,40,34,35,43,54,50,50,36,54,34,54,34,62,34,45,34,28,50,52,34,56,42,78,51,46,30,31,59,53,39,75,36,56,35,39,44,32,44,39,34,38,41,56,59,44,43,41,51,44,61,52,38,54,56,38,52,48,57,41,31,44,52,55,29,46,44,27,65,37,38,31,28,48,34,30,40,33,30,44,54,38,59,56,35,38,30,46,60,47,55,47,54,38,36,43,38,51,38,30,39,61,29,32,68,55,61,51,27,42,42,34,30,53,49,62,31,50,31,55,54,56,59,42,46,32,30,52,35,34,55,40,37,54,47,35,46,41,31,33,32,41,48,34,40,52,32,48,30,44,37,34,32,36,54,68,67,27,62,31,52,55,47,49,34,79,32,40,43,31,41,64,58,37,53,37,39,29,50,34,43,44,47,46,53,28,45,51,64,44,63,44,52,36,65,34,40,42,51,57,31,39,38,36,28,57,25,44,44,53,45,59,65,62,53,47,52,30,51,28,46,31,35,39,34,57,39,42,61,39,53,38,46,60,29,54,43,28,57,52,40,35,57,39,42,46,38,60,38,47,50,68,36,43,49,25,34,51,31,42,48,26,31,44,40,38,37,46,38,36,61,40,30,56,38,45,50,47,57,48,49,33,45,58,36,48,40,42,25,66,59,42,70,42,28,37,38,36,70,55,59,62,52,74,35,38,34,48,42,32,44,39,50,45,46,38,30,41,45,45,63,36,38,48,53,41,44,45,41,45,61,47,43,29,40,42,43,53,45,37,30,33,37,35,28,50,46,41,59,57,55,58,42,61,31,47,51,48,46,46,45,56,42,50,55,39,60,33,29,31,49,45,46,46,40,54,38,31,45,38,67,41,37,34,27,38,47,28,46,59,54,43,46,33,37,37,33,48,34,37,47,33,44,34,51,29,64,28,58,31,40,56,38,50,34,38,32,39,41,45,61,55,44,42,48,31,48,52,25,50,60,58,48,33,30,58,32,28,35,45,42,42,36,52,26,59,38,66,30,60,54,43,48,45,50,27,60,60,53,69,50,52,50,35,58,46,55,56,50,42,60,24,47,39,27,42,35,45,54,41,51,45,45,35,29,45,44,30,35,37,38,36,46,39,50,37,51,46,53,33,40,50,48,42,38,64,42,45,45,32,46,55,29,38,37,41,43,44,44,51,29,36,37,30,32,45,46,34,50,48,55,61,64,58,27,52,49,46,26,32,35,30,49,33,44,60,44,81,33,50,66,60,46,41,42,59,36,54,39,50,48,28,34,41,44,26,37,33,35,38,36,50,55,41,73,43,36,49,37,40,50,49,45,47,40,54,43,27,29,22,40,51,42,38,41,43,50,23,62,37,38,37,55,35,68,53,36,64,45,45,41,54,50,43,48,43,51,35,47,31,46,43,40,59,40,35,58,51,28,42,31,36,32,42,54,36,45,60,57,57,55,56,46,41,46,31,63,30,37,36,54,50,48,28,74,51,32,66,45,38,59,50,55,55,52,58,44,34,50,49,51,56,60,54,39,59,32,33,34,66,47,29,28,55,37,42,39,46,61,29,28,49,50,45,41,29,62,69,55,48,36,41,38,55,39,61,37,31,32,48,51,57,34,56,38,29,40,58,47,27,35,37,44,50,46,47,46,28,55,36,57,34,27,57,49,28,45,47,47,31,36,59,40,47,29,29,52,40,34,33,42,51,52,63,32,35,65,53,60,47,56,45,45,43,57,42,48,41,44,39,41,39,47,39,47,60,53,48,46,38,49,42,39,42,28,41,58,45,42,53,45,38,38,36,29,67,42,43,34,33,40,62,54,52,34,36,25,45,42,53,54,54,33,44,67,56,52,37,57,59,43,45,30,38,38,61,50,49,37,42,54,34,49,41,45,63,69,45,43,26,48,51,34,41,26,40,41,55,43,51,29,43,35,61,47,29,50,60,35,43,34,43,50,31,30,52,47,44,42,46,32,47,25,45,55,59,56,47,62,40,22,56,46,56,51,40,27,40,52,40,50,37,52,49,28,64,75,47,45,38,67,30,36,44,51,48,51,37,51,29,48,44,27,45,40,63,31,49,36,52,45,39,74,39,49,39,47,29,51,54,39,36,60,52,52,59,39,38,46,38,33,46,64,32,42,23,37,61,39,58,27,43,35,47,34,70,61,26,31,26,37,29,54,47,70,44,30,57,59,39,53,57,60,28,39,55,36,55,33,30,30,40,49,35,23,41,64,40,47,41,28,39,49,42,34,54,38,42,27,57,44,42,29,49,51,28,43,45,40,33,57,45,48,38,36,55,27,29,28,72,39,52,50,48,36,42,54,45,53,26,52,32,34,39,40,25,54,48,51,41,40,41,51,34,43,37,34,40,90,38,30,43,50,34,50,41,44,38,46,57,42,43,44,37,44,39,61,26,61,64,54,50,52,30,58,52,30,51,54,55,43,42,49,36,47,33,43,55,42,43,51,42,34,39,61,52,41,59,38,47,35,48,48,32,50,26,49,41,49,35,37,45,53,44,43,43,39,41,45,46,45,40,60,52,51,42,39,31,62,53,50,46,44,36,52,32,32,51,30,37,59,32,40,49,48,66,39,45,61,48,40,29,47,46,44,55,48,38,48,52,48,50,47,38,37,35,34,58,43,44,52,41,67,27,51,22,45,37,50,40,47,41,26,47,31,32,44,35,43,31,41,51,39,37,47,31,42,38,54,41,32,47,45,34,42,37,54,34,48,37,74,36,34,41,53,49,51,59,59,47,42,53,42,57,33,36,51,37,66,30,53,44,46,36,33,36,48,45,37,36,41,50,38,39,46,57,46,35,34,54,34,38,71,39,53,40,52]},{\"axis\":{\"matches\":true},\"label\":\"capital-gain\",\"values\":[0,14084,5178,0,0,0,0,0,0,0,0,0,0,0,0,0,0,0,0,14344,0,0,0,0,0,0,15024,7688,0,0,0,0,0,0,0,0,0,0,0,0,0,0,0,0,0,14084,7298,0,7298,15024,0,0,0,0,0,0,0,0,0,0,0,0,0,0,0,7298,7298,5178,15024,0,7688,0,4386,0,0,7298,0,0,7298,7298,0,0,0,0,0,0,0,0,0,0,0,7688,0,0,0,0,0,15024,0,0,0,0,0,0,0,0,0,0,0,0,0,0,15024,0,0,15024,7688,0,0,0,0,20051,0,0,0,0,0,0,0,0,0,0,7688,0,0,15024,0,0,0,15024,0,15024,0,5178,0,0,0,0,0,8614,0,0,0,0,0,0,0,25236,0,0,0,7298,0,9386,0,14084,0,7688,7688,0,0,0,0,0,0,0,0,0,0,0,0,0,5178,3103,0,0,0,0,4386,0,0,4386,0,0,0,0,0,0,0,10605,0,0,0,0,0,7688,0,0,15024,0,0,3103,0,0,0,0,0,0,0,0,0,0,0,0,0,0,0,0,0,0,0,15024,0,0,0,15024,3103,0,0,0,0,7688,0,0,7298,0,0,0,0,0,0,0,0,0,0,7298,0,0,0,0,0,3103,0,0,0,0,0,0,0,0,15024,0,7298,0,0,0,0,0,10605,0,0,0,0,0,0,0,0,0,0,0,5178,15024,0,7688,0,0,0,0,0,0,0,99999,15024,0,0,0,0,0,0,6514,0,0,5178,15024,0,0,0,0,7298,0,0,0,0,0,0,0,0,0,0,0,7688,0,0,99999,20051,0,0,0,0,0,0,0,0,0,0,4386,0,0,0,0,0,0,0,0,0,0,0,7688,0,0,7298,0,0,99999,0,0,0,15024,0,0,0,0,15024,15024,0,0,0,99999,0,0,0,0,7688,25124,0,0,10520,0,15024,0,0,0,0,0,0,99999,0,0,0,15024,0,0,0,5178,0,15024,6514,0,0,0,15024,0,0,0,7688,0,0,99999,0,0,0,15024,0,0,0,0,0,0,0,0,0,0,15024,0,0,0,0,27828,99999,3103,99999,3103,0,7688,7298,0,8614,0,15024,3103,0,0,7298,0,0,0,0,0,99999,5178,0,5178,0,0,0,0,0,0,0,0,0,0,0,0,0,0,0,0,0,0,7688,0,0,0,0,15024,0,0,8614,13550,0,0,3103,7688,0,0,0,0,0,0,0,0,0,20051,0,0,0,0,8614,0,0,0,0,0,0,0,0,0,0,0,0,0,0,0,99999,0,5556,0,0,0,0,0,0,15024,0,7298,0,0,0,0,0,0,0,0,0,0,0,0,0,0,0,0,0,0,0,15024,0,0,0,0,0,0,0,0,0,0,7298,0,0,0,0,0,0,0,7688,0,0,0,99999,0,0,0,0,7688,0,0,15024,0,0,14344,15024,0,99999,7298,4787,0,15024,0,0,0,0,0,0,0,0,0,0,7298,0,0,4386,15024,3103,0,0,0,0,7688,0,7298,0,0,0,0,0,0,0,5178,0,0,0,0,0,0,0,7688,0,7688,0,0,0,7298,0,0,8614,8614,0,0,0,0,0,0,0,0,7298,15024,0,0,0,7688,0,0,0,10520,0,0,3103,0,7688,7688,99999,0,8614,0,0,0,4934,0,0,0,0,0,7298,7688,7688,4386,0,0,0,0,0,0,0,0,0,0,0,0,0,0,0,0,14084,0,7688,0,0,0,0,0,7688,0,7298,0,0,0,0,0,0,0,0,0,0,0,0,0,0,0,0,3103,0,0,0,0,0,0,4787,0,0,0,0,0,0,0,0,0,0,15024,15024,0,0,0,15024,0,0,0,15024,0,0,0,99999,0,0,7688,0,15024,0,0,0,10520,0,0,0,0,0,0,0,0,7298,0,0,0,0,0,0,0,99999,0,0,0,0,0,0,0,0,0,0,0,0,0,0,15024,0,0,3103,20051,0,0,0,0,0,0,0,0,0,0,0,7688,0,0,0,0,0,7688,0,0,0,0,0,0,7688,0,0,0,0,99999,0,0,15024,0,0,15024,15020,0,0,0,0,0,0,7298,7688,0,0,0,0,0,15024,7688,0,7298,0,0,0,4386,0,7298,0,0,0,0,0,5178,0,0,0,0,15024,0,0,0,0,0,0,0,10520,15024,0,0,0,7688,0,0,0,0,7688,0,0,0,7688,0,15024,7688,0,0,7688,0,0,0,0,0,7688,0,0,0,0,0,7298,0,0,0,0,0,0,0,0,5178,0,0,0,0,7298,15024,0,15024,0,0,0,0,0,0,0,0,0,0,0,99999,0,0,0,0,0,0,0,0,15024,0,0,0,0,0,0,0,0,15024,0,0,0,0,0,0,0,0,0,0,0,0,0,0,0,0,0,0,0,0,0,0,0,0,0,0,0,0,0,0,0,7688,0,0,0,0,0,0,0,0,0,5178,0,15024,0,0,0,0,0,0,0,0,0,0,0,0,14084,0,0,8614,0,0,0,0,0,0,7688,0,3103,15024,0,0,0,0,0,0,0,0,27828,0,0,0,15024,0,0,7688,7298,15024,0,15024,8614,0,0,0,0,0,0,0,99999,0,5178,0,0,15024,0,0,99999,0,0,0,0,0,0,0,0,0,0,0,0,0,0,7430,0,0,0,15024,0,0,0,8614,0,0,7688,0,0,0,15024,7688,7688,0,0,0,15024,0,0,15024,0,0,7298,0,7688,0,0,0,99999,0,0,0,14084,15024,5178,0,99999,0,7298,0,0,7298,0,15024,0,0,15024,0,0,0,0,0,7298,0,0,8614,0,0,0,14344,0,0,0,0,7896,0,15024,9386,0,0,0,0,8614,7430,0,0,0,0,0,0,0,0,0,0,0,0,5178,0,0,0,0,0,0,0,0,0,0,0,0,99999,0,0,0,10520,0,7298,0,0,0,0,0,0,0,15024,0,0,0,0,0,0,0,0,0,0,0,0,8614,0,0,0,0,27828,10605,0,0,0,0,0,0,0,0,0,7298,0,0,0,0,0,0,7688,0,7298,99999,0,0,0,3103,0,0,4386,10520,0,0,0,5178,7298,7688,0,0,0,0,0,99999,15024,0,0,0,0,0,0,0,0,0,0,0,0,0,0,0,0,0,0,0,0,0,0,0,0,0,0,0,0,0,0,0,0,0,0,0,0,20051,0,0,0,0,7430,0,15024,0,0,0,0,0,0,0,13550,0,0,7688,0,0,0,7298,99999,0,7688,15024,0,0,0,15024,0,0,0,0,0,0,0,8614,0,7688,0,0,7298,0,0,0,7688,7298,0,0,0,0,0,99999,0,0,0,0,0,0,0,0,0,0,0,0,0,0,0,0,0,0,0,0,8614,0,0,0,0,0,0,0,0,0,0,7298,0,0,15024,0,15024,0,0,0,0,0,0,0,14344,0,7688,0,0,0,0,3103,0,0,0,0,0,15024,0,0,0,0,0,0,0,15024,0,0,0,0,0,0,0,3103,10520,15024,0,0,27828,0,0,0,0,0,14084,0,0,0,0,0,0,0,0,7688,0,0,0,0,0,0,99999,3103,0,0,7298,0,7298,9386,0,0,0,0,0,8614,99999,0,0,0,7688,0,0,0,0,0,0,0,0,10520,7688,0,0,0,0,0,0,0,20051,0,0,0,0,0,0,0,0,0,0,0,8614,0,0,0,0,0,0,99999,0,20051,0,0,0,4386,0,0,0,7298,15024,0,0,0,0,0,0,0,0,0,0,14084,0,0,7298,0,0,0,15024,0,0,0,0,0,0,10520,0,0,0,15831,0,27828,0,15024,0,14084,0,0,15024,0,0,15024,0,0,0,0,0,0,0,7688,0,0,25236,99999,0,0,13550,27828,0,0,0,0,0,15024,0,0,0,0,0,0,0,0,0,25236,4386,15024,0,0,0,0,0,27828,0,0,0,0,0,0,0,0,4386,0,4386,0,0,0,0,0,0,0,0,0,0,0,15024,0,14084,0,0,0,99999,0,0,0,0,0,0,0,0,0,0,0,0,0,0,0,0,0,0,0,0,0,15024,0,0,0,15024,0,3103,0,7298,0,6514,0,0,0,0,0,0,0,0,0,7298,0,0,0,7688,0,7688,0,4386,7298,0,3103,0,0,7688,0,15024,0,0,15024,0,0,0,4386,0,0,0,0,0,0,0,7688,0,0,0,99999,0,0,0,0,0,7298,0,0,0,0,0,0,0,0,15020,0,7688,0,0,0,0,0,0,0,0,0,0,0,0,0,0,0,0,0,0,0,0,0,15024,0,0,0,0,0,0,7298,0,0,0,0,0,0,0,0,0,0,99999,14344,0,0,0,0,0,0,0,0,0,0,27828,0,0,13550,7688,0,15024,15024,0,0,0,7298,7298,0,0,7298,0,0,0,0,0,0,0,15024,0,0,0,0,99999,0,0,0,0,7430,0,99999,0,0,0,0,0,14084,99999,0,0,0,0,0,0,7298,99999,0,0,0,0,0,0,0,0,0,0,0,0,7688,0,0,3103,0,4934,0,0,0,10520,7688,7688,0,0,0,0,0,99999,0,0,0,0,0,0,0,0,0,0,0,0,0,0,0,0,13550,0,0,0,0,0,15024,0,0,0,0,7298,0,0,0,0,7298,7298,0,0,0,0,0,0,0,7688,3103,0,7688,6418,0,0,0,0,0,4934,0,0,0,0,0,0,0,0,0,0,0,0,0,0,4787,0,0,7688,0,0,0,7298,0,0,0,0,0,0,0,5178,0,0,0,0,0,0,0,0,0,0,0,4386,14344,0,15024,7298,0,0,3103,0,0,0,0,0,15024,4386,0,0,0,0,0,0,0,7430,0,0,0,0,0,0,15024,0,0,0,0,0,0,0,0,0,0,0,0,0,4386,7688,4386,0,0,15024,3103,15024,0,0,0,0,0,0,0,13550,0,0,0,0,3103,99999,0,0,0,0,0,0,0,99999,15024,0,7688,0,0,0,0,0,0,0,7896,0,0,0,0,0,0,0,0,0,8614,0,3103,0,0,4386,15024,0,0,0,0,14344,0,0,0,0,0,0,5178,0,0,0,0,0,0,0,0,10605,0,0,9562,99999,15024,0,0,0,0,99999,7688,99999,0,0,0,0,0,0,0,0,7688,0,15024,0,0,15024,0,15024,0,0,20051,0,0,7688,0,0,4386,0,0,6418,0,5178,15024,0,0,0,0,0,7688,10520,0,0,0,0,0,0,0,0,0,0,0,0,0,0,0,0,0,0,0,15024,3103,0,0,9386,0,0,0,0,0,0,0,0,0,0,0,0,0,7688,0,0,0,0,0,0,0,0,0,0,15024,0,15024,7298,7688,0,0,0,7298,0,0,0,0,0,0,4386,0,0,20051,0,0,0,0,9386,0,10520,0,0,0,0,0,0,0,0,0,0,99999,0,0,0,0,0,0,0,0,0,0,7688,0,0,0,27828,99999,0,0,0,0,7688,10520,9386,7298,0,0,0,0,0,0,4386,0,15024,0,0,0,0,0,0,0,0,15024,0,0,0,0,0,0,0,0,0,0,0,0,0,0,7688,0,0,15024,0,0,0,0,0,0,0,0,0,0,0,0,0,27828,0,0,0,0,0,8614,13550,0,15024,0,0,0,0,0,7298,4386,0,0,8614,99999,0,0,0,0,5178,0,7688,0,0,7298,0,8614,0,0,0,10520,0,99999,7688,0,0,3103,0,0,0,0,0,0,7688,0,0,0,0,0,0,0,0,0,0,0,0,0,0,0,0,0,0,0,0,0,0,0,0,14084,0,15024,0,0,0,0,0,7688,0,10520,0,0,0,0,0,15024,0,0,0,0,0,0,9562,0,0,0,0,0,0,14084,0,0,0,0,0,0,0,0,0,15024,0,0,0,25236,0,0,0,15024,0,0,0,15024,0,0,7298,0,0,15024,0,0,0,0,7298,14084,0,0,0,0,0,0,0,0,0,0,0,15024,0,0,0,0,0,0,0,0,0,0,4386,0,0,15024,0,0,0,0,0,14084,0,0,4386,0,0,0,0,0,0,0,99999,0,0,0,0,0,0,0,0,0,0,0,0,0,0,0,0,0,0,20051,0,0,0,4386,0,0,0,0,0,0,0,7688,0,0,0,7688,0,0,0,0,0,3103,0,0,0,9386,0,0,0,0,0,0,0,0,0,0,0,0,0,0,0,0,7298,0,0,0,0,0,0,0,0,0,99999,15024,9386,0,0,0,20051,0,0,0,7688,0,0,0,15024,0,0,0,0,0,0,0,0,0,0,7688,99999,0,0,0,7688,10605,7688,7688,0,11678,10520,0,7688,0,3103,0,0,0,99999,0,0,0,0,0,0,0,0,0,0,3103,15024,15024,7298,0,0,0,0,15024,0,0,0,0,0,0,0,5178,99999,99999,0,0,7688,0,0,7298,0,0,0,0,0,0,3103,0,0,7298,0,0,0,0,15024,0,0,0,0,0,0,0,0,7688,0,0,0,0,0,0,0,0,0,0,0,0,0,4787,0,15024,0,0,0,0,0,5178,0,0,0,0,0,0,0,0,7298,0,0,0,0,0,7688,5178,0,0,0,20051,0,0,4787,0,14084,0,0,0,0,0,0,0,0,7298,0,0,0,0,0,4386,7688,0,0,0,0,0,0,0,0,27828,0,8614,0,7298,7298,0,7298,0,0,0,0,0,0,0,0,0,0,0,0,0,0,0,0,0,0,0,0,0,0,0,99999,0,0,0,7688,0,0,0,7688,0,0,7688,0,0,0,0,0,0,0,7298,14344,5178,0,0,0,3103,0,5178,0,0,0,0,0,0,0,0,0,15024,0,0,0,0,0,0,15831,7688,0,0,0,0,0,7688,0,0,0,0,7298,0,0,20051,7688,0,0,0,0,0,0,0,7298,4386,0,0,0,0,0,0,0,0,0,25236,0,0,7298,0,0,0,0,0,0,0,0,0,0,7298,0,0,0,0,0,0,0,0,0,0,0,0,0,0,0,0,0,7688,0,0,0,0,0,0,7298,8614,7688,99999,0,0,0,0,0,0,7298,0,0,7688,0,7688,0,5178,0,0,0,0,0,0,0,99999,0,0,0,4386,99999,0,0,0,0,5178,0,0,0,99999,0,0,3103,0,0,0,0,0,0,4386,5178,0,0,0,0,0,0,0,0,15024,0,0,0,0,0,0,7688,0,15024,0,0,0,15024,0,15024,0,0,0,0,0,0,0,0,0,0,0,7688,7298,0,7298,0,0,0,0,0,0,0,0,0,7688,0,0,0,9562,0,7298,7298,0,0,0,0,0,0,0,0,0,0,7688,7688,0,14084,0,0,0,0,0,0,0,0,0,0,0,0,8614,5178,0,7688,0,0,99999,99999,0,0,0,0,0,0,0,0,0,7298,0,0,7298,0,0,0,7298,5178,0,15024,7298,0,0,15024,3103,0,0,99999,0,8614,7298,99999,0,0,0,7298,0,0,0,0,0,0,0,14084,0,0,0,0,7298,0,0,0,3103,0,7298,0,7688,0,0,0,0,0,0,0,0,0,0,0,0,15024,0,0,0,0,0,0,0,15024,0,0,0,0,0,7298,0,0,7430,0,0,15024,99999,0,0,0,0,0,0,0,20051,0,0,0,0,7688,0,0,7298,0,0,0,0,0,15024,0,0,0,0,0,0,0,0,6514,0,0,7298,0,0,0,0,0,15831,0,0,7298,0,0,0,0,5556,5178,0,0,0,7688,0,0,0,0,0,0,0,0,3103,0,0,0,0,0,0,0,0,0,0,7298,0,0,0,0,0,0,0,0,0,7688,0,0,0,0,15024,0,0,0,0,0,13550,0,0,0,0,0,0,0,0,0,5178,0,0,0,0,0,5178,0,0,0,0,0,15024,0,0,0,3103,0,0,0,0,0,0,0,99999,0,0,7298,0,15024,0,99999,0,0,15024,15024,0,0,0,0,0,99999,7688,0,27828,0,0,0,0,0,0,0,15024,7298,0,0,0,0,3103,0,7688,0,0,0,0,0,0,0,0,0,0,0,0,7298,0,0,0,0,15024,0,15024,0,0,0,0,0,0,0,15024,0,0,7298,0,0,7298,0,0,0,7688,0,0,0,0,0,0,0,0,0,0,0,0,7688,4787,0,0,0,0,0,0,4386,0,0,0,0,0,15024,0,0,0,0,7688,0,0,0,0,7688,0,0,0,0,0,0,10605,0,0,0,0,0,15024,0,0,99999,7688,7688,0,3103,0,4687,0,0,0,0,4386,0,0,0,0,0,0,0,0,0,3103,14084,0,0,99999,0,14084,0,0,0,0,0,0,0,0,0,20051,0,0,0,0,14084,0,0,0,0,0,0,0,14344,0,0,0,0,0,99999,0,3103,0,0,7298,0,0,0,0,0,0,5178,0,0,0,27828,0,0,0,0,20051,0,0,5178,0,0,0,0,0,7298,15024,0,0,15024,0,10520,15024,0,0,0,0,0,0,0,7298,0,0,14344,0,7688,0,0,0,0,0,7298,0,0,5178,0,0,14084,0,0,0,0,15024,0,0,0,0,7298,0,0,0,99999,27828,0,0,7688,7298,0,0,0,0,0,10520,7298,0,0,0,0,0,0,0,0,0,0,0,0,0,0,0,0,0,0,0,0,7298,0,0,0,0,10605,14084,0,0,14084,0,0,0,3103,15024,0,0,0,0,0,7688,0,0,0,0,0,0,0,7688,0,0,7688,14084,0,99999,15024,0,0,0,0,0,0,0,15024,0,0,0,0,0,0,0,0,0,13550,0,0,0,7298,0,0,0,0,0,0,0,0,15024,0,0,0,0,0,0,7298,0,3103,0,0,7688,0,0,0,15024,0,0,0,0,15024,0,0,0,0,14344,7688,0,15024,0,7298,0,0,0,99999,3103,0,0,0,14344,0,7298,7298,0,13550,7688,0,0,0,0,0,0,0,0,0,0,0,0,0,0,0,0,0,0,0,0,0,7688,0,0,0,0,0,0,15024,5178,5178,99999,0,0,0,0,7688,7688,0,10520,0,0,0,0,0,0,7688,0,0,0,0,0,0,0,0,15024,0,0,0,15024,0,0,0,0,0,0,0,0,5178,0,0,0,0,0,0,0,0,7298,0,0,0,0,0,0,7688,15831,0,0,0,0,15024,0,0,0,0,15024,0,0,0,0,0,0,0,0,0,0,0,0,0,0,15024,0,0,0,0,0,99999,0,0,0,0,0,0,0,0,0,0,0,0,0,0,0,0,7298,0,15024,0,0,0,0,0,0,0,7688,0,0,0,0,7688,0,0,99999,0,7298,0,14084,0,0,0,0,0,0,15024,0,15024,15024,7688,0,0,0,0,0,0,0,15024,0,0,0,0,0,5178,0,0,0,6418,0,0,0,0,15024,0,14344,0,0,99999,0,0,0,0,0,0,0,0,0,0,0,0,0,0,0,7298,0,0,0,3103,8614,0,0,0,0,5178,0,0,0,0,0,0,7298,0,0,0,99999,3103,0,0,0,0,0,0,0,0,0,0,0,0,0,0,4386,0,0,0,99999,0,0,0,0,0,0,7688,0,0,0,7298,0,0,0,0,10520,0,15024,0,0,0,0,0,0,0,0,0,0,0,0,14084,0,0,0,0,0,0,0,0,0,7688,9386,0,0,15024,0,0,0,0,0,99999,0,0,0,0,7298,0,15024,0,0,0,0,0,0,0,15024,0,0,27828,0,0,0,0,0,0,0,0,0,0,20051,0,0,0,0,6418,0,0,13550,0,0,0,0,0,0,0,0,0,0,0,0,0,0,0,0,0,0,9386,0,0,0,0,0,0,0,0,0,0,0,0,0,0,0,0,99999,0,0,7688,0,3103,0,0,0,0,0,0,0,0,0,0,0,7298,0,0,0,0,0,0,0,0,0,0,13550,0,6097,0,10520,0,0,0,7688,7298,0,0,0,0,0,0,0,0,0,7298,15024,7298,0,7688,0,7688,15024,4386,0,5178,0,0,0,0,0,0,14084,0,0,4787,0,3103,0,0,0,0,0,15024,0,0,0,0,0,0,7430,5178,0,0,0,0,0,0,0,0,0,0,0,0,0,0,0,0,15024,0,7688,0,0,0,0,0,0,0,0,5178,0,0,0,0,0,0,5178,0,0,0,0,0,0,0,0,0,9386,0,15024,0,0,0,0,0,0,15024,0,0,0,0,15024,99999,0,0,0,0,0,7298,0,0,0,0,0,0,0,0,0,8614,0,0,0,0,0,0,0,0,0,0,5178,5178,0,7688,0,0,0,0,15024,0,0,0,0,0,0,0,0,0,0,99999,0,0,0,9386,0,0,11678,0,0,0,0,5178,0,0,0,0,18481,7298,0,0,0,0,0,0,7298,0,99999,0,0,0,0,0,0,99999,0,0,20051,0,0,0,0,0,0,0,0,0,0,0,0,0,0,0,0,0,15024,0,15024,7298,0,0,0,14084,7298,0,0,0,0,0,0,0,4386,0,99999,0,0,0,7688,0,0,27828,0,5178,0,0,0,0,0,0,8614,0,0,0,0,0,0,0,0,8614,0,0,0,0,20051,0,15024,0,15024,0,8614,7298,0,5556,0,0,0,0,0,0,0,0,0,0,0,0,0,0,0,0,3103,0,0,0,99999,0,0,0,0,0,0,0,0,0,0,0,99999,7298,0,0,0,0,0,0,0,14344,0,0,0,0,0,15024,0,0,0,0,4386,0,4386,7688,7298,0,15024,0,20051,0,0,7298,7688,0,0,0,0,0,0,15024,0,0,0,0,0,0,0,0,7688,99999,0,0,0,0,0,0,0,0,10520,0,7298,0,0,0,0,0,0,0,0,99999,10605,0,0,0,4787,0,0,0,0,0,0,4787,0,0,0,0,0,99999,4386,3103,0,0,0,0,0,0,0,0,0,20051,0,0,0,0,0,5178,0,0,7688,20051,0,7298,5178,0,0,0,0,15024,4386,0,0,14344,0,15024,7298,5178,0,0,0,0,99999,0,5178,0,3103,7688,0,0,0,0,15024,15024,7688,0,0,0,0,0,0,0,0,0,0,0,0,0,0,7688,0,0,7688,0,0,5178,0,0,25124,0,0,4787,0,0,0,0,0,99999,0,0,4386,0,0,0,0,7688,0,15024,0,0,0,0,0,0,8614,0,0,0,0,0,0,0,0,5178,0,14084,0,0,13550,0,15024,20051,0,0,0,15024,0,5178,0,0,0,7688,0,0,0,0,0,0,0,0,0,0,0,0,0,99999,99999,15024,0,0,3103,7688,5178,99999,0,10520,0,7688,0,0,0,15024,0,0,0,0,0,0,0,0,0,0,0,0,0,9386,0,14084,0,7688,0,0,0,10605,0,0,15024,4934,7688,0,3103,7298,0,0,0,0,18481,8614,0,0,0,0,15024,0,0,3103,15024,0,0,0,7688,0,0,0,0,0,0,0,99999,7298,0,0,0,0,0,0,7298,0,0,0,0,0,0,0,0,0,0,0,0,0,0,0,0,0,0,0,0,0,7688,13550,13550,0,0,0,0,0,7688,4386,0,7688,0,7298,0,0,0,0,0,0,15024,0,0,0,0,0,0,0,0,0,0,0,7298,0,3103,0,0,0,4787,27828,7688,0,0,0,0,0,0,0,0,7688,0,7688,0,8614,0,0,99999,0,0,0,0,0,0,7688,0,0,0,8614,0,20051,7688,0,0,0,0,0,0,99999,0,0,0,0,7688,7298,0,0,0,27828,0,0,0,0,0,0,0,0,0,0,0,0,5178,0,0,0,0,0,0,99999,0,0,0,0,7688,0,0,0,0,0,0,0,0,0,0,0,0,4787,0,0,7688,14344,0,0,0,14084,0,7298,15024,0,0,0,0,0,0,0,0,0,7688,0,15024,0,0,0,0,0,0,0,0,0,27828,7298,0,3103,0,0,0,0,0,0,0,0,0,99999,0,0,0,7688,4787,0,0,0,0,0,0,4386,0,0,0,0,0,0,0,15024,7298,7430,0,0,0,0,7688,0,0,0,0,0,0,0,15024,0,0,0,0,0,4386,0,0,0,0,0,0,0,0,0,4787,0,0,0,15024,0,0,0,0,0,0,0,0,7298,0,0,0,0,0,0,0,7298,0,0,0,7298,0,0,7688,0,7688,0,5178,0,0,0,0,0,99999,4787,0,0,0,0,0,0,0,0,15024,0,0,15024,0,0,0,27828,0,0,0,10520,0,0,0,10520,0,7688,0,0,0,0,0,15024,10520,0,0,13550,0,0,0,0,4787,0,0,0,0,15024,0,0,0,0,0,15024,0,0,0,0,0,7298,0,0,0,0,0,0,0,15024,0,0,0,0,0,0,0,99999,0,4386,7298,0,0,0,0,4386,0,0,0,0,0,0,0,0,0,0,15024,0,0,0,0,7688,0,0,0,0,0,0,0,0,0,0,0,0,0,0,0,3103,0,0,0,0,0,99999,0,0,0,0,20051,0,0,0,0,0,0,15024,0,0,0,0,7298,0,0,0,0,0,0,0,0,0,0,0,15831,0,15024,0,0,0,0,0,0,0,0,0,0,0,0,0,0,0,0,0,0,0,0,15024,0,0,0,0,0,7688,0,0,0,0,0,15024,0,0,0,0,0,0,0,0,0,0,0,4687,0,7688,15020,0,0,14344,0,27828,0,99999,0,0,0,0,15024,0,0,0,15024,0,0,0,25236,7688,0,0,7688,0,7298,0,0,0,15024,10520,4386,0,3103,0,0,0,0,0,0,0,0,0,0,0,0,7298,0,9386,0,0,0,0,5178,0,0,0,0,0,0,0,0,0,0,0,3103,0,0,0,15024,0,0,0,0,0,0,0,0,0,0,0,0,25236,25236,0,7298,0,7298,0,0,0,0,7298,25124,0,0,7298,0,0,0,0,0,0,0,0,0,0,0,0,0,99999,0,8614,0,0,0,7298,0,0,0,0,0,10520,0,0,3103,5178,0,0,0,0,0,0,0,0,0,7298,0,0,0,0,0,0,0,0,0,0,0,0,0,0,0,0,0,0,0,0,0,0,0,0,0,0,4787,0,0,7298,0,7688,0,0,0,0,99999,0,0,0,0,0,0,0,0,0,0,0,0,99999,0,0,0,0,0,0,7688,0,0,99999,0,0,0,99999,0,3103,0,0,5178,0,0,13550,0,10520,0,0,0,0,0,0,7688,0,0,0,7298,0,0,0,0,7298,0,0,25124,0,0,0,0,0,0,0,0,0,15024,0,0,0,0,0,14084,0,0,7688,0,0,0,0,0,0,0,5178,0,0,5178,0,0,13550,0,7298,0,0,0,0,0,0,0,0,0,7688,0,0,0,0,7298,7688,0,0,7298,15024,0,0,0,15024,0,0,0,0,0,0,15024,0,0,0,0,0,0,0,99999,0,0,0,0,0,0,0,0,0,99999,0,0,0,0,0,0,0,0,0,0,0,0,0,0,0,0,0,0,0,15024,0,0,0,0,0,0,0,0,0,7688,15024,0,0,0,15024,7688,0,0,0,15024,0,0,0,0,7298,0,0,0,0,0,0,0,0,0,0,3103,0,0,0,0,15024,0,99999,0,0,0,0,0,0,0,0,0,0,0,7298,0,0,0,15024,0,15024,0,9562,0,7688,0,0,15024,0,7688,7298,0,0,0,0,0,0,0,0,8614,0,15024,0,0,0,0,15024,0,0,0,0,7688,0,0,15024,9386,20051,0,0,0,0,0,0,0,0,15024,15024,0,0,0,0,0,0,0,0,0,0,15024,0,0,7688,0,0,0,0,0,20051,0,0,99999,0,0,0,0,0,0,0,15024,6418,15024,7688,8614,7298,0,0,0,0,0,0,0,0,0,0,0,0,0,0,0,0,0,0,0,0,0,0,0,0,0,0,0,0,0,0,0,0,15024,15024,0,9386,0,0,0,99999,0,8614,0,0,0,15024,0,0,15024,0,0,13550,0,0,0,0,0,0,0,0,0,0,0,3103,0,7298,0,0,7688,0,0,0,10520,0,0,0,7298,0,0,0,3103,0,0,0,0,0,0,7688,0,0,0,0,7688,7688,0,0,0,0,0,0,0,0,7688,0,0,0,0,0,0,0,0,0,0,7688,0,0,0,0,0,15024,0,0,0,0,3103,0,99999,8614,99999,0,0,27828,0,0,8614,0,15024,0,0,4386,0,0,0,0,0,0,0,0,0,0,99999,0,0,0,15024,0,0,99999,0,0,3103,0,7298,15024,0,0,0,0,15024,0,0,15020,0,0,0,0,15024,15024,0,0,7688,0,0,0,0,0,99999,0,14084,0,15024,7688,15024,15024,9386,0,0,0,0,0,0,0,7298,6418,10605,0,0,99999,0,99999,25236,0,0,7688,0,0,0,0,7688,0,0,8614,0,0,0,0,0,0,0,0,0,0,0,0,14344,0,0,0,0,0,7298,0,0,0,0,0,0,0,0,0,0,0,0,4934,13550,0,0,0,0,5178,0,15024,0,0,0,0,0,0,0,0,5178,0,7688,0,99999,0,10520,15024,15024,0,0,0,0,0,0,0,0,0,0,0,0,0,0,0,0,15024,0,15024,0,7298,0,0,0,0,0,0,15024,0,0,99999,0,0,0,0,0,15024,0,0,0,99999,0,0,0,0,0,0,3103,20051,0,0,0,0,0,0,3103,0,0,0,0,0,0,14344,0,4386,0,0,0,0,0,0,0,99999,0,0,0,0,0,0,0,0,0,0,0,0,0,0,0,7298,6418,0,0,7688,7688,0,0,0,0,99999,0,0,5178,0,0,0,0,0,0,0,0,0,0,5178,0,5178,0,0,0,0,0,7688,0,7298,0,0,3103,0,0,0,0,0,0,0,0,0,0,0,0,20051,0,0,99999,0,0,15024,0,0,7688,7688,0,3103,0,0,5178,15024,15024,8614,15024,0,7298,0,0,0,0,0,0,0,0,0,27828,0,0,0,0,0,0,0,0,0,0,0,15024,7688,0,15024,0,99999,0,0,0,14344,0,0,15024,0,0,0,0,0,0,7298,15024,0,15024,0,0,7688,0,0,15024,0,0,10605,0,0,0,0,0,0,0,0,0,0,0,7688,0,0,4934,0,0,0,0,0,0,0,99999,0,0,0,0,15024,0,0,0,3103,99999,27828,0,0,0,0,0,0,15024,0,0,0,0,5178,15024,7298,0,0,0,0,0,0,0,0,0,0,13550,0,0,0,0,4787,8614,0,0,0,0,0,0,0,15024,15024,0,0,0,0,0,0,0,0,0,7688,7688,0,0,0,7298,99999,0,7298,0,0,15024,0,0,7298,0,0,0,0,0,0,0,0,0,7298,0,0,0,0,15024,0,0,0,0,0,0,3103,0,0,0,0,0,0,0,5178,0,20051,0,0,0,0,0,10520,0,0,0,0,10605,7688,0,5556,0,0,0,0,7688,0,0,0,0,99999,0,0,0,0,0,0,0,0,27828,0,0,0,0,0,0,0,0,0,7688,0,0,0,0,0,0,10520,7298,0,0,0,0,0,0,0,0,0,0,0,0,0,0,0,0,0,7298,0,0,0,0,0,0,0,7298,0,0,0,0,0,0,0,0,15024,0,0,0,0,15024,25236,0,0,0,0,0,3103,0,0,0,0,0,0,0,0,0,15024,99999,0,0,0,0,0,0,7298,0,99999,0,0,0,0,0,0,0,0,0,0,0,0,7298,0,0,13550,0,0,0,0,0,0,0,0,0,0,0,0,0,0,0,15024,0,99999,0,0,5178,0,0,0,0,13550,0,7298,0,0,0,0,0,14084,0,0,0,0,0,0,0,0,0,14344,0,5178,0,0,0,0,0,0,0,0,6514,0,0,0,0,0,0,0,7298,0,99999,0,0,0,0,0,0,15024,0,0,0,15024,0,7688,0,15024,0,7298,0,0,0,0,0,0,20051,0,0,0,0,0,14344,0,0,0,0,0,0,0,0,0,15024,0,7298,0,0,20051,0,0,0,4386,7688,0,0,0,0,0,0,0,0,0,0,0,0,0,0,0,5178,0,0,0,0,0,0,0,0,7298,99999,0,0,0,0,0,0,15024,0,0,0,7298,0,7688,0,0,0,0,0,7298,3103,0,0,0,0,3103,0,3103,7688,0,7688,0,0,3103,7688,5178,7688,99999,7298,8614,0,27828,0,0,0,0,7298,7298,0,0,5178,0,0,0,0,0,0,0,0,0,0,99999,14084,0,0,0,0,0,0,0,0,7688,99999,0,7298,0,0,0,0,0,15024,0,0,0,0,0,0,5178,0,0,0,0,27828,0,0,0,0,5178,0,5178,0,15024,7688,0,0,0,0,0,0,0,0,0,0,0,0,0,0,0,7688,5178,0,0,99999,0,0,99999,0,0,0,0,8614,27828,14084,0,0,0,0,15024,0,0,0,15024,0,0,0,0,14344,0,3103,0,0,0,0,0,0,15024,0,0,0,0,0,0,0,0,0,0,0,0,0,15024,0,0,0,27828,0,0,0,0,7298,0,0,0,0,0,0,7688,0,15024,0,0,0,0,7298,15024,0,0,0,0,4787,0,5178,0,4386,0,0,0,0,0,0,0,0,0,8614,99999,0,0,7298,7298,0,0,0,0,0,0,0,15024,0,0,0,0,0,0,0,0,0,0,0,7298,0,0,7896,0,0,0,0,13550,25236,0,0,0,0,15024,0,0,0,0,0,99999,0,0,0,0,0,0,8614,0,0,0,5178,0,7688,99999,0,0,0,15024,0,7688,99999,0,0,0,0,0,0,0,99999,0,0,15024,0,0,0,0,0,0,99999,0,0,0,0,0,0,0,0,0,0,0,15024,0,0,0,9386,0,4386,0,7298,0,14344,5178,0,0,0,15024,0,0,0,0,0,0,0,0,0,0,0,0,0,0,0,0,0,0,0,0,0,0,0,0,7688,0,15024,0,7298,0,3103,0,0,15024,7298,0,0,0,0,0,7688,0,0,0,0,0,0,0,0,0,0,0,0,0,0,0,0,7688,0,0,0,0,7688,0,13550,15024,0,0,0,0,0,0,0,0,3103,0,0,0,0,0,14084,0,0,0,7688,0,0,0,0,7298,0,15024,0,0,0,0,0,15024,0,0,3103,0,15024,0,0,0,0,0,8614,0,0,0,0,0,15024,15024,0,0,0,0,0,0,0,0,0,0,0,0,8614,0,0,0,15024,0,0,0,0,0,0,0,20051,0,0,0,0,0,0,0,0,0,0,0,3103,0,5178,0,0,7298,0,0,0,0,0,0,0,7688,0,0,0,0,0,7688,0,0,0,0,0,0,7688,0,0,15024,0,0,0,0,0,0,0,0,7298,7298,0,0,7688,7688,0,0,0,7688,0,7298,0,0,0,0,0,20051,4787,0,0,15024,0,0,0,13550,0,0,4787,9386,0,7688,0,0,0,15024,0,0,0,0,0,8614,0,0,10520,7688,0,15024,0,0,0,0,0,0,0,0,3103,0,0,0,0,0,0,0,0,0,7298,0,0,10520,0,0,0,0,7688,27828,7298,0,0,0,0,0,0,0,0,0,15024,0,7298,0,0,0,99999,7688,7298,0,0,0,0,0,5178,15024,27828,0,0,0,15024,0,0,0,0,0,0,0,0,3103,14084,0,0,7688,20051,7298,0,0,0,0,0,7688,15024,0,7688,0,0,0,0,0,0,0,8614,99999,0,0,6418,0,0,0,0,7298,0,0,0,0,0,0,0,15024,0,0,0,0,0,27828,0,0,0,0,0,0,15024,0,0,0,0,0,0,0,0,0,5178,0,0,7688,0,4386,0,0,15024,0,0,0,7688,0,0,5178,15024,0,0,0,0,0,8614,0,14084,7688,0,0,0,0,0,0,0,0,0,0,15024,7298,7688,10520,0,0,0,0,0,0,0,0,0,0,7298,0,4787,0,7298,0,0,14084,0,0,99999,0,7688,0,10520,0,7688,0,0,5178,0,0,0,0,0,0,0,0,0,0,7298,0,0,0,0,0,0,0,0,9386,0,0,0,0,0,0,0,0,0,0,0,0,0,10520,0,0,15024,7688,0,0,5178,0,0,0,0,0,0,0,0,10520,99999,0,7298,0,0,0,0,5178,0,0,0,0,0,0,0,0,0,0,0,0,0,0,0,0,0,0,0,7688,5556,4386,0,7298,0,0,0,4934,15024,0,0,7688,0,15024,0,0,0,0,0,0,0,0,0,7688,0,0,7688,0,15024,0,0,0,0,0,0,0,0,0,0,20051,0,0,0,0,0,0,27828,0,0,15024,0,4386,0,0,0,0,0,0,0,0,0,0,0,0,0,0,8614,0,99999,0,0,0,0,0,0,0,0,4386,0,15024,9386,3103,0,0,0,0,0,0,0,0,15024,0,0,0,0,0,0,0,0,0,0,0,0,0,0,0,0,0,0,0,0,0,0,0,0,0,0,0,0,0,15024,5178,10520,0,99999,0,0,0,0,0,0,7688,0,7298,0,0,0,0,0,0,0,0,0,5178,0,0,0,0,0,0,15024,0,0,14344,0,7688,0,0,0,4386,0,0,0,0,15024,4687,0,0,0,0,7298,7298,0,0,0,0,0,4787,7298,0,0,7688,0,0,0,0,0,0,0,0,0,0,0,0,0,15024,0,7688,5178,6418,0,0,0,0,7688,0,0,0,0,0,0,0,0,7688,3103,9386,0,7298,0,0,0,3103,0,7298,0,0,0,7298,0,0,0,0,10520,0,7688,0,0,4386,0,0,0,0,0,10520,0,0,0,0,0,7298,0,0,0,7688,0,0,0,0,7298,0,0,0,0,0,0,0,0,0,0,7688,0,0,0,0,0,7688,0,0,4386,0,0,0,0,7298,0,3103,0,0,0,0,7688,0,0,0,3103,0,0,0,0,15024,15024,0,0,0,0,0,0,0,0,0,0,0,0,8614,0,0,0,0,7688,0,15024,0,5178,0,0,15024,0,0,99999,0,0,0,7688,0,0,7430,0,15024,0,0,0,0,0,0,0,0,0,0,0,0,0,0,0,0,0,0,0,14344,0,99999,7688,0,0,15024,0,0,0,0,0,0,0,7688,0,0,0,8614,0,0,0,0,0,0,7298,0,0,0,0,0,0,99999,0,7298,0,0,0,0,0,0,13550,0,0,0,0,0,0,0,15024,7298,0,10520,0,5178,0,0,0,0,20051,0,15024,0,0,0,0,7688,0,0,0,99999,0,0,0,7688,0,0,0,0,0,0,0,0,0,0,0,0,0,0,0,0,0,3103,0,0,0,0,15831,0,0,15024,27828,0,0,0,0,0,7298,0,0,0,0,0,0,0,0,0,0,0,0,0,0,0,7298,0,15024,0,0,0,0,0,0,99999,0,0,0,0,0,15020,0,0,0,0,15024]}],\"hovertemplate\":\"income=\\u003e50K\\u003cbr\\u003e%{xaxis.title.text}=%{x}\\u003cbr\\u003e%{yaxis.title.text}=%{y}\\u003cextra\\u003e\\u003c\\u002fextra\\u003e\",\"legendgroup\":\"\\u003e50K\",\"marker\":{\"color\":\"#EF553B\",\"symbol\":\"circle\"},\"name\":\"\\u003e50K\",\"showlegend\":true,\"type\":\"splom\"}],                        {\"template\":{\"data\":{\"histogram2dcontour\":[{\"type\":\"histogram2dcontour\",\"colorbar\":{\"outlinewidth\":0,\"ticks\":\"\"},\"colorscale\":[[0.0,\"#0d0887\"],[0.1111111111111111,\"#46039f\"],[0.2222222222222222,\"#7201a8\"],[0.3333333333333333,\"#9c179e\"],[0.4444444444444444,\"#bd3786\"],[0.5555555555555556,\"#d8576b\"],[0.6666666666666666,\"#ed7953\"],[0.7777777777777778,\"#fb9f3a\"],[0.8888888888888888,\"#fdca26\"],[1.0,\"#f0f921\"]]}],\"choropleth\":[{\"type\":\"choropleth\",\"colorbar\":{\"outlinewidth\":0,\"ticks\":\"\"}}],\"histogram2d\":[{\"type\":\"histogram2d\",\"colorbar\":{\"outlinewidth\":0,\"ticks\":\"\"},\"colorscale\":[[0.0,\"#0d0887\"],[0.1111111111111111,\"#46039f\"],[0.2222222222222222,\"#7201a8\"],[0.3333333333333333,\"#9c179e\"],[0.4444444444444444,\"#bd3786\"],[0.5555555555555556,\"#d8576b\"],[0.6666666666666666,\"#ed7953\"],[0.7777777777777778,\"#fb9f3a\"],[0.8888888888888888,\"#fdca26\"],[1.0,\"#f0f921\"]]}],\"heatmap\":[{\"type\":\"heatmap\",\"colorbar\":{\"outlinewidth\":0,\"ticks\":\"\"},\"colorscale\":[[0.0,\"#0d0887\"],[0.1111111111111111,\"#46039f\"],[0.2222222222222222,\"#7201a8\"],[0.3333333333333333,\"#9c179e\"],[0.4444444444444444,\"#bd3786\"],[0.5555555555555556,\"#d8576b\"],[0.6666666666666666,\"#ed7953\"],[0.7777777777777778,\"#fb9f3a\"],[0.8888888888888888,\"#fdca26\"],[1.0,\"#f0f921\"]]}],\"heatmapgl\":[{\"type\":\"heatmapgl\",\"colorbar\":{\"outlinewidth\":0,\"ticks\":\"\"},\"colorscale\":[[0.0,\"#0d0887\"],[0.1111111111111111,\"#46039f\"],[0.2222222222222222,\"#7201a8\"],[0.3333333333333333,\"#9c179e\"],[0.4444444444444444,\"#bd3786\"],[0.5555555555555556,\"#d8576b\"],[0.6666666666666666,\"#ed7953\"],[0.7777777777777778,\"#fb9f3a\"],[0.8888888888888888,\"#fdca26\"],[1.0,\"#f0f921\"]]}],\"contourcarpet\":[{\"type\":\"contourcarpet\",\"colorbar\":{\"outlinewidth\":0,\"ticks\":\"\"}}],\"contour\":[{\"type\":\"contour\",\"colorbar\":{\"outlinewidth\":0,\"ticks\":\"\"},\"colorscale\":[[0.0,\"#0d0887\"],[0.1111111111111111,\"#46039f\"],[0.2222222222222222,\"#7201a8\"],[0.3333333333333333,\"#9c179e\"],[0.4444444444444444,\"#bd3786\"],[0.5555555555555556,\"#d8576b\"],[0.6666666666666666,\"#ed7953\"],[0.7777777777777778,\"#fb9f3a\"],[0.8888888888888888,\"#fdca26\"],[1.0,\"#f0f921\"]]}],\"surface\":[{\"type\":\"surface\",\"colorbar\":{\"outlinewidth\":0,\"ticks\":\"\"},\"colorscale\":[[0.0,\"#0d0887\"],[0.1111111111111111,\"#46039f\"],[0.2222222222222222,\"#7201a8\"],[0.3333333333333333,\"#9c179e\"],[0.4444444444444444,\"#bd3786\"],[0.5555555555555556,\"#d8576b\"],[0.6666666666666666,\"#ed7953\"],[0.7777777777777778,\"#fb9f3a\"],[0.8888888888888888,\"#fdca26\"],[1.0,\"#f0f921\"]]}],\"mesh3d\":[{\"type\":\"mesh3d\",\"colorbar\":{\"outlinewidth\":0,\"ticks\":\"\"}}],\"scatter\":[{\"fillpattern\":{\"fillmode\":\"overlay\",\"size\":10,\"solidity\":0.2},\"type\":\"scatter\"}],\"parcoords\":[{\"type\":\"parcoords\",\"line\":{\"colorbar\":{\"outlinewidth\":0,\"ticks\":\"\"}}}],\"scatterpolargl\":[{\"type\":\"scatterpolargl\",\"marker\":{\"colorbar\":{\"outlinewidth\":0,\"ticks\":\"\"}}}],\"bar\":[{\"error_x\":{\"color\":\"#2a3f5f\"},\"error_y\":{\"color\":\"#2a3f5f\"},\"marker\":{\"line\":{\"color\":\"#E5ECF6\",\"width\":0.5},\"pattern\":{\"fillmode\":\"overlay\",\"size\":10,\"solidity\":0.2}},\"type\":\"bar\"}],\"scattergeo\":[{\"type\":\"scattergeo\",\"marker\":{\"colorbar\":{\"outlinewidth\":0,\"ticks\":\"\"}}}],\"scatterpolar\":[{\"type\":\"scatterpolar\",\"marker\":{\"colorbar\":{\"outlinewidth\":0,\"ticks\":\"\"}}}],\"histogram\":[{\"marker\":{\"pattern\":{\"fillmode\":\"overlay\",\"size\":10,\"solidity\":0.2}},\"type\":\"histogram\"}],\"scattergl\":[{\"type\":\"scattergl\",\"marker\":{\"colorbar\":{\"outlinewidth\":0,\"ticks\":\"\"}}}],\"scatter3d\":[{\"type\":\"scatter3d\",\"line\":{\"colorbar\":{\"outlinewidth\":0,\"ticks\":\"\"}},\"marker\":{\"colorbar\":{\"outlinewidth\":0,\"ticks\":\"\"}}}],\"scattermapbox\":[{\"type\":\"scattermapbox\",\"marker\":{\"colorbar\":{\"outlinewidth\":0,\"ticks\":\"\"}}}],\"scatterternary\":[{\"type\":\"scatterternary\",\"marker\":{\"colorbar\":{\"outlinewidth\":0,\"ticks\":\"\"}}}],\"scattercarpet\":[{\"type\":\"scattercarpet\",\"marker\":{\"colorbar\":{\"outlinewidth\":0,\"ticks\":\"\"}}}],\"carpet\":[{\"aaxis\":{\"endlinecolor\":\"#2a3f5f\",\"gridcolor\":\"white\",\"linecolor\":\"white\",\"minorgridcolor\":\"white\",\"startlinecolor\":\"#2a3f5f\"},\"baxis\":{\"endlinecolor\":\"#2a3f5f\",\"gridcolor\":\"white\",\"linecolor\":\"white\",\"minorgridcolor\":\"white\",\"startlinecolor\":\"#2a3f5f\"},\"type\":\"carpet\"}],\"table\":[{\"cells\":{\"fill\":{\"color\":\"#EBF0F8\"},\"line\":{\"color\":\"white\"}},\"header\":{\"fill\":{\"color\":\"#C8D4E3\"},\"line\":{\"color\":\"white\"}},\"type\":\"table\"}],\"barpolar\":[{\"marker\":{\"line\":{\"color\":\"#E5ECF6\",\"width\":0.5},\"pattern\":{\"fillmode\":\"overlay\",\"size\":10,\"solidity\":0.2}},\"type\":\"barpolar\"}],\"pie\":[{\"automargin\":true,\"type\":\"pie\"}]},\"layout\":{\"autotypenumbers\":\"strict\",\"colorway\":[\"#636efa\",\"#EF553B\",\"#00cc96\",\"#ab63fa\",\"#FFA15A\",\"#19d3f3\",\"#FF6692\",\"#B6E880\",\"#FF97FF\",\"#FECB52\"],\"font\":{\"color\":\"#2a3f5f\"},\"hovermode\":\"closest\",\"hoverlabel\":{\"align\":\"left\"},\"paper_bgcolor\":\"white\",\"plot_bgcolor\":\"#E5ECF6\",\"polar\":{\"bgcolor\":\"#E5ECF6\",\"angularaxis\":{\"gridcolor\":\"white\",\"linecolor\":\"white\",\"ticks\":\"\"},\"radialaxis\":{\"gridcolor\":\"white\",\"linecolor\":\"white\",\"ticks\":\"\"}},\"ternary\":{\"bgcolor\":\"#E5ECF6\",\"aaxis\":{\"gridcolor\":\"white\",\"linecolor\":\"white\",\"ticks\":\"\"},\"baxis\":{\"gridcolor\":\"white\",\"linecolor\":\"white\",\"ticks\":\"\"},\"caxis\":{\"gridcolor\":\"white\",\"linecolor\":\"white\",\"ticks\":\"\"}},\"coloraxis\":{\"colorbar\":{\"outlinewidth\":0,\"ticks\":\"\"}},\"colorscale\":{\"sequential\":[[0.0,\"#0d0887\"],[0.1111111111111111,\"#46039f\"],[0.2222222222222222,\"#7201a8\"],[0.3333333333333333,\"#9c179e\"],[0.4444444444444444,\"#bd3786\"],[0.5555555555555556,\"#d8576b\"],[0.6666666666666666,\"#ed7953\"],[0.7777777777777778,\"#fb9f3a\"],[0.8888888888888888,\"#fdca26\"],[1.0,\"#f0f921\"]],\"sequentialminus\":[[0.0,\"#0d0887\"],[0.1111111111111111,\"#46039f\"],[0.2222222222222222,\"#7201a8\"],[0.3333333333333333,\"#9c179e\"],[0.4444444444444444,\"#bd3786\"],[0.5555555555555556,\"#d8576b\"],[0.6666666666666666,\"#ed7953\"],[0.7777777777777778,\"#fb9f3a\"],[0.8888888888888888,\"#fdca26\"],[1.0,\"#f0f921\"]],\"diverging\":[[0,\"#8e0152\"],[0.1,\"#c51b7d\"],[0.2,\"#de77ae\"],[0.3,\"#f1b6da\"],[0.4,\"#fde0ef\"],[0.5,\"#f7f7f7\"],[0.6,\"#e6f5d0\"],[0.7,\"#b8e186\"],[0.8,\"#7fbc41\"],[0.9,\"#4d9221\"],[1,\"#276419\"]]},\"xaxis\":{\"gridcolor\":\"white\",\"linecolor\":\"white\",\"ticks\":\"\",\"title\":{\"standoff\":15},\"zerolinecolor\":\"white\",\"automargin\":true,\"zerolinewidth\":2},\"yaxis\":{\"gridcolor\":\"white\",\"linecolor\":\"white\",\"ticks\":\"\",\"title\":{\"standoff\":15},\"zerolinecolor\":\"white\",\"automargin\":true,\"zerolinewidth\":2},\"scene\":{\"xaxis\":{\"backgroundcolor\":\"#E5ECF6\",\"gridcolor\":\"white\",\"linecolor\":\"white\",\"showbackground\":true,\"ticks\":\"\",\"zerolinecolor\":\"white\",\"gridwidth\":2},\"yaxis\":{\"backgroundcolor\":\"#E5ECF6\",\"gridcolor\":\"white\",\"linecolor\":\"white\",\"showbackground\":true,\"ticks\":\"\",\"zerolinecolor\":\"white\",\"gridwidth\":2},\"zaxis\":{\"backgroundcolor\":\"#E5ECF6\",\"gridcolor\":\"white\",\"linecolor\":\"white\",\"showbackground\":true,\"ticks\":\"\",\"zerolinecolor\":\"white\",\"gridwidth\":2}},\"shapedefaults\":{\"line\":{\"color\":\"#2a3f5f\"}},\"annotationdefaults\":{\"arrowcolor\":\"#2a3f5f\",\"arrowhead\":0,\"arrowwidth\":1},\"geo\":{\"bgcolor\":\"white\",\"landcolor\":\"#E5ECF6\",\"subunitcolor\":\"white\",\"showland\":true,\"showlakes\":true,\"lakecolor\":\"white\"},\"title\":{\"x\":0.05},\"mapbox\":{\"style\":\"light\"}}},\"legend\":{\"title\":{\"text\":\"income\"},\"tracegroupgap\":0},\"margin\":{\"t\":60},\"dragmode\":\"select\"},                        {\"responsive\": true}                    ).then(function(){\n",
              "                            \n",
              "var gd = document.getElementById('3c34a15f-3aaa-4b36-a789-e59bba443250');\n",
              "var x = new MutationObserver(function (mutations, observer) {{\n",
              "        var display = window.getComputedStyle(gd).display;\n",
              "        if (!display || display === 'none') {{\n",
              "            console.log([gd, 'removed!']);\n",
              "            Plotly.purge(gd);\n",
              "            observer.disconnect();\n",
              "        }}\n",
              "}});\n",
              "\n",
              "// Listen for the removal of the full notebook cells\n",
              "var notebookContainer = gd.closest('#notebook-container');\n",
              "if (notebookContainer) {{\n",
              "    x.observe(notebookContainer, {childList: true});\n",
              "}}\n",
              "\n",
              "// Listen for the clearing of the current output cell\n",
              "var outputEl = gd.closest('.output');\n",
              "if (outputEl) {{\n",
              "    x.observe(outputEl, {childList: true});\n",
              "}}\n",
              "\n",
              "                        })                };                            </script>        </div>\n",
              "</body>\n",
              "</html>"
            ]
          },
          "metadata": {}
        }
      ],
      "source": [
        "import plotly.express as px\n",
        "\n",
        "grafico = px.scatter_matrix(census_data, dimensions=['capital-loss', 'age', 'capital-gain'], color='income')\n",
        "grafico.show()"
      ]
    },
    {
      "cell_type": "markdown",
      "metadata": {
        "id": "hFtuckX5eFnM"
      },
      "source": [
        "# **Pré-processamento dos dados**"
      ]
    },
    {
      "cell_type": "markdown",
      "metadata": {
        "id": "6zI8p07AuO56"
      },
      "source": [
        "**Tratando os valores NaN antes de utilizar o método Label Encoder:**"
      ]
    },
    {
      "cell_type": "code",
      "execution_count": 15,
      "metadata": {
        "id": "mdal4RsouW95"
      },
      "outputs": [],
      "source": [
        "modas_workclass = census_data['workclass'].mode()\n",
        "census_data['workclass'].fillna(modas_workclass[0], inplace=True)\n",
        "\n",
        "modas_occupation = census_data['occupation'].mode()\n",
        "census_data['occupation'].fillna(modas_occupation[0], inplace=True)\n",
        "\n",
        "modas_country = census_data['native-country'].mode()\n",
        "census_data['native-country'].fillna(modas_country[0], inplace=True)"
      ]
    },
    {
      "cell_type": "code",
      "execution_count": 16,
      "metadata": {
        "colab": {
          "base_uri": "https://localhost:8080/",
          "height": 1000
        },
        "id": "u8ipuspl6ZyJ",
        "outputId": "aa349e8a-f75b-4d7b-8a4c-0f61a9f8a5f8"
      },
      "outputs": [
        {
          "output_type": "execute_result",
          "data": {
            "text/plain": [
              "    age         workclass  fnlwgt     education  education-num  \\\n",
              "0    39         State-gov   77516     Bachelors             13   \n",
              "1    50  Self-emp-not-inc   83311     Bachelors             13   \n",
              "2    38           Private  215646       HS-grad              9   \n",
              "3    53           Private  234721          11th              7   \n",
              "4    28           Private  338409     Bachelors             13   \n",
              "5    37           Private  284582       Masters             14   \n",
              "6    49           Private  160187           9th              5   \n",
              "7    52  Self-emp-not-inc  209642       HS-grad              9   \n",
              "8    31           Private   45781       Masters             14   \n",
              "9    42           Private  159449     Bachelors             13   \n",
              "10   37           Private  280464  Some-college             10   \n",
              "11   30         State-gov  141297     Bachelors             13   \n",
              "12   23           Private  122272     Bachelors             13   \n",
              "13   32           Private  205019    Assoc-acdm             12   \n",
              "14   40           Private  121772     Assoc-voc             11   \n",
              "15   34           Private  245487       7th-8th              4   \n",
              "16   25  Self-emp-not-inc  176756       HS-grad              9   \n",
              "17   32           Private  186824       HS-grad              9   \n",
              "18   38           Private   28887          11th              7   \n",
              "19   43  Self-emp-not-inc  292175       Masters             14   \n",
              "20   40           Private  193524     Doctorate             16   \n",
              "21   54           Private  302146       HS-grad              9   \n",
              "22   35       Federal-gov   76845           9th              5   \n",
              "23   43           Private  117037          11th              7   \n",
              "24   59           Private  109015       HS-grad              9   \n",
              "25   56         Local-gov  216851     Bachelors             13   \n",
              "26   19           Private  168294       HS-grad              9   \n",
              "27   54           Private  180211  Some-college             10   \n",
              "28   39           Private  367260       HS-grad              9   \n",
              "29   49           Private  193366       HS-grad              9   \n",
              "30   23         Local-gov  190709    Assoc-acdm             12   \n",
              "31   20           Private  266015  Some-college             10   \n",
              "32   45           Private  386940     Bachelors             13   \n",
              "33   30       Federal-gov   59951  Some-college             10   \n",
              "34   22         State-gov  311512  Some-college             10   \n",
              "35   48           Private  242406          11th              7   \n",
              "36   21           Private  197200  Some-college             10   \n",
              "37   19           Private  544091       HS-grad              9   \n",
              "38   31           Private   84154  Some-college             10   \n",
              "39   48  Self-emp-not-inc  265477    Assoc-acdm             12   \n",
              "\n",
              "           marital-status         occupation   relationship  \\\n",
              "0           Never-married       Adm-clerical  Not-in-family   \n",
              "1      Married-civ-spouse    Exec-managerial        Husband   \n",
              "2                Divorced  Handlers-cleaners  Not-in-family   \n",
              "3      Married-civ-spouse  Handlers-cleaners        Husband   \n",
              "4      Married-civ-spouse     Prof-specialty           Wife   \n",
              "5      Married-civ-spouse    Exec-managerial           Wife   \n",
              "6   Married-spouse-absent      Other-service  Not-in-family   \n",
              "7      Married-civ-spouse    Exec-managerial        Husband   \n",
              "8           Never-married     Prof-specialty  Not-in-family   \n",
              "9      Married-civ-spouse    Exec-managerial        Husband   \n",
              "10     Married-civ-spouse    Exec-managerial        Husband   \n",
              "11     Married-civ-spouse     Prof-specialty        Husband   \n",
              "12          Never-married       Adm-clerical      Own-child   \n",
              "13          Never-married              Sales  Not-in-family   \n",
              "14     Married-civ-spouse       Craft-repair        Husband   \n",
              "15     Married-civ-spouse   Transport-moving        Husband   \n",
              "16          Never-married    Farming-fishing      Own-child   \n",
              "17          Never-married  Machine-op-inspct      Unmarried   \n",
              "18     Married-civ-spouse              Sales        Husband   \n",
              "19               Divorced    Exec-managerial      Unmarried   \n",
              "20     Married-civ-spouse     Prof-specialty        Husband   \n",
              "21              Separated      Other-service      Unmarried   \n",
              "22     Married-civ-spouse    Farming-fishing        Husband   \n",
              "23     Married-civ-spouse   Transport-moving        Husband   \n",
              "24               Divorced       Tech-support      Unmarried   \n",
              "25     Married-civ-spouse       Tech-support        Husband   \n",
              "26          Never-married       Craft-repair      Own-child   \n",
              "27     Married-civ-spouse     Prof-specialty        Husband   \n",
              "28               Divorced    Exec-managerial  Not-in-family   \n",
              "29     Married-civ-spouse       Craft-repair        Husband   \n",
              "30          Never-married    Protective-serv  Not-in-family   \n",
              "31          Never-married              Sales      Own-child   \n",
              "32               Divorced    Exec-managerial      Own-child   \n",
              "33     Married-civ-spouse       Adm-clerical      Own-child   \n",
              "34     Married-civ-spouse      Other-service        Husband   \n",
              "35          Never-married  Machine-op-inspct      Unmarried   \n",
              "36          Never-married  Machine-op-inspct      Own-child   \n",
              "37      Married-AF-spouse       Adm-clerical           Wife   \n",
              "38     Married-civ-spouse              Sales        Husband   \n",
              "39     Married-civ-spouse     Prof-specialty        Husband   \n",
              "\n",
              "                  race     sex  capital-gain  capital-loss  hours-per-week  \\\n",
              "0                White    Male          2174             0              40   \n",
              "1                White    Male             0             0              13   \n",
              "2                White    Male             0             0              40   \n",
              "3                Black    Male             0             0              40   \n",
              "4                Black  Female             0             0              40   \n",
              "5                White  Female             0             0              40   \n",
              "6                Black  Female             0             0              16   \n",
              "7                White    Male             0             0              45   \n",
              "8                White  Female         14084             0              50   \n",
              "9                White    Male          5178             0              40   \n",
              "10               Black    Male             0             0              80   \n",
              "11  Asian-Pac-Islander    Male             0             0              40   \n",
              "12               White  Female             0             0              30   \n",
              "13               Black    Male             0             0              50   \n",
              "14  Asian-Pac-Islander    Male             0             0              40   \n",
              "15  Amer-Indian-Eskimo    Male             0             0              45   \n",
              "16               White    Male             0             0              35   \n",
              "17               White    Male             0             0              40   \n",
              "18               White    Male             0             0              50   \n",
              "19               White  Female             0             0              45   \n",
              "20               White    Male             0             0              60   \n",
              "21               Black  Female             0             0              20   \n",
              "22               Black    Male             0             0              40   \n",
              "23               White    Male             0          2042              40   \n",
              "24               White  Female             0             0              40   \n",
              "25               White    Male             0             0              40   \n",
              "26               White    Male             0             0              40   \n",
              "27  Asian-Pac-Islander    Male             0             0              60   \n",
              "28               White    Male             0             0              80   \n",
              "29               White    Male             0             0              40   \n",
              "30               White    Male             0             0              52   \n",
              "31               Black    Male             0             0              44   \n",
              "32               White    Male             0          1408              40   \n",
              "33               White    Male             0             0              40   \n",
              "34               Black    Male             0             0              15   \n",
              "35               White    Male             0             0              40   \n",
              "36               White    Male             0             0              40   \n",
              "37               White  Female             0             0              25   \n",
              "38               White    Male             0             0              38   \n",
              "39               White    Male             0             0              40   \n",
              "\n",
              "   native-country income  \n",
              "0   United-States  <=50K  \n",
              "1   United-States  <=50K  \n",
              "2   United-States  <=50K  \n",
              "3   United-States  <=50K  \n",
              "4            Cuba  <=50K  \n",
              "5   United-States  <=50K  \n",
              "6         Jamaica  <=50K  \n",
              "7   United-States   >50K  \n",
              "8   United-States   >50K  \n",
              "9   United-States   >50K  \n",
              "10  United-States   >50K  \n",
              "11          India   >50K  \n",
              "12  United-States  <=50K  \n",
              "13  United-States  <=50K  \n",
              "14  United-States   >50K  \n",
              "15         Mexico  <=50K  \n",
              "16  United-States  <=50K  \n",
              "17  United-States  <=50K  \n",
              "18  United-States  <=50K  \n",
              "19  United-States   >50K  \n",
              "20  United-States   >50K  \n",
              "21  United-States  <=50K  \n",
              "22  United-States  <=50K  \n",
              "23  United-States  <=50K  \n",
              "24  United-States  <=50K  \n",
              "25  United-States   >50K  \n",
              "26  United-States  <=50K  \n",
              "27          South   >50K  \n",
              "28  United-States  <=50K  \n",
              "29  United-States  <=50K  \n",
              "30  United-States  <=50K  \n",
              "31  United-States  <=50K  \n",
              "32  United-States  <=50K  \n",
              "33  United-States  <=50K  \n",
              "34  United-States  <=50K  \n",
              "35    Puerto-Rico  <=50K  \n",
              "36  United-States  <=50K  \n",
              "37  United-States  <=50K  \n",
              "38  United-States   >50K  \n",
              "39  United-States  <=50K  "
            ],
            "text/html": [
              "\n",
              "  <div id=\"df-ac321bd5-f7d6-4ee3-ab69-72706caf9c47\" class=\"colab-df-container\">\n",
              "    <div>\n",
              "<style scoped>\n",
              "    .dataframe tbody tr th:only-of-type {\n",
              "        vertical-align: middle;\n",
              "    }\n",
              "\n",
              "    .dataframe tbody tr th {\n",
              "        vertical-align: top;\n",
              "    }\n",
              "\n",
              "    .dataframe thead th {\n",
              "        text-align: right;\n",
              "    }\n",
              "</style>\n",
              "<table border=\"1\" class=\"dataframe\">\n",
              "  <thead>\n",
              "    <tr style=\"text-align: right;\">\n",
              "      <th></th>\n",
              "      <th>age</th>\n",
              "      <th>workclass</th>\n",
              "      <th>fnlwgt</th>\n",
              "      <th>education</th>\n",
              "      <th>education-num</th>\n",
              "      <th>marital-status</th>\n",
              "      <th>occupation</th>\n",
              "      <th>relationship</th>\n",
              "      <th>race</th>\n",
              "      <th>sex</th>\n",
              "      <th>capital-gain</th>\n",
              "      <th>capital-loss</th>\n",
              "      <th>hours-per-week</th>\n",
              "      <th>native-country</th>\n",
              "      <th>income</th>\n",
              "    </tr>\n",
              "  </thead>\n",
              "  <tbody>\n",
              "    <tr>\n",
              "      <th>0</th>\n",
              "      <td>39</td>\n",
              "      <td>State-gov</td>\n",
              "      <td>77516</td>\n",
              "      <td>Bachelors</td>\n",
              "      <td>13</td>\n",
              "      <td>Never-married</td>\n",
              "      <td>Adm-clerical</td>\n",
              "      <td>Not-in-family</td>\n",
              "      <td>White</td>\n",
              "      <td>Male</td>\n",
              "      <td>2174</td>\n",
              "      <td>0</td>\n",
              "      <td>40</td>\n",
              "      <td>United-States</td>\n",
              "      <td>&lt;=50K</td>\n",
              "    </tr>\n",
              "    <tr>\n",
              "      <th>1</th>\n",
              "      <td>50</td>\n",
              "      <td>Self-emp-not-inc</td>\n",
              "      <td>83311</td>\n",
              "      <td>Bachelors</td>\n",
              "      <td>13</td>\n",
              "      <td>Married-civ-spouse</td>\n",
              "      <td>Exec-managerial</td>\n",
              "      <td>Husband</td>\n",
              "      <td>White</td>\n",
              "      <td>Male</td>\n",
              "      <td>0</td>\n",
              "      <td>0</td>\n",
              "      <td>13</td>\n",
              "      <td>United-States</td>\n",
              "      <td>&lt;=50K</td>\n",
              "    </tr>\n",
              "    <tr>\n",
              "      <th>2</th>\n",
              "      <td>38</td>\n",
              "      <td>Private</td>\n",
              "      <td>215646</td>\n",
              "      <td>HS-grad</td>\n",
              "      <td>9</td>\n",
              "      <td>Divorced</td>\n",
              "      <td>Handlers-cleaners</td>\n",
              "      <td>Not-in-family</td>\n",
              "      <td>White</td>\n",
              "      <td>Male</td>\n",
              "      <td>0</td>\n",
              "      <td>0</td>\n",
              "      <td>40</td>\n",
              "      <td>United-States</td>\n",
              "      <td>&lt;=50K</td>\n",
              "    </tr>\n",
              "    <tr>\n",
              "      <th>3</th>\n",
              "      <td>53</td>\n",
              "      <td>Private</td>\n",
              "      <td>234721</td>\n",
              "      <td>11th</td>\n",
              "      <td>7</td>\n",
              "      <td>Married-civ-spouse</td>\n",
              "      <td>Handlers-cleaners</td>\n",
              "      <td>Husband</td>\n",
              "      <td>Black</td>\n",
              "      <td>Male</td>\n",
              "      <td>0</td>\n",
              "      <td>0</td>\n",
              "      <td>40</td>\n",
              "      <td>United-States</td>\n",
              "      <td>&lt;=50K</td>\n",
              "    </tr>\n",
              "    <tr>\n",
              "      <th>4</th>\n",
              "      <td>28</td>\n",
              "      <td>Private</td>\n",
              "      <td>338409</td>\n",
              "      <td>Bachelors</td>\n",
              "      <td>13</td>\n",
              "      <td>Married-civ-spouse</td>\n",
              "      <td>Prof-specialty</td>\n",
              "      <td>Wife</td>\n",
              "      <td>Black</td>\n",
              "      <td>Female</td>\n",
              "      <td>0</td>\n",
              "      <td>0</td>\n",
              "      <td>40</td>\n",
              "      <td>Cuba</td>\n",
              "      <td>&lt;=50K</td>\n",
              "    </tr>\n",
              "    <tr>\n",
              "      <th>5</th>\n",
              "      <td>37</td>\n",
              "      <td>Private</td>\n",
              "      <td>284582</td>\n",
              "      <td>Masters</td>\n",
              "      <td>14</td>\n",
              "      <td>Married-civ-spouse</td>\n",
              "      <td>Exec-managerial</td>\n",
              "      <td>Wife</td>\n",
              "      <td>White</td>\n",
              "      <td>Female</td>\n",
              "      <td>0</td>\n",
              "      <td>0</td>\n",
              "      <td>40</td>\n",
              "      <td>United-States</td>\n",
              "      <td>&lt;=50K</td>\n",
              "    </tr>\n",
              "    <tr>\n",
              "      <th>6</th>\n",
              "      <td>49</td>\n",
              "      <td>Private</td>\n",
              "      <td>160187</td>\n",
              "      <td>9th</td>\n",
              "      <td>5</td>\n",
              "      <td>Married-spouse-absent</td>\n",
              "      <td>Other-service</td>\n",
              "      <td>Not-in-family</td>\n",
              "      <td>Black</td>\n",
              "      <td>Female</td>\n",
              "      <td>0</td>\n",
              "      <td>0</td>\n",
              "      <td>16</td>\n",
              "      <td>Jamaica</td>\n",
              "      <td>&lt;=50K</td>\n",
              "    </tr>\n",
              "    <tr>\n",
              "      <th>7</th>\n",
              "      <td>52</td>\n",
              "      <td>Self-emp-not-inc</td>\n",
              "      <td>209642</td>\n",
              "      <td>HS-grad</td>\n",
              "      <td>9</td>\n",
              "      <td>Married-civ-spouse</td>\n",
              "      <td>Exec-managerial</td>\n",
              "      <td>Husband</td>\n",
              "      <td>White</td>\n",
              "      <td>Male</td>\n",
              "      <td>0</td>\n",
              "      <td>0</td>\n",
              "      <td>45</td>\n",
              "      <td>United-States</td>\n",
              "      <td>&gt;50K</td>\n",
              "    </tr>\n",
              "    <tr>\n",
              "      <th>8</th>\n",
              "      <td>31</td>\n",
              "      <td>Private</td>\n",
              "      <td>45781</td>\n",
              "      <td>Masters</td>\n",
              "      <td>14</td>\n",
              "      <td>Never-married</td>\n",
              "      <td>Prof-specialty</td>\n",
              "      <td>Not-in-family</td>\n",
              "      <td>White</td>\n",
              "      <td>Female</td>\n",
              "      <td>14084</td>\n",
              "      <td>0</td>\n",
              "      <td>50</td>\n",
              "      <td>United-States</td>\n",
              "      <td>&gt;50K</td>\n",
              "    </tr>\n",
              "    <tr>\n",
              "      <th>9</th>\n",
              "      <td>42</td>\n",
              "      <td>Private</td>\n",
              "      <td>159449</td>\n",
              "      <td>Bachelors</td>\n",
              "      <td>13</td>\n",
              "      <td>Married-civ-spouse</td>\n",
              "      <td>Exec-managerial</td>\n",
              "      <td>Husband</td>\n",
              "      <td>White</td>\n",
              "      <td>Male</td>\n",
              "      <td>5178</td>\n",
              "      <td>0</td>\n",
              "      <td>40</td>\n",
              "      <td>United-States</td>\n",
              "      <td>&gt;50K</td>\n",
              "    </tr>\n",
              "    <tr>\n",
              "      <th>10</th>\n",
              "      <td>37</td>\n",
              "      <td>Private</td>\n",
              "      <td>280464</td>\n",
              "      <td>Some-college</td>\n",
              "      <td>10</td>\n",
              "      <td>Married-civ-spouse</td>\n",
              "      <td>Exec-managerial</td>\n",
              "      <td>Husband</td>\n",
              "      <td>Black</td>\n",
              "      <td>Male</td>\n",
              "      <td>0</td>\n",
              "      <td>0</td>\n",
              "      <td>80</td>\n",
              "      <td>United-States</td>\n",
              "      <td>&gt;50K</td>\n",
              "    </tr>\n",
              "    <tr>\n",
              "      <th>11</th>\n",
              "      <td>30</td>\n",
              "      <td>State-gov</td>\n",
              "      <td>141297</td>\n",
              "      <td>Bachelors</td>\n",
              "      <td>13</td>\n",
              "      <td>Married-civ-spouse</td>\n",
              "      <td>Prof-specialty</td>\n",
              "      <td>Husband</td>\n",
              "      <td>Asian-Pac-Islander</td>\n",
              "      <td>Male</td>\n",
              "      <td>0</td>\n",
              "      <td>0</td>\n",
              "      <td>40</td>\n",
              "      <td>India</td>\n",
              "      <td>&gt;50K</td>\n",
              "    </tr>\n",
              "    <tr>\n",
              "      <th>12</th>\n",
              "      <td>23</td>\n",
              "      <td>Private</td>\n",
              "      <td>122272</td>\n",
              "      <td>Bachelors</td>\n",
              "      <td>13</td>\n",
              "      <td>Never-married</td>\n",
              "      <td>Adm-clerical</td>\n",
              "      <td>Own-child</td>\n",
              "      <td>White</td>\n",
              "      <td>Female</td>\n",
              "      <td>0</td>\n",
              "      <td>0</td>\n",
              "      <td>30</td>\n",
              "      <td>United-States</td>\n",
              "      <td>&lt;=50K</td>\n",
              "    </tr>\n",
              "    <tr>\n",
              "      <th>13</th>\n",
              "      <td>32</td>\n",
              "      <td>Private</td>\n",
              "      <td>205019</td>\n",
              "      <td>Assoc-acdm</td>\n",
              "      <td>12</td>\n",
              "      <td>Never-married</td>\n",
              "      <td>Sales</td>\n",
              "      <td>Not-in-family</td>\n",
              "      <td>Black</td>\n",
              "      <td>Male</td>\n",
              "      <td>0</td>\n",
              "      <td>0</td>\n",
              "      <td>50</td>\n",
              "      <td>United-States</td>\n",
              "      <td>&lt;=50K</td>\n",
              "    </tr>\n",
              "    <tr>\n",
              "      <th>14</th>\n",
              "      <td>40</td>\n",
              "      <td>Private</td>\n",
              "      <td>121772</td>\n",
              "      <td>Assoc-voc</td>\n",
              "      <td>11</td>\n",
              "      <td>Married-civ-spouse</td>\n",
              "      <td>Craft-repair</td>\n",
              "      <td>Husband</td>\n",
              "      <td>Asian-Pac-Islander</td>\n",
              "      <td>Male</td>\n",
              "      <td>0</td>\n",
              "      <td>0</td>\n",
              "      <td>40</td>\n",
              "      <td>United-States</td>\n",
              "      <td>&gt;50K</td>\n",
              "    </tr>\n",
              "    <tr>\n",
              "      <th>15</th>\n",
              "      <td>34</td>\n",
              "      <td>Private</td>\n",
              "      <td>245487</td>\n",
              "      <td>7th-8th</td>\n",
              "      <td>4</td>\n",
              "      <td>Married-civ-spouse</td>\n",
              "      <td>Transport-moving</td>\n",
              "      <td>Husband</td>\n",
              "      <td>Amer-Indian-Eskimo</td>\n",
              "      <td>Male</td>\n",
              "      <td>0</td>\n",
              "      <td>0</td>\n",
              "      <td>45</td>\n",
              "      <td>Mexico</td>\n",
              "      <td>&lt;=50K</td>\n",
              "    </tr>\n",
              "    <tr>\n",
              "      <th>16</th>\n",
              "      <td>25</td>\n",
              "      <td>Self-emp-not-inc</td>\n",
              "      <td>176756</td>\n",
              "      <td>HS-grad</td>\n",
              "      <td>9</td>\n",
              "      <td>Never-married</td>\n",
              "      <td>Farming-fishing</td>\n",
              "      <td>Own-child</td>\n",
              "      <td>White</td>\n",
              "      <td>Male</td>\n",
              "      <td>0</td>\n",
              "      <td>0</td>\n",
              "      <td>35</td>\n",
              "      <td>United-States</td>\n",
              "      <td>&lt;=50K</td>\n",
              "    </tr>\n",
              "    <tr>\n",
              "      <th>17</th>\n",
              "      <td>32</td>\n",
              "      <td>Private</td>\n",
              "      <td>186824</td>\n",
              "      <td>HS-grad</td>\n",
              "      <td>9</td>\n",
              "      <td>Never-married</td>\n",
              "      <td>Machine-op-inspct</td>\n",
              "      <td>Unmarried</td>\n",
              "      <td>White</td>\n",
              "      <td>Male</td>\n",
              "      <td>0</td>\n",
              "      <td>0</td>\n",
              "      <td>40</td>\n",
              "      <td>United-States</td>\n",
              "      <td>&lt;=50K</td>\n",
              "    </tr>\n",
              "    <tr>\n",
              "      <th>18</th>\n",
              "      <td>38</td>\n",
              "      <td>Private</td>\n",
              "      <td>28887</td>\n",
              "      <td>11th</td>\n",
              "      <td>7</td>\n",
              "      <td>Married-civ-spouse</td>\n",
              "      <td>Sales</td>\n",
              "      <td>Husband</td>\n",
              "      <td>White</td>\n",
              "      <td>Male</td>\n",
              "      <td>0</td>\n",
              "      <td>0</td>\n",
              "      <td>50</td>\n",
              "      <td>United-States</td>\n",
              "      <td>&lt;=50K</td>\n",
              "    </tr>\n",
              "    <tr>\n",
              "      <th>19</th>\n",
              "      <td>43</td>\n",
              "      <td>Self-emp-not-inc</td>\n",
              "      <td>292175</td>\n",
              "      <td>Masters</td>\n",
              "      <td>14</td>\n",
              "      <td>Divorced</td>\n",
              "      <td>Exec-managerial</td>\n",
              "      <td>Unmarried</td>\n",
              "      <td>White</td>\n",
              "      <td>Female</td>\n",
              "      <td>0</td>\n",
              "      <td>0</td>\n",
              "      <td>45</td>\n",
              "      <td>United-States</td>\n",
              "      <td>&gt;50K</td>\n",
              "    </tr>\n",
              "    <tr>\n",
              "      <th>20</th>\n",
              "      <td>40</td>\n",
              "      <td>Private</td>\n",
              "      <td>193524</td>\n",
              "      <td>Doctorate</td>\n",
              "      <td>16</td>\n",
              "      <td>Married-civ-spouse</td>\n",
              "      <td>Prof-specialty</td>\n",
              "      <td>Husband</td>\n",
              "      <td>White</td>\n",
              "      <td>Male</td>\n",
              "      <td>0</td>\n",
              "      <td>0</td>\n",
              "      <td>60</td>\n",
              "      <td>United-States</td>\n",
              "      <td>&gt;50K</td>\n",
              "    </tr>\n",
              "    <tr>\n",
              "      <th>21</th>\n",
              "      <td>54</td>\n",
              "      <td>Private</td>\n",
              "      <td>302146</td>\n",
              "      <td>HS-grad</td>\n",
              "      <td>9</td>\n",
              "      <td>Separated</td>\n",
              "      <td>Other-service</td>\n",
              "      <td>Unmarried</td>\n",
              "      <td>Black</td>\n",
              "      <td>Female</td>\n",
              "      <td>0</td>\n",
              "      <td>0</td>\n",
              "      <td>20</td>\n",
              "      <td>United-States</td>\n",
              "      <td>&lt;=50K</td>\n",
              "    </tr>\n",
              "    <tr>\n",
              "      <th>22</th>\n",
              "      <td>35</td>\n",
              "      <td>Federal-gov</td>\n",
              "      <td>76845</td>\n",
              "      <td>9th</td>\n",
              "      <td>5</td>\n",
              "      <td>Married-civ-spouse</td>\n",
              "      <td>Farming-fishing</td>\n",
              "      <td>Husband</td>\n",
              "      <td>Black</td>\n",
              "      <td>Male</td>\n",
              "      <td>0</td>\n",
              "      <td>0</td>\n",
              "      <td>40</td>\n",
              "      <td>United-States</td>\n",
              "      <td>&lt;=50K</td>\n",
              "    </tr>\n",
              "    <tr>\n",
              "      <th>23</th>\n",
              "      <td>43</td>\n",
              "      <td>Private</td>\n",
              "      <td>117037</td>\n",
              "      <td>11th</td>\n",
              "      <td>7</td>\n",
              "      <td>Married-civ-spouse</td>\n",
              "      <td>Transport-moving</td>\n",
              "      <td>Husband</td>\n",
              "      <td>White</td>\n",
              "      <td>Male</td>\n",
              "      <td>0</td>\n",
              "      <td>2042</td>\n",
              "      <td>40</td>\n",
              "      <td>United-States</td>\n",
              "      <td>&lt;=50K</td>\n",
              "    </tr>\n",
              "    <tr>\n",
              "      <th>24</th>\n",
              "      <td>59</td>\n",
              "      <td>Private</td>\n",
              "      <td>109015</td>\n",
              "      <td>HS-grad</td>\n",
              "      <td>9</td>\n",
              "      <td>Divorced</td>\n",
              "      <td>Tech-support</td>\n",
              "      <td>Unmarried</td>\n",
              "      <td>White</td>\n",
              "      <td>Female</td>\n",
              "      <td>0</td>\n",
              "      <td>0</td>\n",
              "      <td>40</td>\n",
              "      <td>United-States</td>\n",
              "      <td>&lt;=50K</td>\n",
              "    </tr>\n",
              "    <tr>\n",
              "      <th>25</th>\n",
              "      <td>56</td>\n",
              "      <td>Local-gov</td>\n",
              "      <td>216851</td>\n",
              "      <td>Bachelors</td>\n",
              "      <td>13</td>\n",
              "      <td>Married-civ-spouse</td>\n",
              "      <td>Tech-support</td>\n",
              "      <td>Husband</td>\n",
              "      <td>White</td>\n",
              "      <td>Male</td>\n",
              "      <td>0</td>\n",
              "      <td>0</td>\n",
              "      <td>40</td>\n",
              "      <td>United-States</td>\n",
              "      <td>&gt;50K</td>\n",
              "    </tr>\n",
              "    <tr>\n",
              "      <th>26</th>\n",
              "      <td>19</td>\n",
              "      <td>Private</td>\n",
              "      <td>168294</td>\n",
              "      <td>HS-grad</td>\n",
              "      <td>9</td>\n",
              "      <td>Never-married</td>\n",
              "      <td>Craft-repair</td>\n",
              "      <td>Own-child</td>\n",
              "      <td>White</td>\n",
              "      <td>Male</td>\n",
              "      <td>0</td>\n",
              "      <td>0</td>\n",
              "      <td>40</td>\n",
              "      <td>United-States</td>\n",
              "      <td>&lt;=50K</td>\n",
              "    </tr>\n",
              "    <tr>\n",
              "      <th>27</th>\n",
              "      <td>54</td>\n",
              "      <td>Private</td>\n",
              "      <td>180211</td>\n",
              "      <td>Some-college</td>\n",
              "      <td>10</td>\n",
              "      <td>Married-civ-spouse</td>\n",
              "      <td>Prof-specialty</td>\n",
              "      <td>Husband</td>\n",
              "      <td>Asian-Pac-Islander</td>\n",
              "      <td>Male</td>\n",
              "      <td>0</td>\n",
              "      <td>0</td>\n",
              "      <td>60</td>\n",
              "      <td>South</td>\n",
              "      <td>&gt;50K</td>\n",
              "    </tr>\n",
              "    <tr>\n",
              "      <th>28</th>\n",
              "      <td>39</td>\n",
              "      <td>Private</td>\n",
              "      <td>367260</td>\n",
              "      <td>HS-grad</td>\n",
              "      <td>9</td>\n",
              "      <td>Divorced</td>\n",
              "      <td>Exec-managerial</td>\n",
              "      <td>Not-in-family</td>\n",
              "      <td>White</td>\n",
              "      <td>Male</td>\n",
              "      <td>0</td>\n",
              "      <td>0</td>\n",
              "      <td>80</td>\n",
              "      <td>United-States</td>\n",
              "      <td>&lt;=50K</td>\n",
              "    </tr>\n",
              "    <tr>\n",
              "      <th>29</th>\n",
              "      <td>49</td>\n",
              "      <td>Private</td>\n",
              "      <td>193366</td>\n",
              "      <td>HS-grad</td>\n",
              "      <td>9</td>\n",
              "      <td>Married-civ-spouse</td>\n",
              "      <td>Craft-repair</td>\n",
              "      <td>Husband</td>\n",
              "      <td>White</td>\n",
              "      <td>Male</td>\n",
              "      <td>0</td>\n",
              "      <td>0</td>\n",
              "      <td>40</td>\n",
              "      <td>United-States</td>\n",
              "      <td>&lt;=50K</td>\n",
              "    </tr>\n",
              "    <tr>\n",
              "      <th>30</th>\n",
              "      <td>23</td>\n",
              "      <td>Local-gov</td>\n",
              "      <td>190709</td>\n",
              "      <td>Assoc-acdm</td>\n",
              "      <td>12</td>\n",
              "      <td>Never-married</td>\n",
              "      <td>Protective-serv</td>\n",
              "      <td>Not-in-family</td>\n",
              "      <td>White</td>\n",
              "      <td>Male</td>\n",
              "      <td>0</td>\n",
              "      <td>0</td>\n",
              "      <td>52</td>\n",
              "      <td>United-States</td>\n",
              "      <td>&lt;=50K</td>\n",
              "    </tr>\n",
              "    <tr>\n",
              "      <th>31</th>\n",
              "      <td>20</td>\n",
              "      <td>Private</td>\n",
              "      <td>266015</td>\n",
              "      <td>Some-college</td>\n",
              "      <td>10</td>\n",
              "      <td>Never-married</td>\n",
              "      <td>Sales</td>\n",
              "      <td>Own-child</td>\n",
              "      <td>Black</td>\n",
              "      <td>Male</td>\n",
              "      <td>0</td>\n",
              "      <td>0</td>\n",
              "      <td>44</td>\n",
              "      <td>United-States</td>\n",
              "      <td>&lt;=50K</td>\n",
              "    </tr>\n",
              "    <tr>\n",
              "      <th>32</th>\n",
              "      <td>45</td>\n",
              "      <td>Private</td>\n",
              "      <td>386940</td>\n",
              "      <td>Bachelors</td>\n",
              "      <td>13</td>\n",
              "      <td>Divorced</td>\n",
              "      <td>Exec-managerial</td>\n",
              "      <td>Own-child</td>\n",
              "      <td>White</td>\n",
              "      <td>Male</td>\n",
              "      <td>0</td>\n",
              "      <td>1408</td>\n",
              "      <td>40</td>\n",
              "      <td>United-States</td>\n",
              "      <td>&lt;=50K</td>\n",
              "    </tr>\n",
              "    <tr>\n",
              "      <th>33</th>\n",
              "      <td>30</td>\n",
              "      <td>Federal-gov</td>\n",
              "      <td>59951</td>\n",
              "      <td>Some-college</td>\n",
              "      <td>10</td>\n",
              "      <td>Married-civ-spouse</td>\n",
              "      <td>Adm-clerical</td>\n",
              "      <td>Own-child</td>\n",
              "      <td>White</td>\n",
              "      <td>Male</td>\n",
              "      <td>0</td>\n",
              "      <td>0</td>\n",
              "      <td>40</td>\n",
              "      <td>United-States</td>\n",
              "      <td>&lt;=50K</td>\n",
              "    </tr>\n",
              "    <tr>\n",
              "      <th>34</th>\n",
              "      <td>22</td>\n",
              "      <td>State-gov</td>\n",
              "      <td>311512</td>\n",
              "      <td>Some-college</td>\n",
              "      <td>10</td>\n",
              "      <td>Married-civ-spouse</td>\n",
              "      <td>Other-service</td>\n",
              "      <td>Husband</td>\n",
              "      <td>Black</td>\n",
              "      <td>Male</td>\n",
              "      <td>0</td>\n",
              "      <td>0</td>\n",
              "      <td>15</td>\n",
              "      <td>United-States</td>\n",
              "      <td>&lt;=50K</td>\n",
              "    </tr>\n",
              "    <tr>\n",
              "      <th>35</th>\n",
              "      <td>48</td>\n",
              "      <td>Private</td>\n",
              "      <td>242406</td>\n",
              "      <td>11th</td>\n",
              "      <td>7</td>\n",
              "      <td>Never-married</td>\n",
              "      <td>Machine-op-inspct</td>\n",
              "      <td>Unmarried</td>\n",
              "      <td>White</td>\n",
              "      <td>Male</td>\n",
              "      <td>0</td>\n",
              "      <td>0</td>\n",
              "      <td>40</td>\n",
              "      <td>Puerto-Rico</td>\n",
              "      <td>&lt;=50K</td>\n",
              "    </tr>\n",
              "    <tr>\n",
              "      <th>36</th>\n",
              "      <td>21</td>\n",
              "      <td>Private</td>\n",
              "      <td>197200</td>\n",
              "      <td>Some-college</td>\n",
              "      <td>10</td>\n",
              "      <td>Never-married</td>\n",
              "      <td>Machine-op-inspct</td>\n",
              "      <td>Own-child</td>\n",
              "      <td>White</td>\n",
              "      <td>Male</td>\n",
              "      <td>0</td>\n",
              "      <td>0</td>\n",
              "      <td>40</td>\n",
              "      <td>United-States</td>\n",
              "      <td>&lt;=50K</td>\n",
              "    </tr>\n",
              "    <tr>\n",
              "      <th>37</th>\n",
              "      <td>19</td>\n",
              "      <td>Private</td>\n",
              "      <td>544091</td>\n",
              "      <td>HS-grad</td>\n",
              "      <td>9</td>\n",
              "      <td>Married-AF-spouse</td>\n",
              "      <td>Adm-clerical</td>\n",
              "      <td>Wife</td>\n",
              "      <td>White</td>\n",
              "      <td>Female</td>\n",
              "      <td>0</td>\n",
              "      <td>0</td>\n",
              "      <td>25</td>\n",
              "      <td>United-States</td>\n",
              "      <td>&lt;=50K</td>\n",
              "    </tr>\n",
              "    <tr>\n",
              "      <th>38</th>\n",
              "      <td>31</td>\n",
              "      <td>Private</td>\n",
              "      <td>84154</td>\n",
              "      <td>Some-college</td>\n",
              "      <td>10</td>\n",
              "      <td>Married-civ-spouse</td>\n",
              "      <td>Sales</td>\n",
              "      <td>Husband</td>\n",
              "      <td>White</td>\n",
              "      <td>Male</td>\n",
              "      <td>0</td>\n",
              "      <td>0</td>\n",
              "      <td>38</td>\n",
              "      <td>United-States</td>\n",
              "      <td>&gt;50K</td>\n",
              "    </tr>\n",
              "    <tr>\n",
              "      <th>39</th>\n",
              "      <td>48</td>\n",
              "      <td>Self-emp-not-inc</td>\n",
              "      <td>265477</td>\n",
              "      <td>Assoc-acdm</td>\n",
              "      <td>12</td>\n",
              "      <td>Married-civ-spouse</td>\n",
              "      <td>Prof-specialty</td>\n",
              "      <td>Husband</td>\n",
              "      <td>White</td>\n",
              "      <td>Male</td>\n",
              "      <td>0</td>\n",
              "      <td>0</td>\n",
              "      <td>40</td>\n",
              "      <td>United-States</td>\n",
              "      <td>&lt;=50K</td>\n",
              "    </tr>\n",
              "  </tbody>\n",
              "</table>\n",
              "</div>\n",
              "    <div class=\"colab-df-buttons\">\n",
              "\n",
              "  <div class=\"colab-df-container\">\n",
              "    <button class=\"colab-df-convert\" onclick=\"convertToInteractive('df-ac321bd5-f7d6-4ee3-ab69-72706caf9c47')\"\n",
              "            title=\"Convert this dataframe to an interactive table.\"\n",
              "            style=\"display:none;\">\n",
              "\n",
              "  <svg xmlns=\"http://www.w3.org/2000/svg\" height=\"24px\" viewBox=\"0 -960 960 960\">\n",
              "    <path d=\"M120-120v-720h720v720H120Zm60-500h600v-160H180v160Zm220 220h160v-160H400v160Zm0 220h160v-160H400v160ZM180-400h160v-160H180v160Zm440 0h160v-160H620v160ZM180-180h160v-160H180v160Zm440 0h160v-160H620v160Z\"/>\n",
              "  </svg>\n",
              "    </button>\n",
              "\n",
              "  <style>\n",
              "    .colab-df-container {\n",
              "      display:flex;\n",
              "      gap: 12px;\n",
              "    }\n",
              "\n",
              "    .colab-df-convert {\n",
              "      background-color: #E8F0FE;\n",
              "      border: none;\n",
              "      border-radius: 50%;\n",
              "      cursor: pointer;\n",
              "      display: none;\n",
              "      fill: #1967D2;\n",
              "      height: 32px;\n",
              "      padding: 0 0 0 0;\n",
              "      width: 32px;\n",
              "    }\n",
              "\n",
              "    .colab-df-convert:hover {\n",
              "      background-color: #E2EBFA;\n",
              "      box-shadow: 0px 1px 2px rgba(60, 64, 67, 0.3), 0px 1px 3px 1px rgba(60, 64, 67, 0.15);\n",
              "      fill: #174EA6;\n",
              "    }\n",
              "\n",
              "    .colab-df-buttons div {\n",
              "      margin-bottom: 4px;\n",
              "    }\n",
              "\n",
              "    [theme=dark] .colab-df-convert {\n",
              "      background-color: #3B4455;\n",
              "      fill: #D2E3FC;\n",
              "    }\n",
              "\n",
              "    [theme=dark] .colab-df-convert:hover {\n",
              "      background-color: #434B5C;\n",
              "      box-shadow: 0px 1px 3px 1px rgba(0, 0, 0, 0.15);\n",
              "      filter: drop-shadow(0px 1px 2px rgba(0, 0, 0, 0.3));\n",
              "      fill: #FFFFFF;\n",
              "    }\n",
              "  </style>\n",
              "\n",
              "    <script>\n",
              "      const buttonEl =\n",
              "        document.querySelector('#df-ac321bd5-f7d6-4ee3-ab69-72706caf9c47 button.colab-df-convert');\n",
              "      buttonEl.style.display =\n",
              "        google.colab.kernel.accessAllowed ? 'block' : 'none';\n",
              "\n",
              "      async function convertToInteractive(key) {\n",
              "        const element = document.querySelector('#df-ac321bd5-f7d6-4ee3-ab69-72706caf9c47');\n",
              "        const dataTable =\n",
              "          await google.colab.kernel.invokeFunction('convertToInteractive',\n",
              "                                                    [key], {});\n",
              "        if (!dataTable) return;\n",
              "\n",
              "        const docLinkHtml = 'Like what you see? Visit the ' +\n",
              "          '<a target=\"_blank\" href=https://colab.research.google.com/notebooks/data_table.ipynb>data table notebook</a>'\n",
              "          + ' to learn more about interactive tables.';\n",
              "        element.innerHTML = '';\n",
              "        dataTable['output_type'] = 'display_data';\n",
              "        await google.colab.output.renderOutput(dataTable, element);\n",
              "        const docLink = document.createElement('div');\n",
              "        docLink.innerHTML = docLinkHtml;\n",
              "        element.appendChild(docLink);\n",
              "      }\n",
              "    </script>\n",
              "  </div>\n",
              "\n",
              "\n",
              "<div id=\"df-7f7abca8-2f5a-467b-a17a-ad6606e3deb3\">\n",
              "  <button class=\"colab-df-quickchart\" onclick=\"quickchart('df-7f7abca8-2f5a-467b-a17a-ad6606e3deb3')\"\n",
              "            title=\"Suggest charts\"\n",
              "            style=\"display:none;\">\n",
              "\n",
              "<svg xmlns=\"http://www.w3.org/2000/svg\" height=\"24px\"viewBox=\"0 0 24 24\"\n",
              "     width=\"24px\">\n",
              "    <g>\n",
              "        <path d=\"M19 3H5c-1.1 0-2 .9-2 2v14c0 1.1.9 2 2 2h14c1.1 0 2-.9 2-2V5c0-1.1-.9-2-2-2zM9 17H7v-7h2v7zm4 0h-2V7h2v10zm4 0h-2v-4h2v4z\"/>\n",
              "    </g>\n",
              "</svg>\n",
              "  </button>\n",
              "\n",
              "<style>\n",
              "  .colab-df-quickchart {\n",
              "      --bg-color: #E8F0FE;\n",
              "      --fill-color: #1967D2;\n",
              "      --hover-bg-color: #E2EBFA;\n",
              "      --hover-fill-color: #174EA6;\n",
              "      --disabled-fill-color: #AAA;\n",
              "      --disabled-bg-color: #DDD;\n",
              "  }\n",
              "\n",
              "  [theme=dark] .colab-df-quickchart {\n",
              "      --bg-color: #3B4455;\n",
              "      --fill-color: #D2E3FC;\n",
              "      --hover-bg-color: #434B5C;\n",
              "      --hover-fill-color: #FFFFFF;\n",
              "      --disabled-bg-color: #3B4455;\n",
              "      --disabled-fill-color: #666;\n",
              "  }\n",
              "\n",
              "  .colab-df-quickchart {\n",
              "    background-color: var(--bg-color);\n",
              "    border: none;\n",
              "    border-radius: 50%;\n",
              "    cursor: pointer;\n",
              "    display: none;\n",
              "    fill: var(--fill-color);\n",
              "    height: 32px;\n",
              "    padding: 0;\n",
              "    width: 32px;\n",
              "  }\n",
              "\n",
              "  .colab-df-quickchart:hover {\n",
              "    background-color: var(--hover-bg-color);\n",
              "    box-shadow: 0 1px 2px rgba(60, 64, 67, 0.3), 0 1px 3px 1px rgba(60, 64, 67, 0.15);\n",
              "    fill: var(--button-hover-fill-color);\n",
              "  }\n",
              "\n",
              "  .colab-df-quickchart-complete:disabled,\n",
              "  .colab-df-quickchart-complete:disabled:hover {\n",
              "    background-color: var(--disabled-bg-color);\n",
              "    fill: var(--disabled-fill-color);\n",
              "    box-shadow: none;\n",
              "  }\n",
              "\n",
              "  .colab-df-spinner {\n",
              "    border: 2px solid var(--fill-color);\n",
              "    border-color: transparent;\n",
              "    border-bottom-color: var(--fill-color);\n",
              "    animation:\n",
              "      spin 1s steps(1) infinite;\n",
              "  }\n",
              "\n",
              "  @keyframes spin {\n",
              "    0% {\n",
              "      border-color: transparent;\n",
              "      border-bottom-color: var(--fill-color);\n",
              "      border-left-color: var(--fill-color);\n",
              "    }\n",
              "    20% {\n",
              "      border-color: transparent;\n",
              "      border-left-color: var(--fill-color);\n",
              "      border-top-color: var(--fill-color);\n",
              "    }\n",
              "    30% {\n",
              "      border-color: transparent;\n",
              "      border-left-color: var(--fill-color);\n",
              "      border-top-color: var(--fill-color);\n",
              "      border-right-color: var(--fill-color);\n",
              "    }\n",
              "    40% {\n",
              "      border-color: transparent;\n",
              "      border-right-color: var(--fill-color);\n",
              "      border-top-color: var(--fill-color);\n",
              "    }\n",
              "    60% {\n",
              "      border-color: transparent;\n",
              "      border-right-color: var(--fill-color);\n",
              "    }\n",
              "    80% {\n",
              "      border-color: transparent;\n",
              "      border-right-color: var(--fill-color);\n",
              "      border-bottom-color: var(--fill-color);\n",
              "    }\n",
              "    90% {\n",
              "      border-color: transparent;\n",
              "      border-bottom-color: var(--fill-color);\n",
              "    }\n",
              "  }\n",
              "</style>\n",
              "\n",
              "  <script>\n",
              "    async function quickchart(key) {\n",
              "      const quickchartButtonEl =\n",
              "        document.querySelector('#' + key + ' button');\n",
              "      quickchartButtonEl.disabled = true;  // To prevent multiple clicks.\n",
              "      quickchartButtonEl.classList.add('colab-df-spinner');\n",
              "      try {\n",
              "        const charts = await google.colab.kernel.invokeFunction(\n",
              "            'suggestCharts', [key], {});\n",
              "      } catch (error) {\n",
              "        console.error('Error during call to suggestCharts:', error);\n",
              "      }\n",
              "      quickchartButtonEl.classList.remove('colab-df-spinner');\n",
              "      quickchartButtonEl.classList.add('colab-df-quickchart-complete');\n",
              "    }\n",
              "    (() => {\n",
              "      let quickchartButtonEl =\n",
              "        document.querySelector('#df-7f7abca8-2f5a-467b-a17a-ad6606e3deb3 button');\n",
              "      quickchartButtonEl.style.display =\n",
              "        google.colab.kernel.accessAllowed ? 'block' : 'none';\n",
              "    })();\n",
              "  </script>\n",
              "</div>\n",
              "\n",
              "    </div>\n",
              "  </div>\n"
            ],
            "application/vnd.google.colaboratory.intrinsic+json": {
              "type": "dataframe",
              "variable_name": "census_data",
              "summary": "{\n  \"name\": \"census_data\",\n  \"rows\": 32561,\n  \"fields\": [\n    {\n      \"column\": \"age\",\n      \"properties\": {\n        \"dtype\": \"number\",\n        \"std\": 13,\n        \"min\": 17,\n        \"max\": 90,\n        \"num_unique_values\": 73,\n        \"samples\": [\n          28,\n          73,\n          35\n        ],\n        \"semantic_type\": \"\",\n        \"description\": \"\"\n      }\n    },\n    {\n      \"column\": \"workclass\",\n      \"properties\": {\n        \"dtype\": \"category\",\n        \"num_unique_values\": 8,\n        \"samples\": [\n          \"Self-emp-not-inc\",\n          \"Self-emp-inc\",\n          \"State-gov\"\n        ],\n        \"semantic_type\": \"\",\n        \"description\": \"\"\n      }\n    },\n    {\n      \"column\": \"fnlwgt\",\n      \"properties\": {\n        \"dtype\": \"number\",\n        \"std\": 105549,\n        \"min\": 12285,\n        \"max\": 1484705,\n        \"num_unique_values\": 21648,\n        \"samples\": [\n          128485,\n          469907,\n          235951\n        ],\n        \"semantic_type\": \"\",\n        \"description\": \"\"\n      }\n    },\n    {\n      \"column\": \"education\",\n      \"properties\": {\n        \"dtype\": \"category\",\n        \"num_unique_values\": 16,\n        \"samples\": [\n          \"Bachelors\",\n          \"HS-grad\",\n          \"Some-college\"\n        ],\n        \"semantic_type\": \"\",\n        \"description\": \"\"\n      }\n    },\n    {\n      \"column\": \"education-num\",\n      \"properties\": {\n        \"dtype\": \"number\",\n        \"std\": 2,\n        \"min\": 1,\n        \"max\": 16,\n        \"num_unique_values\": 16,\n        \"samples\": [\n          13,\n          9,\n          10\n        ],\n        \"semantic_type\": \"\",\n        \"description\": \"\"\n      }\n    },\n    {\n      \"column\": \"marital-status\",\n      \"properties\": {\n        \"dtype\": \"category\",\n        \"num_unique_values\": 7,\n        \"samples\": [\n          \"Never-married\",\n          \"Married-civ-spouse\",\n          \"Married-AF-spouse\"\n        ],\n        \"semantic_type\": \"\",\n        \"description\": \"\"\n      }\n    },\n    {\n      \"column\": \"occupation\",\n      \"properties\": {\n        \"dtype\": \"category\",\n        \"num_unique_values\": 14,\n        \"samples\": [\n          \"Machine-op-inspct\",\n          \"Protective-serv\",\n          \"Adm-clerical\"\n        ],\n        \"semantic_type\": \"\",\n        \"description\": \"\"\n      }\n    },\n    {\n      \"column\": \"relationship\",\n      \"properties\": {\n        \"dtype\": \"category\",\n        \"num_unique_values\": 6,\n        \"samples\": [\n          \"Not-in-family\",\n          \"Husband\",\n          \"Other-relative\"\n        ],\n        \"semantic_type\": \"\",\n        \"description\": \"\"\n      }\n    },\n    {\n      \"column\": \"race\",\n      \"properties\": {\n        \"dtype\": \"category\",\n        \"num_unique_values\": 5,\n        \"samples\": [\n          \"Black\",\n          \"Other\",\n          \"Asian-Pac-Islander\"\n        ],\n        \"semantic_type\": \"\",\n        \"description\": \"\"\n      }\n    },\n    {\n      \"column\": \"sex\",\n      \"properties\": {\n        \"dtype\": \"category\",\n        \"num_unique_values\": 2,\n        \"samples\": [\n          \"Female\",\n          \"Male\"\n        ],\n        \"semantic_type\": \"\",\n        \"description\": \"\"\n      }\n    },\n    {\n      \"column\": \"capital-gain\",\n      \"properties\": {\n        \"dtype\": \"number\",\n        \"std\": 7385,\n        \"min\": 0,\n        \"max\": 99999,\n        \"num_unique_values\": 119,\n        \"samples\": [\n          3781,\n          15831\n        ],\n        \"semantic_type\": \"\",\n        \"description\": \"\"\n      }\n    },\n    {\n      \"column\": \"capital-loss\",\n      \"properties\": {\n        \"dtype\": \"number\",\n        \"std\": 402,\n        \"min\": 0,\n        \"max\": 4356,\n        \"num_unique_values\": 92,\n        \"samples\": [\n          419,\n          2051\n        ],\n        \"semantic_type\": \"\",\n        \"description\": \"\"\n      }\n    },\n    {\n      \"column\": \"hours-per-week\",\n      \"properties\": {\n        \"dtype\": \"number\",\n        \"std\": 12,\n        \"min\": 1,\n        \"max\": 99,\n        \"num_unique_values\": 94,\n        \"samples\": [\n          6,\n          22\n        ],\n        \"semantic_type\": \"\",\n        \"description\": \"\"\n      }\n    },\n    {\n      \"column\": \"native-country\",\n      \"properties\": {\n        \"dtype\": \"category\",\n        \"num_unique_values\": 41,\n        \"samples\": [\n          \"El-Salvador\",\n          \"Italy\"\n        ],\n        \"semantic_type\": \"\",\n        \"description\": \"\"\n      }\n    },\n    {\n      \"column\": \"income\",\n      \"properties\": {\n        \"dtype\": \"category\",\n        \"num_unique_values\": 2,\n        \"samples\": [\n          \">50K\",\n          \"<=50K\"\n        ],\n        \"semantic_type\": \"\",\n        \"description\": \"\"\n      }\n    }\n  ]\n}"
            }
          },
          "metadata": {},
          "execution_count": 16
        }
      ],
      "source": [
        "census_data.head(40)"
      ]
    },
    {
      "cell_type": "markdown",
      "metadata": {
        "id": "oZNJ04gUyHqf"
      },
      "source": [
        "Podemos ver agora que não temos mais valores vazios:"
      ]
    },
    {
      "cell_type": "code",
      "execution_count": 17,
      "metadata": {
        "colab": {
          "base_uri": "https://localhost:8080/"
        },
        "id": "mWc6V4wXyMN_",
        "outputId": "c06a2cda-e6af-4a64-b8cb-12f713a178ce"
      },
      "outputs": [
        {
          "output_type": "stream",
          "name": "stdout",
          "text": [
            "<class 'pandas.core.frame.DataFrame'>\n",
            "RangeIndex: 32561 entries, 0 to 32560\n",
            "Data columns (total 15 columns):\n",
            " #   Column          Non-Null Count  Dtype \n",
            "---  ------          --------------  ----- \n",
            " 0   age             32561 non-null  int64 \n",
            " 1   workclass       32561 non-null  object\n",
            " 2   fnlwgt          32561 non-null  int64 \n",
            " 3   education       32561 non-null  object\n",
            " 4   education-num   32561 non-null  int64 \n",
            " 5   marital-status  32561 non-null  object\n",
            " 6   occupation      32561 non-null  object\n",
            " 7   relationship    32561 non-null  object\n",
            " 8   race            32561 non-null  object\n",
            " 9   sex             32561 non-null  object\n",
            " 10  capital-gain    32561 non-null  int64 \n",
            " 11  capital-loss    32561 non-null  int64 \n",
            " 12  hours-per-week  32561 non-null  int64 \n",
            " 13  native-country  32561 non-null  object\n",
            " 14  income          32561 non-null  object\n",
            "dtypes: int64(6), object(9)\n",
            "memory usage: 3.7+ MB\n"
          ]
        }
      ],
      "source": [
        "census_data.info()"
      ]
    },
    {
      "cell_type": "code",
      "execution_count": 18,
      "metadata": {
        "colab": {
          "base_uri": "https://localhost:8080/",
          "height": 400
        },
        "id": "33LGJuykYwyD",
        "outputId": "8af8706d-2320-4ada-a691-f9da1798f703"
      },
      "outputs": [
        {
          "output_type": "execute_result",
          "data": {
            "text/plain": [
              "   age         workclass  fnlwgt  education  education-num  \\\n",
              "0   39         State-gov   77516  Bachelors             13   \n",
              "1   50  Self-emp-not-inc   83311  Bachelors             13   \n",
              "2   38           Private  215646    HS-grad              9   \n",
              "3   53           Private  234721       11th              7   \n",
              "4   28           Private  338409  Bachelors             13   \n",
              "\n",
              "       marital-status         occupation   relationship   race     sex  \\\n",
              "0       Never-married       Adm-clerical  Not-in-family  White    Male   \n",
              "1  Married-civ-spouse    Exec-managerial        Husband  White    Male   \n",
              "2            Divorced  Handlers-cleaners  Not-in-family  White    Male   \n",
              "3  Married-civ-spouse  Handlers-cleaners        Husband  Black    Male   \n",
              "4  Married-civ-spouse     Prof-specialty           Wife  Black  Female   \n",
              "\n",
              "   capital-gain  capital-loss  hours-per-week native-country income  \n",
              "0          2174             0              40  United-States  <=50K  \n",
              "1             0             0              13  United-States  <=50K  \n",
              "2             0             0              40  United-States  <=50K  \n",
              "3             0             0              40  United-States  <=50K  \n",
              "4             0             0              40           Cuba  <=50K  "
            ],
            "text/html": [
              "\n",
              "  <div id=\"df-5ec42bac-2c91-4ca0-84d1-819fb34d732c\" class=\"colab-df-container\">\n",
              "    <div>\n",
              "<style scoped>\n",
              "    .dataframe tbody tr th:only-of-type {\n",
              "        vertical-align: middle;\n",
              "    }\n",
              "\n",
              "    .dataframe tbody tr th {\n",
              "        vertical-align: top;\n",
              "    }\n",
              "\n",
              "    .dataframe thead th {\n",
              "        text-align: right;\n",
              "    }\n",
              "</style>\n",
              "<table border=\"1\" class=\"dataframe\">\n",
              "  <thead>\n",
              "    <tr style=\"text-align: right;\">\n",
              "      <th></th>\n",
              "      <th>age</th>\n",
              "      <th>workclass</th>\n",
              "      <th>fnlwgt</th>\n",
              "      <th>education</th>\n",
              "      <th>education-num</th>\n",
              "      <th>marital-status</th>\n",
              "      <th>occupation</th>\n",
              "      <th>relationship</th>\n",
              "      <th>race</th>\n",
              "      <th>sex</th>\n",
              "      <th>capital-gain</th>\n",
              "      <th>capital-loss</th>\n",
              "      <th>hours-per-week</th>\n",
              "      <th>native-country</th>\n",
              "      <th>income</th>\n",
              "    </tr>\n",
              "  </thead>\n",
              "  <tbody>\n",
              "    <tr>\n",
              "      <th>0</th>\n",
              "      <td>39</td>\n",
              "      <td>State-gov</td>\n",
              "      <td>77516</td>\n",
              "      <td>Bachelors</td>\n",
              "      <td>13</td>\n",
              "      <td>Never-married</td>\n",
              "      <td>Adm-clerical</td>\n",
              "      <td>Not-in-family</td>\n",
              "      <td>White</td>\n",
              "      <td>Male</td>\n",
              "      <td>2174</td>\n",
              "      <td>0</td>\n",
              "      <td>40</td>\n",
              "      <td>United-States</td>\n",
              "      <td>&lt;=50K</td>\n",
              "    </tr>\n",
              "    <tr>\n",
              "      <th>1</th>\n",
              "      <td>50</td>\n",
              "      <td>Self-emp-not-inc</td>\n",
              "      <td>83311</td>\n",
              "      <td>Bachelors</td>\n",
              "      <td>13</td>\n",
              "      <td>Married-civ-spouse</td>\n",
              "      <td>Exec-managerial</td>\n",
              "      <td>Husband</td>\n",
              "      <td>White</td>\n",
              "      <td>Male</td>\n",
              "      <td>0</td>\n",
              "      <td>0</td>\n",
              "      <td>13</td>\n",
              "      <td>United-States</td>\n",
              "      <td>&lt;=50K</td>\n",
              "    </tr>\n",
              "    <tr>\n",
              "      <th>2</th>\n",
              "      <td>38</td>\n",
              "      <td>Private</td>\n",
              "      <td>215646</td>\n",
              "      <td>HS-grad</td>\n",
              "      <td>9</td>\n",
              "      <td>Divorced</td>\n",
              "      <td>Handlers-cleaners</td>\n",
              "      <td>Not-in-family</td>\n",
              "      <td>White</td>\n",
              "      <td>Male</td>\n",
              "      <td>0</td>\n",
              "      <td>0</td>\n",
              "      <td>40</td>\n",
              "      <td>United-States</td>\n",
              "      <td>&lt;=50K</td>\n",
              "    </tr>\n",
              "    <tr>\n",
              "      <th>3</th>\n",
              "      <td>53</td>\n",
              "      <td>Private</td>\n",
              "      <td>234721</td>\n",
              "      <td>11th</td>\n",
              "      <td>7</td>\n",
              "      <td>Married-civ-spouse</td>\n",
              "      <td>Handlers-cleaners</td>\n",
              "      <td>Husband</td>\n",
              "      <td>Black</td>\n",
              "      <td>Male</td>\n",
              "      <td>0</td>\n",
              "      <td>0</td>\n",
              "      <td>40</td>\n",
              "      <td>United-States</td>\n",
              "      <td>&lt;=50K</td>\n",
              "    </tr>\n",
              "    <tr>\n",
              "      <th>4</th>\n",
              "      <td>28</td>\n",
              "      <td>Private</td>\n",
              "      <td>338409</td>\n",
              "      <td>Bachelors</td>\n",
              "      <td>13</td>\n",
              "      <td>Married-civ-spouse</td>\n",
              "      <td>Prof-specialty</td>\n",
              "      <td>Wife</td>\n",
              "      <td>Black</td>\n",
              "      <td>Female</td>\n",
              "      <td>0</td>\n",
              "      <td>0</td>\n",
              "      <td>40</td>\n",
              "      <td>Cuba</td>\n",
              "      <td>&lt;=50K</td>\n",
              "    </tr>\n",
              "  </tbody>\n",
              "</table>\n",
              "</div>\n",
              "    <div class=\"colab-df-buttons\">\n",
              "\n",
              "  <div class=\"colab-df-container\">\n",
              "    <button class=\"colab-df-convert\" onclick=\"convertToInteractive('df-5ec42bac-2c91-4ca0-84d1-819fb34d732c')\"\n",
              "            title=\"Convert this dataframe to an interactive table.\"\n",
              "            style=\"display:none;\">\n",
              "\n",
              "  <svg xmlns=\"http://www.w3.org/2000/svg\" height=\"24px\" viewBox=\"0 -960 960 960\">\n",
              "    <path d=\"M120-120v-720h720v720H120Zm60-500h600v-160H180v160Zm220 220h160v-160H400v160Zm0 220h160v-160H400v160ZM180-400h160v-160H180v160Zm440 0h160v-160H620v160ZM180-180h160v-160H180v160Zm440 0h160v-160H620v160Z\"/>\n",
              "  </svg>\n",
              "    </button>\n",
              "\n",
              "  <style>\n",
              "    .colab-df-container {\n",
              "      display:flex;\n",
              "      gap: 12px;\n",
              "    }\n",
              "\n",
              "    .colab-df-convert {\n",
              "      background-color: #E8F0FE;\n",
              "      border: none;\n",
              "      border-radius: 50%;\n",
              "      cursor: pointer;\n",
              "      display: none;\n",
              "      fill: #1967D2;\n",
              "      height: 32px;\n",
              "      padding: 0 0 0 0;\n",
              "      width: 32px;\n",
              "    }\n",
              "\n",
              "    .colab-df-convert:hover {\n",
              "      background-color: #E2EBFA;\n",
              "      box-shadow: 0px 1px 2px rgba(60, 64, 67, 0.3), 0px 1px 3px 1px rgba(60, 64, 67, 0.15);\n",
              "      fill: #174EA6;\n",
              "    }\n",
              "\n",
              "    .colab-df-buttons div {\n",
              "      margin-bottom: 4px;\n",
              "    }\n",
              "\n",
              "    [theme=dark] .colab-df-convert {\n",
              "      background-color: #3B4455;\n",
              "      fill: #D2E3FC;\n",
              "    }\n",
              "\n",
              "    [theme=dark] .colab-df-convert:hover {\n",
              "      background-color: #434B5C;\n",
              "      box-shadow: 0px 1px 3px 1px rgba(0, 0, 0, 0.15);\n",
              "      filter: drop-shadow(0px 1px 2px rgba(0, 0, 0, 0.3));\n",
              "      fill: #FFFFFF;\n",
              "    }\n",
              "  </style>\n",
              "\n",
              "    <script>\n",
              "      const buttonEl =\n",
              "        document.querySelector('#df-5ec42bac-2c91-4ca0-84d1-819fb34d732c button.colab-df-convert');\n",
              "      buttonEl.style.display =\n",
              "        google.colab.kernel.accessAllowed ? 'block' : 'none';\n",
              "\n",
              "      async function convertToInteractive(key) {\n",
              "        const element = document.querySelector('#df-5ec42bac-2c91-4ca0-84d1-819fb34d732c');\n",
              "        const dataTable =\n",
              "          await google.colab.kernel.invokeFunction('convertToInteractive',\n",
              "                                                    [key], {});\n",
              "        if (!dataTable) return;\n",
              "\n",
              "        const docLinkHtml = 'Like what you see? Visit the ' +\n",
              "          '<a target=\"_blank\" href=https://colab.research.google.com/notebooks/data_table.ipynb>data table notebook</a>'\n",
              "          + ' to learn more about interactive tables.';\n",
              "        element.innerHTML = '';\n",
              "        dataTable['output_type'] = 'display_data';\n",
              "        await google.colab.output.renderOutput(dataTable, element);\n",
              "        const docLink = document.createElement('div');\n",
              "        docLink.innerHTML = docLinkHtml;\n",
              "        element.appendChild(docLink);\n",
              "      }\n",
              "    </script>\n",
              "  </div>\n",
              "\n",
              "\n",
              "<div id=\"df-8525e86d-67fb-4399-a36c-754a478bd777\">\n",
              "  <button class=\"colab-df-quickchart\" onclick=\"quickchart('df-8525e86d-67fb-4399-a36c-754a478bd777')\"\n",
              "            title=\"Suggest charts\"\n",
              "            style=\"display:none;\">\n",
              "\n",
              "<svg xmlns=\"http://www.w3.org/2000/svg\" height=\"24px\"viewBox=\"0 0 24 24\"\n",
              "     width=\"24px\">\n",
              "    <g>\n",
              "        <path d=\"M19 3H5c-1.1 0-2 .9-2 2v14c0 1.1.9 2 2 2h14c1.1 0 2-.9 2-2V5c0-1.1-.9-2-2-2zM9 17H7v-7h2v7zm4 0h-2V7h2v10zm4 0h-2v-4h2v4z\"/>\n",
              "    </g>\n",
              "</svg>\n",
              "  </button>\n",
              "\n",
              "<style>\n",
              "  .colab-df-quickchart {\n",
              "      --bg-color: #E8F0FE;\n",
              "      --fill-color: #1967D2;\n",
              "      --hover-bg-color: #E2EBFA;\n",
              "      --hover-fill-color: #174EA6;\n",
              "      --disabled-fill-color: #AAA;\n",
              "      --disabled-bg-color: #DDD;\n",
              "  }\n",
              "\n",
              "  [theme=dark] .colab-df-quickchart {\n",
              "      --bg-color: #3B4455;\n",
              "      --fill-color: #D2E3FC;\n",
              "      --hover-bg-color: #434B5C;\n",
              "      --hover-fill-color: #FFFFFF;\n",
              "      --disabled-bg-color: #3B4455;\n",
              "      --disabled-fill-color: #666;\n",
              "  }\n",
              "\n",
              "  .colab-df-quickchart {\n",
              "    background-color: var(--bg-color);\n",
              "    border: none;\n",
              "    border-radius: 50%;\n",
              "    cursor: pointer;\n",
              "    display: none;\n",
              "    fill: var(--fill-color);\n",
              "    height: 32px;\n",
              "    padding: 0;\n",
              "    width: 32px;\n",
              "  }\n",
              "\n",
              "  .colab-df-quickchart:hover {\n",
              "    background-color: var(--hover-bg-color);\n",
              "    box-shadow: 0 1px 2px rgba(60, 64, 67, 0.3), 0 1px 3px 1px rgba(60, 64, 67, 0.15);\n",
              "    fill: var(--button-hover-fill-color);\n",
              "  }\n",
              "\n",
              "  .colab-df-quickchart-complete:disabled,\n",
              "  .colab-df-quickchart-complete:disabled:hover {\n",
              "    background-color: var(--disabled-bg-color);\n",
              "    fill: var(--disabled-fill-color);\n",
              "    box-shadow: none;\n",
              "  }\n",
              "\n",
              "  .colab-df-spinner {\n",
              "    border: 2px solid var(--fill-color);\n",
              "    border-color: transparent;\n",
              "    border-bottom-color: var(--fill-color);\n",
              "    animation:\n",
              "      spin 1s steps(1) infinite;\n",
              "  }\n",
              "\n",
              "  @keyframes spin {\n",
              "    0% {\n",
              "      border-color: transparent;\n",
              "      border-bottom-color: var(--fill-color);\n",
              "      border-left-color: var(--fill-color);\n",
              "    }\n",
              "    20% {\n",
              "      border-color: transparent;\n",
              "      border-left-color: var(--fill-color);\n",
              "      border-top-color: var(--fill-color);\n",
              "    }\n",
              "    30% {\n",
              "      border-color: transparent;\n",
              "      border-left-color: var(--fill-color);\n",
              "      border-top-color: var(--fill-color);\n",
              "      border-right-color: var(--fill-color);\n",
              "    }\n",
              "    40% {\n",
              "      border-color: transparent;\n",
              "      border-right-color: var(--fill-color);\n",
              "      border-top-color: var(--fill-color);\n",
              "    }\n",
              "    60% {\n",
              "      border-color: transparent;\n",
              "      border-right-color: var(--fill-color);\n",
              "    }\n",
              "    80% {\n",
              "      border-color: transparent;\n",
              "      border-right-color: var(--fill-color);\n",
              "      border-bottom-color: var(--fill-color);\n",
              "    }\n",
              "    90% {\n",
              "      border-color: transparent;\n",
              "      border-bottom-color: var(--fill-color);\n",
              "    }\n",
              "  }\n",
              "</style>\n",
              "\n",
              "  <script>\n",
              "    async function quickchart(key) {\n",
              "      const quickchartButtonEl =\n",
              "        document.querySelector('#' + key + ' button');\n",
              "      quickchartButtonEl.disabled = true;  // To prevent multiple clicks.\n",
              "      quickchartButtonEl.classList.add('colab-df-spinner');\n",
              "      try {\n",
              "        const charts = await google.colab.kernel.invokeFunction(\n",
              "            'suggestCharts', [key], {});\n",
              "      } catch (error) {\n",
              "        console.error('Error during call to suggestCharts:', error);\n",
              "      }\n",
              "      quickchartButtonEl.classList.remove('colab-df-spinner');\n",
              "      quickchartButtonEl.classList.add('colab-df-quickchart-complete');\n",
              "    }\n",
              "    (() => {\n",
              "      let quickchartButtonEl =\n",
              "        document.querySelector('#df-8525e86d-67fb-4399-a36c-754a478bd777 button');\n",
              "      quickchartButtonEl.style.display =\n",
              "        google.colab.kernel.accessAllowed ? 'block' : 'none';\n",
              "    })();\n",
              "  </script>\n",
              "</div>\n",
              "\n",
              "    </div>\n",
              "  </div>\n"
            ],
            "application/vnd.google.colaboratory.intrinsic+json": {
              "type": "dataframe",
              "variable_name": "census_data",
              "summary": "{\n  \"name\": \"census_data\",\n  \"rows\": 32561,\n  \"fields\": [\n    {\n      \"column\": \"age\",\n      \"properties\": {\n        \"dtype\": \"number\",\n        \"std\": 13,\n        \"min\": 17,\n        \"max\": 90,\n        \"num_unique_values\": 73,\n        \"samples\": [\n          28,\n          73,\n          35\n        ],\n        \"semantic_type\": \"\",\n        \"description\": \"\"\n      }\n    },\n    {\n      \"column\": \"workclass\",\n      \"properties\": {\n        \"dtype\": \"category\",\n        \"num_unique_values\": 8,\n        \"samples\": [\n          \"Self-emp-not-inc\",\n          \"Self-emp-inc\",\n          \"State-gov\"\n        ],\n        \"semantic_type\": \"\",\n        \"description\": \"\"\n      }\n    },\n    {\n      \"column\": \"fnlwgt\",\n      \"properties\": {\n        \"dtype\": \"number\",\n        \"std\": 105549,\n        \"min\": 12285,\n        \"max\": 1484705,\n        \"num_unique_values\": 21648,\n        \"samples\": [\n          128485,\n          469907,\n          235951\n        ],\n        \"semantic_type\": \"\",\n        \"description\": \"\"\n      }\n    },\n    {\n      \"column\": \"education\",\n      \"properties\": {\n        \"dtype\": \"category\",\n        \"num_unique_values\": 16,\n        \"samples\": [\n          \"Bachelors\",\n          \"HS-grad\",\n          \"Some-college\"\n        ],\n        \"semantic_type\": \"\",\n        \"description\": \"\"\n      }\n    },\n    {\n      \"column\": \"education-num\",\n      \"properties\": {\n        \"dtype\": \"number\",\n        \"std\": 2,\n        \"min\": 1,\n        \"max\": 16,\n        \"num_unique_values\": 16,\n        \"samples\": [\n          13,\n          9,\n          10\n        ],\n        \"semantic_type\": \"\",\n        \"description\": \"\"\n      }\n    },\n    {\n      \"column\": \"marital-status\",\n      \"properties\": {\n        \"dtype\": \"category\",\n        \"num_unique_values\": 7,\n        \"samples\": [\n          \"Never-married\",\n          \"Married-civ-spouse\",\n          \"Married-AF-spouse\"\n        ],\n        \"semantic_type\": \"\",\n        \"description\": \"\"\n      }\n    },\n    {\n      \"column\": \"occupation\",\n      \"properties\": {\n        \"dtype\": \"category\",\n        \"num_unique_values\": 14,\n        \"samples\": [\n          \"Machine-op-inspct\",\n          \"Protective-serv\",\n          \"Adm-clerical\"\n        ],\n        \"semantic_type\": \"\",\n        \"description\": \"\"\n      }\n    },\n    {\n      \"column\": \"relationship\",\n      \"properties\": {\n        \"dtype\": \"category\",\n        \"num_unique_values\": 6,\n        \"samples\": [\n          \"Not-in-family\",\n          \"Husband\",\n          \"Other-relative\"\n        ],\n        \"semantic_type\": \"\",\n        \"description\": \"\"\n      }\n    },\n    {\n      \"column\": \"race\",\n      \"properties\": {\n        \"dtype\": \"category\",\n        \"num_unique_values\": 5,\n        \"samples\": [\n          \"Black\",\n          \"Other\",\n          \"Asian-Pac-Islander\"\n        ],\n        \"semantic_type\": \"\",\n        \"description\": \"\"\n      }\n    },\n    {\n      \"column\": \"sex\",\n      \"properties\": {\n        \"dtype\": \"category\",\n        \"num_unique_values\": 2,\n        \"samples\": [\n          \"Female\",\n          \"Male\"\n        ],\n        \"semantic_type\": \"\",\n        \"description\": \"\"\n      }\n    },\n    {\n      \"column\": \"capital-gain\",\n      \"properties\": {\n        \"dtype\": \"number\",\n        \"std\": 7385,\n        \"min\": 0,\n        \"max\": 99999,\n        \"num_unique_values\": 119,\n        \"samples\": [\n          3781,\n          15831\n        ],\n        \"semantic_type\": \"\",\n        \"description\": \"\"\n      }\n    },\n    {\n      \"column\": \"capital-loss\",\n      \"properties\": {\n        \"dtype\": \"number\",\n        \"std\": 402,\n        \"min\": 0,\n        \"max\": 4356,\n        \"num_unique_values\": 92,\n        \"samples\": [\n          419,\n          2051\n        ],\n        \"semantic_type\": \"\",\n        \"description\": \"\"\n      }\n    },\n    {\n      \"column\": \"hours-per-week\",\n      \"properties\": {\n        \"dtype\": \"number\",\n        \"std\": 12,\n        \"min\": 1,\n        \"max\": 99,\n        \"num_unique_values\": 94,\n        \"samples\": [\n          6,\n          22\n        ],\n        \"semantic_type\": \"\",\n        \"description\": \"\"\n      }\n    },\n    {\n      \"column\": \"native-country\",\n      \"properties\": {\n        \"dtype\": \"category\",\n        \"num_unique_values\": 41,\n        \"samples\": [\n          \"El-Salvador\",\n          \"Italy\"\n        ],\n        \"semantic_type\": \"\",\n        \"description\": \"\"\n      }\n    },\n    {\n      \"column\": \"income\",\n      \"properties\": {\n        \"dtype\": \"category\",\n        \"num_unique_values\": 2,\n        \"samples\": [\n          \">50K\",\n          \"<=50K\"\n        ],\n        \"semantic_type\": \"\",\n        \"description\": \"\"\n      }\n    }\n  ]\n}"
            }
          },
          "metadata": {},
          "execution_count": 18
        }
      ],
      "source": [
        "census_data.head()"
      ]
    },
    {
      "cell_type": "markdown",
      "metadata": {
        "id": "OPX4Y2wEeH8G"
      },
      "source": [
        "Separando os dados em previsores e classe"
      ]
    },
    {
      "cell_type": "code",
      "execution_count": 19,
      "metadata": {
        "id": "IVAR9hLUeCRC"
      },
      "outputs": [],
      "source": [
        "X_census = census_data.drop('income', axis=1).values\n",
        "y_census = census_data['income'].values"
      ]
    },
    {
      "cell_type": "markdown",
      "metadata": {
        "id": "ShoMS9Y5g4JC"
      },
      "source": [
        "Utilizando o LabelEncoder para deixar todas as features numéricas:"
      ]
    },
    {
      "cell_type": "code",
      "execution_count": 20,
      "metadata": {
        "id": "z88HTz52gmsV"
      },
      "outputs": [],
      "source": [
        "from sklearn.preprocessing import LabelEncoder\n",
        "\n",
        "label_encoder_workclass = LabelEncoder()\n",
        "label_encoder_education = LabelEncoder()\n",
        "label_encoder_marital = LabelEncoder()\n",
        "label_encoder_occupation = LabelEncoder()\n",
        "label_encoder_relationship = LabelEncoder()\n",
        "label_encoder_race = LabelEncoder()\n",
        "label_encoder_sex = LabelEncoder()\n",
        "label_encoder_country = LabelEncoder()\n",
        "\n",
        "X_census[:,1] = label_encoder_workclass.fit_transform(X_census[:,1])\n",
        "X_census[:,3] = label_encoder_education.fit_transform(X_census[:,3])\n",
        "X_census[:,5] = label_encoder_marital.fit_transform(X_census[:,5])\n",
        "X_census[:,6] = label_encoder_occupation.fit_transform(X_census[:,6])\n",
        "X_census[:,7] = label_encoder_relationship.fit_transform(X_census[:,7])\n",
        "X_census[:,8] = label_encoder_race.fit_transform(X_census[:,8])\n",
        "X_census[:,9] = label_encoder_sex.fit_transform(X_census[:,9])\n",
        "X_census[:,13] = label_encoder_country.fit_transform(X_census[:,13])\n"
      ]
    },
    {
      "cell_type": "markdown",
      "metadata": {
        "id": "VBDiABpHqr02"
      },
      "source": [
        "Utilizaremos o método de **OneHotEncoder** para deixar todas as features numéricas e sem diferenças de pesos para posteriormente não termos complicações ao utilizarmos algoritmos de previsões"
      ]
    },
    {
      "cell_type": "code",
      "execution_count": 21,
      "metadata": {
        "id": "FANEYtRnNJEg"
      },
      "outputs": [],
      "source": [
        "from sklearn.preprocessing import OneHotEncoder\n",
        "from sklearn.compose import ColumnTransformer\n",
        "\n",
        "onehot_adult = ColumnTransformer(transformers=[('OneHot', OneHotEncoder(), [1, 3, 5, 6, 7, 8, 9, 13])], remainder='passthrough')\n",
        "X_census = onehot_adult.fit_transform(X_census).toarray()"
      ]
    },
    {
      "cell_type": "markdown",
      "metadata": {
        "id": "s8UqIPUQsvaN"
      },
      "source": [
        "Verificamos agora que as features que antes eram strings, agora são inteiros"
      ]
    },
    {
      "cell_type": "code",
      "execution_count": 22,
      "metadata": {
        "colab": {
          "base_uri": "https://localhost:8080/"
        },
        "id": "vAZYItS8si1F",
        "outputId": "74c31f42-6b11-4aa8-e594-bf80595a73d1"
      },
      "outputs": [
        {
          "output_type": "execute_result",
          "data": {
            "text/plain": [
              "(32561, 105)"
            ]
          },
          "metadata": {},
          "execution_count": 22
        }
      ],
      "source": [
        "X_census.shape"
      ]
    },
    {
      "cell_type": "markdown",
      "metadata": {
        "id": "W9U8H40ZqwDB"
      },
      "source": [
        " **Divisão dos dados em treinamento e teste:**"
      ]
    },
    {
      "cell_type": "code",
      "execution_count": 23,
      "metadata": {
        "id": "cYHiuBeTqrhe"
      },
      "outputs": [],
      "source": [
        "from sklearn.model_selection import train_test_split\n",
        "\n",
        "X_train, X_test, y_train, y_test = train_test_split(X_census,y_census, test_size=0.2, random_state=42)\n",
        "\n",
        "y_train = y_train.reshape(-1, 1)\n",
        "y_test = y_test.reshape(-1, 1)"
      ]
    },
    {
      "cell_type": "code",
      "execution_count": 24,
      "metadata": {
        "colab": {
          "base_uri": "https://localhost:8080/"
        },
        "id": "djfMkanJq3Tp",
        "outputId": "94a331b7-bb52-47c7-8d35-b93632cc8549"
      },
      "outputs": [
        {
          "output_type": "execute_result",
          "data": {
            "text/plain": [
              "((26048, 105), (26048, 1))"
            ]
          },
          "metadata": {},
          "execution_count": 24
        }
      ],
      "source": [
        "X_train.shape, y_train.shape"
      ]
    },
    {
      "cell_type": "markdown",
      "metadata": {
        "id": "MBmLE-8eBFIh"
      },
      "source": [
        "**Aplicando a normalização dos dados:**"
      ]
    },
    {
      "cell_type": "code",
      "execution_count": 25,
      "metadata": {
        "id": "Q8wiwNqPi158"
      },
      "outputs": [],
      "source": [
        "from sklearn.preprocessing import StandardScaler\n",
        "scaler_census = StandardScaler()\n",
        "\n",
        "X_train_scaled = scaler_census.fit_transform(X_train)\n",
        "\n",
        "X_test_scaled = scaler_census.transform(X_test)"
      ]
    },
    {
      "cell_type": "code",
      "execution_count": 26,
      "metadata": {
        "colab": {
          "base_uri": "https://localhost:8080/"
        },
        "id": "ZgpU_oDMBfi7",
        "outputId": "e5d31b7a-7185-4c74-e2d5-b6d48098dc5a"
      },
      "outputs": [
        {
          "output_type": "execute_result",
          "data": {
            "text/plain": [
              "array([[0.000e+00, 1.000e+00, 0.000e+00, ..., 0.000e+00, 0.000e+00,\n",
              "        5.000e+01],\n",
              "       [0.000e+00, 0.000e+00, 0.000e+00, ..., 0.000e+00, 1.887e+03,\n",
              "        5.000e+01],\n",
              "       [0.000e+00, 0.000e+00, 0.000e+00, ..., 0.000e+00, 0.000e+00,\n",
              "        4.000e+01],\n",
              "       ...,\n",
              "       [0.000e+00, 0.000e+00, 0.000e+00, ..., 0.000e+00, 0.000e+00,\n",
              "        2.000e+01],\n",
              "       [0.000e+00, 0.000e+00, 0.000e+00, ..., 0.000e+00, 0.000e+00,\n",
              "        8.400e+01],\n",
              "       [0.000e+00, 0.000e+00, 0.000e+00, ..., 0.000e+00, 0.000e+00,\n",
              "        6.000e+01]])"
            ]
          },
          "metadata": {},
          "execution_count": 26
        }
      ],
      "source": [
        "X_train"
      ]
    },
    {
      "cell_type": "code",
      "execution_count": 27,
      "metadata": {
        "colab": {
          "base_uri": "https://localhost:8080/"
        },
        "id": "zSaBNFpJZt0G",
        "outputId": "695fa686-e72a-40c1-9fad-201f5eb6cfb4"
      },
      "outputs": [
        {
          "output_type": "execute_result",
          "data": {
            "text/plain": [
              "array([[-0.17441476,  3.77736207, -0.01639533, ..., -0.14571521,\n",
              "        -0.21799808,  0.77946024],\n",
              "       [-0.17441476, -0.26473501, -0.01639533, ..., -0.14571521,\n",
              "         4.45716784,  0.77946024],\n",
              "       [-0.17441476, -0.26473501, -0.01639533, ..., -0.14571521,\n",
              "        -0.21799808, -0.03151042],\n",
              "       ...,\n",
              "       [-0.17441476, -0.26473501, -0.01639533, ..., -0.14571521,\n",
              "        -0.21799808, -1.65345173],\n",
              "       [-0.17441476, -0.26473501, -0.01639533, ..., -0.14571521,\n",
              "        -0.21799808,  3.53676046],\n",
              "       [-0.17441476, -0.26473501, -0.01639533, ..., -0.14571521,\n",
              "        -0.21799808,  1.59043089]])"
            ]
          },
          "metadata": {},
          "execution_count": 27
        }
      ],
      "source": [
        "X_train_scaled"
      ]
    },
    {
      "cell_type": "markdown",
      "metadata": {
        "id": "V-8Af2addv0B"
      },
      "source": [
        "# **Previsões dos dados utilizando modelos preditivos**\n",
        "\n",
        "Para prever os dados de nosso conjunto de dados optamos por utilizar os seguintes algoritmos:\n",
        "\n",
        "**KNN**: Ele funciona encontrando os K exemplos de treinamento mais próximos de uma nova instância e fazendo uma predição com base nas classes desses exemplos (no caso da classificação) ou na média de seus valores (no caso da regressão).\n",
        "\n",
        "**Random Forests**: O algoritmo Random Forest é uma técnica que combina múltiplas árvores de decisão para criar um modelo robusto e preciso.\n",
        "\n",
        "**Árvores de decisão**: As árvores de decisão são modelos que aprendem a tomar decisões a partir dos dados, dividindo-os em uma série de perguntas simples que levam a uma conclusão ou previsão."
      ]
    },
    {
      "cell_type": "markdown",
      "metadata": {
        "id": "vUCaTuwcsbPL"
      },
      "source": [
        "### KNeighborsClassifier\n",
        "Utilizando o primeiro modelo (KNN):"
      ]
    },
    {
      "cell_type": "markdown",
      "source": [
        "TESTES:"
      ],
      "metadata": {
        "id": "2hRt8RzIqiTU"
      }
    },
    {
      "cell_type": "code",
      "source": [
        "from sklearn.neighbors import KNeighborsClassifier\n",
        "\n",
        "knn = KNeighborsClassifier(n_neighbors=10, metric='euclidean', weights='uniform', algorithm='auto')"
      ],
      "metadata": {
        "id": "0ezPj9y3ndBq"
      },
      "execution_count": 28,
      "outputs": []
    },
    {
      "cell_type": "code",
      "source": [
        "from sklearn.model_selection import cross_val_score, KFold\n",
        "from sklearn.metrics import f1_score\n",
        "\n",
        "kf = KFold(n_splits=3, shuffle=True, random_state=42)\n",
        "\n",
        "cv_scores_train_knn = cross_val_score(knn, X_train, y_train, cv=kf, scoring='f1_macro')"
      ],
      "metadata": {
        "colab": {
          "base_uri": "https://localhost:8080/"
        },
        "id": "fxuW7rLipK9-",
        "outputId": "8fddd873-a44e-4471-ab1e-3d653cbf7a34"
      },
      "execution_count": 29,
      "outputs": [
        {
          "output_type": "stream",
          "name": "stderr",
          "text": [
            "/usr/local/lib/python3.10/dist-packages/sklearn/neighbors/_classification.py:215: DataConversionWarning:\n",
            "\n",
            "A column-vector y was passed when a 1d array was expected. Please change the shape of y to (n_samples,), for example using ravel().\n",
            "\n",
            "/usr/local/lib/python3.10/dist-packages/sklearn/neighbors/_classification.py:215: DataConversionWarning:\n",
            "\n",
            "A column-vector y was passed when a 1d array was expected. Please change the shape of y to (n_samples,), for example using ravel().\n",
            "\n",
            "/usr/local/lib/python3.10/dist-packages/sklearn/neighbors/_classification.py:215: DataConversionWarning:\n",
            "\n",
            "A column-vector y was passed when a 1d array was expected. Please change the shape of y to (n_samples,), for example using ravel().\n",
            "\n"
          ]
        }
      ]
    },
    {
      "cell_type": "code",
      "source": [
        "print(\"Cross-Validation Scores on Training Data:\", cv_scores_train_knn)"
      ],
      "metadata": {
        "colab": {
          "base_uri": "https://localhost:8080/"
        },
        "id": "XwWeKwb0pVpX",
        "outputId": "d1b3e564-da3a-4184-8e87-2b5a4e3d54a5"
      },
      "execution_count": 30,
      "outputs": [
        {
          "output_type": "stream",
          "name": "stdout",
          "text": [
            "Cross-Validation Scores on Training Data: [0.61446339 0.5963955  0.59931172]\n"
          ]
        }
      ]
    },
    {
      "cell_type": "markdown",
      "source": [
        "Hiperparâmetros utilizados"
      ],
      "metadata": {
        "id": "vL_uoO06qYiA"
      }
    },
    {
      "cell_type": "code",
      "execution_count": 31,
      "metadata": {
        "id": "b7vYEU3KCzJW"
      },
      "outputs": [],
      "source": [
        "knn = KNeighborsClassifier(n_neighbors=15, weights='uniform')"
      ]
    },
    {
      "cell_type": "markdown",
      "metadata": {
        "id": "Z7yjsXV4f2qe"
      },
      "source": [
        "Utilizaremos a **validação cruzada com K-Fold** sobre o conjunto de treinamento para que tenhamos um desempenho melhor ao prever os dados, afinal, somente dividir os dados em conjuntos de treino e teste não é o suficiente para o modelo conseguir generalizar previsões para dados não vistos."
      ]
    },
    {
      "cell_type": "code",
      "execution_count": 32,
      "metadata": {
        "colab": {
          "base_uri": "https://localhost:8080/"
        },
        "id": "-j9bbZFIf1di",
        "outputId": "5f9987d7-4fc9-4d3f-ceb2-b2a561529f6d"
      },
      "outputs": [
        {
          "output_type": "stream",
          "name": "stderr",
          "text": [
            "/usr/local/lib/python3.10/dist-packages/sklearn/neighbors/_classification.py:215: DataConversionWarning:\n",
            "\n",
            "A column-vector y was passed when a 1d array was expected. Please change the shape of y to (n_samples,), for example using ravel().\n",
            "\n",
            "/usr/local/lib/python3.10/dist-packages/sklearn/neighbors/_classification.py:215: DataConversionWarning:\n",
            "\n",
            "A column-vector y was passed when a 1d array was expected. Please change the shape of y to (n_samples,), for example using ravel().\n",
            "\n",
            "/usr/local/lib/python3.10/dist-packages/sklearn/neighbors/_classification.py:215: DataConversionWarning:\n",
            "\n",
            "A column-vector y was passed when a 1d array was expected. Please change the shape of y to (n_samples,), for example using ravel().\n",
            "\n"
          ]
        }
      ],
      "source": [
        "cv_scores_train_knn = cross_val_score(knn, X_train, y_train, cv=kf, scoring='f1_macro')"
      ]
    },
    {
      "cell_type": "markdown",
      "metadata": {
        "id": "4Kriz8Ushg_Q"
      },
      "source": [
        "Podemos ver abaixo o desempenho do uso da validação cruzada em cada \"fold\" do conjunto de treinamento"
      ]
    },
    {
      "cell_type": "code",
      "execution_count": 33,
      "metadata": {
        "colab": {
          "base_uri": "https://localhost:8080/"
        },
        "id": "E4OUFbB1hYC2",
        "outputId": "76dd9636-3a9f-48a9-a46c-09e889f1d8a8"
      },
      "outputs": [
        {
          "output_type": "stream",
          "name": "stdout",
          "text": [
            "Cross-Validation Scores on Training Data: [0.61697382 0.59276456 0.60479379]\n"
          ]
        }
      ],
      "source": [
        "print(\"Cross-Validation Scores on Training Data:\", cv_scores_train_knn)"
      ]
    },
    {
      "cell_type": "markdown",
      "metadata": {
        "id": "yPfizqi4m3VP"
      },
      "source": [
        "Para descobrir o f1 utilizando a validação cruzada, obtenos a média do desempenho dos folds:"
      ]
    },
    {
      "cell_type": "markdown",
      "metadata": {
        "id": "5Ygch42Bog7c"
      },
      "source": [
        "Percebemos que o número de vizinhos sendo igual a 15 o desempenho melhora. Iremos utilizá-lo:"
      ]
    },
    {
      "cell_type": "code",
      "execution_count": 34,
      "metadata": {
        "colab": {
          "base_uri": "https://localhost:8080/",
          "height": 149
        },
        "id": "-NVz-a3hhemO",
        "outputId": "d6b45cd1-23bc-477b-d8bc-0e4a80acc548"
      },
      "outputs": [
        {
          "output_type": "stream",
          "name": "stderr",
          "text": [
            "/usr/local/lib/python3.10/dist-packages/sklearn/neighbors/_classification.py:215: DataConversionWarning:\n",
            "\n",
            "A column-vector y was passed when a 1d array was expected. Please change the shape of y to (n_samples,), for example using ravel().\n",
            "\n"
          ]
        },
        {
          "output_type": "execute_result",
          "data": {
            "text/plain": [
              "KNeighborsClassifier(n_neighbors=15)"
            ],
            "text/html": [
              "<style>#sk-container-id-1 {color: black;background-color: white;}#sk-container-id-1 pre{padding: 0;}#sk-container-id-1 div.sk-toggleable {background-color: white;}#sk-container-id-1 label.sk-toggleable__label {cursor: pointer;display: block;width: 100%;margin-bottom: 0;padding: 0.3em;box-sizing: border-box;text-align: center;}#sk-container-id-1 label.sk-toggleable__label-arrow:before {content: \"▸\";float: left;margin-right: 0.25em;color: #696969;}#sk-container-id-1 label.sk-toggleable__label-arrow:hover:before {color: black;}#sk-container-id-1 div.sk-estimator:hover label.sk-toggleable__label-arrow:before {color: black;}#sk-container-id-1 div.sk-toggleable__content {max-height: 0;max-width: 0;overflow: hidden;text-align: left;background-color: #f0f8ff;}#sk-container-id-1 div.sk-toggleable__content pre {margin: 0.2em;color: black;border-radius: 0.25em;background-color: #f0f8ff;}#sk-container-id-1 input.sk-toggleable__control:checked~div.sk-toggleable__content {max-height: 200px;max-width: 100%;overflow: auto;}#sk-container-id-1 input.sk-toggleable__control:checked~label.sk-toggleable__label-arrow:before {content: \"▾\";}#sk-container-id-1 div.sk-estimator input.sk-toggleable__control:checked~label.sk-toggleable__label {background-color: #d4ebff;}#sk-container-id-1 div.sk-label input.sk-toggleable__control:checked~label.sk-toggleable__label {background-color: #d4ebff;}#sk-container-id-1 input.sk-hidden--visually {border: 0;clip: rect(1px 1px 1px 1px);clip: rect(1px, 1px, 1px, 1px);height: 1px;margin: -1px;overflow: hidden;padding: 0;position: absolute;width: 1px;}#sk-container-id-1 div.sk-estimator {font-family: monospace;background-color: #f0f8ff;border: 1px dotted black;border-radius: 0.25em;box-sizing: border-box;margin-bottom: 0.5em;}#sk-container-id-1 div.sk-estimator:hover {background-color: #d4ebff;}#sk-container-id-1 div.sk-parallel-item::after {content: \"\";width: 100%;border-bottom: 1px solid gray;flex-grow: 1;}#sk-container-id-1 div.sk-label:hover label.sk-toggleable__label {background-color: #d4ebff;}#sk-container-id-1 div.sk-serial::before {content: \"\";position: absolute;border-left: 1px solid gray;box-sizing: border-box;top: 0;bottom: 0;left: 50%;z-index: 0;}#sk-container-id-1 div.sk-serial {display: flex;flex-direction: column;align-items: center;background-color: white;padding-right: 0.2em;padding-left: 0.2em;position: relative;}#sk-container-id-1 div.sk-item {position: relative;z-index: 1;}#sk-container-id-1 div.sk-parallel {display: flex;align-items: stretch;justify-content: center;background-color: white;position: relative;}#sk-container-id-1 div.sk-item::before, #sk-container-id-1 div.sk-parallel-item::before {content: \"\";position: absolute;border-left: 1px solid gray;box-sizing: border-box;top: 0;bottom: 0;left: 50%;z-index: -1;}#sk-container-id-1 div.sk-parallel-item {display: flex;flex-direction: column;z-index: 1;position: relative;background-color: white;}#sk-container-id-1 div.sk-parallel-item:first-child::after {align-self: flex-end;width: 50%;}#sk-container-id-1 div.sk-parallel-item:last-child::after {align-self: flex-start;width: 50%;}#sk-container-id-1 div.sk-parallel-item:only-child::after {width: 0;}#sk-container-id-1 div.sk-dashed-wrapped {border: 1px dashed gray;margin: 0 0.4em 0.5em 0.4em;box-sizing: border-box;padding-bottom: 0.4em;background-color: white;}#sk-container-id-1 div.sk-label label {font-family: monospace;font-weight: bold;display: inline-block;line-height: 1.2em;}#sk-container-id-1 div.sk-label-container {text-align: center;}#sk-container-id-1 div.sk-container {/* jupyter's `normalize.less` sets `[hidden] { display: none; }` but bootstrap.min.css set `[hidden] { display: none !important; }` so we also need the `!important` here to be able to override the default hidden behavior on the sphinx rendered scikit-learn.org. See: https://github.com/scikit-learn/scikit-learn/issues/21755 */display: inline-block !important;position: relative;}#sk-container-id-1 div.sk-text-repr-fallback {display: none;}</style><div id=\"sk-container-id-1\" class=\"sk-top-container\"><div class=\"sk-text-repr-fallback\"><pre>KNeighborsClassifier(n_neighbors=15)</pre><b>In a Jupyter environment, please rerun this cell to show the HTML representation or trust the notebook. <br />On GitHub, the HTML representation is unable to render, please try loading this page with nbviewer.org.</b></div><div class=\"sk-container\" hidden><div class=\"sk-item\"><div class=\"sk-estimator sk-toggleable\"><input class=\"sk-toggleable__control sk-hidden--visually\" id=\"sk-estimator-id-1\" type=\"checkbox\" checked><label for=\"sk-estimator-id-1\" class=\"sk-toggleable__label sk-toggleable__label-arrow\">KNeighborsClassifier</label><div class=\"sk-toggleable__content\"><pre>KNeighborsClassifier(n_neighbors=15)</pre></div></div></div></div></div>"
            ]
          },
          "metadata": {},
          "execution_count": 34
        }
      ],
      "source": [
        "knn.fit(X_train, y_train)"
      ]
    },
    {
      "cell_type": "markdown",
      "metadata": {
        "id": "ISdjqV3Wkje7"
      },
      "source": [
        "Obtendo a previsão utilizando nosso modelo, podemos perceber que nos dois primeiros predicts houve acerto do modelo"
      ]
    },
    {
      "cell_type": "code",
      "execution_count": 35,
      "metadata": {
        "colab": {
          "base_uri": "https://localhost:8080/"
        },
        "id": "jndxeA7DiDuM",
        "outputId": "65a5d83a-9223-4d75-c04a-65218534e5b8"
      },
      "outputs": [
        {
          "output_type": "stream",
          "name": "stdout",
          "text": [
            "Predictions: ['<=50K' '<=50K' '<=50K' '<=50K' '<=50K' '<=50K' '>50K'], Actual Values: [['<=50K']\n",
            " ['<=50K']\n",
            " ['>50K']\n",
            " ['<=50K']\n",
            " ['<=50K']\n",
            " ['>50K']\n",
            " ['>50K']]\n"
          ]
        }
      ],
      "source": [
        "y_pred_knn = knn.predict(X_test)\n",
        "print(\"Predictions: {}, Actual Values: {}\".format(y_pred_knn[:7], y_test[:7]))\n"
      ]
    },
    {
      "cell_type": "markdown",
      "metadata": {
        "id": "MphXvtalnknN"
      },
      "source": [
        "Avaliando o desempenho do modelo utilizando a métrica f1 score, temos:"
      ]
    },
    {
      "cell_type": "code",
      "execution_count": 36,
      "metadata": {
        "colab": {
          "base_uri": "https://localhost:8080/"
        },
        "id": "KpBl13i2kANQ",
        "outputId": "32bce4d8-d9a1-42b8-980d-70b48307332a"
      },
      "outputs": [
        {
          "output_type": "stream",
          "name": "stdout",
          "text": [
            "F1-Score: 0.6220441890544983\n"
          ]
        }
      ],
      "source": [
        "f1_knn = f1_score(y_test, y_pred_knn, average='macro')\n",
        "print(\"F1-Score:\", f1_knn)"
      ]
    },
    {
      "cell_type": "markdown",
      "metadata": {
        "id": "yqeqQhhTrV1y"
      },
      "source": [
        "Agora iremos treinar o modelo com os dados de treinamento escalonados"
      ]
    },
    {
      "cell_type": "code",
      "execution_count": 37,
      "metadata": {
        "colab": {
          "base_uri": "https://localhost:8080/",
          "height": 149
        },
        "id": "RdUgp05IZ70r",
        "outputId": "f2c984bd-94ba-4aba-d133-e2f39a0eea77"
      },
      "outputs": [
        {
          "output_type": "stream",
          "name": "stderr",
          "text": [
            "/usr/local/lib/python3.10/dist-packages/sklearn/neighbors/_classification.py:215: DataConversionWarning:\n",
            "\n",
            "A column-vector y was passed when a 1d array was expected. Please change the shape of y to (n_samples,), for example using ravel().\n",
            "\n"
          ]
        },
        {
          "output_type": "execute_result",
          "data": {
            "text/plain": [
              "KNeighborsClassifier(n_neighbors=15)"
            ],
            "text/html": [
              "<style>#sk-container-id-2 {color: black;background-color: white;}#sk-container-id-2 pre{padding: 0;}#sk-container-id-2 div.sk-toggleable {background-color: white;}#sk-container-id-2 label.sk-toggleable__label {cursor: pointer;display: block;width: 100%;margin-bottom: 0;padding: 0.3em;box-sizing: border-box;text-align: center;}#sk-container-id-2 label.sk-toggleable__label-arrow:before {content: \"▸\";float: left;margin-right: 0.25em;color: #696969;}#sk-container-id-2 label.sk-toggleable__label-arrow:hover:before {color: black;}#sk-container-id-2 div.sk-estimator:hover label.sk-toggleable__label-arrow:before {color: black;}#sk-container-id-2 div.sk-toggleable__content {max-height: 0;max-width: 0;overflow: hidden;text-align: left;background-color: #f0f8ff;}#sk-container-id-2 div.sk-toggleable__content pre {margin: 0.2em;color: black;border-radius: 0.25em;background-color: #f0f8ff;}#sk-container-id-2 input.sk-toggleable__control:checked~div.sk-toggleable__content {max-height: 200px;max-width: 100%;overflow: auto;}#sk-container-id-2 input.sk-toggleable__control:checked~label.sk-toggleable__label-arrow:before {content: \"▾\";}#sk-container-id-2 div.sk-estimator input.sk-toggleable__control:checked~label.sk-toggleable__label {background-color: #d4ebff;}#sk-container-id-2 div.sk-label input.sk-toggleable__control:checked~label.sk-toggleable__label {background-color: #d4ebff;}#sk-container-id-2 input.sk-hidden--visually {border: 0;clip: rect(1px 1px 1px 1px);clip: rect(1px, 1px, 1px, 1px);height: 1px;margin: -1px;overflow: hidden;padding: 0;position: absolute;width: 1px;}#sk-container-id-2 div.sk-estimator {font-family: monospace;background-color: #f0f8ff;border: 1px dotted black;border-radius: 0.25em;box-sizing: border-box;margin-bottom: 0.5em;}#sk-container-id-2 div.sk-estimator:hover {background-color: #d4ebff;}#sk-container-id-2 div.sk-parallel-item::after {content: \"\";width: 100%;border-bottom: 1px solid gray;flex-grow: 1;}#sk-container-id-2 div.sk-label:hover label.sk-toggleable__label {background-color: #d4ebff;}#sk-container-id-2 div.sk-serial::before {content: \"\";position: absolute;border-left: 1px solid gray;box-sizing: border-box;top: 0;bottom: 0;left: 50%;z-index: 0;}#sk-container-id-2 div.sk-serial {display: flex;flex-direction: column;align-items: center;background-color: white;padding-right: 0.2em;padding-left: 0.2em;position: relative;}#sk-container-id-2 div.sk-item {position: relative;z-index: 1;}#sk-container-id-2 div.sk-parallel {display: flex;align-items: stretch;justify-content: center;background-color: white;position: relative;}#sk-container-id-2 div.sk-item::before, #sk-container-id-2 div.sk-parallel-item::before {content: \"\";position: absolute;border-left: 1px solid gray;box-sizing: border-box;top: 0;bottom: 0;left: 50%;z-index: -1;}#sk-container-id-2 div.sk-parallel-item {display: flex;flex-direction: column;z-index: 1;position: relative;background-color: white;}#sk-container-id-2 div.sk-parallel-item:first-child::after {align-self: flex-end;width: 50%;}#sk-container-id-2 div.sk-parallel-item:last-child::after {align-self: flex-start;width: 50%;}#sk-container-id-2 div.sk-parallel-item:only-child::after {width: 0;}#sk-container-id-2 div.sk-dashed-wrapped {border: 1px dashed gray;margin: 0 0.4em 0.5em 0.4em;box-sizing: border-box;padding-bottom: 0.4em;background-color: white;}#sk-container-id-2 div.sk-label label {font-family: monospace;font-weight: bold;display: inline-block;line-height: 1.2em;}#sk-container-id-2 div.sk-label-container {text-align: center;}#sk-container-id-2 div.sk-container {/* jupyter's `normalize.less` sets `[hidden] { display: none; }` but bootstrap.min.css set `[hidden] { display: none !important; }` so we also need the `!important` here to be able to override the default hidden behavior on the sphinx rendered scikit-learn.org. See: https://github.com/scikit-learn/scikit-learn/issues/21755 */display: inline-block !important;position: relative;}#sk-container-id-2 div.sk-text-repr-fallback {display: none;}</style><div id=\"sk-container-id-2\" class=\"sk-top-container\"><div class=\"sk-text-repr-fallback\"><pre>KNeighborsClassifier(n_neighbors=15)</pre><b>In a Jupyter environment, please rerun this cell to show the HTML representation or trust the notebook. <br />On GitHub, the HTML representation is unable to render, please try loading this page with nbviewer.org.</b></div><div class=\"sk-container\" hidden><div class=\"sk-item\"><div class=\"sk-estimator sk-toggleable\"><input class=\"sk-toggleable__control sk-hidden--visually\" id=\"sk-estimator-id-2\" type=\"checkbox\" checked><label for=\"sk-estimator-id-2\" class=\"sk-toggleable__label sk-toggleable__label-arrow\">KNeighborsClassifier</label><div class=\"sk-toggleable__content\"><pre>KNeighborsClassifier(n_neighbors=15)</pre></div></div></div></div></div>"
            ]
          },
          "metadata": {},
          "execution_count": 37
        }
      ],
      "source": [
        "knn.fit(X_train_scaled, y_train)"
      ]
    },
    {
      "cell_type": "markdown",
      "metadata": {
        "id": "LmpNBj5gryAF"
      },
      "source": [
        "Repetimos os mesmos passos anteriores utilizando os dados escalonados"
      ]
    },
    {
      "cell_type": "code",
      "execution_count": 38,
      "metadata": {
        "colab": {
          "base_uri": "https://localhost:8080/"
        },
        "id": "g13xkC7yaShT",
        "outputId": "1dc768b3-e62a-4234-d75a-07e9bdcd80ba"
      },
      "outputs": [
        {
          "output_type": "stream",
          "name": "stdout",
          "text": [
            "Predictions: ['<=50K' '>50K' '>50K' '<=50K' '<=50K' '>50K' '<=50K'], Actual Values: [['<=50K']\n",
            " ['<=50K']\n",
            " ['>50K']\n",
            " ['<=50K']\n",
            " ['<=50K']\n",
            " ['>50K']\n",
            " ['>50K']]\n"
          ]
        }
      ],
      "source": [
        "y_pred_knn_scaled = knn.predict(X_test_scaled)\n",
        "print(\"Predictions: {}, Actual Values: {}\".format(y_pred_knn_scaled[:7], y_test[:7]))"
      ]
    },
    {
      "cell_type": "markdown",
      "metadata": {
        "id": "R2dVmzOVsE-m"
      },
      "source": [
        "Avaliando o desempenho do modelo utilizando os dados escalonados, temos:"
      ]
    },
    {
      "cell_type": "code",
      "execution_count": 39,
      "metadata": {
        "colab": {
          "base_uri": "https://localhost:8080/"
        },
        "id": "KJekh87GaS3h",
        "outputId": "d6e52b18-38d5-4c2b-cc5f-e6592e14d890"
      },
      "outputs": [
        {
          "output_type": "stream",
          "name": "stdout",
          "text": [
            "F1-Score: 0.7530284247841499\n"
          ]
        }
      ],
      "source": [
        "f1_knn_scaled = f1_score(y_test, y_pred_knn_scaled, average='macro')\n",
        "print(\"F1-Score:\", f1_knn_scaled)"
      ]
    },
    {
      "cell_type": "markdown",
      "metadata": {
        "id": "SWomRjFWHd4l"
      },
      "source": [
        "### Random Forest\n",
        "Utilizando o segundo modelo (Random Forest):"
      ]
    },
    {
      "cell_type": "markdown",
      "source": [
        "TESTES:"
      ],
      "metadata": {
        "id": "I1XDbGVCss1W"
      }
    },
    {
      "cell_type": "code",
      "source": [
        "from sklearn.ensemble import RandomForestClassifier\n",
        "\n",
        "rfc = RandomForestClassifier(n_estimators=20, max_depth=20, min_samples_split=5, min_samples_leaf=3, random_state=42)"
      ],
      "metadata": {
        "id": "EsVOx274swFg"
      },
      "execution_count": 40,
      "outputs": []
    },
    {
      "cell_type": "code",
      "source": [
        "cv_scores_train_RF = cross_val_score(rfc, X_train, y_train, cv=kf, scoring='f1_macro')"
      ],
      "metadata": {
        "colab": {
          "base_uri": "https://localhost:8080/"
        },
        "id": "lKqISd2cs7RX",
        "outputId": "7040a197-ba68-462f-ac24-69fe99821867"
      },
      "execution_count": 41,
      "outputs": [
        {
          "output_type": "stream",
          "name": "stderr",
          "text": [
            "/usr/local/lib/python3.10/dist-packages/sklearn/model_selection/_validation.py:686: DataConversionWarning:\n",
            "\n",
            "A column-vector y was passed when a 1d array was expected. Please change the shape of y to (n_samples,), for example using ravel().\n",
            "\n",
            "/usr/local/lib/python3.10/dist-packages/sklearn/model_selection/_validation.py:686: DataConversionWarning:\n",
            "\n",
            "A column-vector y was passed when a 1d array was expected. Please change the shape of y to (n_samples,), for example using ravel().\n",
            "\n",
            "/usr/local/lib/python3.10/dist-packages/sklearn/model_selection/_validation.py:686: DataConversionWarning:\n",
            "\n",
            "A column-vector y was passed when a 1d array was expected. Please change the shape of y to (n_samples,), for example using ravel().\n",
            "\n"
          ]
        }
      ]
    },
    {
      "cell_type": "code",
      "source": [
        "print(\"Cross-Validation Scores on Training Data:\", cv_scores_train_RF)"
      ],
      "metadata": {
        "colab": {
          "base_uri": "https://localhost:8080/"
        },
        "id": "CBddryIjs7uF",
        "outputId": "f38379e9-43f4-4f2e-807e-3caf6a0d4cbd"
      },
      "execution_count": 42,
      "outputs": [
        {
          "output_type": "stream",
          "name": "stdout",
          "text": [
            "Cross-Validation Scores on Training Data: [0.78758808 0.78492903 0.79392916]\n"
          ]
        }
      ]
    },
    {
      "cell_type": "markdown",
      "source": [
        "Hiperparâmetros utilizados"
      ],
      "metadata": {
        "id": "e_vWKT8ntsXN"
      }
    },
    {
      "cell_type": "markdown",
      "source": [
        "Importamos a classe RandomForestClassifier do módulo ensemble da biblioteca scikit-learn e inicializamos o RandomForestClassifier com parâmetros aleatórios para começarmos a testar quais são os melhores a serem utilizados. Logo após isso calculamos a pontuação de validação cruzada (cross-validation) para o RandomForestClassifier"
      ],
      "metadata": {
        "id": "WE7XS4Arscy5"
      }
    },
    {
      "cell_type": "code",
      "execution_count": 43,
      "metadata": {
        "id": "PpSel5ZCIqIl"
      },
      "outputs": [],
      "source": [
        "rfc = RandomForestClassifier(n_estimators=70, max_depth=50, min_samples_split=20, min_samples_leaf=1, random_state=42)"
      ]
    },
    {
      "cell_type": "code",
      "execution_count": 44,
      "metadata": {
        "id": "JATTl4LVJLVk",
        "colab": {
          "base_uri": "https://localhost:8080/"
        },
        "outputId": "f8e11b34-810d-4e0b-a157-90ba51982b60"
      },
      "outputs": [
        {
          "output_type": "stream",
          "name": "stderr",
          "text": [
            "/usr/local/lib/python3.10/dist-packages/sklearn/model_selection/_validation.py:686: DataConversionWarning:\n",
            "\n",
            "A column-vector y was passed when a 1d array was expected. Please change the shape of y to (n_samples,), for example using ravel().\n",
            "\n",
            "/usr/local/lib/python3.10/dist-packages/sklearn/model_selection/_validation.py:686: DataConversionWarning:\n",
            "\n",
            "A column-vector y was passed when a 1d array was expected. Please change the shape of y to (n_samples,), for example using ravel().\n",
            "\n",
            "/usr/local/lib/python3.10/dist-packages/sklearn/model_selection/_validation.py:686: DataConversionWarning:\n",
            "\n",
            "A column-vector y was passed when a 1d array was expected. Please change the shape of y to (n_samples,), for example using ravel().\n",
            "\n"
          ]
        }
      ],
      "source": [
        "cv_scores_train_RF = cross_val_score(rfc, X_train, y_train, cv=kf, scoring='f1_macro')"
      ]
    },
    {
      "cell_type": "markdown",
      "metadata": {
        "id": "px0adtfKO_d5"
      },
      "source": [
        "Imprimimos os scores de validação cruzada no conjunto de treinamento e fazemos isso com hiperparâmetros diferentes até descobrirmos qual os melhores hiperparâmetros. Após isso ajustamos o modelo RandomForestClassifier aos dados de treinamento"
      ]
    },
    {
      "cell_type": "code",
      "execution_count": 45,
      "metadata": {
        "id": "lQlYuzFAKFQH",
        "colab": {
          "base_uri": "https://localhost:8080/"
        },
        "outputId": "7b685ebe-783a-4ec1-d3bc-530a16525e9b"
      },
      "outputs": [
        {
          "output_type": "stream",
          "name": "stdout",
          "text": [
            "Cross-Validation Scores on Training Data: [0.79045729 0.79505111 0.80099792]\n"
          ]
        }
      ],
      "source": [
        "print(\"Cross-Validation Scores on Training Data:\", cv_scores_train_RF)"
      ]
    },
    {
      "cell_type": "code",
      "execution_count": 46,
      "metadata": {
        "id": "UYJD8meOKIK3",
        "colab": {
          "base_uri": "https://localhost:8080/",
          "height": 166
        },
        "outputId": "3d952a90-b9ea-45b5-8dfd-85641c71ed93"
      },
      "outputs": [
        {
          "output_type": "stream",
          "name": "stderr",
          "text": [
            "<ipython-input-46-823e2bba21ee>:1: DataConversionWarning:\n",
            "\n",
            "A column-vector y was passed when a 1d array was expected. Please change the shape of y to (n_samples,), for example using ravel().\n",
            "\n"
          ]
        },
        {
          "output_type": "execute_result",
          "data": {
            "text/plain": [
              "RandomForestClassifier(max_depth=50, min_samples_split=20, n_estimators=70,\n",
              "                       random_state=42)"
            ],
            "text/html": [
              "<style>#sk-container-id-3 {color: black;background-color: white;}#sk-container-id-3 pre{padding: 0;}#sk-container-id-3 div.sk-toggleable {background-color: white;}#sk-container-id-3 label.sk-toggleable__label {cursor: pointer;display: block;width: 100%;margin-bottom: 0;padding: 0.3em;box-sizing: border-box;text-align: center;}#sk-container-id-3 label.sk-toggleable__label-arrow:before {content: \"▸\";float: left;margin-right: 0.25em;color: #696969;}#sk-container-id-3 label.sk-toggleable__label-arrow:hover:before {color: black;}#sk-container-id-3 div.sk-estimator:hover label.sk-toggleable__label-arrow:before {color: black;}#sk-container-id-3 div.sk-toggleable__content {max-height: 0;max-width: 0;overflow: hidden;text-align: left;background-color: #f0f8ff;}#sk-container-id-3 div.sk-toggleable__content pre {margin: 0.2em;color: black;border-radius: 0.25em;background-color: #f0f8ff;}#sk-container-id-3 input.sk-toggleable__control:checked~div.sk-toggleable__content {max-height: 200px;max-width: 100%;overflow: auto;}#sk-container-id-3 input.sk-toggleable__control:checked~label.sk-toggleable__label-arrow:before {content: \"▾\";}#sk-container-id-3 div.sk-estimator input.sk-toggleable__control:checked~label.sk-toggleable__label {background-color: #d4ebff;}#sk-container-id-3 div.sk-label input.sk-toggleable__control:checked~label.sk-toggleable__label {background-color: #d4ebff;}#sk-container-id-3 input.sk-hidden--visually {border: 0;clip: rect(1px 1px 1px 1px);clip: rect(1px, 1px, 1px, 1px);height: 1px;margin: -1px;overflow: hidden;padding: 0;position: absolute;width: 1px;}#sk-container-id-3 div.sk-estimator {font-family: monospace;background-color: #f0f8ff;border: 1px dotted black;border-radius: 0.25em;box-sizing: border-box;margin-bottom: 0.5em;}#sk-container-id-3 div.sk-estimator:hover {background-color: #d4ebff;}#sk-container-id-3 div.sk-parallel-item::after {content: \"\";width: 100%;border-bottom: 1px solid gray;flex-grow: 1;}#sk-container-id-3 div.sk-label:hover label.sk-toggleable__label {background-color: #d4ebff;}#sk-container-id-3 div.sk-serial::before {content: \"\";position: absolute;border-left: 1px solid gray;box-sizing: border-box;top: 0;bottom: 0;left: 50%;z-index: 0;}#sk-container-id-3 div.sk-serial {display: flex;flex-direction: column;align-items: center;background-color: white;padding-right: 0.2em;padding-left: 0.2em;position: relative;}#sk-container-id-3 div.sk-item {position: relative;z-index: 1;}#sk-container-id-3 div.sk-parallel {display: flex;align-items: stretch;justify-content: center;background-color: white;position: relative;}#sk-container-id-3 div.sk-item::before, #sk-container-id-3 div.sk-parallel-item::before {content: \"\";position: absolute;border-left: 1px solid gray;box-sizing: border-box;top: 0;bottom: 0;left: 50%;z-index: -1;}#sk-container-id-3 div.sk-parallel-item {display: flex;flex-direction: column;z-index: 1;position: relative;background-color: white;}#sk-container-id-3 div.sk-parallel-item:first-child::after {align-self: flex-end;width: 50%;}#sk-container-id-3 div.sk-parallel-item:last-child::after {align-self: flex-start;width: 50%;}#sk-container-id-3 div.sk-parallel-item:only-child::after {width: 0;}#sk-container-id-3 div.sk-dashed-wrapped {border: 1px dashed gray;margin: 0 0.4em 0.5em 0.4em;box-sizing: border-box;padding-bottom: 0.4em;background-color: white;}#sk-container-id-3 div.sk-label label {font-family: monospace;font-weight: bold;display: inline-block;line-height: 1.2em;}#sk-container-id-3 div.sk-label-container {text-align: center;}#sk-container-id-3 div.sk-container {/* jupyter's `normalize.less` sets `[hidden] { display: none; }` but bootstrap.min.css set `[hidden] { display: none !important; }` so we also need the `!important` here to be able to override the default hidden behavior on the sphinx rendered scikit-learn.org. See: https://github.com/scikit-learn/scikit-learn/issues/21755 */display: inline-block !important;position: relative;}#sk-container-id-3 div.sk-text-repr-fallback {display: none;}</style><div id=\"sk-container-id-3\" class=\"sk-top-container\"><div class=\"sk-text-repr-fallback\"><pre>RandomForestClassifier(max_depth=50, min_samples_split=20, n_estimators=70,\n",
              "                       random_state=42)</pre><b>In a Jupyter environment, please rerun this cell to show the HTML representation or trust the notebook. <br />On GitHub, the HTML representation is unable to render, please try loading this page with nbviewer.org.</b></div><div class=\"sk-container\" hidden><div class=\"sk-item\"><div class=\"sk-estimator sk-toggleable\"><input class=\"sk-toggleable__control sk-hidden--visually\" id=\"sk-estimator-id-3\" type=\"checkbox\" checked><label for=\"sk-estimator-id-3\" class=\"sk-toggleable__label sk-toggleable__label-arrow\">RandomForestClassifier</label><div class=\"sk-toggleable__content\"><pre>RandomForestClassifier(max_depth=50, min_samples_split=20, n_estimators=70,\n",
              "                       random_state=42)</pre></div></div></div></div></div>"
            ]
          },
          "metadata": {},
          "execution_count": 46
        }
      ],
      "source": [
        "rfc.fit(X_train, y_train)"
      ]
    },
    {
      "cell_type": "markdown",
      "metadata": {
        "id": "zXNbqiIos53m"
      },
      "source": [
        "Então realizamos previsões usando o modelo de Floresta Aleatória treinado e as exibimos"
      ]
    },
    {
      "cell_type": "code",
      "execution_count": 47,
      "metadata": {
        "id": "oukXy-K1KV8w",
        "colab": {
          "base_uri": "https://localhost:8080/"
        },
        "outputId": "638d3f5f-13fe-4c7f-981c-d6dd823940d9"
      },
      "outputs": [
        {
          "output_type": "stream",
          "name": "stdout",
          "text": [
            "Predictions: ['<=50K' '<=50K' '>50K' '<=50K' '<=50K' '>50K' '>50K'], Actual Values: [['<=50K']\n",
            " ['<=50K']\n",
            " ['>50K']\n",
            " ['<=50K']\n",
            " ['<=50K']\n",
            " ['>50K']\n",
            " ['>50K']]\n"
          ]
        }
      ],
      "source": [
        "y_pred_RF = rfc.predict(X_test)\n",
        "print(\"Predictions: {}, Actual Values: {}\".format(y_pred_RF[:7], y_test[:7]))"
      ]
    },
    {
      "cell_type": "markdown",
      "metadata": {
        "id": "_w9AVlzItTwz"
      },
      "source": [
        "Essa é a precisão do algoritmo com os dados não escalonados"
      ]
    },
    {
      "cell_type": "code",
      "execution_count": 48,
      "metadata": {
        "id": "WQbk9fT7Ktba",
        "colab": {
          "base_uri": "https://localhost:8080/"
        },
        "outputId": "de73bf8c-958b-4821-c31b-c6d8670a2877"
      },
      "outputs": [
        {
          "output_type": "stream",
          "name": "stdout",
          "text": [
            "F1-Score: 0.8091601653174467\n"
          ]
        }
      ],
      "source": [
        "f1_rfc = f1_score(y_test, y_pred_RF, average='macro')\n",
        "print(\"F1-Score:\", f1_rfc)"
      ]
    },
    {
      "cell_type": "markdown",
      "metadata": {
        "id": "ieeXSrX-tmeT"
      },
      "source": [
        "Agora fazemos os mesmos últimos três passos com os dados escalonados"
      ]
    },
    {
      "cell_type": "code",
      "execution_count": 49,
      "metadata": {
        "id": "JmM02cfRa2wY",
        "colab": {
          "base_uri": "https://localhost:8080/",
          "height": 166
        },
        "outputId": "08f125af-9934-4a15-b466-7df5255b0730"
      },
      "outputs": [
        {
          "output_type": "stream",
          "name": "stderr",
          "text": [
            "<ipython-input-49-e8d18a0e683a>:1: DataConversionWarning:\n",
            "\n",
            "A column-vector y was passed when a 1d array was expected. Please change the shape of y to (n_samples,), for example using ravel().\n",
            "\n"
          ]
        },
        {
          "output_type": "execute_result",
          "data": {
            "text/plain": [
              "RandomForestClassifier(max_depth=50, min_samples_split=20, n_estimators=70,\n",
              "                       random_state=42)"
            ],
            "text/html": [
              "<style>#sk-container-id-4 {color: black;background-color: white;}#sk-container-id-4 pre{padding: 0;}#sk-container-id-4 div.sk-toggleable {background-color: white;}#sk-container-id-4 label.sk-toggleable__label {cursor: pointer;display: block;width: 100%;margin-bottom: 0;padding: 0.3em;box-sizing: border-box;text-align: center;}#sk-container-id-4 label.sk-toggleable__label-arrow:before {content: \"▸\";float: left;margin-right: 0.25em;color: #696969;}#sk-container-id-4 label.sk-toggleable__label-arrow:hover:before {color: black;}#sk-container-id-4 div.sk-estimator:hover label.sk-toggleable__label-arrow:before {color: black;}#sk-container-id-4 div.sk-toggleable__content {max-height: 0;max-width: 0;overflow: hidden;text-align: left;background-color: #f0f8ff;}#sk-container-id-4 div.sk-toggleable__content pre {margin: 0.2em;color: black;border-radius: 0.25em;background-color: #f0f8ff;}#sk-container-id-4 input.sk-toggleable__control:checked~div.sk-toggleable__content {max-height: 200px;max-width: 100%;overflow: auto;}#sk-container-id-4 input.sk-toggleable__control:checked~label.sk-toggleable__label-arrow:before {content: \"▾\";}#sk-container-id-4 div.sk-estimator input.sk-toggleable__control:checked~label.sk-toggleable__label {background-color: #d4ebff;}#sk-container-id-4 div.sk-label input.sk-toggleable__control:checked~label.sk-toggleable__label {background-color: #d4ebff;}#sk-container-id-4 input.sk-hidden--visually {border: 0;clip: rect(1px 1px 1px 1px);clip: rect(1px, 1px, 1px, 1px);height: 1px;margin: -1px;overflow: hidden;padding: 0;position: absolute;width: 1px;}#sk-container-id-4 div.sk-estimator {font-family: monospace;background-color: #f0f8ff;border: 1px dotted black;border-radius: 0.25em;box-sizing: border-box;margin-bottom: 0.5em;}#sk-container-id-4 div.sk-estimator:hover {background-color: #d4ebff;}#sk-container-id-4 div.sk-parallel-item::after {content: \"\";width: 100%;border-bottom: 1px solid gray;flex-grow: 1;}#sk-container-id-4 div.sk-label:hover label.sk-toggleable__label {background-color: #d4ebff;}#sk-container-id-4 div.sk-serial::before {content: \"\";position: absolute;border-left: 1px solid gray;box-sizing: border-box;top: 0;bottom: 0;left: 50%;z-index: 0;}#sk-container-id-4 div.sk-serial {display: flex;flex-direction: column;align-items: center;background-color: white;padding-right: 0.2em;padding-left: 0.2em;position: relative;}#sk-container-id-4 div.sk-item {position: relative;z-index: 1;}#sk-container-id-4 div.sk-parallel {display: flex;align-items: stretch;justify-content: center;background-color: white;position: relative;}#sk-container-id-4 div.sk-item::before, #sk-container-id-4 div.sk-parallel-item::before {content: \"\";position: absolute;border-left: 1px solid gray;box-sizing: border-box;top: 0;bottom: 0;left: 50%;z-index: -1;}#sk-container-id-4 div.sk-parallel-item {display: flex;flex-direction: column;z-index: 1;position: relative;background-color: white;}#sk-container-id-4 div.sk-parallel-item:first-child::after {align-self: flex-end;width: 50%;}#sk-container-id-4 div.sk-parallel-item:last-child::after {align-self: flex-start;width: 50%;}#sk-container-id-4 div.sk-parallel-item:only-child::after {width: 0;}#sk-container-id-4 div.sk-dashed-wrapped {border: 1px dashed gray;margin: 0 0.4em 0.5em 0.4em;box-sizing: border-box;padding-bottom: 0.4em;background-color: white;}#sk-container-id-4 div.sk-label label {font-family: monospace;font-weight: bold;display: inline-block;line-height: 1.2em;}#sk-container-id-4 div.sk-label-container {text-align: center;}#sk-container-id-4 div.sk-container {/* jupyter's `normalize.less` sets `[hidden] { display: none; }` but bootstrap.min.css set `[hidden] { display: none !important; }` so we also need the `!important` here to be able to override the default hidden behavior on the sphinx rendered scikit-learn.org. See: https://github.com/scikit-learn/scikit-learn/issues/21755 */display: inline-block !important;position: relative;}#sk-container-id-4 div.sk-text-repr-fallback {display: none;}</style><div id=\"sk-container-id-4\" class=\"sk-top-container\"><div class=\"sk-text-repr-fallback\"><pre>RandomForestClassifier(max_depth=50, min_samples_split=20, n_estimators=70,\n",
              "                       random_state=42)</pre><b>In a Jupyter environment, please rerun this cell to show the HTML representation or trust the notebook. <br />On GitHub, the HTML representation is unable to render, please try loading this page with nbviewer.org.</b></div><div class=\"sk-container\" hidden><div class=\"sk-item\"><div class=\"sk-estimator sk-toggleable\"><input class=\"sk-toggleable__control sk-hidden--visually\" id=\"sk-estimator-id-4\" type=\"checkbox\" checked><label for=\"sk-estimator-id-4\" class=\"sk-toggleable__label sk-toggleable__label-arrow\">RandomForestClassifier</label><div class=\"sk-toggleable__content\"><pre>RandomForestClassifier(max_depth=50, min_samples_split=20, n_estimators=70,\n",
              "                       random_state=42)</pre></div></div></div></div></div>"
            ]
          },
          "metadata": {},
          "execution_count": 49
        }
      ],
      "source": [
        "rfc.fit(X_train_scaled, y_train)"
      ]
    },
    {
      "cell_type": "code",
      "execution_count": 50,
      "metadata": {
        "id": "L9QyYSUKa3Oo",
        "colab": {
          "base_uri": "https://localhost:8080/"
        },
        "outputId": "5c32fbf4-19e9-4aaa-f47a-ea633e889ac9"
      },
      "outputs": [
        {
          "output_type": "stream",
          "name": "stdout",
          "text": [
            "Predictions: ['<=50K' '<=50K' '>50K' '<=50K' '<=50K' '>50K' '>50K'], Actual Values: [['<=50K']\n",
            " ['<=50K']\n",
            " ['>50K']\n",
            " ['<=50K']\n",
            " ['<=50K']\n",
            " ['>50K']\n",
            " ['>50K']]\n"
          ]
        }
      ],
      "source": [
        "y_pred_RF_scaled = rfc.predict(X_test_scaled)\n",
        "print(\"Predictions: {}, Actual Values: {}\".format(y_pred_RF_scaled[:7], y_test[:7]))"
      ]
    },
    {
      "cell_type": "markdown",
      "metadata": {
        "id": "oztwDRkluJPH"
      },
      "source": [
        "Essa é a nova precisão do algortimo com os dados escalonados"
      ]
    },
    {
      "cell_type": "code",
      "execution_count": 51,
      "metadata": {
        "id": "u5_qVEo_a3lD",
        "colab": {
          "base_uri": "https://localhost:8080/"
        },
        "outputId": "afc21ab9-79e9-43b9-cf31-2b27be012763"
      },
      "outputs": [
        {
          "output_type": "stream",
          "name": "stdout",
          "text": [
            "F1-Score: 0.8092557495225977\n"
          ]
        }
      ],
      "source": [
        "f1_rfc_scaled = f1_score(y_test, y_pred_RF_scaled, average='macro')\n",
        "print(\"F1-Score:\", f1_rfc_scaled)"
      ]
    },
    {
      "cell_type": "markdown",
      "metadata": {
        "id": "SXbMPb4gF7hy"
      },
      "source": [
        "### Árvores de decisão\n",
        "Utilizando o terceiro modelo (Árvores de decisão):"
      ]
    },
    {
      "cell_type": "markdown",
      "source": [
        "TESTES:"
      ],
      "metadata": {
        "id": "IHHEyj21utsG"
      }
    },
    {
      "cell_type": "code",
      "source": [
        "from sklearn.tree import DecisionTreeClassifier\n",
        "\n",
        "clf = DecisionTreeClassifier(criterion='entropy', max_depth=10, min_samples_split=50, random_state=42)"
      ],
      "metadata": {
        "id": "gn-tJgyIuvSx"
      },
      "execution_count": 52,
      "outputs": []
    },
    {
      "cell_type": "code",
      "source": [
        "cv_scores_train_tree = cross_val_score(clf, X_train, y_train, cv=kf, scoring='f1_macro')"
      ],
      "metadata": {
        "id": "m763FOEfuvqo"
      },
      "execution_count": 53,
      "outputs": []
    },
    {
      "cell_type": "code",
      "source": [
        "print(\"Cross-Validation Scores on Training Data:\", cv_scores_train_tree)"
      ],
      "metadata": {
        "colab": {
          "base_uri": "https://localhost:8080/"
        },
        "id": "e9QSRkm7uwHC",
        "outputId": "353a2a8a-b663-4fdf-a589-6b99c5ee3616"
      },
      "execution_count": 54,
      "outputs": [
        {
          "output_type": "stream",
          "name": "stdout",
          "text": [
            "Cross-Validation Scores on Training Data: [0.7801662  0.76011545 0.77611331]\n"
          ]
        }
      ]
    },
    {
      "cell_type": "markdown",
      "source": [
        "Hiperparâmetros utilizados:"
      ],
      "metadata": {
        "id": "HTcd8DSpvx3r"
      }
    },
    {
      "cell_type": "markdown",
      "metadata": {
        "id": "wOmwTaOEzmoU"
      },
      "source": [
        "Agora realizamos a validação cruzada do modelo de classificação de árvore de decisão usando a métrica F1-score macro e imprimimos para avaliar o desempenho do modelo em cada fold durante a validação cruzada."
      ]
    },
    {
      "cell_type": "code",
      "source": [
        "clf = DecisionTreeClassifier(criterion='entropy', max_depth=20, min_samples_split=100, random_state=42)"
      ],
      "metadata": {
        "id": "ZfUFdnYBv446"
      },
      "execution_count": 55,
      "outputs": []
    },
    {
      "cell_type": "code",
      "execution_count": 56,
      "metadata": {
        "id": "iGZTgnYgG3aq"
      },
      "outputs": [],
      "source": [
        "cv_scores_train_tree = cross_val_score(clf, X_train, y_train, cv=kf, scoring='f1_macro')"
      ]
    },
    {
      "cell_type": "code",
      "execution_count": 57,
      "metadata": {
        "id": "Gf-AnpW3G-oJ",
        "colab": {
          "base_uri": "https://localhost:8080/"
        },
        "outputId": "4f6cea31-4b67-4a0a-e7fb-df8c0d61b6b1"
      },
      "outputs": [
        {
          "output_type": "stream",
          "name": "stdout",
          "text": [
            "Cross-Validation Scores on Training Data: [0.77571894 0.77729585 0.79016759]\n"
          ]
        }
      ],
      "source": [
        "print(\"Cross-Validation Scores on Training Data:\", cv_scores_train_tree)"
      ]
    },
    {
      "cell_type": "markdown",
      "metadata": {
        "id": "WEh4ZLl4z8Kb"
      },
      "source": [
        "Após isso, treinamos o classificador de árvore de decisão (clf) com os dados de treinamento"
      ]
    },
    {
      "cell_type": "code",
      "execution_count": 58,
      "metadata": {
        "id": "WxXMqzdlHJ64",
        "colab": {
          "base_uri": "https://localhost:8080/",
          "height": 92
        },
        "outputId": "e4a123dd-a7dd-47cd-843b-679970da20aa"
      },
      "outputs": [
        {
          "output_type": "execute_result",
          "data": {
            "text/plain": [
              "DecisionTreeClassifier(criterion='entropy', max_depth=20, min_samples_split=100,\n",
              "                       random_state=42)"
            ],
            "text/html": [
              "<style>#sk-container-id-5 {color: black;background-color: white;}#sk-container-id-5 pre{padding: 0;}#sk-container-id-5 div.sk-toggleable {background-color: white;}#sk-container-id-5 label.sk-toggleable__label {cursor: pointer;display: block;width: 100%;margin-bottom: 0;padding: 0.3em;box-sizing: border-box;text-align: center;}#sk-container-id-5 label.sk-toggleable__label-arrow:before {content: \"▸\";float: left;margin-right: 0.25em;color: #696969;}#sk-container-id-5 label.sk-toggleable__label-arrow:hover:before {color: black;}#sk-container-id-5 div.sk-estimator:hover label.sk-toggleable__label-arrow:before {color: black;}#sk-container-id-5 div.sk-toggleable__content {max-height: 0;max-width: 0;overflow: hidden;text-align: left;background-color: #f0f8ff;}#sk-container-id-5 div.sk-toggleable__content pre {margin: 0.2em;color: black;border-radius: 0.25em;background-color: #f0f8ff;}#sk-container-id-5 input.sk-toggleable__control:checked~div.sk-toggleable__content {max-height: 200px;max-width: 100%;overflow: auto;}#sk-container-id-5 input.sk-toggleable__control:checked~label.sk-toggleable__label-arrow:before {content: \"▾\";}#sk-container-id-5 div.sk-estimator input.sk-toggleable__control:checked~label.sk-toggleable__label {background-color: #d4ebff;}#sk-container-id-5 div.sk-label input.sk-toggleable__control:checked~label.sk-toggleable__label {background-color: #d4ebff;}#sk-container-id-5 input.sk-hidden--visually {border: 0;clip: rect(1px 1px 1px 1px);clip: rect(1px, 1px, 1px, 1px);height: 1px;margin: -1px;overflow: hidden;padding: 0;position: absolute;width: 1px;}#sk-container-id-5 div.sk-estimator {font-family: monospace;background-color: #f0f8ff;border: 1px dotted black;border-radius: 0.25em;box-sizing: border-box;margin-bottom: 0.5em;}#sk-container-id-5 div.sk-estimator:hover {background-color: #d4ebff;}#sk-container-id-5 div.sk-parallel-item::after {content: \"\";width: 100%;border-bottom: 1px solid gray;flex-grow: 1;}#sk-container-id-5 div.sk-label:hover label.sk-toggleable__label {background-color: #d4ebff;}#sk-container-id-5 div.sk-serial::before {content: \"\";position: absolute;border-left: 1px solid gray;box-sizing: border-box;top: 0;bottom: 0;left: 50%;z-index: 0;}#sk-container-id-5 div.sk-serial {display: flex;flex-direction: column;align-items: center;background-color: white;padding-right: 0.2em;padding-left: 0.2em;position: relative;}#sk-container-id-5 div.sk-item {position: relative;z-index: 1;}#sk-container-id-5 div.sk-parallel {display: flex;align-items: stretch;justify-content: center;background-color: white;position: relative;}#sk-container-id-5 div.sk-item::before, #sk-container-id-5 div.sk-parallel-item::before {content: \"\";position: absolute;border-left: 1px solid gray;box-sizing: border-box;top: 0;bottom: 0;left: 50%;z-index: -1;}#sk-container-id-5 div.sk-parallel-item {display: flex;flex-direction: column;z-index: 1;position: relative;background-color: white;}#sk-container-id-5 div.sk-parallel-item:first-child::after {align-self: flex-end;width: 50%;}#sk-container-id-5 div.sk-parallel-item:last-child::after {align-self: flex-start;width: 50%;}#sk-container-id-5 div.sk-parallel-item:only-child::after {width: 0;}#sk-container-id-5 div.sk-dashed-wrapped {border: 1px dashed gray;margin: 0 0.4em 0.5em 0.4em;box-sizing: border-box;padding-bottom: 0.4em;background-color: white;}#sk-container-id-5 div.sk-label label {font-family: monospace;font-weight: bold;display: inline-block;line-height: 1.2em;}#sk-container-id-5 div.sk-label-container {text-align: center;}#sk-container-id-5 div.sk-container {/* jupyter's `normalize.less` sets `[hidden] { display: none; }` but bootstrap.min.css set `[hidden] { display: none !important; }` so we also need the `!important` here to be able to override the default hidden behavior on the sphinx rendered scikit-learn.org. See: https://github.com/scikit-learn/scikit-learn/issues/21755 */display: inline-block !important;position: relative;}#sk-container-id-5 div.sk-text-repr-fallback {display: none;}</style><div id=\"sk-container-id-5\" class=\"sk-top-container\"><div class=\"sk-text-repr-fallback\"><pre>DecisionTreeClassifier(criterion=&#x27;entropy&#x27;, max_depth=20, min_samples_split=100,\n",
              "                       random_state=42)</pre><b>In a Jupyter environment, please rerun this cell to show the HTML representation or trust the notebook. <br />On GitHub, the HTML representation is unable to render, please try loading this page with nbviewer.org.</b></div><div class=\"sk-container\" hidden><div class=\"sk-item\"><div class=\"sk-estimator sk-toggleable\"><input class=\"sk-toggleable__control sk-hidden--visually\" id=\"sk-estimator-id-5\" type=\"checkbox\" checked><label for=\"sk-estimator-id-5\" class=\"sk-toggleable__label sk-toggleable__label-arrow\">DecisionTreeClassifier</label><div class=\"sk-toggleable__content\"><pre>DecisionTreeClassifier(criterion=&#x27;entropy&#x27;, max_depth=20, min_samples_split=100,\n",
              "                       random_state=42)</pre></div></div></div></div></div>"
            ]
          },
          "metadata": {},
          "execution_count": 58
        }
      ],
      "source": [
        "clf.fit(X_train, y_train)"
      ]
    },
    {
      "cell_type": "markdown",
      "metadata": {
        "id": "npA9ApZr0H21"
      },
      "source": [
        "E por fim, realizamps a previsão das classes para os dados de teste, utilizando o modelo classificador de árvore de decisão previamente treinado"
      ]
    },
    {
      "cell_type": "code",
      "execution_count": 59,
      "metadata": {
        "id": "lo_YDFzyHWlx",
        "colab": {
          "base_uri": "https://localhost:8080/"
        },
        "outputId": "06f222de-c351-4572-c134-25af41c53a67"
      },
      "outputs": [
        {
          "output_type": "stream",
          "name": "stdout",
          "text": [
            "Predictions: ['<=50K' '>50K' '>50K' '<=50K' '<=50K' '>50K' '>50K'], Actual Values: [['<=50K']\n",
            " ['<=50K']\n",
            " ['>50K']\n",
            " ['<=50K']\n",
            " ['<=50K']\n",
            " ['>50K']\n",
            " ['>50K']]\n"
          ]
        }
      ],
      "source": [
        "y_pred_tree = clf.predict(X_test)\n",
        "print(\"Predictions: {}, Actual Values: {}\".format(y_pred_tree[:7], y_test[:7]))"
      ]
    },
    {
      "cell_type": "markdown",
      "metadata": {
        "id": "Mubjpjaw0OlZ"
      },
      "source": [
        "Vamos calcular o F1-Score para avaliar o desempenho do modelo com os dados não escalonados"
      ]
    },
    {
      "cell_type": "code",
      "execution_count": 60,
      "metadata": {
        "id": "sAB4_lkjHwBh",
        "colab": {
          "base_uri": "https://localhost:8080/"
        },
        "outputId": "c6910acd-50fa-467a-86e7-30fe9bb466f0"
      },
      "outputs": [
        {
          "output_type": "stream",
          "name": "stdout",
          "text": [
            "F1-Score: 0.7970385266688549\n"
          ]
        }
      ],
      "source": [
        "f1_clf = f1_score(y_test, y_pred_tree, average='macro')\n",
        "print(\"F1-Score:\", f1_clf)"
      ]
    },
    {
      "cell_type": "markdown",
      "metadata": {
        "id": "yDWql-X50cun"
      },
      "source": [
        "Após isso repetimos os últimos passos, porém com dados escalonados agora"
      ]
    },
    {
      "cell_type": "code",
      "execution_count": 61,
      "metadata": {
        "id": "pglWRol6TdLA",
        "colab": {
          "base_uri": "https://localhost:8080/",
          "height": 92
        },
        "outputId": "b4bdba16-0ef4-4342-89af-76919985f6ee"
      },
      "outputs": [
        {
          "output_type": "execute_result",
          "data": {
            "text/plain": [
              "DecisionTreeClassifier(criterion='entropy', max_depth=20, min_samples_split=100,\n",
              "                       random_state=42)"
            ],
            "text/html": [
              "<style>#sk-container-id-6 {color: black;background-color: white;}#sk-container-id-6 pre{padding: 0;}#sk-container-id-6 div.sk-toggleable {background-color: white;}#sk-container-id-6 label.sk-toggleable__label {cursor: pointer;display: block;width: 100%;margin-bottom: 0;padding: 0.3em;box-sizing: border-box;text-align: center;}#sk-container-id-6 label.sk-toggleable__label-arrow:before {content: \"▸\";float: left;margin-right: 0.25em;color: #696969;}#sk-container-id-6 label.sk-toggleable__label-arrow:hover:before {color: black;}#sk-container-id-6 div.sk-estimator:hover label.sk-toggleable__label-arrow:before {color: black;}#sk-container-id-6 div.sk-toggleable__content {max-height: 0;max-width: 0;overflow: hidden;text-align: left;background-color: #f0f8ff;}#sk-container-id-6 div.sk-toggleable__content pre {margin: 0.2em;color: black;border-radius: 0.25em;background-color: #f0f8ff;}#sk-container-id-6 input.sk-toggleable__control:checked~div.sk-toggleable__content {max-height: 200px;max-width: 100%;overflow: auto;}#sk-container-id-6 input.sk-toggleable__control:checked~label.sk-toggleable__label-arrow:before {content: \"▾\";}#sk-container-id-6 div.sk-estimator input.sk-toggleable__control:checked~label.sk-toggleable__label {background-color: #d4ebff;}#sk-container-id-6 div.sk-label input.sk-toggleable__control:checked~label.sk-toggleable__label {background-color: #d4ebff;}#sk-container-id-6 input.sk-hidden--visually {border: 0;clip: rect(1px 1px 1px 1px);clip: rect(1px, 1px, 1px, 1px);height: 1px;margin: -1px;overflow: hidden;padding: 0;position: absolute;width: 1px;}#sk-container-id-6 div.sk-estimator {font-family: monospace;background-color: #f0f8ff;border: 1px dotted black;border-radius: 0.25em;box-sizing: border-box;margin-bottom: 0.5em;}#sk-container-id-6 div.sk-estimator:hover {background-color: #d4ebff;}#sk-container-id-6 div.sk-parallel-item::after {content: \"\";width: 100%;border-bottom: 1px solid gray;flex-grow: 1;}#sk-container-id-6 div.sk-label:hover label.sk-toggleable__label {background-color: #d4ebff;}#sk-container-id-6 div.sk-serial::before {content: \"\";position: absolute;border-left: 1px solid gray;box-sizing: border-box;top: 0;bottom: 0;left: 50%;z-index: 0;}#sk-container-id-6 div.sk-serial {display: flex;flex-direction: column;align-items: center;background-color: white;padding-right: 0.2em;padding-left: 0.2em;position: relative;}#sk-container-id-6 div.sk-item {position: relative;z-index: 1;}#sk-container-id-6 div.sk-parallel {display: flex;align-items: stretch;justify-content: center;background-color: white;position: relative;}#sk-container-id-6 div.sk-item::before, #sk-container-id-6 div.sk-parallel-item::before {content: \"\";position: absolute;border-left: 1px solid gray;box-sizing: border-box;top: 0;bottom: 0;left: 50%;z-index: -1;}#sk-container-id-6 div.sk-parallel-item {display: flex;flex-direction: column;z-index: 1;position: relative;background-color: white;}#sk-container-id-6 div.sk-parallel-item:first-child::after {align-self: flex-end;width: 50%;}#sk-container-id-6 div.sk-parallel-item:last-child::after {align-self: flex-start;width: 50%;}#sk-container-id-6 div.sk-parallel-item:only-child::after {width: 0;}#sk-container-id-6 div.sk-dashed-wrapped {border: 1px dashed gray;margin: 0 0.4em 0.5em 0.4em;box-sizing: border-box;padding-bottom: 0.4em;background-color: white;}#sk-container-id-6 div.sk-label label {font-family: monospace;font-weight: bold;display: inline-block;line-height: 1.2em;}#sk-container-id-6 div.sk-label-container {text-align: center;}#sk-container-id-6 div.sk-container {/* jupyter's `normalize.less` sets `[hidden] { display: none; }` but bootstrap.min.css set `[hidden] { display: none !important; }` so we also need the `!important` here to be able to override the default hidden behavior on the sphinx rendered scikit-learn.org. See: https://github.com/scikit-learn/scikit-learn/issues/21755 */display: inline-block !important;position: relative;}#sk-container-id-6 div.sk-text-repr-fallback {display: none;}</style><div id=\"sk-container-id-6\" class=\"sk-top-container\"><div class=\"sk-text-repr-fallback\"><pre>DecisionTreeClassifier(criterion=&#x27;entropy&#x27;, max_depth=20, min_samples_split=100,\n",
              "                       random_state=42)</pre><b>In a Jupyter environment, please rerun this cell to show the HTML representation or trust the notebook. <br />On GitHub, the HTML representation is unable to render, please try loading this page with nbviewer.org.</b></div><div class=\"sk-container\" hidden><div class=\"sk-item\"><div class=\"sk-estimator sk-toggleable\"><input class=\"sk-toggleable__control sk-hidden--visually\" id=\"sk-estimator-id-6\" type=\"checkbox\" checked><label for=\"sk-estimator-id-6\" class=\"sk-toggleable__label sk-toggleable__label-arrow\">DecisionTreeClassifier</label><div class=\"sk-toggleable__content\"><pre>DecisionTreeClassifier(criterion=&#x27;entropy&#x27;, max_depth=20, min_samples_split=100,\n",
              "                       random_state=42)</pre></div></div></div></div></div>"
            ]
          },
          "metadata": {},
          "execution_count": 61
        }
      ],
      "source": [
        "clf.fit(X_train_scaled, y_train)"
      ]
    },
    {
      "cell_type": "code",
      "execution_count": 62,
      "metadata": {
        "id": "QoIlu6x5bc6m",
        "colab": {
          "base_uri": "https://localhost:8080/"
        },
        "outputId": "77b37371-290c-44ef-f918-7ad70e0637d4"
      },
      "outputs": [
        {
          "output_type": "stream",
          "name": "stdout",
          "text": [
            "Predictions: ['<=50K' '>50K' '>50K' '<=50K' '<=50K' '>50K' '>50K'], Actual Values: [['<=50K']\n",
            " ['<=50K']\n",
            " ['>50K']\n",
            " ['<=50K']\n",
            " ['<=50K']\n",
            " ['>50K']\n",
            " ['>50K']]\n"
          ]
        }
      ],
      "source": [
        "y_pred_tree_scaled = clf.predict(X_test_scaled)\n",
        "print(\"Predictions: {}, Actual Values: {}\".format(y_pred_tree_scaled[:7], y_test[:7]))"
      ]
    },
    {
      "cell_type": "markdown",
      "metadata": {
        "id": "0kUMoZOF0nVH"
      },
      "source": [
        "Portanto, o desempenho do modelo com dados escalonados fica:"
      ]
    },
    {
      "cell_type": "code",
      "execution_count": 63,
      "metadata": {
        "id": "s3SzPwoAbdT0",
        "colab": {
          "base_uri": "https://localhost:8080/"
        },
        "outputId": "b76608fb-e942-430b-e3bc-ee0484fde0eb"
      },
      "outputs": [
        {
          "output_type": "stream",
          "name": "stdout",
          "text": [
            "F1-Score: 0.7970385266688549\n"
          ]
        }
      ],
      "source": [
        "f1_clf_scaled = f1_score(y_test, y_pred_tree_scaled, average='macro')\n",
        "print(\"F1-Score:\", f1_clf_scaled)"
      ]
    },
    {
      "cell_type": "markdown",
      "metadata": {
        "id": "7XlwOKANAKBv"
      },
      "source": [
        "# **Resultados**"
      ]
    },
    {
      "cell_type": "code",
      "execution_count": 64,
      "metadata": {
        "id": "oSQPLFREcP5-"
      },
      "outputs": [],
      "source": [
        "# Dados de resultados\n",
        "resultados = {'Método': ['KNN', 'KNN scaled', 'RFC', 'RFC scaled', 'CLF', 'CLF scaled'],\n",
        "              'Precisão': [f1_knn, f1_knn_scaled, f1_rfc, f1_rfc_scaled, f1_clf, f1_clf_scaled]}"
      ]
    },
    {
      "cell_type": "code",
      "execution_count": 65,
      "metadata": {
        "id": "d99FQXrccsqc"
      },
      "outputs": [],
      "source": [
        "# Converter resultados em um DataFrame\n",
        "df_resultados = pd.DataFrame(resultados)"
      ]
    },
    {
      "cell_type": "code",
      "execution_count": 66,
      "metadata": {
        "id": "cvJwowPxdAY0",
        "colab": {
          "base_uri": "https://localhost:8080/"
        },
        "outputId": "a917ec34-6143-4cf6-f2da-d8fd068d977e"
      },
      "outputs": [
        {
          "output_type": "stream",
          "name": "stdout",
          "text": [
            "Tabela de Resultados:\n",
            "       Método  Precisão\n",
            "0         KNN  0.622044\n",
            "1  KNN scaled  0.753028\n",
            "2         RFC  0.809160\n",
            "3  RFC scaled  0.809256\n",
            "4         CLF  0.797039\n",
            "5  CLF scaled  0.797039\n"
          ]
        }
      ],
      "source": [
        "# Tabela de resultados\n",
        "print(\"Tabela de Resultados:\")\n",
        "print(df_resultados)"
      ]
    },
    {
      "cell_type": "code",
      "execution_count": 67,
      "metadata": {
        "id": "53WnK8GxdRGV",
        "colab": {
          "base_uri": "https://localhost:8080/",
          "height": 564
        },
        "outputId": "370b72b8-96e7-4cf0-a326-a3c2e728c2a0"
      },
      "outputs": [
        {
          "output_type": "display_data",
          "data": {
            "text/plain": [
              "<Figure size 800x600 with 1 Axes>"
            ],
            "image/png": "[encoded data removed]"
          },
          "metadata": {}
        }
      ],
      "source": [
        "import matplotlib.pyplot as plt\n",
        "\n",
        "# Gráfico de barras\n",
        "plt.figure(figsize=(8, 6))\n",
        "plt.bar(df_resultados['Método'], df_resultados['Precisão'], color=['blue', 'orange'])\n",
        "plt.xlabel('Método')\n",
        "plt.ylabel('Precisão')\n",
        "plt.title('Precisão do Modelo com e sem Escalonamento de Características')\n",
        "plt.ylim(0, 1)  # Definir o intervalo do eixo y de 0 a 1 para a precisão\n",
        "plt.show()"
      ]
    }
  ],
  "metadata": {
    "colab": {
      "provenance": []
    },
    "kernelspec": {
      "display_name": "Python 3",
      "name": "python3"
    },
    "language_info": {
      "name": "python"
    }
  },
  "nbformat": 4,
  "nbformat_minor": 0
}